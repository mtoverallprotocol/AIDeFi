{
 "cells": [
  {
   "cell_type": "code",
   "execution_count": null,
   "metadata": {},
   "outputs": [],
   "source": [
    "from classes import unitTest_v1_0_0_0 as unitTest\n",
    "unitTest = unitTest.unitTest()"
   ]
  },
  {
   "cell_type": "code",
   "execution_count": null,
   "metadata": {},
   "outputs": [],
   "source": [
    "# Test Input Data\n",
    "# For customers\n",
    "ETHERSCAN_API_KEY = 'YOUR_OWN_KEY' \n",
    "BSCSCAN_API_KEY = 'YOUR_OWN_KEY'\n",
    "CONNECTION_STRING = 'https://mainnet.infura.io/v3/YOUR_OWN_KEY'"
   ]
  },
  {
   "cell_type": "code",
   "execution_count": 12,
   "metadata": {},
   "outputs": [],
   "source": [
    "# Only for develop\n",
    "ETHERSCAN_API_KEY = 'EWYSGQ5PEK84PRCNSCKHHZWJIWWKYYABCE' \n",
    "BSCSCAN_API_KEY = 'I6ZZ57GWAS39M85QC4AJFC43Y5DUA8IU8I'\n",
    "CONNECTION_STRING = 'https://mainnet.infura.io/v3/40816bb42ce34f808b4afe219e9d41cb'\n",
    "TESTADDRESS = '0x70e36f6bf80a52b3b46b3af8e106cc0ed743e8e4' #COMPOUND\n",
    "TXHASHTEST = '0x7a4e0d863a1c8da97bf94bc8880d61b3f716bb10c3961f46b1290840097cb175' # ON BINANCE"
   ]
  },
  {
   "cell_type": "code",
   "execution_count": null,
   "metadata": {},
   "outputs": [],
   "source": [
    "# Run unitTest\n",
    "unitTest.runAllTests() #NOT OVER YET"
   ]
  },
  {
   "cell_type": "code",
   "execution_count": 1,
   "metadata": {},
   "outputs": [
    {
     "ename": "NameError",
     "evalue": "name 'classes' is not defined",
     "output_type": "error",
     "traceback": [
      "\u001b[0;31m---------------------------------------------------------------------------\u001b[0m",
      "\u001b[0;31mNameError\u001b[0m                                 Traceback (most recent call last)",
      "\u001b[0;32m<ipython-input-1-6def53be4ebe>\u001b[0m in \u001b[0;36m<module>\u001b[0;34m\u001b[0m\n\u001b[1;32m      2\u001b[0m \u001b[0;31m#\u001b[0m\u001b[0;34m\u001b[0m\u001b[0;34m\u001b[0m\u001b[0;34m\u001b[0m\u001b[0m\n\u001b[1;32m      3\u001b[0m \u001b[0;31m# Import classes:\u001b[0m\u001b[0;34m\u001b[0m\u001b[0;34m\u001b[0m\u001b[0;34m\u001b[0m\u001b[0m\n\u001b[0;32m----> 4\u001b[0;31m \u001b[0;32mfrom\u001b[0m \u001b[0mclasses\u001b[0m \u001b[0;32mimport\u001b[0m \u001b[0mblockchain_v1_0_0_0\u001b[0m \u001b[0;32mas\u001b[0m \u001b[0mblockchain\u001b[0m \u001b[0;31m# import class file\u001b[0m\u001b[0;34m\u001b[0m\u001b[0;34m\u001b[0m\u001b[0m\n\u001b[0m\u001b[1;32m      5\u001b[0m \u001b[0mblockchain\u001b[0m \u001b[0;34m=\u001b[0m \u001b[0mblockchain\u001b[0m\u001b[0;34m.\u001b[0m\u001b[0mblockchain\u001b[0m\u001b[0;34m(\u001b[0m\u001b[0;34m)\u001b[0m \u001b[0;31m# inizialize class in blockchain variable\u001b[0m\u001b[0;34m\u001b[0m\u001b[0;34m\u001b[0m\u001b[0m\n",
      "\u001b[0;32m~/Documents/GitHub/AIDeFi/classes/blockchain_v1_0_0_0.py\u001b[0m in \u001b[0;36m<module>\u001b[0;34m\u001b[0m\n\u001b[1;32m      4\u001b[0m \u001b[0;32mfrom\u001b[0m \u001b[0;34m.\u001b[0m \u001b[0;32mimport\u001b[0m \u001b[0mloadVersioning\u001b[0m \u001b[0;32mas\u001b[0m \u001b[0mloadVersioning\u001b[0m\u001b[0;34m\u001b[0m\u001b[0;34m\u001b[0m\u001b[0m\n\u001b[1;32m      5\u001b[0m \u001b[0mloadVersioning\u001b[0m \u001b[0;34m=\u001b[0m \u001b[0mloadVersioning\u001b[0m\u001b[0;34m.\u001b[0m\u001b[0mloadVersioning\u001b[0m\u001b[0;34m(\u001b[0m\u001b[0;34m)\u001b[0m\u001b[0;34m\u001b[0m\u001b[0;34m\u001b[0m\u001b[0m\n\u001b[0;32m----> 6\u001b[0;31m \u001b[0mexec\u001b[0m\u001b[0;34m(\u001b[0m\u001b[0mloadVersioning\u001b[0m\u001b[0;34m.\u001b[0m\u001b[0mloader\u001b[0m\u001b[0;34m(\u001b[0m\u001b[0;34m'utilities'\u001b[0m\u001b[0;34m)\u001b[0m\u001b[0;34m)\u001b[0m\u001b[0;34m\u001b[0m\u001b[0;34m\u001b[0m\u001b[0m\n\u001b[0m\u001b[1;32m      7\u001b[0m \u001b[0mexec\u001b[0m\u001b[0;34m(\u001b[0m\u001b[0mloadVersioning\u001b[0m\u001b[0;34m.\u001b[0m\u001b[0mloader\u001b[0m\u001b[0;34m(\u001b[0m\u001b[0;34m'contractEvents'\u001b[0m\u001b[0;34m)\u001b[0m\u001b[0;34m)\u001b[0m\u001b[0;34m\u001b[0m\u001b[0;34m\u001b[0m\u001b[0m\n\u001b[1;32m      8\u001b[0m \u001b[0mexec\u001b[0m\u001b[0;34m(\u001b[0m\u001b[0mloadVersioning\u001b[0m\u001b[0;34m.\u001b[0m\u001b[0mloader\u001b[0m\u001b[0;34m(\u001b[0m\u001b[0;34m'contractFunctions'\u001b[0m\u001b[0;34m)\u001b[0m\u001b[0;34m)\u001b[0m\u001b[0;34m\u001b[0m\u001b[0;34m\u001b[0m\u001b[0m\n",
      "\u001b[0;32m~/Documents/GitHub/AIDeFi/classes/blockchain_v1_0_0_0.py\u001b[0m in \u001b[0;36m<module>\u001b[0;34m\u001b[0m\n",
      "\u001b[0;31mNameError\u001b[0m: name 'classes' is not defined"
     ]
    }
   ],
   "source": [
    "# Run User Functions\n",
    "#\n",
    "# Import classes:\n",
    "from classes import blockchain_v1_0_0_0 as blockchain # import class file\n",
    "blockchain = blockchain.blockchain() # inizialize class in blockchain variable"
   ]
  },
  {
   "cell_type": "code",
   "execution_count": null,
   "metadata": {},
   "outputs": [],
   "source": [
    "################################################ BLOCKCHAIN USERS ANALYSIS"
   ]
  },
  {
   "cell_type": "code",
   "execution_count": null,
   "metadata": {},
   "outputs": [],
   "source": [
    "web3 = blockchain.blockchainConnection(CONNECTION_STRING) # connecting to blockchain\n",
    "print('web3.isConnected(): {0}'.format(web3.isConnected())) # show web3 connection result"
   ]
  },
  {
   "cell_type": "code",
   "execution_count": null,
   "metadata": {},
   "outputs": [],
   "source": [
    "TESTADDRESS = '0xB53C1a33016B2DC2fF3653530bfF1848a515c8c5'\n",
    "df = blockchain.importTransactionListFromAddress(ETHERSCAN_API_KEY, 'ETHERSCAN', 'TXLIST', TESTADDRESS, 10000, 0, 10) # Download into dataframe a transaction list\n",
    "print('Lenght of dataframe: {0}'.format(len(df)))\n",
    "df = blockchain.importTransactionListFromAddress(ETHERSCAN_API_KEY, 'ETHERSCAN', 'TXLIST', TESTADDRESS, 'MAX', 0, 3) # Download into dataframe a transaction list\n",
    "print('Lenght of dataframe: {0}'.format(len(df)))\n",
    "#df = blockchain.importTransactionListFromAddress(ETHERSCAN_API_KEY, 'ETHERSCAN', 'TXLIST', TESTADDRESS, 'MAX', 0, 10) # Download into dataframe a transaction list\n",
    "#print('Lenght of dataframe: {0}'.format(len(df)))"
   ]
  },
  {
   "cell_type": "code",
   "execution_count": null,
   "metadata": {},
   "outputs": [],
   "source": [
    "from past.builtins import execfile\n",
    "execfile('classes/dynamicEvents.py')"
   ]
  },
  {
   "cell_type": "code",
   "execution_count": null,
   "metadata": {},
   "outputs": [],
   "source": [
    "blockchain.importAllDexTransactions(ETHERSCAN_API_KEY, 'ETHERSCAN', 'TXLIST', 'DEX', 100, 0, 10) # Download and save transaction from source (DEX)"
   ]
  },
  {
   "cell_type": "code",
   "execution_count": null,
   "metadata": {},
   "outputs": [],
   "source": [
    "from classes import analysis_v1_0_0_0 as analysis\n",
    "analysis = analysis.analysis()\n",
    "depth = 2 # it means how many transaction with MAX (lenght - 1) we will take for our analysis (etherscan max limit is set to 10k)\n",
    "# use depth = 1 for test purpose, 2+ for production purpose"
   ]
  },
  {
   "cell_type": "code",
   "execution_count": null,
   "metadata": {},
   "outputs": [],
   "source": [
    "analysis.analyzeDexCustomers(ETHERSCAN_API_KEY, depth) # Download transactions and tx data from DEX addresses on DEX file, save and merge data, create report"
   ]
  },
  {
   "cell_type": "code",
   "execution_count": null,
   "metadata": {},
   "outputs": [],
   "source": [
    "analysis.reportDexCustomers('DEX')\n",
    "# see reasult on export/CUSTOMER_DEX_ANALYSIS_YYYMMDD_HHIISS.csv"
   ]
  },
  {
   "cell_type": "code",
   "execution_count": null,
   "metadata": {},
   "outputs": [],
   "source": [
    "################################################ BLOCKCHAIN SMART CONTRACT ANALYSIS"
   ]
  },
  {
   "cell_type": "code",
   "execution_count": null,
   "metadata": {},
   "outputs": [],
   "source": [
    "ABI # Show ABI"
   ]
  },
  {
   "cell_type": "code",
   "execution_count": null,
   "metadata": {},
   "outputs": [],
   "source": [
    "# Generate dynamic python code based on events and functions of each contract taken from csv file\n",
    "from classes import dynamics_v1_0_0_0 as dynamics\n",
    "dynamics = dynamics.dynamics()\n",
    "dynamics.generateDynamicSmartContractEventsAndFunctions(ETHERSCAN_API_KEY, CONNECTION_STRING)"
   ]
  },
  {
   "cell_type": "code",
   "execution_count": null,
   "metadata": {},
   "outputs": [],
   "source": [
    "# Get smartContract datatype (with all events, functions, classes, ...) and ABI\n",
    "(smartContract, ABI) = blockchain.getContract(TESTADDRESS, ETHERSCAN_API_KEY, CONNECTION_STRING)"
   ]
  },
  {
   "cell_type": "code",
   "execution_count": null,
   "metadata": {},
   "outputs": [],
   "source": [
    "# Get list of events from ABI\n",
    "from classes import contractEvents_v1_0_0_0 as contractEvents\n",
    "contractEvents = contractEvents.contractEvents()\n",
    "contractEvents.getEventsFromABI(str(ABI))"
   ]
  },
  {
   "cell_type": "code",
   "execution_count": null,
   "metadata": {},
   "outputs": [],
   "source": [
    "# Get list of functions from ABI\n",
    "from classes import contractFunctions_v1_0_0_0 as contractFunctions\n",
    "contractFunctions = contractFunctions.contractFunctions()\n",
    "contractFunctions.getFunctionsFromABI(str(ABI))"
   ]
  },
  {
   "cell_type": "code",
   "execution_count": null,
   "metadata": {},
   "outputs": [],
   "source": [
    "# Class description of smartContract\n",
    "dir(smartContract)"
   ]
  },
  {
   "cell_type": "code",
   "execution_count": null,
   "metadata": {},
   "outputs": [],
   "source": [
    "blockchain.saveContractData(TESTADDRESS, smartContract, ABI) #save events and functions names on data/contracts/{address}"
   ]
  },
  {
   "cell_type": "code",
   "execution_count": null,
   "metadata": {},
   "outputs": [],
   "source": [
    "# Import all logs from all smart contract addresses\n",
    "from multiprocessing import Pool\n",
    "\n",
    "\n",
    "        \n",
    "        \n",
    "        \n",
    "def logs(_apiKey, _connectionString, _depth, _limit):\n",
    "        blockchain.downloadContractLogsContent(dfSmartContract['Address'][index], _apiKey, _connectionString, _depth, _limit)\n",
    "\n",
    "dfSmartContract = pd.read_csv('data/smartContract.csv')\n",
    "for index in range(0,len(dfSmartContract)):\n",
    "    \n",
    "import pandas as pd\n",
    "_depth = 2\n"
   ]
  },
  {
   "cell_type": "code",
   "execution_count": 11,
   "metadata": {},
   "outputs": [],
   "source": [
    "from past.builtins import execfile\n",
    "execfile('classes/test.py')"
   ]
  },
  {
   "cell_type": "code",
   "execution_count": 9,
   "metadata": {},
   "outputs": [],
   "source": []
  },
  {
   "cell_type": "code",
   "execution_count": null,
   "metadata": {},
   "outputs": [],
   "source": [
    "# Merge all logs in a unique table with blocknumber indexing\n",
    "blockchain.mergeAllLogsData()"
   ]
  },
  {
   "cell_type": "code",
   "execution_count": null,
   "metadata": {},
   "outputs": [],
   "source": [
    "# Users function to catch useful data:\n",
    "# Import classes:\n",
    "from classes import blockchain_v1_0_0_0 as blockchain # import class file\n",
    "blockchain = blockchain.blockchain() # inizialize class in blockchain variable\n",
    "from classes import dynamics_v1_0_0_0 as dynamics\n",
    "dynamics = dynamics.dynamics()\n",
    "from classes import analysis_v1_0_0_0 as analysis\n",
    "analysis = analysis.analysis()\n",
    "\n",
    "analysis.analyzeDexCustomers(ETHERSCAN_API_KEY, depth) # Download transactions and tx data from DEX addresses on DEX file, save and merge data, create report\n",
    "analysis.reportDexCustomers('DEX')\n",
    "dynamics.generateDynamicSmartContractEventsAndFunctions(ETHERSCAN_API_KEY, CONNECTION_STRING)"
   ]
  },
  {
   "cell_type": "code",
   "execution_count": 3,
   "metadata": {},
   "outputs": [
    {
     "name": "stdout",
     "output_type": "stream",
     "text": [
      "'classes/loaders/utilitiesLoader.py'\n"
     ]
    }
   ],
   "source": [
    "from past.builtins import execfile\n",
    "from classes import loadVersioning as loadVersioning\n",
    "loadVersioning = loadVersioning.loadVersioning()\n",
    "filePath = \"'\"+loadVersioning.loader('utilities')+\"'\"\n",
    "print(filePath)\n",
    "exec(filePath)\n"
   ]
  },
  {
   "cell_type": "code",
   "execution_count": 2,
   "metadata": {},
   "outputs": [
    {
     "ename": "NameError",
     "evalue": "name 'utilities' is not defined",
     "output_type": "error",
     "traceback": [
      "\u001b[0;31m---------------------------------------------------------------------------\u001b[0m",
      "\u001b[0;31mNameError\u001b[0m                                 Traceback (most recent call last)",
      "\u001b[0;32m<ipython-input-2-7ec745558b08>\u001b[0m in \u001b[0;36m<module>\u001b[0;34m\u001b[0m\n\u001b[0;32m----> 1\u001b[0;31m \u001b[0mdir\u001b[0m\u001b[0;34m(\u001b[0m\u001b[0mutilities\u001b[0m\u001b[0;34m)\u001b[0m\u001b[0;34m\u001b[0m\u001b[0;34m\u001b[0m\u001b[0m\n\u001b[0m",
      "\u001b[0;31mNameError\u001b[0m: name 'utilities' is not defined"
     ]
    }
   ],
   "source": [
    "dir(utilities)"
   ]
  },
  {
   "cell_type": "code",
   "execution_count": null,
   "metadata": {},
   "outputs": [],
   "source": []
  }
 ],
 "metadata": {
  "kernelspec": {
   "display_name": "Python 3",
   "language": "python",
   "name": "python3"
  },
  "language_info": {
   "codemirror_mode": {
    "name": "ipython",
    "version": 3
   },
   "file_extension": ".py",
   "mimetype": "text/x-python",
   "name": "python",
   "nbconvert_exporter": "python",
   "pygments_lexer": "ipython3",
   "version": "3.8.5"
  }
 },
 "nbformat": 4,
 "nbformat_minor": 4
}
