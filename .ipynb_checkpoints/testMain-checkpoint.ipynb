{
 "cells": [
  {
   "cell_type": "code",
   "execution_count": null,
   "metadata": {},
   "outputs": [],
   "source": [
    "from classes import unitTest_v1_0_0_0 as unitTest\n",
    "unitTest = unitTest.unitTest()"
   ]
  },
  {
   "cell_type": "code",
   "execution_count": null,
   "metadata": {},
   "outputs": [],
   "source": [
    "# Test Input Data\n",
    "# For customers\n",
    "ETHERSCAN_API_KEY = 'YOUR_OWN_KEY' \n",
    "BSCSCAN_API_KEY = 'YOUR_OWN_KEY'\n",
    "CONNECTION_STRING = 'https://mainnet.infura.io/v3/YOUR_OWN_KEY'"
   ]
  },
  {
   "cell_type": "code",
   "execution_count": null,
   "metadata": {},
   "outputs": [],
   "source": [
    "# Only for develop\n",
    "ETHERSCAN_API_KEY = 'EWYSGQ5PEK84PRCNSCKHHZWJIWWKYYABCE' \n",
    "BSCSCAN_API_KEY = 'I6ZZ57GWAS39M85QC4AJFC43Y5DUA8IU8I'\n",
    "CONNECTION_STRING = 'https://mainnet.infura.io/v3/40816bb42ce34f808b4afe219e9d41cb'\n",
    "TESTADDRESS = '0x70e36f6bf80a52b3b46b3af8e106cc0ed743e8e4' #COMPOUND\n",
    "TXHASHTEST = '0x7a4e0d863a1c8da97bf94bc8880d61b3f716bb10c3961f46b1290840097cb175' # ON BINANCE"
   ]
  },
  {
   "cell_type": "code",
   "execution_count": null,
   "metadata": {},
   "outputs": [],
   "source": [
    "# Run unitTest\n",
    "unitTest.runAllTests() #NOT OVER YET"
   ]
  },
  {
   "cell_type": "code",
   "execution_count": null,
   "metadata": {},
   "outputs": [],
   "source": [
    "\n",
    "from classes import blockchain_v1_0_0_0 as blockchain # import class file\n",
    "blockchain = blockchain.blockchain() # inizialize class in blockchain variable\n",
    "CONNECTION_STRING = 'https://mainnet.infura.io/v3/YOUR_OWN_KEY'\n",
    "web3 = blockchain.blockchainConnection(CONNECTION_STRING) # connecting to blockchain\n",
    "print('web3.isConnected(): {0}'.format(web3.isConnected())) # show web3 connection result\n"
   ]
  },
  {
   "cell_type": "code",
   "execution_count": null,
   "metadata": {},
   "outputs": [],
   "source": [
    "################################################ BLOCKCHAIN USERS ANALYSIS"
   ]
  },
  {
   "cell_type": "code",
   "execution_count": null,
   "metadata": {},
   "outputs": [],
   "source": [
    "from classes import blockchain_v1_0_0_0 as blockchain # import class file"
   ]
  },
  {
   "cell_type": "code",
   "execution_count": null,
   "metadata": {},
   "outputs": [],
   "source": [
    "blockchain = blockchain.blockchain() # inizialize class in blockchain variable\n",
    "web3 = blockchain.blockchainConnection() # connecting to blockchain\n",
    "print('web3.isConnected(): {0}'.format(web3.isConnected())) # show web3 connection result"
   ]
  },
  {
   "cell_type": "code",
   "execution_count": null,
   "metadata": {},
   "outputs": [],
   "source": [
    "TESTADDRESS = '0xBD723fc4f1d737dCFc48a07FE7336766d34CAD5f'\n",
    "# Download into dataframe a transaction list\n",
    "df = blockchain.importTransactionListFromAddress('ETHERSCAN', 'TXLIST', TESTADDRESS, 'MAX', 0, 3) "
   ]
  },
  {
   "cell_type": "code",
   "execution_count": null,
   "metadata": {},
   "outputs": [],
   "source": [
    "\n",
    "print('Lenght of dataframe: {0}'.format(len(df)))\n",
    "df = blockchain.importTransactionListFromAddress('ETHERSCAN', 'TXLIST', TESTADDRESS, 'MAX', 0, 3)\n",
    "print('Lenght of dataframe: {0}'.format(len(df)))\n",
    "\n",
    "#df = blockchain.importTransactionListFromAddress(ETHERSCAN_API_KEY, 'ETHERSCAN', 'TXLIST', TESTADDRESS, 'MAX', 0, 10) # Download into dataframe a transaction list\n",
    "#print('Lenght of dataframe: {0}'.format(len(df)))"
   ]
  },
  {
   "cell_type": "code",
   "execution_count": null,
   "metadata": {},
   "outputs": [],
   "source": [
    "from past.builtins import execfile\n",
    "execfile('classes/dynamicEvents.py')"
   ]
  },
  {
   "cell_type": "code",
   "execution_count": null,
   "metadata": {},
   "outputs": [],
   "source": [
    "blockchain.importAllDexTransactions(ETHERSCAN_API_KEY, 'ETHERSCAN', 'TXLIST', 'DEX', 100, 0, 10) # Download and save transaction from source (DEX)"
   ]
  },
  {
   "cell_type": "code",
   "execution_count": null,
   "metadata": {},
   "outputs": [],
   "source": [
    "from classes import analysis_v1_0_0_0 as analysis\n",
    "analysis = analysis.analysis()\n",
    "depth = 2 # it means how many transaction with MAX (lenght - 1) we will take for our analysis (etherscan max limit is set to 10k)\n",
    "# use depth = 1 for test purpose, 2+ for production purpose"
   ]
  },
  {
   "cell_type": "code",
   "execution_count": null,
   "metadata": {},
   "outputs": [],
   "source": [
    "analysis.analyzeDexCustomers(ETHERSCAN_API_KEY, depth) # Download transactions and tx data from DEX addresses on DEX file, save and merge data, create report"
   ]
  },
  {
   "cell_type": "code",
   "execution_count": null,
   "metadata": {},
   "outputs": [],
   "source": [
    "analysis.reportDexCustomers('DEX')\n",
    "# see reasult on export/CUSTOMER_DEX_ANALYSIS_YYYMMDD_HHIISS.csv"
   ]
  },
  {
   "cell_type": "code",
   "execution_count": null,
   "metadata": {},
   "outputs": [],
   "source": [
    "################################################ BLOCKCHAIN SMART CONTRACT ANALYSIS"
   ]
  },
  {
   "cell_type": "code",
   "execution_count": null,
   "metadata": {},
   "outputs": [],
   "source": [
    "ABI # Show ABI"
   ]
  },
  {
   "cell_type": "code",
   "execution_count": null,
   "metadata": {},
   "outputs": [],
   "source": [
    "smartContract.abi"
   ]
  },
  {
   "cell_type": "code",
   "execution_count": null,
   "metadata": {},
   "outputs": [],
   "source": [
    "# Generate dynamic python code based on events and functions of each contract taken from csv file\n",
    "from classes import dynamics_v1_0_0_0 as dynamics\n",
    "dynamics = dynamics.dynamics()\n",
    "dynamics.generateDynamicSmartContractEventsAndFunctions(ETHERSCAN_API_KEY, CONNECTION_STRING)"
   ]
  },
  {
   "cell_type": "code",
   "execution_count": null,
   "metadata": {},
   "outputs": [],
   "source": [
    "# Get smartContract datatype (with all events, functions, classes, ...) and ABI\n",
    "(smartContract, ABI) = blockchain.getContract(TESTADDRESS, ETHERSCAN_API_KEY, CONNECTION_STRING)"
   ]
  },
  {
   "cell_type": "code",
   "execution_count": null,
   "metadata": {},
   "outputs": [],
   "source": [
    "# Get list of events from ABI\n",
    "from classes import contractEvents_v1_0_0_0 as contractEvents\n",
    "contractEvents = contractEvents.contractEvents()\n",
    "contractEvents.getEventsFromABI(str(ABI))"
   ]
  },
  {
   "cell_type": "code",
   "execution_count": null,
   "metadata": {},
   "outputs": [],
   "source": [
    "# Get list of functions from ABI\n",
    "from classes import contractFunctions_v1_0_0_0 as contractFunctions\n",
    "contractFunctions = contractFunctions.contractFunctions()\n",
    "contractFunctions.getFunctionsFromABI(str(ABI))"
   ]
  },
  {
   "cell_type": "code",
   "execution_count": null,
   "metadata": {},
   "outputs": [],
   "source": [
    "# Class description of smartContract\n",
    "dir(smartContract)"
   ]
  },
  {
   "cell_type": "code",
   "execution_count": null,
   "metadata": {},
   "outputs": [],
   "source": [
    "blockchain.saveContractData(TESTADDRESS, smartContract, ABI) #save events and functions names on data/contracts/{address}"
   ]
  },
  {
   "cell_type": "code",
   "execution_count": null,
   "metadata": {},
   "outputs": [],
   "source": [
    "# Import all logs from all smart contract addresses\n",
    "from multiprocessing import Pool\n",
    "     \n",
    "def logs(_apiKey, _connectionString, _depth, _limit):\n",
    "        blockchain.downloadContractLogsContent(dfSmartContract['Address'][index], _apiKey, _connectionString, _depth, _limit)\n",
    "\n",
    "dfSmartContract = pd.read_csv('data/smartContract.csv')\n",
    "for index in range(0,len(dfSmartContract)):\n",
    "    \n",
    "import pandas as pd\n",
    "_depth = 2\n"
   ]
  },
  {
   "cell_type": "code",
   "execution_count": null,
   "metadata": {},
   "outputs": [],
   "source": [
    "from past.builtins import execfile\n",
    "execfile('classes/test.py')"
   ]
  },
  {
   "cell_type": "code",
   "execution_count": null,
   "metadata": {},
   "outputs": [],
   "source": [
    "# Users function to catch useful data:\n",
    "# Import classes:\n",
    "from classes import blockchain_v1_0_0_0 as blockchain # import class file\n",
    "blockchain = blockchain.blockchain() # inizialize class in blockchain variable\n",
    "from classes import dynamics_v1_0_0_0 as dynamics\n",
    "dynamics = dynamics.dynamics()\n",
    "from classes import analysis_v1_0_0_0 as analysis\n",
    "analysis = analysis.analysis()\n",
    "\n",
    "#analysis.analyzeDexCustomers(ETHERSCAN_API_KEY, depth) # Download transactions and tx data from DEX addresses on DEX file, save and merge data, create report\n",
    "#analysis.reportDexCustomers('DEX')\n",
    "dynamics.generateDynamicSmartContractEventsAndFunctions(ETHERSCAN_API_KEY, CONNECTION_STRING)\n"
   ]
  },
  {
   "cell_type": "code",
   "execution_count": null,
   "metadata": {},
   "outputs": [],
   "source": [
    "from past.builtins import execfile\n",
    "from classes import loadVersioning as loadVersioning\n",
    "loadVersioning = loadVersioning.loadVersioning()\n",
    "filePath = loadVersioning.loader('dynamics')\n",
    "print(filePath)\n",
    "#execfile(filePath)\n"
   ]
  },
  {
   "cell_type": "code",
   "execution_count": null,
   "metadata": {},
   "outputs": [],
   "source": [
    "execfile(filePath)"
   ]
  },
  {
   "cell_type": "code",
   "execution_count": null,
   "metadata": {},
   "outputs": [],
   "source": [
    "dir(utilities)"
   ]
  },
  {
   "cell_type": "code",
   "execution_count": null,
   "metadata": {},
   "outputs": [],
   "source": [
    "from classes import blockchain_v1_0_0_0 as blockchain # import class file\n",
    "blockchain = blockchain.blockchain() # inizialize class in blockchain variable\n",
    "from classes import contractEvents_v1_0_0_0 as contractEvents # import class file\n",
    "contractEvents = contractEvents.contractEvents() \n",
    "from classes import contractFunctions_v1_0_0_0 as contractFunctions\n",
    "contractFunctions = contractFunctions.contractFunctions()\n",
    "import pandas as pd\n",
    "addressListRaw = pd.read_csv('data/smartContract.csv')"
   ]
  },
  {
   "cell_type": "code",
   "execution_count": null,
   "metadata": {},
   "outputs": [],
   "source": [
    "addressListRaw"
   ]
  },
  {
   "cell_type": "code",
   "execution_count": null,
   "metadata": {},
   "outputs": [],
   "source": [
    "networks = addressListRaw['Network'].unique()\n",
    "networks"
   ]
  },
  {
   "cell_type": "code",
   "execution_count": null,
   "metadata": {},
   "outputs": [],
   "source": [
    "import numpy as np\n",
    "a = {}\n",
    "a['test'] = [1]\n",
    "a['test'].append(2)"
   ]
  },
  {
   "cell_type": "code",
   "execution_count": null,
   "metadata": {},
   "outputs": [],
   "source": [
    "CONTRACT_FOLDER = 'data/contracts'\n",
    "from os import listdir\n",
    "from os.path import isfile, join, isdir\n",
    "import numpy as np\n",
    "contractList = [f for f in listdir(CONTRACT_FOLDER) if isdir(join(CONTRACT_FOLDER, f))]\n",
    "np.sort(contractList)[::-1]"
   ]
  },
  {
   "cell_type": "code",
   "execution_count": 4,
   "metadata": {},
   "outputs": [],
   "source": [
    "import pandas as pd"
   ]
  },
  {
   "cell_type": "code",
   "execution_count": 5,
   "metadata": {},
   "outputs": [],
   "source": [
    "path = 'data/contracts/bck_smartContractsLogsGrouped_20210729_123537.csv'"
   ]
  },
  {
   "cell_type": "code",
   "execution_count": 6,
   "metadata": {},
   "outputs": [],
   "source": [
    "df = pd.read_csv(path)"
   ]
  },
  {
   "cell_type": "code",
   "execution_count": 8,
   "metadata": {},
   "outputs": [
    {
     "data": {
      "text/plain": [
       "'2021-07-21T18:09:14Z'"
      ]
     },
     "execution_count": 8,
     "metadata": {},
     "output_type": "execute_result"
    }
   ],
   "source": [
    "df.loc[['0XFACE851A4921CE59E912D19329929CE6DA6EB0C7_TRANSFER_timestamp_iso8601'][0]"
   ]
  },
  {
   "cell_type": "code",
   "execution_count": 1,
   "metadata": {},
   "outputs": [
    {
     "name": "stdout",
     "output_type": "stream",
     "text": [
      "Importing smart contract event data...\n",
      "Starting merge...\n",
      "1/26 - 0XFACE851A4921CE59E912D19329929CE6DA6EB0C7_TRANSFER event was merged\n",
      "2/26 - 0XFACE851A4921CE59E912D19329929CE6DA6EB0C7_REPAYBORROW event was merged\n",
      "3/26 - 0XFACE851A4921CE59E912D19329929CE6DA6EB0C7_REDEEM event was merged\n",
      "4/26 - 0XFACE851A4921CE59E912D19329929CE6DA6EB0C7_NEWRESERVEFACTOR event was merged\n",
      "5/26 - 0XFACE851A4921CE59E912D19329929CE6DA6EB0C7_NEWMARKETINTERESTRATEMODEL event was merged\n",
      "6/26 - 0XFACE851A4921CE59E912D19329929CE6DA6EB0C7_NEWIMPLEMENTATION event was merged\n",
      "7/26 - 0XFACE851A4921CE59E912D19329929CE6DA6EB0C7_NEWCOMPTROLLER event was merged\n",
      "8/26 - 0XFACE851A4921CE59E912D19329929CE6DA6EB0C7_MINT event was merged\n",
      "9/26 - 0XFACE851A4921CE59E912D19329929CE6DA6EB0C7_LIQUIDATEBORROW event was merged\n",
      "10/26 - 0XFACE851A4921CE59E912D19329929CE6DA6EB0C7_FAILURE event was merged\n",
      "11/26 - 0XFACE851A4921CE59E912D19329929CE6DA6EB0C7_BORROW event was merged\n",
      "12/26 - 0XFACE851A4921CE59E912D19329929CE6DA6EB0C7_APPROVAL event was merged\n",
      "13/26 - 0XFACE851A4921CE59E912D19329929CE6DA6EB0C7_ACCRUEINTEREST event was merged\n",
      "14/26 - 0X12392F67BDF24FAE0AF363C24AC620A2F67DAD86_TRANSFER event was merged\n",
      "15/26 - 0X12392F67BDF24FAE0AF363C24AC620A2F67DAD86_REPAYBORROW event was merged\n",
      "16/26 - 0X12392F67BDF24FAE0AF363C24AC620A2F67DAD86_REDEEM event was merged\n",
      "17/26 - 0X12392F67BDF24FAE0AF363C24AC620A2F67DAD86_NEWRESERVEFACTOR event was merged\n",
      "18/26 - 0X12392F67BDF24FAE0AF363C24AC620A2F67DAD86_NEWMARKETINTERESTRATEMODEL event was merged\n",
      "19/26 - 0X12392F67BDF24FAE0AF363C24AC620A2F67DAD86_NEWIMPLEMENTATION event was merged\n",
      "20/26 - 0X12392F67BDF24FAE0AF363C24AC620A2F67DAD86_NEWCOMPTROLLER event was merged\n",
      "21/26 - 0X12392F67BDF24FAE0AF363C24AC620A2F67DAD86_MINT event was merged\n",
      "22/26 - 0X12392F67BDF24FAE0AF363C24AC620A2F67DAD86_LIQUIDATEBORROW event was merged\n",
      "23/26 - 0X12392F67BDF24FAE0AF363C24AC620A2F67DAD86_FAILURE event was merged\n",
      "24/26 - 0X12392F67BDF24FAE0AF363C24AC620A2F67DAD86_BORROW event was merged\n",
      "25/26 - 0X12392F67BDF24FAE0AF363C24AC620A2F67DAD86_APPROVAL event was merged\n",
      "26/26 - 0X12392F67BDF24FAE0AF363C24AC620A2F67DAD86_ACCRUEINTEREST event was merged\n",
      "Backup before optimization...\n",
      "rows: 3006\n",
      "cols: 161\n",
      "Optimizing dataframe...\n",
      "Optimizing... 0.0 % - 0/3006\n",
      "Optimizing... 0.998003992015968 % - 30/3006\n",
      "Optimizing... 1.996007984031936 % - 60/3006\n",
      "Optimizing... 2.9940119760479043 % - 90/3006\n",
      "Optimizing... 3.992015968063872 % - 120/3006\n",
      "Optimizing... 4.990019960079841 % - 150/3006\n",
      "Optimizing... 5.9880239520958085 % - 180/3006\n",
      "Optimizing... 6.986027944111776 % - 210/3006\n",
      "Optimizing... 7.984031936127744 % - 240/3006\n",
      "Optimizing... 8.982035928143713 % - 270/3006\n",
      "Optimizing... 9.980039920159681 % - 300/3006\n",
      "Optimizing... 10.978043912175648 % - 330/3006\n",
      "Optimizing... 11.976047904191617 % - 360/3006\n",
      "Optimizing... 12.974051896207584 % - 390/3006\n",
      "Optimizing... 13.972055888223553 % - 420/3006\n",
      "Optimizing... 14.97005988023952 % - 450/3006\n",
      "Optimizing... 15.968063872255488 % - 480/3006\n",
      "Optimizing... 16.966067864271455 % - 510/3006\n",
      "Optimizing... 17.964071856287426 % - 540/3006\n",
      "Optimizing... 18.962075848303392 % - 570/3006\n",
      "Optimizing... 19.960079840319363 % - 600/3006\n",
      "Optimizing... 20.958083832335326 % - 630/3006\n",
      "Optimizing... 21.956087824351297 % - 660/3006\n",
      "Optimizing... 22.954091816367264 % - 690/3006\n",
      "Optimizing... 23.952095808383234 % - 720/3006\n",
      "Optimizing... 24.9500998003992 % - 750/3006\n",
      "Optimizing... 25.948103792415168 % - 780/3006\n",
      "Optimizing... 26.94610778443114 % - 810/3006\n",
      "Optimizing... 27.944111776447105 % - 840/3006\n",
      "Optimizing... 28.942115768463072 % - 870/3006\n",
      "Optimizing... 29.94011976047904 % - 900/3006\n",
      "Optimizing... 30.938123752495013 % - 930/3006\n",
      "Optimizing... 31.936127744510976 % - 960/3006\n",
      "Optimizing... 32.93413173652694 % - 990/3006\n",
      "Optimizing... 33.93213572854291 % - 1020/3006\n",
      "Optimizing... 34.930139720558884 % - 1050/3006\n",
      "Optimizing... 35.92814371257485 % - 1080/3006\n",
      "Optimizing... 36.92614770459082 % - 1110/3006\n",
      "Optimizing... 37.924151696606785 % - 1140/3006\n",
      "Optimizing... 38.92215568862276 % - 1170/3006\n",
      "Optimizing... 39.920159680638726 % - 1200/3006\n",
      "Optimizing... 40.91816367265469 % - 1230/3006\n",
      "Optimizing... 41.91616766467065 % - 1260/3006\n",
      "Optimizing... 42.91417165668663 % - 1290/3006\n",
      "Optimizing... 43.91217564870259 % - 1320/3006\n",
      "Optimizing... 44.91017964071856 % - 1350/3006\n",
      "Optimizing... 45.90818363273453 % - 1380/3006\n",
      "Optimizing... 46.9061876247505 % - 1410/3006\n",
      "Optimizing... 47.90419161676647 % - 1440/3006\n",
      "Optimizing... 48.902195608782435 % - 1470/3006\n",
      "Optimizing... 49.9001996007984 % - 1500/3006\n",
      "Optimizing... 50.898203592814376 % - 1530/3006\n",
      "Optimizing... 51.896207584830336 % - 1560/3006\n",
      "Optimizing... 52.8942115768463 % - 1590/3006\n",
      "Optimizing... 53.89221556886228 % - 1620/3006\n",
      "Optimizing... 54.890219560878236 % - 1650/3006\n",
      "Optimizing... 55.88822355289421 % - 1680/3006\n",
      "Optimizing... 56.886227544910184 % - 1710/3006\n",
      "Optimizing... 57.884231536926144 % - 1740/3006\n",
      "Optimizing... 58.88223552894212 % - 1770/3006\n",
      "Optimizing... 59.88023952095808 % - 1800/3006\n",
      "Optimizing... 60.87824351297405 % - 1830/3006\n",
      "Optimizing... 61.876247504990026 % - 1860/3006\n",
      "Optimizing... 62.874251497005986 % - 1890/3006\n",
      "Optimizing... 63.87225548902195 % - 1920/3006\n",
      "Optimizing... 64.87025948103793 % - 1950/3006\n",
      "Optimizing... 65.86826347305389 % - 1980/3006\n",
      "Optimizing... 66.86626746506987 % - 2010/3006\n",
      "Optimizing... 67.86427145708582 % - 2040/3006\n",
      "Optimizing... 68.8622754491018 % - 2070/3006\n",
      "Optimizing... 69.86027944111777 % - 2100/3006\n",
      "Optimizing... 70.85828343313374 % - 2130/3006\n",
      "Optimizing... 71.8562874251497 % - 2160/3006\n",
      "Optimizing... 72.85429141716567 % - 2190/3006\n",
      "Optimizing... 73.85229540918164 % - 2220/3006\n",
      "Optimizing... 74.8502994011976 % - 2250/3006\n",
      "Optimizing... 75.84830339321357 % - 2280/3006\n",
      "Optimizing... 76.84630738522954 % - 2310/3006\n",
      "Optimizing... 77.84431137724552 % - 2340/3006\n",
      "Optimizing... 78.84231536926147 % - 2370/3006\n",
      "Optimizing... 79.84031936127745 % - 2400/3006\n",
      "Optimizing... 80.83832335329342 % - 2430/3006\n",
      "Optimizing... 81.83632734530939 % - 2460/3006\n",
      "Optimizing... 82.83433133732535 % - 2490/3006\n",
      "Optimizing... 83.8323353293413 % - 2520/3006\n",
      "Optimizing... 84.83033932135729 % - 2550/3006\n",
      "Optimizing... 85.82834331337325 % - 2580/3006\n",
      "Optimizing... 86.82634730538922 % - 2610/3006\n",
      "Optimizing... 87.82435129740519 % - 2640/3006\n",
      "Optimizing... 88.82235528942117 % - 2670/3006\n",
      "Optimizing... 89.82035928143712 % - 2700/3006\n",
      "Optimizing... 90.8183632734531 % - 2730/3006\n",
      "Optimizing... 91.81636726546905 % - 2760/3006\n",
      "Optimizing... 92.81437125748504 % - 2790/3006\n",
      "Optimizing... 93.812375249501 % - 2820/3006\n",
      "Optimizing... 94.81037924151696 % - 2850/3006\n",
      "Optimizing... 95.80838323353294 % - 2880/3006\n",
      "Optimizing... 96.8063872255489 % - 2910/3006\n",
      "Optimizing... 97.80439121756487 % - 2940/3006\n",
      "Optimizing... 98.80239520958084 % - 2970/3006\n",
      "Optimizing... 99.8003992015968 % - 3000/3006\n",
      "Reducing dimension...\n",
      "Dataframe optimized.\n",
      "File saved on data/contracts/smartContractsLogsGrouped_20210729_140517.csv\n"
     ]
    }
   ],
   "source": [
    "from classes import contractEvents_v1_0_0_0 as contractEvents # import class file\n",
    "contractEvents = contractEvents.contractEvents() \n",
    "contractEvents.mergeAllLogsData()"
   ]
  },
  {
   "cell_type": "code",
   "execution_count": 7,
   "metadata": {},
   "outputs": [],
   "source": [
    "import pandas as pd\n",
    "path = 'data/contracts/bck_smartContractsLogsGrouped_20210729_140517.csv'\n",
    "#path = 'test.csv'"
   ]
  },
  {
   "cell_type": "code",
   "execution_count": 54,
   "metadata": {},
   "outputs": [
    {
     "data": {
      "text/plain": [
       "0      2021-07-21 18:09:14+00:00\n",
       "1      2021-07-21 16:58:48+00:00\n",
       "2      2021-07-21 15:49:58+00:00\n",
       "3      2021-07-21 11:29:12+00:00\n",
       "4      2021-07-21 10:21:55+00:00\n",
       "                  ...           \n",
       "3001                         NaT\n",
       "3002                         NaT\n",
       "3003                         NaT\n",
       "3004                         NaT\n",
       "3005                         NaT\n",
       "Name: 0XFACE851A4921CE59E912D19329929CE6DA6EB0C7_TRANSFER_timestamp_iso8601, Length: 3006, dtype: datetime64[ns, UTC]"
      ]
     },
     "execution_count": 54,
     "metadata": {},
     "output_type": "execute_result"
    }
   ],
   "source": [
    "from classes import utilities_v1_0_0_0 as utilities\n",
    "utilities = utilities.utilities()\n",
    "import pandas as pd\n",
    "df = pd.read_csv(path,parse_dates=True)\n"
   ]
  },
  {
   "cell_type": "code",
   "execution_count": 39,
   "metadata": {},
   "outputs": [
    {
     "data": {
      "text/html": [
       "<div>\n",
       "<style scoped>\n",
       "    .dataframe tbody tr th:only-of-type {\n",
       "        vertical-align: middle;\n",
       "    }\n",
       "\n",
       "    .dataframe tbody tr th {\n",
       "        vertical-align: top;\n",
       "    }\n",
       "\n",
       "    .dataframe thead th {\n",
       "        text-align: right;\n",
       "    }\n",
       "</style>\n",
       "<table border=\"1\" class=\"dataframe\">\n",
       "  <thead>\n",
       "    <tr style=\"text-align: right;\">\n",
       "      <th></th>\n",
       "      <th>blockNumber</th>\n",
       "      <th>0XFACE851A4921CE59E912D19329929CE6DA6EB0C7_TRANSFER_from</th>\n",
       "      <th>0XFACE851A4921CE59E912D19329929CE6DA6EB0C7_TRANSFER_to</th>\n",
       "      <th>0XFACE851A4921CE59E912D19329929CE6DA6EB0C7_TRANSFER_value</th>\n",
       "      <th>0XFACE851A4921CE59E912D19329929CE6DA6EB0C7_REPAYBORROW_payer</th>\n",
       "      <th>0XFACE851A4921CE59E912D19329929CE6DA6EB0C7_REPAYBORROW_borrower</th>\n",
       "      <th>0XFACE851A4921CE59E912D19329929CE6DA6EB0C7_REPAYBORROW_repayAmount</th>\n",
       "      <th>0XFACE851A4921CE59E912D19329929CE6DA6EB0C7_REPAYBORROW_accountBorrows</th>\n",
       "      <th>0XFACE851A4921CE59E912D19329929CE6DA6EB0C7_REPAYBORROW_totalBorrows</th>\n",
       "      <th>0XFACE851A4921CE59E912D19329929CE6DA6EB0C7_REDEEM_from</th>\n",
       "      <th>...</th>\n",
       "      <th>0X12392F67BDF24FAE0AF363C24AC620A2F67DAD86_BORROW_totalBorrows</th>\n",
       "      <th>0X12392F67BDF24FAE0AF363C24AC620A2F67DAD86_APPROVAL_owner</th>\n",
       "      <th>0X12392F67BDF24FAE0AF363C24AC620A2F67DAD86_APPROVAL_spender</th>\n",
       "      <th>0X12392F67BDF24FAE0AF363C24AC620A2F67DAD86_APPROVAL_amount</th>\n",
       "      <th>0X12392F67BDF24FAE0AF363C24AC620A2F67DAD86_ACCRUEINTEREST_cashPrior</th>\n",
       "      <th>0X12392F67BDF24FAE0AF363C24AC620A2F67DAD86_ACCRUEINTEREST_interestAccumulated</th>\n",
       "      <th>0X12392F67BDF24FAE0AF363C24AC620A2F67DAD86_ACCRUEINTEREST_borrowIndex</th>\n",
       "      <th>0X12392F67BDF24FAE0AF363C24AC620A2F67DAD86_ACCRUEINTEREST_totalBorrows</th>\n",
       "      <th>timestamp_iso8601</th>\n",
       "      <th>timestamp_unixtime</th>\n",
       "    </tr>\n",
       "  </thead>\n",
       "  <tbody>\n",
       "    <tr>\n",
       "      <th>0</th>\n",
       "      <td>12871300.0</td>\n",
       "      <td>0x5253b44e0d69f1ddcad7bf10275faa0c4f950e3e</td>\n",
       "      <td>0xface851a4921ce59e912d19329929ce6da6eb0c7</td>\n",
       "      <td>2.602843e+11</td>\n",
       "      <td>NaN</td>\n",
       "      <td>NaN</td>\n",
       "      <td>NaN</td>\n",
       "      <td>NaN</td>\n",
       "      <td>NaN</td>\n",
       "      <td>0x5253b44e0d69f1ddcad7bf10275faa0c4f950e3e</td>\n",
       "      <td>...</td>\n",
       "      <td>NaN</td>\n",
       "      <td>NaN</td>\n",
       "      <td>NaN</td>\n",
       "      <td>NaN</td>\n",
       "      <td>NaN</td>\n",
       "      <td>NaN</td>\n",
       "      <td>NaN</td>\n",
       "      <td>NaN</td>\n",
       "      <td>NaN</td>\n",
       "      <td>1.626891e+09</td>\n",
       "    </tr>\n",
       "    <tr>\n",
       "      <th>1</th>\n",
       "      <td>12870999.0</td>\n",
       "      <td>0xface851a4921ce59e912d19329929ce6da6eb0c7</td>\n",
       "      <td>0xdda9a00ca75f7c67431320f80f43d5d3b07eceaa</td>\n",
       "      <td>4.313860e+11</td>\n",
       "      <td>NaN</td>\n",
       "      <td>NaN</td>\n",
       "      <td>NaN</td>\n",
       "      <td>NaN</td>\n",
       "      <td>NaN</td>\n",
       "      <td>NaN</td>\n",
       "      <td>...</td>\n",
       "      <td>NaN</td>\n",
       "      <td>NaN</td>\n",
       "      <td>NaN</td>\n",
       "      <td>NaN</td>\n",
       "      <td>NaN</td>\n",
       "      <td>NaN</td>\n",
       "      <td>NaN</td>\n",
       "      <td>NaN</td>\n",
       "      <td>NaN</td>\n",
       "      <td>1.626887e+09</td>\n",
       "    </tr>\n",
       "    <tr>\n",
       "      <th>2</th>\n",
       "      <td>12870665.0</td>\n",
       "      <td>0xface851a4921ce59e912d19329929ce6da6eb0c7</td>\n",
       "      <td>0x4c9598d1cd7a373497ceee1ff7c21db885a6a9c1</td>\n",
       "      <td>5.201429e+12</td>\n",
       "      <td>NaN</td>\n",
       "      <td>NaN</td>\n",
       "      <td>NaN</td>\n",
       "      <td>NaN</td>\n",
       "      <td>NaN</td>\n",
       "      <td>NaN</td>\n",
       "      <td>...</td>\n",
       "      <td>NaN</td>\n",
       "      <td>NaN</td>\n",
       "      <td>NaN</td>\n",
       "      <td>NaN</td>\n",
       "      <td>NaN</td>\n",
       "      <td>NaN</td>\n",
       "      <td>NaN</td>\n",
       "      <td>NaN</td>\n",
       "      <td>NaN</td>\n",
       "      <td>1.626883e+09</td>\n",
       "    </tr>\n",
       "    <tr>\n",
       "      <th>3</th>\n",
       "      <td>12869522.0</td>\n",
       "      <td>0xface851a4921ce59e912d19329929ce6da6eb0c7</td>\n",
       "      <td>0x6d170099ad489de854bf37107e5042f4fd1dc495</td>\n",
       "      <td>3.842404e+10</td>\n",
       "      <td>NaN</td>\n",
       "      <td>NaN</td>\n",
       "      <td>NaN</td>\n",
       "      <td>NaN</td>\n",
       "      <td>NaN</td>\n",
       "      <td>NaN</td>\n",
       "      <td>...</td>\n",
       "      <td>NaN</td>\n",
       "      <td>NaN</td>\n",
       "      <td>NaN</td>\n",
       "      <td>NaN</td>\n",
       "      <td>NaN</td>\n",
       "      <td>NaN</td>\n",
       "      <td>NaN</td>\n",
       "      <td>NaN</td>\n",
       "      <td>NaN</td>\n",
       "      <td>1.626867e+09</td>\n",
       "    </tr>\n",
       "    <tr>\n",
       "      <th>4</th>\n",
       "      <td>12869222.0</td>\n",
       "      <td>0xface851a4921ce59e912d19329929ce6da6eb0c7</td>\n",
       "      <td>0xf549f08e0a1f57d2b4a39573a11c2e1d380a2c75</td>\n",
       "      <td>3.609517e+12</td>\n",
       "      <td>NaN</td>\n",
       "      <td>NaN</td>\n",
       "      <td>NaN</td>\n",
       "      <td>NaN</td>\n",
       "      <td>NaN</td>\n",
       "      <td>NaN</td>\n",
       "      <td>...</td>\n",
       "      <td>NaN</td>\n",
       "      <td>NaN</td>\n",
       "      <td>NaN</td>\n",
       "      <td>NaN</td>\n",
       "      <td>NaN</td>\n",
       "      <td>NaN</td>\n",
       "      <td>NaN</td>\n",
       "      <td>NaN</td>\n",
       "      <td>NaN</td>\n",
       "      <td>1.626863e+09</td>\n",
       "    </tr>\n",
       "    <tr>\n",
       "      <th>...</th>\n",
       "      <td>...</td>\n",
       "      <td>...</td>\n",
       "      <td>...</td>\n",
       "      <td>...</td>\n",
       "      <td>...</td>\n",
       "      <td>...</td>\n",
       "      <td>...</td>\n",
       "      <td>...</td>\n",
       "      <td>...</td>\n",
       "      <td>...</td>\n",
       "      <td>...</td>\n",
       "      <td>...</td>\n",
       "      <td>...</td>\n",
       "      <td>...</td>\n",
       "      <td>...</td>\n",
       "      <td>...</td>\n",
       "      <td>...</td>\n",
       "      <td>...</td>\n",
       "      <td>...</td>\n",
       "      <td>...</td>\n",
       "      <td>...</td>\n",
       "    </tr>\n",
       "    <tr>\n",
       "      <th>3001</th>\n",
       "      <td>12821363.0</td>\n",
       "      <td>NaN</td>\n",
       "      <td>NaN</td>\n",
       "      <td>NaN</td>\n",
       "      <td>NaN</td>\n",
       "      <td>NaN</td>\n",
       "      <td>NaN</td>\n",
       "      <td>NaN</td>\n",
       "      <td>NaN</td>\n",
       "      <td>NaN</td>\n",
       "      <td>...</td>\n",
       "      <td>NaN</td>\n",
       "      <td>0xba2ef5189b762bd4c9e7f0b50fbbab65193935e8</td>\n",
       "      <td>0x4ead18d9165321bf25dc4b537827e74806141677</td>\n",
       "      <td>1157920892373161954235709850086879078532699846...</td>\n",
       "      <td>NaN</td>\n",
       "      <td>NaN</td>\n",
       "      <td>NaN</td>\n",
       "      <td>NaN</td>\n",
       "      <td>NaN</td>\n",
       "      <td>1.626214e+09</td>\n",
       "    </tr>\n",
       "    <tr>\n",
       "      <th>3002</th>\n",
       "      <td>12800751.0</td>\n",
       "      <td>NaN</td>\n",
       "      <td>NaN</td>\n",
       "      <td>NaN</td>\n",
       "      <td>NaN</td>\n",
       "      <td>NaN</td>\n",
       "      <td>NaN</td>\n",
       "      <td>NaN</td>\n",
       "      <td>NaN</td>\n",
       "      <td>NaN</td>\n",
       "      <td>...</td>\n",
       "      <td>NaN</td>\n",
       "      <td>0x70cc41f83a42e33485c8bbccaaa00207426dbb39</td>\n",
       "      <td>0xb58bd351847cbe81a5fdede40ff7e6feac2935c7</td>\n",
       "      <td>1000000000000000000000000000</td>\n",
       "      <td>NaN</td>\n",
       "      <td>NaN</td>\n",
       "      <td>NaN</td>\n",
       "      <td>NaN</td>\n",
       "      <td>NaN</td>\n",
       "      <td>1.625935e+09</td>\n",
       "    </tr>\n",
       "    <tr>\n",
       "      <th>3003</th>\n",
       "      <td>12789222.0</td>\n",
       "      <td>NaN</td>\n",
       "      <td>NaN</td>\n",
       "      <td>NaN</td>\n",
       "      <td>NaN</td>\n",
       "      <td>NaN</td>\n",
       "      <td>NaN</td>\n",
       "      <td>NaN</td>\n",
       "      <td>NaN</td>\n",
       "      <td>NaN</td>\n",
       "      <td>...</td>\n",
       "      <td>NaN</td>\n",
       "      <td>0x515c475400859e50f15b57adfa8503821fd794b9</td>\n",
       "      <td>0xa889780055fb6b7c6efa59cba3fafd7e22a6a77b</td>\n",
       "      <td>0</td>\n",
       "      <td>NaN</td>\n",
       "      <td>NaN</td>\n",
       "      <td>NaN</td>\n",
       "      <td>NaN</td>\n",
       "      <td>NaN</td>\n",
       "      <td>1.625781e+09</td>\n",
       "    </tr>\n",
       "    <tr>\n",
       "      <th>3004</th>\n",
       "      <td>12783397.0</td>\n",
       "      <td>NaN</td>\n",
       "      <td>NaN</td>\n",
       "      <td>NaN</td>\n",
       "      <td>NaN</td>\n",
       "      <td>NaN</td>\n",
       "      <td>NaN</td>\n",
       "      <td>NaN</td>\n",
       "      <td>NaN</td>\n",
       "      <td>NaN</td>\n",
       "      <td>...</td>\n",
       "      <td>NaN</td>\n",
       "      <td>0x515c475400859e50f15b57adfa8503821fd794b9</td>\n",
       "      <td>0xa889780055fb6b7c6efa59cba3fafd7e22a6a77b</td>\n",
       "      <td>1157920892373161954235709850086879078532699846...</td>\n",
       "      <td>NaN</td>\n",
       "      <td>NaN</td>\n",
       "      <td>NaN</td>\n",
       "      <td>NaN</td>\n",
       "      <td>NaN</td>\n",
       "      <td>1.625702e+09</td>\n",
       "    </tr>\n",
       "    <tr>\n",
       "      <th>3005</th>\n",
       "      <td>12480772.0</td>\n",
       "      <td>NaN</td>\n",
       "      <td>NaN</td>\n",
       "      <td>NaN</td>\n",
       "      <td>NaN</td>\n",
       "      <td>NaN</td>\n",
       "      <td>NaN</td>\n",
       "      <td>NaN</td>\n",
       "      <td>NaN</td>\n",
       "      <td>NaN</td>\n",
       "      <td>...</td>\n",
       "      <td>NaN</td>\n",
       "      <td>0xba2ef5189b762bd4c9e7f0b50fbbab65193935e8</td>\n",
       "      <td>0xc36442b4a4522e871399cd717abdd847ab11fe88</td>\n",
       "      <td>1157920892373161954235709850086879078532699846...</td>\n",
       "      <td>NaN</td>\n",
       "      <td>NaN</td>\n",
       "      <td>NaN</td>\n",
       "      <td>NaN</td>\n",
       "      <td>NaN</td>\n",
       "      <td>1.621641e+09</td>\n",
       "    </tr>\n",
       "  </tbody>\n",
       "</table>\n",
       "<p>3006 rows × 85 columns</p>\n",
       "</div>"
      ],
      "text/plain": [
       "     blockNumber 0XFACE851A4921CE59E912D19329929CE6DA6EB0C7_TRANSFER_from  \\\n",
       "0     12871300.0         0x5253b44e0d69f1ddcad7bf10275faa0c4f950e3e         \n",
       "1     12870999.0         0xface851a4921ce59e912d19329929ce6da6eb0c7         \n",
       "2     12870665.0         0xface851a4921ce59e912d19329929ce6da6eb0c7         \n",
       "3     12869522.0         0xface851a4921ce59e912d19329929ce6da6eb0c7         \n",
       "4     12869222.0         0xface851a4921ce59e912d19329929ce6da6eb0c7         \n",
       "...          ...                                                ...         \n",
       "3001  12821363.0                                                NaN         \n",
       "3002  12800751.0                                                NaN         \n",
       "3003  12789222.0                                                NaN         \n",
       "3004  12783397.0                                                NaN         \n",
       "3005  12480772.0                                                NaN         \n",
       "\n",
       "     0XFACE851A4921CE59E912D19329929CE6DA6EB0C7_TRANSFER_to  \\\n",
       "0            0xface851a4921ce59e912d19329929ce6da6eb0c7       \n",
       "1            0xdda9a00ca75f7c67431320f80f43d5d3b07eceaa       \n",
       "2            0x4c9598d1cd7a373497ceee1ff7c21db885a6a9c1       \n",
       "3            0x6d170099ad489de854bf37107e5042f4fd1dc495       \n",
       "4            0xf549f08e0a1f57d2b4a39573a11c2e1d380a2c75       \n",
       "...                                                 ...       \n",
       "3001                                                NaN       \n",
       "3002                                                NaN       \n",
       "3003                                                NaN       \n",
       "3004                                                NaN       \n",
       "3005                                                NaN       \n",
       "\n",
       "      0XFACE851A4921CE59E912D19329929CE6DA6EB0C7_TRANSFER_value  \\\n",
       "0                                          2.602843e+11           \n",
       "1                                          4.313860e+11           \n",
       "2                                          5.201429e+12           \n",
       "3                                          3.842404e+10           \n",
       "4                                          3.609517e+12           \n",
       "...                                                 ...           \n",
       "3001                                                NaN           \n",
       "3002                                                NaN           \n",
       "3003                                                NaN           \n",
       "3004                                                NaN           \n",
       "3005                                                NaN           \n",
       "\n",
       "     0XFACE851A4921CE59E912D19329929CE6DA6EB0C7_REPAYBORROW_payer  \\\n",
       "0                                                   NaN             \n",
       "1                                                   NaN             \n",
       "2                                                   NaN             \n",
       "3                                                   NaN             \n",
       "4                                                   NaN             \n",
       "...                                                 ...             \n",
       "3001                                                NaN             \n",
       "3002                                                NaN             \n",
       "3003                                                NaN             \n",
       "3004                                                NaN             \n",
       "3005                                                NaN             \n",
       "\n",
       "     0XFACE851A4921CE59E912D19329929CE6DA6EB0C7_REPAYBORROW_borrower  \\\n",
       "0                                                   NaN                \n",
       "1                                                   NaN                \n",
       "2                                                   NaN                \n",
       "3                                                   NaN                \n",
       "4                                                   NaN                \n",
       "...                                                 ...                \n",
       "3001                                                NaN                \n",
       "3002                                                NaN                \n",
       "3003                                                NaN                \n",
       "3004                                                NaN                \n",
       "3005                                                NaN                \n",
       "\n",
       "     0XFACE851A4921CE59E912D19329929CE6DA6EB0C7_REPAYBORROW_repayAmount  \\\n",
       "0                                                   NaN                   \n",
       "1                                                   NaN                   \n",
       "2                                                   NaN                   \n",
       "3                                                   NaN                   \n",
       "4                                                   NaN                   \n",
       "...                                                 ...                   \n",
       "3001                                                NaN                   \n",
       "3002                                                NaN                   \n",
       "3003                                                NaN                   \n",
       "3004                                                NaN                   \n",
       "3005                                                NaN                   \n",
       "\n",
       "     0XFACE851A4921CE59E912D19329929CE6DA6EB0C7_REPAYBORROW_accountBorrows  \\\n",
       "0                                                   NaN                      \n",
       "1                                                   NaN                      \n",
       "2                                                   NaN                      \n",
       "3                                                   NaN                      \n",
       "4                                                   NaN                      \n",
       "...                                                 ...                      \n",
       "3001                                                NaN                      \n",
       "3002                                                NaN                      \n",
       "3003                                                NaN                      \n",
       "3004                                                NaN                      \n",
       "3005                                                NaN                      \n",
       "\n",
       "     0XFACE851A4921CE59E912D19329929CE6DA6EB0C7_REPAYBORROW_totalBorrows  \\\n",
       "0                                                   NaN                    \n",
       "1                                                   NaN                    \n",
       "2                                                   NaN                    \n",
       "3                                                   NaN                    \n",
       "4                                                   NaN                    \n",
       "...                                                 ...                    \n",
       "3001                                                NaN                    \n",
       "3002                                                NaN                    \n",
       "3003                                                NaN                    \n",
       "3004                                                NaN                    \n",
       "3005                                                NaN                    \n",
       "\n",
       "     0XFACE851A4921CE59E912D19329929CE6DA6EB0C7_REDEEM_from  ...  \\\n",
       "0            0x5253b44e0d69f1ddcad7bf10275faa0c4f950e3e      ...   \n",
       "1                                                   NaN      ...   \n",
       "2                                                   NaN      ...   \n",
       "3                                                   NaN      ...   \n",
       "4                                                   NaN      ...   \n",
       "...                                                 ...      ...   \n",
       "3001                                                NaN      ...   \n",
       "3002                                                NaN      ...   \n",
       "3003                                                NaN      ...   \n",
       "3004                                                NaN      ...   \n",
       "3005                                                NaN      ...   \n",
       "\n",
       "     0X12392F67BDF24FAE0AF363C24AC620A2F67DAD86_BORROW_totalBorrows  \\\n",
       "0                                                   NaN               \n",
       "1                                                   NaN               \n",
       "2                                                   NaN               \n",
       "3                                                   NaN               \n",
       "4                                                   NaN               \n",
       "...                                                 ...               \n",
       "3001                                                NaN               \n",
       "3002                                                NaN               \n",
       "3003                                                NaN               \n",
       "3004                                                NaN               \n",
       "3005                                                NaN               \n",
       "\n",
       "      0X12392F67BDF24FAE0AF363C24AC620A2F67DAD86_APPROVAL_owner  \\\n",
       "0                                                   NaN           \n",
       "1                                                   NaN           \n",
       "2                                                   NaN           \n",
       "3                                                   NaN           \n",
       "4                                                   NaN           \n",
       "...                                                 ...           \n",
       "3001         0xba2ef5189b762bd4c9e7f0b50fbbab65193935e8           \n",
       "3002         0x70cc41f83a42e33485c8bbccaaa00207426dbb39           \n",
       "3003         0x515c475400859e50f15b57adfa8503821fd794b9           \n",
       "3004         0x515c475400859e50f15b57adfa8503821fd794b9           \n",
       "3005         0xba2ef5189b762bd4c9e7f0b50fbbab65193935e8           \n",
       "\n",
       "      0X12392F67BDF24FAE0AF363C24AC620A2F67DAD86_APPROVAL_spender  \\\n",
       "0                                                   NaN             \n",
       "1                                                   NaN             \n",
       "2                                                   NaN             \n",
       "3                                                   NaN             \n",
       "4                                                   NaN             \n",
       "...                                                 ...             \n",
       "3001         0x4ead18d9165321bf25dc4b537827e74806141677             \n",
       "3002         0xb58bd351847cbe81a5fdede40ff7e6feac2935c7             \n",
       "3003         0xa889780055fb6b7c6efa59cba3fafd7e22a6a77b             \n",
       "3004         0xa889780055fb6b7c6efa59cba3fafd7e22a6a77b             \n",
       "3005         0xc36442b4a4522e871399cd717abdd847ab11fe88             \n",
       "\n",
       "      0X12392F67BDF24FAE0AF363C24AC620A2F67DAD86_APPROVAL_amount  \\\n",
       "0                                                   NaN            \n",
       "1                                                   NaN            \n",
       "2                                                   NaN            \n",
       "3                                                   NaN            \n",
       "4                                                   NaN            \n",
       "...                                                 ...            \n",
       "3001  1157920892373161954235709850086879078532699846...            \n",
       "3002                       1000000000000000000000000000            \n",
       "3003                                                  0            \n",
       "3004  1157920892373161954235709850086879078532699846...            \n",
       "3005  1157920892373161954235709850086879078532699846...            \n",
       "\n",
       "     0X12392F67BDF24FAE0AF363C24AC620A2F67DAD86_ACCRUEINTEREST_cashPrior  \\\n",
       "0                                                   NaN                    \n",
       "1                                                   NaN                    \n",
       "2                                                   NaN                    \n",
       "3                                                   NaN                    \n",
       "4                                                   NaN                    \n",
       "...                                                 ...                    \n",
       "3001                                                NaN                    \n",
       "3002                                                NaN                    \n",
       "3003                                                NaN                    \n",
       "3004                                                NaN                    \n",
       "3005                                                NaN                    \n",
       "\n",
       "     0X12392F67BDF24FAE0AF363C24AC620A2F67DAD86_ACCRUEINTEREST_interestAccumulated  \\\n",
       "0                                                   NaN                              \n",
       "1                                                   NaN                              \n",
       "2                                                   NaN                              \n",
       "3                                                   NaN                              \n",
       "4                                                   NaN                              \n",
       "...                                                 ...                              \n",
       "3001                                                NaN                              \n",
       "3002                                                NaN                              \n",
       "3003                                                NaN                              \n",
       "3004                                                NaN                              \n",
       "3005                                                NaN                              \n",
       "\n",
       "     0X12392F67BDF24FAE0AF363C24AC620A2F67DAD86_ACCRUEINTEREST_borrowIndex  \\\n",
       "0                                                   NaN                      \n",
       "1                                                   NaN                      \n",
       "2                                                   NaN                      \n",
       "3                                                   NaN                      \n",
       "4                                                   NaN                      \n",
       "...                                                 ...                      \n",
       "3001                                                NaN                      \n",
       "3002                                                NaN                      \n",
       "3003                                                NaN                      \n",
       "3004                                                NaN                      \n",
       "3005                                                NaN                      \n",
       "\n",
       "     0X12392F67BDF24FAE0AF363C24AC620A2F67DAD86_ACCRUEINTEREST_totalBorrows  \\\n",
       "0                                                   NaN                       \n",
       "1                                                   NaN                       \n",
       "2                                                   NaN                       \n",
       "3                                                   NaN                       \n",
       "4                                                   NaN                       \n",
       "...                                                 ...                       \n",
       "3001                                                NaN                       \n",
       "3002                                                NaN                       \n",
       "3003                                                NaN                       \n",
       "3004                                                NaN                       \n",
       "3005                                                NaN                       \n",
       "\n",
       "     timestamp_iso8601 timestamp_unixtime  \n",
       "0                  NaN       1.626891e+09  \n",
       "1                  NaN       1.626887e+09  \n",
       "2                  NaN       1.626883e+09  \n",
       "3                  NaN       1.626867e+09  \n",
       "4                  NaN       1.626863e+09  \n",
       "...                ...                ...  \n",
       "3001               NaN       1.626214e+09  \n",
       "3002               NaN       1.625935e+09  \n",
       "3003               NaN       1.625781e+09  \n",
       "3004               NaN       1.625702e+09  \n",
       "3005               NaN       1.621641e+09  \n",
       "\n",
       "[3006 rows x 85 columns]"
      ]
     },
     "execution_count": 39,
     "metadata": {},
     "output_type": "execute_result"
    }
   ],
   "source": [
    "indexList_timestamp_iso8601 = []\n",
    "indexList_timestamp_unixtime = []\n",
    "columnsToDrop = []\n",
    "\n",
    "for column in df.keys():\n",
    "    if '_timestamp_iso8601' in column:\n",
    "        df[column] = pd.to_datetime(df[column])\n",
    "        indexList_timestamp_iso8601.append(column)\n",
    "    if '_timestamp_unixtime' in column: indexList_timestamp_unixtime.append(column)\n",
    "    if \"_blockNumber\" in column: columnsToDrop.append(column)\n",
    "    if \"Unnamed:\" in column: columnsToDrop.append(column)\n",
    "df['timestamp_iso8601'] = df[indexList_timestamp_iso8601].max(axis=1)\n",
    "df['timestamp_unixtime'] = df[indexList_timestamp_unixtime].max(axis=1)\n",
    "\n",
    "df = df.drop(columns = indexList_timestamp_iso8601)\n",
    "df = df.drop(columns = indexList_timestamp_unixtime)\n",
    "df = df.drop(columns = columnsToDrop)\n",
    "df"
   ]
  },
  {
   "cell_type": "code",
   "execution_count": null,
   "metadata": {},
   "outputs": [],
   "source": [
    "chunk = pd.read_csv(path,low_memory=False,chunksize=1000000)"
   ]
  },
  {
   "cell_type": "code",
   "execution_count": null,
   "metadata": {},
   "outputs": [],
   "source": [
    "df = pd.concat(chunk)"
   ]
  },
  {
   "cell_type": "code",
   "execution_count": null,
   "metadata": {},
   "outputs": [],
   "source": [
    "#testDf = df.head(10000)\n",
    "testDf.to_csv('testDf.csv')"
   ]
  },
  {
   "cell_type": "code",
   "execution_count": null,
   "metadata": {},
   "outputs": [],
   "source": [
    "from classes import contractEvents_v1_0_0_0 as contractEvents # import class file\n",
    "contractEvents = contractEvents.contractEvents() \n",
    "contractEvents.reduceMergedLogs(df)"
   ]
  },
  {
   "cell_type": "code",
   "execution_count": null,
   "metadata": {},
   "outputs": [],
   "source": [
    "df"
   ]
  },
  {
   "cell_type": "code",
   "execution_count": null,
   "metadata": {
    "scrolled": true
   },
   "outputs": [],
   "source": [
    "_df = df\n",
    "from classes import utilities_v1_0_0_0 as utilities\n",
    "utilities = utilities.utilities()\n",
    "import numpy as np\n",
    "print('Optimizing dataframe...')\n",
    "columnsToDrop = []\n",
    "_df['timestamp_iso8601'] = [None] * len(_df)\n",
    "_df['timestamp_unixtime'] = [None] * len(_df)\n",
    "indexList_timestamp_iso8601 = utilities.filterColumns(_df.keys(), ['_timestamp_iso8601']) #receive indexes of timestamp_iso8601\n",
    "for row in range(0, len(_df)):\n",
    "    value = ''\n",
    "    for index in indexList_timestamp_iso8601:\n",
    "        column = _df.keys()[index]\n",
    "        columnsToDrop.append(column)\n",
    "        cell = str(_df[column][row])\n",
    "        if len(cell) > 0 and len(value) == 0: value = cell\n",
    "    _df.at[row, 'timestamp_iso8601'] = value\n",
    "\n",
    "indexList_timestamp_unixtime = utilities.filterColumns(_df.keys(), ['_timestamp_unixtime']) #receive indexes of timestamp_unixtime\n",
    "for row in range(0, len(_df)):\n",
    "    value = ''\n",
    "    for index in indexList_timestamp_unixtime:\n",
    "        column = _df.keys()[index]\n",
    "        columnsToDrop.append(column)\n",
    "        cell = str(_df[column][row])\n",
    "        if len(cell) > 0 and len(value) == 0: value = cell            \n",
    "    _df.at[row, 'timestamp_unixtime'] = value\n",
    "\n",
    "for column in _df.keys():\n",
    "    if \"_blockNumber\" in column: columnsToDrop.append(column)\n",
    "columnsToDrop = np.unique(columnsToDrop)  \n",
    "\n",
    "print('Dataframe optimized.')\n",
    "print('Saved {} % of space'.format((len(columnsToDrop) - 2) / len(_df.keys()) * 100))\n",
    "\n",
    "_df = _df.drop(columns = columnsToDrop)"
   ]
  },
  {
   "cell_type": "code",
   "execution_count": null,
   "metadata": {},
   "outputs": [],
   "source": [
    "_df"
   ]
  },
  {
   "cell_type": "code",
   "execution_count": null,
   "metadata": {},
   "outputs": [],
   "source": [
    "from classes import utilities_v1_0_0_0 as utilities\n",
    "utilities = utilities.utilities()"
   ]
  },
  {
   "cell_type": "code",
   "execution_count": null,
   "metadata": {},
   "outputs": [],
   "source": [
    "utilities = utilities.utilities()"
   ]
  },
  {
   "cell_type": "code",
   "execution_count": null,
   "metadata": {},
   "outputs": [],
   "source": [
    "#df.head().to_csv('test.csv')"
   ]
  },
  {
   "cell_type": "code",
   "execution_count": null,
   "metadata": {},
   "outputs": [],
   "source": [
    "df['0XCCF4429DB6322D5C611EE964527D42E5D685DD6A_TRANSFER_timestamp_iso8601'][1]"
   ]
  },
  {
   "cell_type": "code",
   "execution_count": null,
   "metadata": {},
   "outputs": [],
   "source": [
    "df['timestamp_iso8601'] = [None] * len(df)"
   ]
  },
  {
   "cell_type": "code",
   "execution_count": null,
   "metadata": {},
   "outputs": [],
   "source": [
    "df.at[1,'timestamp_iso8601'] = 10"
   ]
  },
  {
   "cell_type": "code",
   "execution_count": null,
   "metadata": {},
   "outputs": [],
   "source": [
    "df['timestamp_iso8601']"
   ]
  },
  {
   "cell_type": "code",
   "execution_count": null,
   "metadata": {},
   "outputs": [],
   "source": [
    "df[\"timestamp_iso8601\"].replace({None: \"x\"}, inplace=True)"
   ]
  },
  {
   "cell_type": "code",
   "execution_count": null,
   "metadata": {},
   "outputs": [],
   "source": []
  },
  {
   "cell_type": "code",
   "execution_count": null,
   "metadata": {},
   "outputs": [],
   "source": [
    "from classes import contractEvents_v1_0_0_0 as contractEvents # import class file\n",
    "contractEvents = contractEvents.contractEvents() "
   ]
  },
  {
   "cell_type": "code",
   "execution_count": null,
   "metadata": {},
   "outputs": [],
   "source": [
    "from classes import contractEvents_v1_0_0_0 as contractEvents # import class file\n",
    "contractEvents = contractEvents.contractEvents() \n",
    "contractEvents.reduceMergedLogs(df)"
   ]
  },
  {
   "cell_type": "code",
   "execution_count": null,
   "metadata": {},
   "outputs": [],
   "source": [
    "_arrayFilter = ['timestamp_iso8601']\n",
    "_keys = df.keys()\n",
    "indexList = []\n",
    "index = 0\n",
    "for key in _keys:\n",
    "    for filt in _arrayFilter:\n",
    "        if filt in key: indexList.append(index) \n",
    "    index = index + 1\n",
    "\n",
    "for index in indexList:\n",
    "    print(df.keys()[index])"
   ]
  },
  {
   "cell_type": "code",
   "execution_count": null,
   "metadata": {},
   "outputs": [],
   "source": []
  },
  {
   "cell_type": "code",
   "execution_count": null,
   "metadata": {},
   "outputs": [],
   "source": [
    "utilities.filterColumns(df.keys(), ['timestamp_iso8601'])"
   ]
  },
  {
   "cell_type": "code",
   "execution_count": null,
   "metadata": {},
   "outputs": [],
   "source": [
    "len(df)"
   ]
  },
  {
   "cell_type": "code",
   "execution_count": null,
   "metadata": {},
   "outputs": [],
   "source": [
    "for key in df.keys(): print(key)\n",
    "    "
   ]
  },
  {
   "cell_type": "code",
   "execution_count": null,
   "metadata": {},
   "outputs": [],
   "source": [
    "word = 'A5DD6A_NEWCOMPTROLLER_timestamp_unixtime'"
   ]
  },
  {
   "cell_type": "code",
   "execution_count": null,
   "metadata": {},
   "outputs": [],
   "source": [
    "for i in k:\n",
    "    "
   ]
  },
  {
   "cell_type": "code",
   "execution_count": null,
   "metadata": {},
   "outputs": [],
   "source": []
  },
  {
   "cell_type": "code",
   "execution_count": null,
   "metadata": {},
   "outputs": [],
   "source": [
    "k"
   ]
  },
  {
   "cell_type": "code",
   "execution_count": null,
   "metadata": {},
   "outputs": [],
   "source": [
    "if word in k[len(word):]: print('test')"
   ]
  },
  {
   "cell_type": "code",
   "execution_count": null,
   "metadata": {},
   "outputs": [],
   "source": [
    "\n",
    "\n",
    "limit = 90000\n",
    "import pandas as pd\n",
    "\n",
    "addressListRaw = pd.read_csv('data/smartContract.csv')\n",
    "\n",
    "networks = addressListRaw['Network'].unique()\n",
    "\n",
    "addressList = {}\n",
    "for network in networks:\n",
    "    addressList[network] = []\n",
    "    \n",
    "for indexAddress in range(0, len(addressListRaw)):\n",
    "    for network in networks:\n",
    "        if addressListRaw['Network'][indexAddress] == network:\n",
    "            addressList[network].append(addressListRaw['Address'][indexAddress])\n",
    "            \n",
    "bitQueryAllowedNetworks = ['ethereum', 'bsc']\n",
    "#functionCallAllowedNetwoks = []\n",
    "for network in networks:\n",
    "    if network in bitQueryAllowedNetworks: contractEvents.getLogsEventsBitQuery(addressList[network], limit, network)\n",
    "    #if network in XXXX:functionCall "
   ]
  },
  {
   "cell_type": "code",
   "execution_count": null,
   "metadata": {},
   "outputs": [],
   "source": [
    "addressList = ['0xcf6bb5389c92bdda8a3747ddb454cb7a64626c63']"
   ]
  },
  {
   "cell_type": "code",
   "execution_count": null,
   "metadata": {},
   "outputs": [],
   "source": [
    "contractEvents.getLogsEventsBitQuery(addressList, 100, 'bsc')\n",
    "#https://api.bscscan.com/api?module=contract&action=getabi&address=0x0000000000000000000000000000000000001004&apikey=YourApiKeyToken"
   ]
  },
  {
   "cell_type": "code",
   "execution_count": null,
   "metadata": {},
   "outputs": [],
   "source": [
    "contractEvents.mergeAllLogsData()"
   ]
  },
  {
   "cell_type": "code",
   "execution_count": null,
   "metadata": {},
   "outputs": [],
   "source": []
  },
  {
   "cell_type": "code",
   "execution_count": null,
   "metadata": {},
   "outputs": [],
   "source": [
    "addressList"
   ]
  },
  {
   "cell_type": "code",
   "execution_count": null,
   "metadata": {},
   "outputs": [],
   "source": [
    "from classes import bitQuery_v1_0_0_0 as bitQuery\n",
    "query = bitQuery.query()\n",
    "bq = bitQuery.bitQuery()\n",
    "bitQuery_apiKey = 'BQYvYOBEZWH2ymkvKTC3tbDRgprmFeOY'"
   ]
  },
  {
   "cell_type": "code",
   "execution_count": null,
   "metadata": {},
   "outputs": [],
   "source": [
    "limit = 200"
   ]
  },
  {
   "cell_type": "code",
   "execution_count": null,
   "metadata": {},
   "outputs": [],
   "source": [
    "q = query.getTransactionsFromAddress('ethereum', '0x7fc66500c84a76ad7e9c93437bfc5ac33e2ddae9', 1000)\n",
    "print(q)"
   ]
  },
  {
   "cell_type": "code",
   "execution_count": null,
   "metadata": {},
   "outputs": [],
   "source": [
    "result = bq.directQuery(q, bitQuery_apiKey, True)"
   ]
  },
  {
   "cell_type": "code",
   "execution_count": null,
   "metadata": {},
   "outputs": [],
   "source": [
    "result['data']['ethereum']['smartContractCalls'][0]"
   ]
  },
  {
   "cell_type": "code",
   "execution_count": null,
   "metadata": {},
   "outputs": [],
   "source": [
    "from datetime import datetime\n",
    "import pandas as pd\n",
    "\n",
    "logsFound = 0\n",
    "dt = datetime.now().strftime(\"%Y%m%d_%H%M%S\")\n",
    "\n",
    "for address in addressList:\n",
    "    (smartContract, ABI) = blockchain.getContract(address, ETHERSCAN_API_KEY, CONNECTION_STRING)\n",
    "    if(smartContract != None): \n",
    "        blockchain.saveContractData(smartContract)\n",
    "        for event in contractEvents.getEventsFromSmartContract(smartContract):\n",
    "            if event != 'abi':\n",
    "                q = query.getEvents(address, event, limit)\n",
    "                print('{} - {} downloading events log...'.format(address, event))\n",
    "                result = bq.runQuery(q, bitQuery_apiKey)\n",
    "                # Data transformation\n",
    "                listResult = result['data']['ethereum']['smartContractEvents']\n",
    "                isFirst = True\n",
    "                df = []\n",
    "                for indexList in range(0, len(listResult)):\n",
    "                    blockNumber = listResult[indexList]['block']['height']\n",
    "                    timestamp_iso8601 = listResult[indexList]['block']['timestamp']['iso8601']\n",
    "                    timestamp_unixtime = listResult[indexList]['block']['timestamp']['unixtime']\n",
    "                    arguments = listResult[indexList]['arguments']\n",
    "                    tmp_df = pd.DataFrame()\n",
    "                    tmp_df['blockNumber'] = [blockNumber]\n",
    "                    tmp_df['timestamp_iso8601'] = [timestamp_iso8601]\n",
    "                    tmp_df['timestamp_unixtime'] = [timestamp_unixtime]\n",
    "\n",
    "                    for indexArgs in range(0, len(arguments)):\n",
    "                        tmp_df[arguments[indexArgs]['argument']] = [arguments[indexArgs]['value']]\n",
    "\n",
    "                    if(isFirst):\n",
    "                        df = tmp_df\n",
    "                        isFirst = False\n",
    "                    else:\n",
    "                        df = pd.concat([df, tmp_df])\n",
    "                        \n",
    "                if len(df) > 0:\n",
    "                    print('{} - {} correctly saved'.format(address, event))\n",
    "                    df.to_csv('data/contracts/{}/event_{}_{}.csv'.format(address.lower(),event, dt))\n",
    "                    logsFound = logsFound + len(df)\n",
    "                else:\n",
    "                    print('{} - {} no logs found'.format(address, event))"
   ]
  },
  {
   "cell_type": "code",
   "execution_count": null,
   "metadata": {},
   "outputs": [],
   "source": [
    "df"
   ]
  },
  {
   "cell_type": "code",
   "execution_count": null,
   "metadata": {},
   "outputs": [],
   "source": [
    "blockchain.mergeAllLogsData()"
   ]
  },
  {
   "cell_type": "code",
   "execution_count": null,
   "metadata": {},
   "outputs": [],
   "source": [
    "file = 'data/contracts/smartContractsLogsGrouped_20210716_102718.csv'\n",
    "df = pd.read_csv(file)\n",
    "timestamp_iso8601_key = 'timestamp_iso8601'\n",
    "timestamp_unixtime_key = 'timestamp_unixtime'\n",
    "timestamp_iso8601_index = []\n",
    "timestamp_unixtime_index = []\n",
    "indexColumn = 0\n",
    "for key in df.keys():\n",
    "    if timestamp_iso8601_key in key:\n",
    "        timestamp_iso8601_index.append(indexColumn)\n",
    "    if timestamp_unixtime_key in key:\n",
    "        timestamp_unixtime_index.append(indexColumn)\n",
    "    indexColumn = indexColumn + 1\n",
    "\n",
    "for index in range(0, len(timestamp_iso8601_index)):\n",
    "    print(df.keys()[timestamp_iso8601_index[index]])"
   ]
  },
  {
   "cell_type": "code",
   "execution_count": null,
   "metadata": {},
   "outputs": [],
   "source": [
    "contractFunctions.listenFunction(smartContract, 'admin', 5)"
   ]
  },
  {
   "cell_type": "code",
   "execution_count": null,
   "metadata": {},
   "outputs": [],
   "source": [
    "blockchain.mergeAllLogsData()"
   ]
  },
  {
   "cell_type": "code",
   "execution_count": null,
   "metadata": {},
   "outputs": [],
   "source": [
    "eventList = contractEvents.getEventsFromSmartContract(smartContract)"
   ]
  },
  {
   "cell_type": "code",
   "execution_count": null,
   "metadata": {},
   "outputs": [],
   "source": [
    "from classes import bitQuery_v1_0_0_0 as bitQuery\n",
    "query = bitQuery.query()\n",
    "bq = bitQuery.bitQuery()\n",
    "bitQuery_apiKey = 'BQYvYOBEZWH2ymkvKTC3tbDRgprmFeOY'"
   ]
  },
  {
   "cell_type": "code",
   "execution_count": null,
   "metadata": {},
   "outputs": [],
   "source": [
    "q = query.getEvents('0x70e36f6bf80a52b3b46b3af8e106cc0ed743e8e4', 'AccrueInterest', 100)"
   ]
  },
  {
   "cell_type": "code",
   "execution_count": null,
   "metadata": {},
   "outputs": [],
   "source": [
    "result = bq.directQuery(q, bitQuery_apiKey)"
   ]
  },
  {
   "cell_type": "raw",
   "metadata": {},
   "source": [
    "result = bq.directQuery(q, bitQuery_apiKey)"
   ]
  },
  {
   "cell_type": "code",
   "execution_count": null,
   "metadata": {},
   "outputs": [],
   "source": [
    "result.to_csv('event_{}_{}.csv'.format(event, dt))"
   ]
  },
  {
   "cell_type": "code",
   "execution_count": null,
   "metadata": {},
   "outputs": [],
   "source": [
    "len(result)"
   ]
  },
  {
   "cell_type": "code",
   "execution_count": null,
   "metadata": {},
   "outputs": [],
   "source": [
    "listResult = result['data']['ethereum']['smartContractEvents']\n"
   ]
  },
  {
   "cell_type": "code",
   "execution_count": null,
   "metadata": {},
   "outputs": [],
   "source": [
    "# Plot data for the interval 72-100 of the total of log dataframe in this example\n",
    "logFile = 'data/contracts/smartContractsLogsGrouped_20210712_170625.csv'\n",
    "indexColumns = [1, 13, 29, 30, 32, 47, 69, 90]\n",
    "import pandas as pd\n",
    "logFileDf = pd.read_csv(logFile)\n",
    "logFileDf = logFileDf[int(len(logFileDf) * (72 / 100)):]\n",
    "index = 0\n",
    "for indexKey in logFileDf.keys():\n",
    "    print('{} - {}'.format(index, indexKey))\n",
    "    index = index + 1\n",
    "blockchain.plotLogs(indexColumns, logFileDf, True)"
   ]
  },
  {
   "cell_type": "code",
   "execution_count": null,
   "metadata": {},
   "outputs": [],
   "source": [
    "import time\n",
    "\n",
    "_functionName = 'test2'\n",
    "import os.path\n",
    "listenerID = _functionName\n",
    "openListener = 'classes/listeners/open_{}.listener'.format(listenerID) # only for the first call of the function\n",
    "openState = 0\n",
    "\n",
    "f = open(openListener,'w')\n",
    "f.close()\n",
    "isLoop = True\n",
    "\n",
    "while isLoop:\n",
    "    try:\n",
    "        f = open(openListener,'r')\n",
    "        f.close()\n",
    "        openState = 1\n",
    "    except:\n",
    "        isLoop = False\n",
    "        print('Listener Stopped')\n",
    "        openState = 2\n",
    "    finally:\n",
    "        if openState == 1: #the file was removed\n",
    "            print('A') #do something\n",
    "            time.sleep(3) #3 seconds"
   ]
  },
  {
   "cell_type": "code",
   "execution_count": null,
   "metadata": {},
   "outputs": [],
   "source": [
    "smartContract.functions['admin']().call()"
   ]
  },
  {
   "cell_type": "code",
   "execution_count": null,
   "metadata": {},
   "outputs": [],
   "source": [
    "smartContract.functions['balanceOf']('0xBC82221e131c082336cf698F0cA3EBd18aFd4ce7').call()"
   ]
  },
  {
   "cell_type": "code",
   "execution_count": null,
   "metadata": {},
   "outputs": [],
   "source": [
    "from classes import settings as settings"
   ]
  },
  {
   "cell_type": "code",
   "execution_count": null,
   "metadata": {},
   "outputs": [],
   "source": [
    "settings = settings.settings()"
   ]
  },
  {
   "cell_type": "code",
   "execution_count": null,
   "metadata": {},
   "outputs": [],
   "source": [
    "settings.getFrameworkInfo()['Metadata']['version']"
   ]
  },
  {
   "cell_type": "code",
   "execution_count": null,
   "metadata": {},
   "outputs": [],
   "source": [
    "from classes import listeners_v1_0_0_0 as listeners\n",
    "listeners = listeners.listeners()\n",
    "listeners.newListener('ID', ['test2', 'test3'], [2], 5)"
   ]
  },
  {
   "cell_type": "code",
   "execution_count": null,
   "metadata": {},
   "outputs": [],
   "source": [
    "import os\n",
    "os.path.isfile('classes/settings.py')"
   ]
  },
  {
   "cell_type": "code",
   "execution_count": null,
   "metadata": {},
   "outputs": [],
   "source": []
  },
  {
   "cell_type": "code",
   "execution_count": null,
   "metadata": {},
   "outputs": [],
   "source": [
    " "
   ]
  }
 ],
 "metadata": {
  "kernelspec": {
   "display_name": "Python 3",
   "language": "python",
   "name": "python3"
  },
  "language_info": {
   "codemirror_mode": {
    "name": "ipython",
    "version": 3
   },
   "file_extension": ".py",
   "mimetype": "text/x-python",
   "name": "python",
   "nbconvert_exporter": "python",
   "pygments_lexer": "ipython3",
   "version": "3.8.5"
  }
 },
 "nbformat": 4,
 "nbformat_minor": 4
}
