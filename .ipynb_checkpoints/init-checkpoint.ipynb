{
 "cells": [
  {
   "cell_type": "code",
   "execution_count": 1,
   "metadata": {},
   "outputs": [],
   "source": [
    "# Master file"
   ]
  },
  {
   "cell_type": "code",
   "execution_count": 15,
   "metadata": {},
   "outputs": [
    {
     "ename": "SyntaxError",
     "evalue": "invalid syntax (<ipython-input-15-a621a2e3ff80>, line 3)",
     "output_type": "error",
     "traceback": [
      "\u001b[0;36m  File \u001b[0;32m\"<ipython-input-15-a621a2e3ff80>\"\u001b[0;36m, line \u001b[0;32m3\u001b[0m\n\u001b[0;31m    from os import path, listdir, *\u001b[0m\n\u001b[0m                                  ^\u001b[0m\n\u001b[0;31mSyntaxError\u001b[0m\u001b[0;31m:\u001b[0m invalid syntax\n"
     ]
    }
   ],
   "source": []
  },
  {
   "cell_type": "code",
   "execution_count": 6,
   "metadata": {},
   "outputs": [
    {
     "data": {
      "text/plain": [
       "['config.ini']"
      ]
     },
     "execution_count": 6,
     "metadata": {},
     "output_type": "execute_result"
    }
   ],
   "source": []
  },
  {
   "cell_type": "code",
   "execution_count": null,
   "metadata": {},
   "outputs": [],
   "source": []
  },
  {
   "cell_type": "code",
   "execution_count": 7,
   "metadata": {},
   "outputs": [
    {
     "name": "stdout",
     "output_type": "stream",
     "text": [
      "classes\n",
      "data\n",
      "dictionaries\n",
      "export\n",
      "models\n",
      "query\n",
      "test\n",
      "users\n"
     ]
    }
   ],
   "source": [
    "\n",
    "\n",
    "    print(folder)"
   ]
  },
  {
   "cell_type": "code",
   "execution_count": 18,
   "metadata": {},
   "outputs": [],
   "source": [
    "def init(installationPathFolder):\n",
    "    from os import path, listdir\n",
    "    import os\n",
    "    import configparser\n",
    "    import json\n",
    "    if(path.exists('config.ini') == True):\n",
    "        # Reading Configs\n",
    "        config = configparser.ConfigParser()\n",
    "        config.read(\"config.ini\")\n",
    "        if(path.exists('{0}'.format(installationPathFolder)) == False):\n",
    "            os.mkdir('{0}'.format(installationPathFolder))    \n",
    "        for folder in config['AIDeFi']:\n",
    "            if(path.exists('{0}/{1}'.format(installationPathFolder, folder)) == False):\n",
    "                os.mkdir('{0}/{1}'.format(installationPathFolder, folder))    "
   ]
  }
 ],
 "metadata": {
  "kernelspec": {
   "display_name": "Python 3",
   "language": "python",
   "name": "python3"
  },
  "language_info": {
   "codemirror_mode": {
    "name": "ipython",
    "version": 3
   },
   "file_extension": ".py",
   "mimetype": "text/x-python",
   "name": "python",
   "nbconvert_exporter": "python",
   "pygments_lexer": "ipython3",
   "version": "3.8.5"
  }
 },
 "nbformat": 4,
 "nbformat_minor": 4
}
