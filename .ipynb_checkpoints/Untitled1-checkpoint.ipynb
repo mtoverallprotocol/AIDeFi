{
 "cells": [
  {
   "cell_type": "code",
   "execution_count": 1,
   "metadata": {},
   "outputs": [],
   "source": [
    "import requests\n",
    "import pandas as pd\n",
    "from datetime import datetime\n",
    "import os"
   ]
  },
  {
   "cell_type": "code",
   "execution_count": 2,
   "metadata": {},
   "outputs": [],
   "source": [
    "# Import all the necessary libraries used inside the system\n",
    "from classes import ethData, models "
   ]
  },
  {
   "cell_type": "code",
   "execution_count": 3,
   "metadata": {},
   "outputs": [],
   "source": [
    "ethData = ethData.ethData()"
   ]
  },
  {
   "cell_type": "code",
   "execution_count": 4,
   "metadata": {},
   "outputs": [],
   "source": [
    "UNISWAP_CONTRACT_ADDRESS = '0x7a250d5630B4cF539739dF2C5dAcb4c659F2488D' # = Uniswap v2 : Router 2\n",
    "ETHER_WRAPPED_CONTRACT_ADDRESS = '0xC02aaA39b223FE8D0A0e5C4F27eAD9083C756Cc2' # Internal Tx on Uniswap\n",
    "ONE_INCH_CONTRACT_ADDRESS = '0x111111111117dC0aa78b770fA6A738034120C302'\n",
    "BALANCER_CONTRACT_ADDRESS = '0xba100000625a3754423978a60c9317c58a424e3D'\n",
    "AIRSWAP_CONTRACT_ADDRESS = '0x27054b13b1B798B345b591a4d22e6562d47eA75a'\n",
    "BINANCE_CONTRACT_ADDRESS = '0x3f5CE5FBFe3E9af3971dD833D26bA9b5C936f0bE'"
   ]
  },
  {
   "cell_type": "code",
   "execution_count": 5,
   "metadata": {},
   "outputs": [],
   "source": [
    "ETHERSCAN_API_KEY = 'EWYSGQ5PEK84PRCNSCKHHZWJIWWKYYABCE'"
   ]
  },
  {
   "cell_type": "code",
   "execution_count": 6,
   "metadata": {},
   "outputs": [],
   "source": [
    "ADDRESS_LIST = [UNISWAP_CONTRACT_ADDRESS, ETHER_WRAPPED_CONTRACT_ADDRESS, ONE_INCH_CONTRACT_ADDRESS, BALANCER_CONTRACT_ADDRESS, AIRSWAP_CONTRACT_ADDRESS, BINANCE_CONTRACT_ADDRESS]"
   ]
  },
  {
   "cell_type": "code",
   "execution_count": null,
   "metadata": {},
   "outputs": [
    {
     "name": "stdout",
     "output_type": "stream",
     "text": [
      "Index Block Interval n. 0 - Imported 16 items - DateTime: 03/05/2021 23:48:13\n",
      "Index Block Interval n. 1 - Imported 2021 items - DateTime: 03/05/2021 23:48:16\n",
      "Index Block Interval n. 2 - Imported 2863 items - DateTime: 03/05/2021 23:48:20\n",
      "Index Block Interval n. 3 - Imported 2900 items - DateTime: 03/05/2021 23:48:23\n",
      "Index Block Interval n. 4 - Imported 2917 items - DateTime: 03/05/2021 23:48:27\n",
      "Index Block Interval n. 5 - Imported 2526 items - DateTime: 03/05/2021 23:48:30\n",
      "Index Block Interval n. 6 - Imported 2733 items - DateTime: 03/05/2021 23:48:33\n",
      "Index Block Interval n. 7 - Imported 2466 items - DateTime: 03/05/2021 23:48:36\n",
      "Index Block Interval n. 8 - Imported 2344 items - DateTime: 03/05/2021 23:48:38\n",
      "Index Block Interval n. 9 - Imported 2406 items - DateTime: 03/05/2021 23:48:41\n",
      "Index Block Interval n. 10 - Imported 2801 items - DateTime: 03/05/2021 23:48:44\n",
      "Index Block Interval n. 11 - Imported 2347 items - DateTime: 03/05/2021 23:48:47\n",
      "Index Block Interval n. 12 - Imported 2198 items - DateTime: 03/05/2021 23:48:49\n",
      "Index Block Interval n. 13 - Imported 2258 items - DateTime: 03/05/2021 23:48:52\n",
      "Index Block Interval n. 14 - Imported 1999 items - DateTime: 03/05/2021 23:48:54\n",
      "Index Block Interval n. 15 - Imported 2194 items - DateTime: 03/05/2021 23:48:57\n",
      "Index Block Interval n. 16 - Imported 1380 items - DateTime: 03/05/2021 23:48:59\n",
      "Index Block Interval n. 17 - Imported 1839 items - DateTime: 03/05/2021 23:49:01\n",
      "Index Block Interval n. 18 - Imported 1937 items - DateTime: 03/05/2021 23:49:04\n",
      "Index Block Interval n. 19 - Imported 1990 items - DateTime: 03/05/2021 23:49:07\n",
      "Index Block Interval n. 20 - Imported 1961 items - DateTime: 03/05/2021 23:49:10\n",
      "Index Block Interval n. 21 - Imported 1809 items - DateTime: 03/05/2021 23:49:13\n",
      "Index Block Interval n. 22 - Imported 2169 items - DateTime: 03/05/2021 23:49:15\n",
      "Index Block Interval n. 23 - Imported 2515 items - DateTime: 03/05/2021 23:49:18\n",
      "Index Block Interval n. 24 - Imported 2302 items - DateTime: 03/05/2021 23:49:22\n",
      "Index Block Interval n. 25 - Imported 2447 items - DateTime: 03/05/2021 23:49:25\n",
      "Index Block Interval n. 26 - Imported 2351 items - DateTime: 03/05/2021 23:49:30\n",
      "Index Block Interval n. 27 - Imported 2443 items - DateTime: 03/05/2021 23:49:33\n",
      "Index Block Interval n. 28 - Imported 2894 items - DateTime: 03/05/2021 23:49:36\n",
      "Index Block Interval n. 29 - Imported 2521 items - DateTime: 03/05/2021 23:49:39\n",
      "Index Block Interval n. 30 - Imported 2308 items - DateTime: 03/05/2021 23:49:42\n",
      "Index Block Interval n. 31 - Imported 2400 items - DateTime: 03/05/2021 23:49:45\n",
      "Index Block Interval n. 32 - Imported 2379 items - DateTime: 03/05/2021 23:49:48\n",
      "Index Block Interval n. 33 - Imported 2367 items - DateTime: 03/05/2021 23:49:50\n",
      "Index Block Interval n. 34 - Imported 2523 items - DateTime: 03/05/2021 23:49:53\n",
      "Index Block Interval n. 35 - Imported 2670 items - DateTime: 03/05/2021 23:49:57\n",
      "Index Block Interval n. 36 - Imported 2646 items - DateTime: 03/05/2021 23:50:00\n",
      "Index Block Interval n. 37 - Imported 2358 items - DateTime: 03/05/2021 23:50:03\n"
     ]
    }
   ],
   "source": [
    "for address in ADDRESS_LIST:\n",
    "    ethData.importTransactionListFromAddress(ETHERSCAN_API_KEY, address, 100, 0, 5000, address)"
   ]
  },
  {
   "cell_type": "code",
   "execution_count": null,
   "metadata": {},
   "outputs": [],
   "source": []
  },
  {
   "cell_type": "code",
   "execution_count": null,
   "metadata": {},
   "outputs": [],
   "source": []
  }
 ],
 "metadata": {
  "kernelspec": {
   "display_name": "Python 3",
   "language": "python",
   "name": "python3"
  },
  "language_info": {
   "codemirror_mode": {
    "name": "ipython",
    "version": 3
   },
   "file_extension": ".py",
   "mimetype": "text/x-python",
   "name": "python",
   "nbconvert_exporter": "python",
   "pygments_lexer": "ipython3",
   "version": "3.8.5"
  }
 },
 "nbformat": 4,
 "nbformat_minor": 4
}
