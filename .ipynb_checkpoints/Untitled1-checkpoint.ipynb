{
 "cells": [
  {
   "cell_type": "code",
   "execution_count": null,
   "metadata": {},
   "outputs": [],
   "source": [
    "import requests\n",
    "import pandas as pd\n",
    "from datetime import datetime\n",
    "import os"
   ]
  },
  {
   "cell_type": "code",
   "execution_count": null,
   "metadata": {},
   "outputs": [],
   "source": [
    "# Import all the necessary libraries used inside the system\n",
    "from classes import ethData, models "
   ]
  },
  {
   "cell_type": "code",
   "execution_count": null,
   "metadata": {},
   "outputs": [],
   "source": [
    "ethData = ethData.ethData()"
   ]
  },
  {
   "cell_type": "code",
   "execution_count": null,
   "metadata": {},
   "outputs": [],
   "source": [
    "UNISWAP_CONTRACT_ADDRESS = '0x7a250d5630B4cF539739dF2C5dAcb4c659F2488D' # = Uniswap v2 : Router 2\n",
    "ETHER_WRAPPED_CONTRACT_ADDRESS = '0xC02aaA39b223FE8D0A0e5C4F27eAD9083C756Cc2' # Internal Tx on Uniswap\n",
    "ONE_INCH_CONTRACT_ADDRESS = '0x111111111117dC0aa78b770fA6A738034120C302'\n",
    "BALANCER_CONTRACT_ADDRESS = '0xba100000625a3754423978a60c9317c58a424e3D'\n",
    "AIRSWAP_CONTRACT_ADDRESS = '0x27054b13b1B798B345b591a4d22e6562d47eA75a'\n",
    "BINANCE_CONTRACT_ADDRESS = '0x3f5CE5FBFe3E9af3971dD833D26bA9b5C936f0bE'"
   ]
  },
  {
   "cell_type": "code",
   "execution_count": null,
   "metadata": {},
   "outputs": [],
   "source": [
    "ETHERSCAN_API_KEY = 'EWYSGQ5PEK84PRCNSCKHHZWJIWWKYYABCE'"
   ]
  },
  {
   "cell_type": "code",
   "execution_count": null,
   "metadata": {},
   "outputs": [],
   "source": [
    "ADDRESS_LIST = [UNISWAP_CONTRACT_ADDRESS, ETHER_WRAPPED_CONTRACT_ADDRESS, ONE_INCH_CONTRACT_ADDRESS, BALANCER_CONTRACT_ADDRESS, AIRSWAP_CONTRACT_ADDRESS, BINANCE_CONTRACT_ADDRESS]"
   ]
  },
  {
   "cell_type": "code",
   "execution_count": null,
   "metadata": {},
   "outputs": [],
   "source": [
    "for address in ADDRESS_LIST:\n",
    "    ethData.importTransactionListFromAddress(ETHERSCAN_API_KEY, address, 100, 0, 2500, address)"
   ]
  },
  {
   "cell_type": "code",
   "execution_count": null,
   "metadata": {},
   "outputs": [],
   "source": []
  },
  {
   "cell_type": "code",
   "execution_count": null,
   "metadata": {},
   "outputs": [],
   "source": []
  }
 ],
 "metadata": {
  "kernelspec": {
   "display_name": "Python 3",
   "language": "python",
   "name": "python3"
  },
  "language_info": {
   "codemirror_mode": {
    "name": "ipython",
    "version": 3
   },
   "file_extension": ".py",
   "mimetype": "text/x-python",
   "name": "python",
   "nbconvert_exporter": "python",
   "pygments_lexer": "ipython3",
   "version": "3.8.5"
  }
 },
 "nbformat": 4,
 "nbformat_minor": 4
}
