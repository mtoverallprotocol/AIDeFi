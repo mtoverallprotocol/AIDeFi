{
 "cells": [
  {
   "cell_type": "code",
   "execution_count": null,
   "metadata": {},
   "outputs": [],
   "source": [
    "import unittest"
   ]
  },
  {
   "cell_type": "code",
   "execution_count": null,
   "metadata": {},
   "outputs": [],
   "source": [
    "# For customers\n",
    "ETHERSCAN_API_KEY = 'YOUR_OWN_KEY' \n",
    "BSCSCAN_API_KEY = 'YOUR_OWN_KEY'\n",
    "CONNECTION_STRING = 'https://mainnet.infura.io/v3/YOUR_OWN_KEY'"
   ]
  },
  {
   "cell_type": "code",
   "execution_count": null,
   "metadata": {},
   "outputs": [],
   "source": [
    "# Only for test\n",
    "ETHERSCAN_API_KEY = 'EWYSGQ5PEK84PRCNSCKHHZWJIWWKYYABCE' \n",
    "BSCSCAN_API_KEY = 'I6ZZ57GWAS39M85QC4AJFC43Y5DUA8IU8I'\n",
    "#CONNECTION_STRING = 'https://mainnet.infura.io/v3/b8932e6edfa1498ab41ce07e5686c2b4'\n",
    "CONNECTION_STRING = 'https://mainnet.infura.io/v3/40816bb42ce34f808b4afe219e9d41cb'\n",
    "TESTADDRESS = '0x70e36f6bf80a52b3b46b3af8e106cc0ed743e8e4' \n",
    "_contractAddress = TESTADDRESS\n",
    "_apiKey = ETHERSCAN_API_KEY\n",
    "_connectionString = CONNECTION_STRING"
   ]
  },
  {
   "cell_type": "code",
   "execution_count": null,
   "metadata": {},
   "outputs": [],
   "source": [
    "# Test web3 connection\n",
    "from classes import blockchain_v1_0_0_0 as blockchain\n",
    "blockchain = blockchain.blockchain()\n",
    "blockchain.blockchainConnection"
   ]
  },
  {
   "cell_type": "code",
   "execution_count": null,
   "metadata": {},
   "outputs": [],
   "source": [
    "blockchain.inizializeSmartContracts(ETHERSCAN_API_KEY, CONNECTION_STRING)"
   ]
  },
  {
   "cell_type": "code",
   "execution_count": null,
   "metadata": {},
   "outputs": [],
   "source": []
  },
  {
   "cell_type": "code",
   "execution_count": null,
   "metadata": {},
   "outputs": [],
   "source": [
    "blockchain.downloadContractLogsContent(_contractAddress, _apiKey, _connectionString)"
   ]
  },
  {
   "cell_type": "code",
   "execution_count": null,
   "metadata": {},
   "outputs": [],
   "source": [
    "from classes import bitQuery_v1_0_0_0 as bitQuery\n",
    "import json\n",
    "bitQuery = bitQuery.bitQuery()"
   ]
  },
  {
   "cell_type": "code",
   "execution_count": null,
   "metadata": {},
   "outputs": [],
   "source": [
    "bitQuery.getLogs(apiKey)"
   ]
  },
  {
   "cell_type": "code",
   "execution_count": null,
   "metadata": {},
   "outputs": [],
   "source": [
    "util = util.utilities()"
   ]
  },
  {
   "cell_type": "code",
   "execution_count": null,
   "metadata": {},
   "outputs": [],
   "source": [
    "info = util.getFrameworkInfo()"
   ]
  },
  {
   "cell_type": "code",
   "execution_count": null,
   "metadata": {},
   "outputs": [],
   "source": [
    "apiKey = 'BQYvYOBEZWH2ymkvKTC3tbDRgprmFeOY'"
   ]
  },
  {
   "cell_type": "code",
   "execution_count": null,
   "metadata": {},
   "outputs": [],
   "source": [
    "info['Versioning']['version']"
   ]
  },
  {
   "cell_type": "code",
   "execution_count": null,
   "metadata": {},
   "outputs": [],
   "source": [
    "import pathlib\n",
    "from os import path, listdir\n",
    "import os\n",
    "import configparser\n",
    "import json\n",
    "\n",
    "\n",
    "# Reading Configs\n",
    "config = configparser.ConfigParser()\n",
    "print(\"{0}/config.ini\".format(pathlib.Path(__file__).parent.parentòknrfabsolute()))\n",
    "#config.read(\"{0}/config.ini\".format(pathlib.Path(__file__).parent.absolute()))"
   ]
  },
  {
   "cell_type": "code",
   "execution_count": null,
   "metadata": {},
   "outputs": [],
   "source": [
    "exec(compile(open('classes/libraries_v1_0_0_0.py').read()))"
   ]
  },
  {
   "cell_type": "code",
   "execution_count": null,
   "metadata": {},
   "outputs": [],
   "source": [
    "from past.builtins import execfile\n",
    "\n",
    "execfile('classes/libraries_v1_0_0_0.py')"
   ]
  },
  {
   "cell_type": "code",
   "execution_count": null,
   "metadata": {},
   "outputs": [],
   "source": [
    "pd.DataFrame()"
   ]
  },
  {
   "cell_type": "code",
   "execution_count": null,
   "metadata": {},
   "outputs": [],
   "source": [
    "blockchain = lib.blockchain()"
   ]
  },
  {
   "cell_type": "code",
   "execution_count": null,
   "metadata": {},
   "outputs": [],
   "source": [
    "from graphene import ObjectType, String, Schema\n",
    "\n",
    "class Query(ObjectType):\n",
    "    # this defines a Field `hello` in our Schema with a single Argument `name`\n",
    "    # note: DEFINE THE DATATYPE\n",
    "    hello = String(name=String(default_value=\"stranger\"))\n",
    "    goodbye = String()\n",
    "\n",
    "    # our Resolver method takes the GraphQL context (root, info) as well as\n",
    "    # Argument (name) for the Field and returns data for the query Response\n",
    "    def resolve_hello(root, info, name):\n",
    "        return f'Hello {name}!'\n",
    "\n",
    "    def resolve_goodbye(root, info):\n",
    "        return 'See ya!'\n",
    "\n",
    "schema = Schema(query=Query)"
   ]
  },
  {
   "cell_type": "code",
   "execution_count": null,
   "metadata": {},
   "outputs": [],
   "source": [
    "from graphene import ObjectType, String, Schema"
   ]
  },
  {
   "cell_type": "code",
   "execution_count": null,
   "metadata": {},
   "outputs": [],
   "source": [
    "query = \"\"\"\n",
    "        {\n",
    "  ethereum {\n",
    "    dexTrades(options: {limit: 100, desc: \"count\"}) {\n",
    "      count\n",
    "      protocol\n",
    "    }\n",
    "  }\n",
    "}\n",
    "\"\"\""
   ]
  },
  {
   "cell_type": "code",
   "execution_count": null,
   "metadata": {},
   "outputs": [],
   "source": [
    "from graphene import ObjectType, String, Schema\n",
    "\n",
    "class Query(ObjectType):\n",
    "    getDexTradeByProtocol = String(\n",
    "        count = String(),\n",
    "        protocol = String()\n",
    "    )\n",
    "\n",
    "    def resolve_getDexTradeByProtocol(root, info):\n",
    "        query = \"\"\"\n",
    "                {\n",
    "          ethereum {\n",
    "            dexTrades(options: {limit: 100, desc: \"count\"}) {\n",
    "              count\n",
    "              protocol\n",
    "            }\n",
    "          }\n",
    "        }\n",
    "        \"\"\"\n",
    "        return query"
   ]
  },
  {
   "cell_type": "code",
   "execution_count": null,
   "metadata": {},
   "outputs": [],
   "source": [
    "schema = Schema(query=Query)"
   ]
  },
  {
   "cell_type": "code",
   "execution_count": null,
   "metadata": {},
   "outputs": [],
   "source": [
    "print(schema)"
   ]
  },
  {
   "cell_type": "code",
   "execution_count": null,
   "metadata": {},
   "outputs": [],
   "source": [
    "query_string = '{ getDexTradeByProtocol }'\n",
    "result = schema.execute(query_string)\n",
    "print(result)"
   ]
  },
  {
   "cell_type": "code",
   "execution_count": null,
   "metadata": {},
   "outputs": [],
   "source": [
    "# we can query for our field (with the default argument)\n",
    "query_string = '{ hello }'\n",
    "result = schema.execute(query_string)\n",
    "print(result.data['hello'])\n",
    "# \"Hello stranger!\"\n",
    "\n",
    "# or passing the argument in the query\n",
    "query_with_argument = '{ hello(name: \"GraphQL\") },'\n",
    "result = schema.execute(query_with_argument)\n",
    "print(result.data['hello'])\n",
    "# \"Hello GraphQL!\""
   ]
  },
  {
   "cell_type": "code",
   "execution_count": null,
   "metadata": {},
   "outputs": [],
   "source": [
    "# we can query for our field (with the default argument)\n",
    "query_string = '{ goodbye }'\n",
    "resesult = schema.execute(query_with_argument)\n",
    "print(result.data['goodbye'])\n",
    "# \"Hello GraphQL!\""
   ]
  },
  {
   "cell_type": "code",
   "execution_count": null,
   "metadata": {},
   "outputs": [],
   "source": [
    "dir(bitQuery)"
   ]
  },
  {
   "cell_type": "code",
   "execution_count": null,
   "metadata": {},
   "outputs": [],
   "source": [
    "from classes import bitQuery_v1_0_0_0 as bitQueryClass"
   ]
  },
  {
   "cell_type": "code",
   "execution_count": null,
   "metadata": {},
   "outputs": [],
   "source": [
    "apiKey = 'BQYvYOBEZWH2ymkvKTC3tbDRgprmFeOY'"
   ]
  },
  {
   "cell_type": "code",
   "execution_count": null,
   "metadata": {},
   "outputs": [],
   "source": [
    "bitQuery = bitQueryClass.bitQuery()\n",
    "query = bitQueryClass.query()"
   ]
  },
  {
   "cell_type": "code",
   "execution_count": null,
   "metadata": {},
   "outputs": [],
   "source": [
    "data = bitQuery.directQuery(query.dexTradeByProtocol(), apiKey)"
   ]
  },
  {
   "cell_type": "code",
   "execution_count": null,
   "metadata": {},
   "outputs": [],
   "source": [
    "print(data)"
   ]
  },
  {
   "cell_type": "code",
   "execution_count": null,
   "metadata": {},
   "outputs": [],
   "source": [
    "bitQuery.getValueFromGraphQL(data, ['count', 'protocol'])"
   ]
  },
  {
   "cell_type": "code",
   "execution_count": null,
   "metadata": {},
   "outputs": [],
   "source": [
    "query = \"\"\"\n",
    "query{\n",
    "  bitcoin{\n",
    "    blocks{\n",
    "      count\n",
    "    }\n",
    "   }\n",
    "}\n",
    "\"\"\""
   ]
  },
  {
   "cell_type": "code",
   "execution_count": null,
   "metadata": {},
   "outputs": [],
   "source": [
    "data = bitQuery.directQuery(query, apiKey)\n",
    "print(data)\n",
    "bitQuery.getValueFromGraphQL(data, ['count'])"
   ]
  },
  {
   "cell_type": "code",
   "execution_count": null,
   "metadata": {},
   "outputs": [],
   "source": [
    "import json"
   ]
  },
  {
   "cell_type": "code",
   "execution_count": null,
   "metadata": {},
   "outputs": [],
   "source": [
    "data"
   ]
  },
  {
   "cell_type": "code",
   "execution_count": null,
   "metadata": {},
   "outputs": [],
   "source": [
    "import re"
   ]
  },
  {
   "cell_type": "code",
   "execution_count": null,
   "metadata": {},
   "outputs": [],
   "source": [
    "data = str(data)"
   ]
  },
  {
   "cell_type": "code",
   "execution_count": null,
   "metadata": {},
   "outputs": [],
   "source": [
    "data"
   ]
  },
  {
   "cell_type": "code",
   "execution_count": null,
   "metadata": {},
   "outputs": [],
   "source": [
    "for match_start in re.finditer('r(count)', data):\n",
    "    print('hey')"
   ]
  },
  {
   "cell_type": "code",
   "execution_count": null,
   "metadata": {},
   "outputs": [],
   "source": [
    "a = [1] * len([1, 2])"
   ]
  },
  {
   "cell_type": "code",
   "execution_count": null,
   "metadata": {},
   "outputs": [],
   "source": [
    "a[0]"
   ]
  },
  {
   "cell_type": "code",
   "execution_count": null,
   "metadata": {},
   "outputs": [],
   "source": [
    "5 % 3"
   ]
  },
  {
   "cell_type": "code",
   "execution_count": null,
   "metadata": {},
   "outputs": [],
   "source": [
    "import pandas as pd\n",
    "def getValueFromGraphQL(data, _nameList):\n",
    "    result = []\n",
    "    for name in _nameList:\n",
    "        for match_start in re.finditer(r'({0})'.format(name), data):\n",
    "            tmp = data[match_start.end()+3:len(data)-match_start.end()-3]\n",
    "            firstComma = re.search(', ', tmp)\n",
    "            if(firstComma != None):\n",
    "                firstComma = firstComma.start()\n",
    "                value = data[match_start.end()+3:match_start.end()+3+firstComma].replace('}','').replace(\"'\",\"\") #deleting special chars\n",
    "                result.append(value)\n",
    "    \n",
    "    # Creating DataFrame with result\n",
    "    df = pd.DataFrame(columns = cols)\n",
    "    tmpDf = df\n",
    "    lenghtNameList = len(_nameList)\n",
    "    iterableItems = len(result) // lenghtNameList - 1\n",
    "    print(iterableItems)\n",
    "    for i in range(0,iterableItems):\n",
    "        data = []\n",
    "        # Concatenate Values\n",
    "        for j in range(0, lenghtNameList):\n",
    "            data.append(result[j * iterableItems + i + 1])\n",
    "        print(data)\n",
    "        tmpDf = pd.DataFrame([data], columns = cols)\n",
    "        df = pd.concat([df, tmpDf])\n",
    "    return df"
   ]
  },
  {
   "cell_type": "code",
   "execution_count": null,
   "metadata": {},
   "outputs": [],
   "source": [
    "getValueFromGraphQL(data, ['count','protocol'])"
   ]
  },
  {
   "cell_type": "code",
   "execution_count": null,
   "metadata": {},
   "outputs": [],
   "source": [
    "a.concat(b)"
   ]
  },
  {
   "cell_type": "code",
   "execution_count": null,
   "metadata": {},
   "outputs": [],
   "source": [
    "b"
   ]
  },
  {
   "cell_type": "code",
   "execution_count": null,
   "metadata": {},
   "outputs": [],
   "source": []
  },
  {
   "cell_type": "code",
   "execution_count": null,
   "metadata": {},
   "outputs": [],
   "source": []
  },
  {
   "cell_type": "code",
   "execution_count": null,
   "metadata": {},
   "outputs": [],
   "source": [
    "cols = ['count', 'protocol']\n",
    "df = pd.DataFrame(columns = cols)\n",
    "tmpDf = df"
   ]
  },
  {
   "cell_type": "code",
   "execution_count": null,
   "metadata": {},
   "outputs": [],
   "source": [
    "for i in range(0,len(a)):\n",
    "    \n",
    "    tmpDf = pd.DataFrame([[a[i], b[i]]], columns = cols)\n",
    "    df = pd.concat([df, tmpDf])\n"
   ]
  },
  {
   "cell_type": "code",
   "execution_count": null,
   "metadata": {},
   "outputs": [],
   "source": [
    "data.to_dict()"
   ]
  },
  {
   "cell_type": "code",
   "execution_count": null,
   "metadata": {},
   "outputs": [],
   "source": [
    "df"
   ]
  },
  {
   "cell_type": "code",
   "execution_count": null,
   "metadata": {},
   "outputs": [],
   "source": [
    "import datetime    \n",
    "\n",
    "start = datetime.datetime(2013, 1, 1)\n",
    "end = datetime.datetime(2016, 1, 27)"
   ]
  },
  {
   "cell_type": "code",
   "execution_count": null,
   "metadata": {},
   "outputs": [],
   "source": [
    "start"
   ]
  },
  {
   "cell_type": "code",
   "execution_count": null,
   "metadata": {},
   "outputs": [],
   "source": [
    "from classes import utilities_v1_0_0_0 as utilities\n",
    "util = utilities.utilities()\n",
    "info = util.getFrameworkInfo()"
   ]
  },
  {
   "cell_type": "code",
   "execution_count": null,
   "metadata": {},
   "outputs": [],
   "source": [
    "print(info['Resources']['v1_0_0_0_resource_link'])"
   ]
  },
  {
   "cell_type": "code",
   "execution_count": null,
   "metadata": {},
   "outputs": [],
   "source": []
  },
  {
   "cell_type": "code",
   "execution_count": null,
   "metadata": {},
   "outputs": [],
   "source": []
  },
  {
   "cell_type": "code",
   "execution_count": null,
   "metadata": {},
   "outputs": [],
   "source": [
    "from classes import unitTest_v1_0_0_0 as blockchain\n",
    "\n",
    "class blockchain_v1_0_0_0_unitTest():\n",
    "\n",
    "    def ___init__(self, name):\n",
    "        self.name = name\n",
    "        \n",
    "    def test_web3Connection_infura(self):\n",
    "        \n",
    "        blockchain = blockchain.blockchain()\n",
    "        INFURA_ID = '40816bb42ce34f808b4afe219e9d41cb' #change it with your own id\n",
    "        connectionString = 'https://mainnet.infura.io/v3/{0}'.format(INFURA_ID)\n",
    "\n",
    "        self.assertEqual(blockchain.blockchainConnection(connectionString).isConnected(), True)\n"
   ]
  },
  {
   "cell_type": "code",
   "execution_count": null,
   "metadata": {},
   "outputs": [],
   "source": [
    "# Only for develop\n",
    "ETHERSCAN_API_KEY = 'EWYSGQ5PEK84PRCNSCKHHZWJIWWKYYABCE' \n",
    "BSCSCAN_API_KEY = 'I6ZZ57GWAS39M85QC4AJFC43Y5DUA8IU8I'\n",
    "CONNECTION_STRING = 'https://mainnet.infura.io/v3/40816bb42ce34f808b4afe219e9d41cb'\n",
    "TESTADDRESS = '0x70e36f6bf80a52b3b46b3af8e106cc0ed743e8e4' #COMPOUND\n",
    "TXHASHTEST = '0x7a4e0d863a1c8da97bf94bc8880d61b3f716bb10c3961f46b1290840097cb175' # ON BINANCE"
   ]
  },
  {
   "cell_type": "code",
   "execution_count": null,
   "metadata": {},
   "outputs": [],
   "source": [
    "from classes import blockchain_v1_0_0_0 as blockchain\n",
    "import pandas as pd\n",
    "blockchain = blockchain.blockchain()\n",
    "dynamicClassFolder = 'classes/dynamicClass'\n",
    "#_smartContractAddress = '0x70e36f6bf80a52b3b46b3af8e106cc0ed743e8e4'\n",
    "fileName = 'dynamic_events.py'\n",
    "file = open(\"{0}/{1}\".format(dynamicClassFolder, fileName), 'w')\n",
    "\n",
    "dfSmartContract = pd.read_csv('data/smartContract.csv')\n",
    "for indexSmartContract in range(0, len(dfSmartContract)):\n",
    "    (nameAddress, address) = (dfSmartContract['NameAddress'][indexSmartContract], dfSmartContract['Address'][indexSmartContract])\n",
    "    (smartContract, ABI) = blockchain.getContract(address, ETHERSCAN_API_KEY, CONNECTION_STRING)   \n",
    "    blockchain.saveContractData(address, smartContract, ABI) #save events and functions names on data/contracts/{address}\n",
    "    dfEvents = pd.read_csv('data/contracts/{0}/events.csv'.format(address))\n",
    "    if(len(dfEvents)>0):\n",
    "        file.writelines(\"\\n\\nif(contractName == '{0}'): # {1}\\n\\n\".format(address.lower(), nameAddress))\n",
    "        for indexEvents in range(0, len(dfEvents)):\n",
    "            file.writelines(\"    eventList.append(_contract.events.{0}()):\\n\".format(dfEvents['event'][indexEvents]))\n",
    "\n",
    "#ADD THE SAME LOGIC TO FUNCTIONS\n",
    "file.close() "
   ]
  },
  {
   "cell_type": "code",
   "execution_count": null,
   "metadata": {},
   "outputs": [],
   "source": [
    "# Run by terminal if these modules are not in your enviroment\n",
    "# pip install pandas-datareader\n",
    "# pip3 install tensorflow\n",
    "# pip install numpy\n",
    "# pip install pandas\n",
    "# pip install matplotlib\n",
    "# pip install scipy\n",
    "# pip install -U scikit-learn\n",
    "# pip install keras\n",
    "# pip install get-all-tickers\n",
    "# pip install \"graphene>=2.0\"\n",
    "\n",
    "# Web3 libraries\n",
    "\n",
    "from web3 import Web3\n",
    "\n",
    "# Data Transformation/Analysis libraries\n",
    "\n",
    "import pandas as pd\n",
    "import numpy as np\n",
    "import pandasql as psql\n",
    "import string\n",
    "import re\n",
    "import math\n",
    "\n",
    "# Data Reader libraries\n",
    "\n",
    "import pandas_datareader as web\n",
    "import requests\n",
    "\n",
    "# Models libraries\n",
    "\n",
    "from sklearn.preprocessing import MinMaxScaler\n",
    "from keras.models import Sequential\n",
    "from keras.layers import Dense, LSTM\n",
    "import matplotlib.pyplot as plt\n",
    "\n",
    "# OS libraries\n",
    "\n",
    "from datetime import datetime\n",
    "import os\n",
    "from os import listdir\n",
    "from os import path\n",
    "from os.path import isfile, join, isdir\n",
    "from datetime import datetime\n",
    "import sys\n",
    "\n",
    "# Process libraries\n",
    "\n",
    "import warnings\n",
    "\n",
    "# Library default Settings\n",
    "\n",
    "plt.style.use('fivethirtyeight')"
   ]
  },
  {
   "cell_type": "code",
   "execution_count": null,
   "metadata": {},
   "outputs": [],
   "source": [
    "CONTRACT_FOLDER = 'data/contracts'\n",
    "contractList = [f for f in listdir(CONTRACT_FOLDER) if isdir(join(CONTRACT_FOLDER, f))]\n",
    "\n",
    "eventPrefix = 'event_'\n",
    "blockNumberDf = pd.DataFrame()\n",
    "dfList = {}\n",
    "print(contractList)\n",
    "for contractFolder in contractList:\n",
    "    if(contractFolder != '.ipynb_checkpoints'):\n",
    "        cFolder = CONTRACT_FOLDER+'/'+contractFolder\n",
    "        eventsDataList = [f for f in listdir(cFolder) if isfile(join(cFolder, f))]\n",
    "        print(eventsDataList)\n",
    "        for eventsData in eventsDataList:\n",
    "            if(eventsData[0:len(eventPrefix)] == eventPrefix):\n",
    "                tmpDf = pd.read_csv(cFolder+'/'+eventsData)\n",
    "                indexKey = 0\n",
    "                foundKey = 0\n",
    "                for key in tmpDf.keys():\n",
    "                    if(key == 'blockHash'):\n",
    "                        foundKey = indexKey\n",
    "                    indexKey = indexKey + 1\n",
    "                # KEYNAME EXAMPLE: A6F6BF_CASHPRIOR. A = ADDRESS, 6F6BF = LAST 5 DIGITS OF THE ADDRESS, CASHPRIOR = EVENT NAME\n",
    "                keyName = 'A'+contractFolder.replace(\" \", \"_\")[len(contractFolder)-5:len(contractFolder)]+\"_\"+eventsData[len(eventPrefix):len(eventsData)-20] \n",
    "                keyName = keyName.upper()\n",
    "                dfList[keyName] = tmpDf.iloc[:, 1:foundKey]\n",
    "                dfList[keyName]['blockNumber'] = tmpDf['blockNumber']\n",
    "                blockNumberDf = pd.concat([blockNumberDf, tmpDf['blockNumber']])\n",
    "\n",
    "blockNumberList = pd.DataFrame(blockNumberDf[0].unique(), columns = ['blockNumber'])\n",
    "\n",
    "sql = \"SELECT {0} FROM blockNumberList A \"\n",
    "colsBase = 'A.blockNumber, '\n",
    "cols = colsBase\n",
    "print(dfList.keys())\n",
    "for key in dfList.keys():\n",
    "    groupCols = []\n",
    "    afterCols = []\n",
    "    for keyColumn in dfList[key].keys():\n",
    "        if(keyColumn == 'from'): #special word\n",
    "            dfList[key].rename(columns={'from':'fromAddress'}, inplace=True)\n",
    "            keyColumn = 'fromAddress'\n",
    "        if(keyColumn == 'to'): #special word\n",
    "            dfList[key].rename(columns={'to':'toAddress'}, inplace=True)\n",
    "            keyColumn = 'toAddress'\n",
    "        if(keyColumn != 'blockNumber'):\n",
    "            groupCols.append('MAX('+keyColumn+') AS '+key+'_'+keyColumn+',')\n",
    "            afterCols.append(key+'_'+keyColumn+', ')\n",
    "    selectGroup = ' '.join(groupCols)\n",
    "    selectGroupBase = ' '.join(afterCols)\n",
    "    cols = cols + selectGroup\n",
    "\n",
    "    df = dfList[key]\n",
    "    joinStatement = \"LEFT JOIN df B on A.blockNumber = B.blockNumber \"\n",
    "    groupByStatement = \"GROUP BY A.blockNumber ORDER BY A.blockNumber\"\n",
    "    finalSql = sql.format(cols[0:len(cols)-1])+joinStatement+groupByStatement\n",
    "    colsBase = colsBase + selectGroupBase\n",
    "    cols = colsBase\n",
    "    print(\"{0} event was imported\".format(key))\n",
    "    blockNumberList = psql.sqldf(finalSql)\n",
    "\n",
    "dt = datetime.now().strftime(\"%Y%m%d_%H%M%S\")\n",
    "blockNumberList.to_csv('{0}/smartContractsLogsGrouped_{1}.csv'.format(CONTRACT_FOLDER, dt))\n",
    "print('File saved on {0}/smartContractsLogsGrouped_{1}.csv'.format(CONTRACT_FOLDER, dt))"
   ]
  },
  {
   "cell_type": "code",
   "execution_count": null,
   "metadata": {},
   "outputs": [],
   "source": [
    "from classes import listeners_v1_0_0_0 as listeners\n",
    "listeners = listeners.listeners()\n",
    "listeners.listener('ID', ['test'], [5])"
   ]
  },
  {
   "cell_type": "code",
   "execution_count": null,
   "metadata": {},
   "outputs": [],
   "source": []
  }
 ],
 "metadata": {
  "kernelspec": {
   "display_name": "Python 3",
   "language": "python",
   "name": "python3"
  },
  "language_info": {
   "codemirror_mode": {
    "name": "ipython",
    "version": 3
   },
   "file_extension": ".py",
   "mimetype": "text/x-python",
   "name": "python",
   "nbconvert_exporter": "python",
   "pygments_lexer": "ipython3",
   "version": "3.8.5"
  }
 },
 "nbformat": 4,
 "nbformat_minor": 4
}
