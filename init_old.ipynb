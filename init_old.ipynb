{
 "cells": [
  {
   "cell_type": "code",
   "execution_count": null,
   "metadata": {},
   "outputs": [],
   "source": [
    "# All sql are defined here to centralize the core-logic of analysis\n",
    "def selectAll(dataFrame):\n",
    "    return \"Select * from \" + dataFrame"
   ]
  },
  {
   "cell_type": "code",
   "execution_count": null,
   "metadata": {},
   "outputs": [],
   "source": [
    "from web3 import Web3\n",
    "import pandas as pd\n",
    "import numpy as np\n",
    "import pandasql as ps\n",
    "import string\n",
    "import re"
   ]
  },
  {
   "cell_type": "code",
   "execution_count": null,
   "metadata": {},
   "outputs": [],
   "source": [
    "def addBlockOnDataFrame(_block, _df, _columns):\n",
    "    _df.loc[_df.shape[0]+1] = None\n",
    "    for key in _columns:\n",
    "        if is_hex(_block[key]):\n",
    "            _df[key][_df.shape[0]] = str(_block[key].hex())\n",
    "        else:\n",
    "            _df[key][_df.shape[0]] = str(_block[key])"
   ]
  },
  {
   "cell_type": "code",
   "execution_count": null,
   "metadata": {},
   "outputs": [],
   "source": [
    "def importBlockInterval(_w3, _df, _columns, _min, _max):\n",
    "    for indexBlock in range(_min, _max):\n",
    "        addBlockOnDataFrame(_w3.eth.get_block(indexBlock), _df, _columns)"
   ]
  },
  {
   "cell_type": "code",
   "execution_count": null,
   "metadata": {},
   "outputs": [],
   "source": [
    "def is_hex(_arg):\n",
    "    try:\n",
    "        _arg.hex()\n",
    "        return True\n",
    "    except:\n",
    "        return False"
   ]
  },
  {
   "cell_type": "code",
   "execution_count": null,
   "metadata": {},
   "outputs": [],
   "source": [
    "connectionString = 'https://ropsten.infura.io/v3/9a82d6f712b6474eb712fa507d110055'\n",
    "if (re.search(\"(http(|s)\\:\\/\\/)\", connectionString) != None):\n",
    "    # HTTP Provider\n",
    "    w3 = Web3(Web3.HTTPProvider(connectionString))\n",
    "elif (re.search(\"(\\.ipc)\", connectionString) != None):\n",
    "    # IPC Provider\n",
    "    w3 = Web3(Web3.IPCProvider(connectionString))\n",
    "elif (re.search(\"(ws\\:\\/\\/)\", connectionString) != None):\n",
    "    # Web Socket Provider\n",
    "    w3 = Web3(Web3.WebsocketProvider(connectionString))    \n",
    "else:\n",
    "    w3 = None"
   ]
  },
  {
   "cell_type": "code",
   "execution_count": null,
   "metadata": {},
   "outputs": [],
   "source": [
    "w3.isConnected()"
   ]
  },
  {
   "cell_type": "code",
   "execution_count": null,
   "metadata": {},
   "outputs": [],
   "source": [
    "blockArgs = list(w3.eth.get_block('latest').keys())"
   ]
  },
  {
   "cell_type": "code",
   "execution_count": null,
   "metadata": {},
   "outputs": [],
   "source": [
    "df = pd.DataFrame(columns = blockArgs)"
   ]
  },
  {
   "cell_type": "code",
   "execution_count": null,
   "metadata": {},
   "outputs": [],
   "source": [
    "lastBlockNumber = w3.eth.get_block('latest').number;"
   ]
  },
  {
   "cell_type": "code",
   "execution_count": null,
   "metadata": {},
   "outputs": [],
   "source": [
    "importBlockInterval(w3, df, blockArgs, lastBlockNumber - 50, lastBlockNumber)"
   ]
  },
  {
   "cell_type": "code",
   "execution_count": null,
   "metadata": {},
   "outputs": [],
   "source": [
    "df"
   ]
  },
  {
   "cell_type": "code",
   "execution_count": null,
   "metadata": {},
   "outputs": [],
   "source": [
    "df.to_csv(\"export_\" + str(lastBlockNumber) + \".csv\")"
   ]
  },
  {
   "cell_type": "code",
   "execution_count": null,
   "metadata": {},
   "outputs": [],
   "source": [
    "ps.sqldf(selectAll(\"df\"), locals())"
   ]
  },
  {
   "cell_type": "code",
   "execution_count": null,
   "metadata": {},
   "outputs": [],
   "source": []
  },
  {
   "cell_type": "code",
   "execution_count": null,
   "metadata": {},
   "outputs": [],
   "source": []
  }
 ],
 "metadata": {
  "kernelspec": {
   "display_name": "Python 3",
   "language": "python",
   "name": "python3"
  },
  "language_info": {
   "codemirror_mode": {
    "name": "ipython",
    "version": 3
   },
   "file_extension": ".py",
   "mimetype": "text/x-python",
   "name": "python",
   "nbconvert_exporter": "python",
   "pygments_lexer": "ipython3",
   "version": "3.8.5"
  }
 },
 "nbformat": 4,
 "nbformat_minor": 4
}
