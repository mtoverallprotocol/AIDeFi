{
 "cells": [
  {
   "cell_type": "code",
   "execution_count": null,
   "metadata": {},
   "outputs": [],
   "source": [
    "# Run by terminal if these modules are not in your enviroment\n",
    "# pip install pandas-datareader\n",
    "# pip3 install tensorflow\n",
    "# pip install numpy\n",
    "# pip install pandas\n",
    "# pip install matplotlib\n",
    "# pip install scipy\n",
    "# pip install -U scikit-learn\n",
    "# pip install keras\n"
   ]
  },
  {
   "cell_type": "code",
   "execution_count": 7,
   "metadata": {},
   "outputs": [],
   "source": [
    "# Import the Libraries\n",
    "\n",
    "from web3 import Web3\n",
    "import pandas as pd\n",
    "import numpy as np\n",
    "import pandasql as ps\n",
    "import string\n",
    "import re\n",
    "import math\n",
    "import pandas_datareader as web\n",
    "from sklearn.preprocessing import MinMaxScaler\n",
    "from keras.models import Sequential\n",
    "from keras.layers import Dense, LSTM\n",
    "import matplotlib.pyplot as plt\n",
    "plt.style.use('fivethirtyeight')"
   ]
  },
  {
   "cell_type": "code",
   "execution_count": 15,
   "metadata": {},
   "outputs": [],
   "source": [
    "class ethData:\n",
    "    \n",
    "    def ___init__(self, name):\n",
    "        self.name = name\n",
    "    \n",
    "    def blockchainConnection(self, _connectionString):\n",
    "        if (re.search(\"(http(|s)\\:\\/\\/)\", _connectionString) != None):\n",
    "            # HTTP Provider\n",
    "            w3 = Web3(Web3.HTTPProvider(_connectionString))\n",
    "        elif (re.search(\"(\\.ipc)\", _connectionString) != None):\n",
    "            # IPC Provider\n",
    "            w3 = Web3(Web3.IPCProvider(connectionString))\n",
    "        elif (re.search(\"(ws\\:\\/\\/)\", _connectionString) != None):\n",
    "            # Web Socket Provider\n",
    "            w3 = Web3(Web3.WebsocketProvider(_connectionString))    \n",
    "        else:\n",
    "            w3 = None\n",
    "        return w3\n",
    "    \n",
    "    def getBlockArgs(self, _w3):\n",
    "        #return list(_w3.eth.get_block('latest', True).keys())\n",
    "        return ['difficulty', 'extraData', 'gasLimit', 'gasUsed', 'hash', 'logsBloom', 'miner', 'mixHash', 'nonce', 'number', 'parentHash', 'receiptsRoot', 'sha3Uncles', 'size', 'stateRoot', 'timestamp', 'totalDifficulty', 'transactions', 'transactionsRoot', 'uncles']\n",
    "    def getTransactionArgs(self, _w3):\n",
    "        #return list(_w3.eth.get_block('latest', True)[\"transactions\"][0].keys())\n",
    "        return ['blockHash', 'blockNumber', 'from', 'gas', 'gasPrice', 'hash', 'input', 'nonce', 'r', 's', 'to', 'transactionIndex', 'type', 'v', 'value']\n",
    "\n",
    "    def getTransactionReceiptArgs(self, _w3):\n",
    "        #return list(_w3.eth.getTransactionReceipt(str(_w3.eth.get_block('latest', True)[\"transactions\"][0][\"hash\"].hex())).keys())\n",
    "        return ['blockHash', 'blockNumber', 'contractAddress', 'cumulativeGasUsed', 'from', 'gasUsed', 'logs', 'logsBloom', 'status', 'to', 'transactionHash', 'transactionIndex', 'type']\n",
    "    \n",
    "    def getLastBlockNumber(self, _w3):\n",
    "        return _w3.eth.get_block('latest', True).number;\n",
    "    \n",
    "    def addBlockOnDataFrame(self, _block, _df, _columns):\n",
    "        _df.loc[_df.shape[0]+1] = None\n",
    "        for key in _columns:\n",
    "            if self.is_hex(_block[key]):\n",
    "                _df[key][_df.shape[0]] = str(_block[key].hex())\n",
    "            else:\n",
    "                _df[key][_df.shape[0]] = str(_block[key])\n",
    "    \n",
    "    def importTransactionList(self, _w3, _block, _blockArgs, _df_transaction, _transactionArgs, _df_transactionReceipt, _transactionReceiptArgs):\n",
    "        transactions = _block[\"transactions\"]\n",
    "        for indexTransaction in range(0, len(transactions)):\n",
    "            #Importing transactions on df_transaction\n",
    "            transaction = _w3.eth.getTransaction(str(transactions[indexTransaction].hex()))\n",
    "            self.addBlockOnDataFrame(transaction, _df_transaction, _transactionArgs)\n",
    "            #Importing transaction receipts on df_transactionReceipt\n",
    "            transactionReceipt = _w3.eth.getTransactionReceipt(str(transaction[\"hash\"].hex()))\n",
    "            self.addBlockOnDataFrame(transactionReceipt, _df_transactionReceipt, _transactionReceiptArgs)\n",
    "            \n",
    "    def importBlockInterval(self, _w3, _min, _max):\n",
    "        blockArgs = self.getBlockArgs(_w3)\n",
    "        transactionArgs = self.getTransactionArgs(_w3)\n",
    "        transactionReceiptArgs = self.getTransactionReceiptArgs(_w3)\n",
    "        df_block = pd.DataFrame(columns = blockArgs)\n",
    "        df_transaction = pd.DataFrame(columns = transactionArgs)\n",
    "        df_transactionReceipt = pd.DataFrame(columns = transactionReceiptArgs)\n",
    "        for indexBlock in range(_min, _max):\n",
    "            block = _w3.eth.get_block(indexBlock)\n",
    "            #Importing block data\n",
    "            self.addBlockOnDataFrame(block, df_block, blockArgs)\n",
    "            #Importing transaction and transaction receipt data\n",
    "            self.importTransactionList(_w3, block, blockArgs, df_transaction, transactionArgs, df_transactionReceipt, transactionReceiptArgs)  \n",
    "        return (df_block, df_transaction, df_transactionReceipt)\n",
    "            \n",
    "    def is_hex(self, _arg):\n",
    "        try:\n",
    "            _arg.hex()\n",
    "            return True\n",
    "        except:\n",
    "            return False"
   ]
  },
  {
   "cell_type": "code",
   "execution_count": 16,
   "metadata": {},
   "outputs": [],
   "source": [
    "class AI:\n",
    "    def ___init__(self, name, tables):\n",
    "        self.name = name\n",
    "    \n",
    "    # This function return a dataframe with all stock quotes between two dates\n",
    "    def getStockQuote(self, _ticker, _provider, _start, _end):\n",
    "        return web.DataReader(_ticker, data_source = _provider, start = _start, end = _end)"
   ]
  },
  {
   "cell_type": "code",
   "execution_count": 17,
   "metadata": {},
   "outputs": [
    {
     "ename": "NameError",
     "evalue": "name 'AIDeFiCore' is not defined",
     "output_type": "error",
     "traceback": [
      "\u001b[0;31m---------------------------------------------------------------------------\u001b[0m",
      "\u001b[0;31mNameError\u001b[0m                                 Traceback (most recent call last)",
      "\u001b[0;32m<ipython-input-17-c9e815481798>\u001b[0m in \u001b[0;36m<module>\u001b[0;34m\u001b[0m\n\u001b[0;32m----> 1\u001b[0;31m \u001b[0mai\u001b[0m \u001b[0;34m=\u001b[0m \u001b[0mAIDeFiCore\u001b[0m\u001b[0;34m(\u001b[0m\u001b[0;34m)\u001b[0m\u001b[0;34m\u001b[0m\u001b[0;34m\u001b[0m\u001b[0m\n\u001b[0m",
      "\u001b[0;31mNameError\u001b[0m: name 'AIDeFiCore' is not defined"
     ]
    }
   ],
   "source": [
    "ai = AIDeFiCore()"
   ]
  },
  {
   "cell_type": "code",
   "execution_count": 13,
   "metadata": {},
   "outputs": [],
   "source": [
    "connectionString = 'https://ropsten.infura.io/v3/9a82d6f712b6474eb712fa507d110055'"
   ]
  },
  {
   "cell_type": "code",
   "execution_count": 14,
   "metadata": {},
   "outputs": [],
   "source": [
    "w3 = ai.blockchainConnection(connectionString)"
   ]
  },
  {
   "cell_type": "code",
   "execution_count": 15,
   "metadata": {},
   "outputs": [
    {
     "data": {
      "text/plain": [
       "True"
      ]
     },
     "execution_count": 15,
     "metadata": {},
     "output_type": "execute_result"
    }
   ],
   "source": [
    "w3.isConnected()"
   ]
  },
  {
   "cell_type": "code",
   "execution_count": 16,
   "metadata": {},
   "outputs": [],
   "source": [
    "(df_block, df_transaction, df_transactionReceipt) = ai.importBlockInterval(w3, ai.getLastBlockNumber(w3) - 10, ai.getLastBlockNumber(w3))"
   ]
  },
  {
   "cell_type": "code",
   "execution_count": null,
   "metadata": {},
   "outputs": [],
   "source": [
    "blockArgs = ai.getBlockArgs(w3)\n",
    "print(blockArgs)"
   ]
  },
  {
   "cell_type": "code",
   "execution_count": null,
   "metadata": {},
   "outputs": [],
   "source": [
    "transactionArgs = ai.getTransactionArgs(w3)\n",
    "print(transactionArgs)"
   ]
  },
  {
   "cell_type": "code",
   "execution_count": null,
   "metadata": {},
   "outputs": [],
   "source": [
    "transactionReceiptArgs = ai.getTransactionReceiptArgs(w3)\n",
    "print(transactionReceiptArgs)"
   ]
  },
  {
   "cell_type": "code",
   "execution_count": null,
   "metadata": {},
   "outputs": [],
   "source": [
    "df_block"
   ]
  },
  {
   "cell_type": "code",
   "execution_count": null,
   "metadata": {},
   "outputs": [],
   "source": [
    "df_transaction"
   ]
  },
  {
   "cell_type": "code",
   "execution_count": null,
   "metadata": {},
   "outputs": [],
   "source": [
    "df_transactionReceipt"
   ]
  },
  {
   "cell_type": "code",
   "execution_count": null,
   "metadata": {},
   "outputs": [],
   "source": [
    "w3.eth.get_block(ai.getLastBlockNumber(w3))"
   ]
  },
  {
   "cell_type": "code",
   "execution_count": null,
   "metadata": {},
   "outputs": [],
   "source": [
    "w3.eth.get_transaction('0xc09c3e34691ccb84372a9b892bf30b718c467b4631bf2d7ea94b6b61d99c22fc')"
   ]
  },
  {
   "cell_type": "code",
   "execution_count": null,
   "metadata": {},
   "outputs": [],
   "source": [
    "w3.eth.getTransactionReceipt('0xdf459bc6cd115307826cefca4da04748882a5eb4856fc26961eee0fb178701b0')"
   ]
  },
  {
   "cell_type": "code",
   "execution_count": null,
   "metadata": {},
   "outputs": [],
   "source": [
    "str(w3.eth.get_block('latest', True)[\"transactions\"][0][\"hash\"].hex())"
   ]
  },
  {
   "cell_type": "code",
   "execution_count": null,
   "metadata": {},
   "outputs": [],
   "source": [
    "list(w3.eth.getTransactionReceipt(str(w3.eth.get_block('latest', True)[\"transactions\"][0][\"hash\"].hex())).keys())"
   ]
  },
  {
   "cell_type": "code",
   "execution_count": null,
   "metadata": {},
   "outputs": [],
   "source": [
    "block = w3.eth.get_block(10082327, True)\n",
    "transactions = block[\"transactions\"]\n",
    "print(transactions)"
   ]
  },
  {
   "cell_type": "code",
   "execution_count": null,
   "metadata": {},
   "outputs": [],
   "source": [
    "len(transactions)"
   ]
  },
  {
   "cell_type": "raw",
   "metadata": {},
   "source": []
  },
  {
   "cell_type": "code",
   "execution_count": null,
   "metadata": {},
   "outputs": [],
   "source": [
    "print(w3.eth.getTransaction(str(transactions[6][\"hash\"].hex())))"
   ]
  },
  {
   "cell_type": "code",
   "execution_count": null,
   "metadata": {},
   "outputs": [],
   "source": []
  },
  {
   "cell_type": "code",
   "execution_count": null,
   "metadata": {},
   "outputs": [],
   "source": []
  }
 ],
 "metadata": {
  "kernelspec": {
   "display_name": "Python 3",
   "language": "python",
   "name": "python3"
  },
  "language_info": {
   "codemirror_mode": {
    "name": "ipython",
    "version": 3
   },
   "file_extension": ".py",
   "mimetype": "text/x-python",
   "name": "python",
   "nbconvert_exporter": "python",
   "pygments_lexer": "ipython3",
   "version": "3.8.5"
  }
 },
 "nbformat": 4,
 "nbformat_minor": 4
}
