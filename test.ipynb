{
 "cells": [
  {
   "cell_type": "code",
   "execution_count": null,
   "metadata": {},
   "outputs": [],
   "source": [
    "import unittest"
   ]
  },
  {
   "cell_type": "code",
   "execution_count": null,
   "metadata": {},
   "outputs": [],
   "source": [
    "# For customers\n",
    "ETHERSCAN_API_KEY = 'YOUR_OWN_KEY' \n",
    "BSCSCAN_API_KEY = 'YOUR_OWN_KEY'\n",
    "CONNECTION_STRING = 'https://mainnet.infura.io/v3/YOUR_OWN_KEY'"
   ]
  },
  {
   "cell_type": "code",
   "execution_count": null,
   "metadata": {},
   "outputs": [],
   "source": [
    "# Only for test\n",
    "ETHERSCAN_API_KEY = 'EWYSGQ5PEK84PRCNSCKHHZWJIWWKYYABCE' \n",
    "BSCSCAN_API_KEY = 'I6ZZ57GWAS39M85QC4AJFC43Y5DUA8IU8I'\n",
    "#CONNECTION_STRING = 'https://mainnet.infura.io/v3/b8932e6edfa1498ab41ce07e5686c2b4'\n",
    "CONNECTION_STRING = 'https://mainnet.infura.io/v3/40816bb42ce34f808b4afe219e9d41cb'\n",
    "TESTADDRESS = '0x70e36f6bf80a52b3b46b3af8e106cc0ed743e8e4' \n",
    "_contractAddress = TESTADDRESS\n",
    "_apiKey = ETHERSCAN_API_KEY\n",
    "_connectionString = CONNECTION_STRING"
   ]
  },
  {
   "cell_type": "code",
   "execution_count": null,
   "metadata": {},
   "outputs": [],
   "source": [
    "# Test web3 connection\n",
    "from classes import blockchain_v1_0_0_0 as blockchain\n",
    "blockchain = blockchain.blockchain()\n",
    "blockchain.blockchainConnection"
   ]
  },
  {
   "cell_type": "code",
   "execution_count": null,
   "metadata": {},
   "outputs": [],
   "source": [
    "blockchain.inizializeSmartContracts(ETHERSCAN_API_KEY, CONNECTION_STRING)"
   ]
  },
  {
   "cell_type": "code",
   "execution_count": 2,
   "metadata": {},
   "outputs": [
    {
     "ename": "SyntaxError",
     "evalue": "invalid syntax (<ipython-input-2-dcc01bfea0cd>, line 1)",
     "output_type": "error",
     "traceback": [
      "\u001b[0;36m  File \u001b[0;32m\"<ipython-input-2-dcc01bfea0cd>\"\u001b[0;36m, line \u001b[0;32m1\u001b[0m\n\u001b[0;31m    if True: True else: False\u001b[0m\n\u001b[0m                  ^\u001b[0m\n\u001b[0;31mSyntaxError\u001b[0m\u001b[0;31m:\u001b[0m invalid syntax\n"
     ]
    }
   ],
   "source": [
    "\n",
    "if True: True else: False"
   ]
  },
  {
   "cell_type": "code",
   "execution_count": null,
   "metadata": {},
   "outputs": [],
   "source": [
    "blockchain.downloadContractLogsContent(_contractAddress, _apiKey, _connectionString)"
   ]
  },
  {
   "cell_type": "code",
   "execution_count": null,
   "metadata": {},
   "outputs": [],
   "source": [
    "from classes import bitQuery_v1_0_0_0 as bitQuery\n",
    "import json\n",
    "bitQuery = bitQuery.bitQuery()"
   ]
  },
  {
   "cell_type": "code",
   "execution_count": null,
   "metadata": {},
   "outputs": [],
   "source": [
    "bitQuery.getLogs(apiKey)"
   ]
  },
  {
   "cell_type": "code",
   "execution_count": null,
   "metadata": {},
   "outputs": [],
   "source": [
    "util = util.utilities()"
   ]
  },
  {
   "cell_type": "code",
   "execution_count": null,
   "metadata": {},
   "outputs": [],
   "source": [
    "info = util.getFrameworkInfo()"
   ]
  },
  {
   "cell_type": "code",
   "execution_count": null,
   "metadata": {},
   "outputs": [],
   "source": [
    "apiKey = 'BQYvYOBEZWH2ymkvKTC3tbDRgprmFeOY'"
   ]
  },
  {
   "cell_type": "code",
   "execution_count": null,
   "metadata": {},
   "outputs": [],
   "source": [
    "info['Versioning']['version']"
   ]
  },
  {
   "cell_type": "code",
   "execution_count": null,
   "metadata": {},
   "outputs": [],
   "source": [
    "import pathlib\n",
    "from os import path, listdir\n",
    "import os\n",
    "import configparser\n",
    "import json\n",
    "\n",
    "\n",
    "# Reading Configs\n",
    "config = configparser.ConfigParser()\n",
    "print(\"{0}/config.ini\".format(pathlib.Path(__file__).parent.parentòknrfabsolute()))\n",
    "#config.read(\"{0}/config.ini\".format(pathlib.Path(__file__).parent.absolute()))"
   ]
  },
  {
   "cell_type": "code",
   "execution_count": null,
   "metadata": {},
   "outputs": [],
   "source": [
    "exec(compile(open('classes/libraries_v1_0_0_0.py').read()))"
   ]
  },
  {
   "cell_type": "code",
   "execution_count": null,
   "metadata": {},
   "outputs": [],
   "source": [
    "from past.builtins import execfile\n",
    "\n",
    "execfile('classes/libraries_v1_0_0_0.py')"
   ]
  },
  {
   "cell_type": "code",
   "execution_count": null,
   "metadata": {},
   "outputs": [],
   "source": [
    "pd.DataFrame()"
   ]
  },
  {
   "cell_type": "code",
   "execution_count": null,
   "metadata": {},
   "outputs": [],
   "source": [
    "blockchain = lib.blockchain()"
   ]
  },
  {
   "cell_type": "code",
   "execution_count": null,
   "metadata": {},
   "outputs": [],
   "source": [
    "from graphene import ObjectType, String, Schema\n",
    "\n",
    "class Query(ObjectType):\n",
    "    # this defines a Field `hello` in our Schema with a single Argument `name`\n",
    "    # note: DEFINE THE DATATYPE\n",
    "    hello = String(name=String(default_value=\"stranger\"))\n",
    "    goodbye = String()\n",
    "\n",
    "    # our Resolver method takes the GraphQL context (root, info) as well as\n",
    "    # Argument (name) for the Field and returns data for the query Response\n",
    "    def resolve_hello(root, info, name):\n",
    "        return f'Hello {name}!'\n",
    "\n",
    "    def resolve_goodbye(root, info):\n",
    "        return 'See ya!'\n",
    "\n",
    "schema = Schema(query=Query)"
   ]
  },
  {
   "cell_type": "code",
   "execution_count": null,
   "metadata": {},
   "outputs": [],
   "source": [
    "from graphene import ObjectType, String, Schema"
   ]
  },
  {
   "cell_type": "code",
   "execution_count": null,
   "metadata": {},
   "outputs": [],
   "source": [
    "query = \"\"\"\n",
    "        {\n",
    "  ethereum {\n",
    "    dexTrades(options: {limit: 100, desc: \"count\"}) {\n",
    "      count\n",
    "      protocol\n",
    "    }\n",
    "  }\n",
    "}\n",
    "\"\"\""
   ]
  },
  {
   "cell_type": "code",
   "execution_count": null,
   "metadata": {},
   "outputs": [],
   "source": [
    "from graphene import ObjectType, String, Schema\n",
    "\n",
    "class Query(ObjectType):\n",
    "    getDexTradeByProtocol = String(\n",
    "        count = String(),\n",
    "        protocol = String()\n",
    "    )\n",
    "\n",
    "    def resolve_getDexTradeByProtocol(root, info):\n",
    "        query = \"\"\"\n",
    "                {\n",
    "          ethereum {\n",
    "            dexTrades(options: {limit: 100, desc: \"count\"}) {\n",
    "              count\n",
    "              protocol\n",
    "            }\n",
    "          }\n",
    "        }\n",
    "        \"\"\"\n",
    "        return query"
   ]
  },
  {
   "cell_type": "code",
   "execution_count": null,
   "metadata": {},
   "outputs": [],
   "source": [
    "schema = Schema(query=Query)"
   ]
  },
  {
   "cell_type": "code",
   "execution_count": null,
   "metadata": {},
   "outputs": [],
   "source": [
    "print(schema)"
   ]
  },
  {
   "cell_type": "code",
   "execution_count": null,
   "metadata": {},
   "outputs": [],
   "source": [
    "query_string = '{ getDexTradeByProtocol }'\n",
    "result = schema.execute(query_string)\n",
    "print(result)"
   ]
  },
  {
   "cell_type": "code",
   "execution_count": null,
   "metadata": {},
   "outputs": [],
   "source": [
    "# we can query for our field (with the default argument)\n",
    "query_string = '{ hello }'\n",
    "result = schema.execute(query_string)\n",
    "print(result.data['hello'])\n",
    "# \"Hello stranger!\"\n",
    "\n",
    "# or passing the argument in the query\n",
    "query_with_argument = '{ hello(name: \"GraphQL\") },'\n",
    "result = schema.execute(query_with_argument)\n",
    "print(result.data['hello'])\n",
    "# \"Hello GraphQL!\""
   ]
  },
  {
   "cell_type": "code",
   "execution_count": null,
   "metadata": {},
   "outputs": [],
   "source": [
    "# we can query for our field (with the default argument)\n",
    "query_string = '{ goodbye }'\n",
    "resesult = schema.execute(query_with_argument)\n",
    "print(result.data['goodbye'])\n",
    "# \"Hello GraphQL!\""
   ]
  },
  {
   "cell_type": "code",
   "execution_count": null,
   "metadata": {},
   "outputs": [],
   "source": [
    "dir(bitQuery)"
   ]
  },
  {
   "cell_type": "code",
   "execution_count": null,
   "metadata": {},
   "outputs": [],
   "source": [
    "from classes import bitQuery_v1_0_0_0 as bitQueryClass"
   ]
  },
  {
   "cell_type": "code",
   "execution_count": null,
   "metadata": {},
   "outputs": [],
   "source": [
    "apiKey = 'BQYvYOBEZWH2ymkvKTC3tbDRgprmFeOY'"
   ]
  },
  {
   "cell_type": "code",
   "execution_count": null,
   "metadata": {},
   "outputs": [],
   "source": [
    "bitQuery = bitQueryClass.bitQuery()\n",
    "query = bitQueryClass.query()"
   ]
  },
  {
   "cell_type": "code",
   "execution_count": null,
   "metadata": {},
   "outputs": [],
   "source": [
    "data = bitQuery.directQuery(query.dexTradeByProtocol(), apiKey)"
   ]
  },
  {
   "cell_type": "code",
   "execution_count": null,
   "metadata": {},
   "outputs": [],
   "source": [
    "print(data)"
   ]
  },
  {
   "cell_type": "code",
   "execution_count": null,
   "metadata": {},
   "outputs": [],
   "source": [
    "bitQuery.getValueFromGraphQL(data, ['count', 'protocol'])"
   ]
  },
  {
   "cell_type": "code",
   "execution_count": null,
   "metadata": {},
   "outputs": [],
   "source": [
    "query = \"\"\"\n",
    "query{\n",
    "  bitcoin{\n",
    "    blocks{\n",
    "      count\n",
    "    }\n",
    "   }\n",
    "}\n",
    "\"\"\""
   ]
  },
  {
   "cell_type": "code",
   "execution_count": null,
   "metadata": {},
   "outputs": [],
   "source": [
    "data = bitQuery.directQuery(query, apiKey)\n",
    "print(data)\n",
    "bitQuery.getValueFromGraphQL(data, ['count'])"
   ]
  },
  {
   "cell_type": "code",
   "execution_count": null,
   "metadata": {},
   "outputs": [],
   "source": [
    "import json"
   ]
  },
  {
   "cell_type": "code",
   "execution_count": null,
   "metadata": {},
   "outputs": [],
   "source": [
    "data"
   ]
  },
  {
   "cell_type": "code",
   "execution_count": null,
   "metadata": {},
   "outputs": [],
   "source": [
    "import re"
   ]
  },
  {
   "cell_type": "code",
   "execution_count": null,
   "metadata": {},
   "outputs": [],
   "source": [
    "data = str(data)"
   ]
  },
  {
   "cell_type": "code",
   "execution_count": null,
   "metadata": {},
   "outputs": [],
   "source": [
    "data"
   ]
  },
  {
   "cell_type": "code",
   "execution_count": null,
   "metadata": {},
   "outputs": [],
   "source": [
    "for match_start in re.finditer('r(count)', data):\n",
    "    print('hey')"
   ]
  },
  {
   "cell_type": "code",
   "execution_count": null,
   "metadata": {},
   "outputs": [],
   "source": [
    "a = [1] * len([1, 2])"
   ]
  },
  {
   "cell_type": "code",
   "execution_count": null,
   "metadata": {},
   "outputs": [],
   "source": [
    "a[0]"
   ]
  },
  {
   "cell_type": "code",
   "execution_count": null,
   "metadata": {},
   "outputs": [],
   "source": [
    "5 % 3"
   ]
  },
  {
   "cell_type": "code",
   "execution_count": null,
   "metadata": {},
   "outputs": [],
   "source": [
    "import pandas as pd\n",
    "def getValueFromGraphQL(data, _nameList):\n",
    "    result = []\n",
    "    for name in _nameList:\n",
    "        for match_start in re.finditer(r'({0})'.format(name), data):\n",
    "            tmp = data[match_start.end()+3:len(data)-match_start.end()-3]\n",
    "            firstComma = re.search(', ', tmp)\n",
    "            if(firstComma != None):\n",
    "                firstComma = firstComma.start()\n",
    "                value = data[match_start.end()+3:match_start.end()+3+firstComma].replace('}','').replace(\"'\",\"\") #deleting special chars\n",
    "                result.append(value)\n",
    "    \n",
    "    # Creating DataFrame with result\n",
    "    df = pd.DataFrame(columns = cols)\n",
    "    tmpDf = df\n",
    "    lenghtNameList = len(_nameList)\n",
    "    iterableItems = len(result) // lenghtNameList - 1\n",
    "    print(iterableItems)\n",
    "    for i in range(0,iterableItems):\n",
    "        data = []\n",
    "        # Concatenate Values\n",
    "        for j in range(0, lenghtNameList):\n",
    "            data.append(result[j * iterableItems + i + 1])\n",
    "        print(data)\n",
    "        tmpDf = pd.DataFrame([data], columns = cols)\n",
    "        df = pd.concat([df, tmpDf])\n",
    "    return df"
   ]
  },
  {
   "cell_type": "code",
   "execution_count": null,
   "metadata": {},
   "outputs": [],
   "source": [
    "getValueFromGraphQL(data, ['count','protocol'])"
   ]
  },
  {
   "cell_type": "code",
   "execution_count": null,
   "metadata": {},
   "outputs": [],
   "source": [
    "a.concat(b)"
   ]
  },
  {
   "cell_type": "code",
   "execution_count": null,
   "metadata": {},
   "outputs": [],
   "source": [
    "b"
   ]
  },
  {
   "cell_type": "code",
   "execution_count": null,
   "metadata": {},
   "outputs": [],
   "source": []
  },
  {
   "cell_type": "code",
   "execution_count": null,
   "metadata": {},
   "outputs": [],
   "source": []
  },
  {
   "cell_type": "code",
   "execution_count": null,
   "metadata": {},
   "outputs": [],
   "source": [
    "cols = ['count', 'protocol']\n",
    "df = pd.DataFrame(columns = cols)\n",
    "tmpDf = df"
   ]
  },
  {
   "cell_type": "code",
   "execution_count": null,
   "metadata": {},
   "outputs": [],
   "source": [
    "for i in range(0,len(a)):\n",
    "    \n",
    "    tmpDf = pd.DataFrame([[a[i], b[i]]], columns = cols)\n",
    "    df = pd.concat([df, tmpDf])\n"
   ]
  },
  {
   "cell_type": "code",
   "execution_count": null,
   "metadata": {},
   "outputs": [],
   "source": [
    "data.to_dict()"
   ]
  },
  {
   "cell_type": "code",
   "execution_count": null,
   "metadata": {},
   "outputs": [],
   "source": [
    "df"
   ]
  },
  {
   "cell_type": "code",
   "execution_count": null,
   "metadata": {},
   "outputs": [],
   "source": [
    "import datetime    \n",
    "\n",
    "start = datetime.datetime(2013, 1, 1)\n",
    "end = datetime.datetime(2016, 1, 27)"
   ]
  },
  {
   "cell_type": "code",
   "execution_count": null,
   "metadata": {},
   "outputs": [],
   "source": [
    "start"
   ]
  },
  {
   "cell_type": "code",
   "execution_count": null,
   "metadata": {},
   "outputs": [],
   "source": [
    "from classes import utilities_v1_0_0_0 as utilities\n",
    "util = utilities.utilities()\n",
    "info = util.getFrameworkInfo()"
   ]
  },
  {
   "cell_type": "code",
   "execution_count": null,
   "metadata": {},
   "outputs": [],
   "source": [
    "print(info['Resources']['v1_0_0_0_resource_link'])"
   ]
  },
  {
   "cell_type": "code",
   "execution_count": 2,
   "metadata": {},
   "outputs": [
    {
     "name": "stderr",
     "output_type": "stream",
     "text": [
      "100%|██████████| 10/10 [00:30<00:00,  3.00s/it]\n"
     ]
    }
   ],
   "source": [
    "from time import sleep\n",
    "from tqdm import tqdm\n",
    "for i in tqdm(range(10)):\n",
    "    sleep(3)"
   ]
  },
  {
   "cell_type": "code",
   "execution_count": null,
   "metadata": {},
   "outputs": [],
   "source": []
  },
  {
   "cell_type": "code",
   "execution_count": null,
   "metadata": {},
   "outputs": [],
   "source": [
    "from classes import unitTest_v1_0_0_0 as blockchain\n",
    "\n",
    "class blockchain_v1_0_0_0_unitTest():\n",
    "\n",
    "    def ___init__(self, name):\n",
    "        self.name = name\n",
    "        \n",
    "    def test_web3Connection_infura(self):\n",
    "        \n",
    "        blockchain = blockchain.blockchain()\n",
    "        INFURA_ID = '40816bb42ce34f808b4afe219e9d41cb' #change it with your own id\n",
    "        connectionString = 'https://mainnet.infura.io/v3/{0}'.format(INFURA_ID)\n",
    "\n",
    "        self.assertEqual(blockchain.blockchainConnection(connectionString).isConnected(), True)\n"
   ]
  },
  {
   "cell_type": "code",
   "execution_count": null,
   "metadata": {},
   "outputs": [],
   "source": [
    "# Only for develop\n",
    "ETHERSCAN_API_KEY = 'EWYSGQ5PEK84PRCNSCKHHZWJIWWKYYABCE' \n",
    "BSCSCAN_API_KEY = 'I6ZZ57GWAS39M85QC4AJFC43Y5DUA8IU8I'\n",
    "CONNECTION_STRING = 'https://mainnet.infura.io/v3/40816bb42ce34f808b4afe219e9d41cb'\n",
    "TESTADDRESS = '0x70e36f6bf80a52b3b46b3af8e106cc0ed743e8e4' #COMPOUND\n",
    "TXHASHTEST = '0x7a4e0d863a1c8da97bf94bc8880d61b3f716bb10c3961f46b1290840097cb175' # ON BINANCE"
   ]
  },
  {
   "cell_type": "code",
   "execution_count": null,
   "metadata": {},
   "outputs": [],
   "source": [
    "from classes import blockchain_v1_0_0_0 as blockchain\n",
    "import pandas as pd\n",
    "blockchain = blockchain.blockchain()\n",
    "dynamicClassFolder = 'classes/dynamicClass'\n",
    "#_smartContractAddress = '0x70e36f6bf80a52b3b46b3af8e106cc0ed743e8e4'\n",
    "fileName = 'dynamic_events.py'\n",
    "file = open(\"{0}/{1}\".format(dynamicClassFolder, fileName), 'w')\n",
    "\n",
    "dfSmartContract = pd.read_csv('data/smartContract.csv')\n",
    "for indexSmartContract in range(0, len(dfSmartContract)):\n",
    "    (nameAddress, address) = (dfSmartContract['NameAddress'][indexSmartContract], dfSmartContract['Address'][indexSmartContract])\n",
    "    (smartContract, ABI) = blockchain.getContract(address, ETHERSCAN_API_KEY, CONNECTION_STRING)   \n",
    "    blockchain.saveContractData(address, smartContract, ABI) #save events and functions names on data/contracts/{address}\n",
    "    dfEvents = pd.read_csv('data/contracts/{0}/events.csv'.format(address))\n",
    "    if(len(dfEvents)>0):\n",
    "        file.writelines(\"\\n\\nif(contractName == '{0}'): # {1}\\n\\n\".format(address.lower(), nameAddress))\n",
    "        for indexEvents in range(0, len(dfEvents)):\n",
    "            file.writelines(\"    eventList.append(_contract.events.{0}()):\\n\".format(dfEvents['event'][indexEvents]))\n",
    "\n",
    "#ADD THE SAME LOGIC TO FUNCTIONS\n",
    "file.close() "
   ]
  },
  {
   "cell_type": "code",
   "execution_count": null,
   "metadata": {},
   "outputs": [],
   "source": [
    "# Run by terminal if these modules are not in your enviroment\n",
    "# pip install pandas-datareader\n",
    "# pip3 install tensorflow\n",
    "# pip install numpy\n",
    "# pip install pandas\n",
    "# pip install matplotlib\n",
    "# pip install scipy\n",
    "# pip install -U scikit-learn\n",
    "# pip install keras\n",
    "# pip install get-all-tickers\n",
    "# pip install \"graphene>=2.0\"\n",
    "\n",
    "# Web3 libraries\n",
    "\n",
    "from web3 import Web3\n",
    "\n",
    "# Data Transformation/Analysis libraries\n",
    "\n",
    "import pandas as pd\n",
    "import numpy as np\n",
    "import pandasql as psql\n",
    "import string\n",
    "import re\n",
    "import math\n",
    "\n",
    "# Data Reader libraries\n",
    "\n",
    "import pandas_datareader as web\n",
    "import requests\n",
    "\n",
    "# Models libraries\n",
    "\n",
    "from sklearn.preprocessing import MinMaxScaler\n",
    "from keras.models import Sequential\n",
    "from keras.layers import Dense, LSTM\n",
    "import matplotlib.pyplot as plt\n",
    "\n",
    "# OS libraries\n",
    "\n",
    "from datetime import datetime\n",
    "import os\n",
    "from os import listdir\n",
    "from os import path\n",
    "from os.path import isfile, join, isdir\n",
    "from datetime import datetime\n",
    "import sys\n",
    "\n",
    "# Process libraries\n",
    "\n",
    "import warnings\n",
    "\n",
    "# Library default Settings\n",
    "\n",
    "plt.style.use('fivethirtyeight')"
   ]
  },
  {
   "cell_type": "code",
   "execution_count": null,
   "metadata": {},
   "outputs": [],
   "source": [
    "CONTRACT_FOLDER = 'data/contracts'\n",
    "contractList = [f for f in listdir(CONTRACT_FOLDER) if isdir(join(CONTRACT_FOLDER, f))]\n",
    "\n",
    "eventPrefix = 'event_'\n",
    "blockNumberDf = pd.DataFrame()\n",
    "dfList = {}\n",
    "print(contractList)\n",
    "for contractFolder in contractList:\n",
    "    if(contractFolder != '.ipynb_checkpoints'):\n",
    "        cFolder = CONTRACT_FOLDER+'/'+contractFolder\n",
    "        eventsDataList = [f for f in listdir(cFolder) if isfile(join(cFolder, f))]\n",
    "        print(eventsDataList)\n",
    "        for eventsData in eventsDataList:\n",
    "            if(eventsData[0:len(eventPrefix)] == eventPrefix):\n",
    "                tmpDf = pd.read_csv(cFolder+'/'+eventsData)\n",
    "                indexKey = 0\n",
    "                foundKey = 0\n",
    "                for key in tmpDf.keys():\n",
    "                    if(key == 'blockHash'):\n",
    "                        foundKey = indexKey\n",
    "                    indexKey = indexKey + 1\n",
    "                # KEYNAME EXAMPLE: A6F6BF_CASHPRIOR. A = ADDRESS, 6F6BF = LAST 5 DIGITS OF THE ADDRESS, CASHPRIOR = EVENT NAME\n",
    "                keyName = 'A'+contractFolder.replace(\" \", \"_\")[len(contractFolder)-5:len(contractFolder)]+\"_\"+eventsData[len(eventPrefix):len(eventsData)-20] \n",
    "                keyName = keyName.upper()\n",
    "                dfList[keyName] = tmpDf.iloc[:, 1:foundKey]\n",
    "                dfList[keyName]['blockNumber'] = tmpDf['blockNumber']\n",
    "                blockNumberDf = pd.concat([blockNumberDf, tmpDf['blockNumber']])\n",
    "\n",
    "blockNumberList = pd.DataFrame(blockNumberDf[0].unique(), columns = ['blockNumber'])\n",
    "\n",
    "sql = \"SELECT {0} FROM blockNumberList A \"\n",
    "colsBase = 'A.blockNumber, '\n",
    "cols = colsBase\n",
    "print(dfList.keys())\n",
    "for key in dfList.keys():\n",
    "    groupCols = []\n",
    "    afterCols = []\n",
    "    for keyColumn in dfList[key].keys():\n",
    "        if(keyColumn == 'from'): #special word\n",
    "            dfList[key].rename(columns={'from':'fromAddress'}, inplace=True)\n",
    "            keyColumn = 'fromAddress'\n",
    "        if(keyColumn == 'to'): #special word\n",
    "            dfList[key].rename(columns={'to':'toAddress'}, inplace=True)\n",
    "            keyColumn = 'toAddress'\n",
    "        if(keyColumn != 'blockNumber'):\n",
    "            groupCols.append('MAX('+keyColumn+') AS '+key+'_'+keyColumn+',')\n",
    "            afterCols.append(key+'_'+keyColumn+', ')\n",
    "    selectGroup = ' '.join(groupCols)\n",
    "    selectGroupBase = ' '.join(afterCols)\n",
    "    cols = cols + selectGroup\n",
    "\n",
    "    df = dfList[key]\n",
    "    joinStatement = \"LEFT JOIN df B on A.blockNumber = B.blockNumber \"\n",
    "    groupByStatement = \"GROUP BY A.blockNumber ORDER BY A.blockNumber\"\n",
    "    finalSql = sql.format(cols[0:len(cols)-1])+joinStatement+groupByStatement\n",
    "    colsBase = colsBase + selectGroupBase\n",
    "    cols = colsBase\n",
    "    print(\"{0} event was imported\".format(key))\n",
    "    blockNumberList = psql.sqldf(finalSql)\n",
    "\n",
    "dt = datetime.now().strftime(\"%Y%m%d_%H%M%S\")\n",
    "blockNumberList.to_csv('{0}/smartContractsLogsGrouped_{1}.csv'.format(CONTRACT_FOLDER, dt))\n",
    "print('File saved on {0}/smartContractsLogsGrouped_{1}.csv'.format(CONTRACT_FOLDER, dt))"
   ]
  },
  {
   "cell_type": "code",
   "execution_count": 1,
   "metadata": {},
   "outputs": [
    {
     "ename": "KeyError",
     "evalue": "'self.__test'",
     "output_type": "error",
     "traceback": [
      "\u001b[0;31m---------------------------------------------------------------------------\u001b[0m",
      "\u001b[0;31mKeyError\u001b[0m                                  Traceback (most recent call last)",
      "\u001b[0;32m<ipython-input-1-88779f19320f>\u001b[0m in \u001b[0;36m<module>\u001b[0;34m\u001b[0m\n\u001b[1;32m      1\u001b[0m \u001b[0;32mfrom\u001b[0m \u001b[0mclasses\u001b[0m \u001b[0;32mimport\u001b[0m \u001b[0mlisteners_v1_0_0_0\u001b[0m \u001b[0;32mas\u001b[0m \u001b[0mlisteners\u001b[0m\u001b[0;34m\u001b[0m\u001b[0;34m\u001b[0m\u001b[0m\n\u001b[1;32m      2\u001b[0m \u001b[0mlisteners\u001b[0m \u001b[0;34m=\u001b[0m \u001b[0mlisteners\u001b[0m\u001b[0;34m.\u001b[0m\u001b[0mlisteners\u001b[0m\u001b[0;34m(\u001b[0m\u001b[0;34m)\u001b[0m\u001b[0;34m\u001b[0m\u001b[0;34m\u001b[0m\u001b[0m\n\u001b[0;32m----> 3\u001b[0;31m \u001b[0mlisteners\u001b[0m\u001b[0;34m.\u001b[0m\u001b[0mnewListener\u001b[0m\u001b[0;34m(\u001b[0m\u001b[0;34m'ID'\u001b[0m\u001b[0;34m,\u001b[0m \u001b[0;34m[\u001b[0m\u001b[0;34m'test'\u001b[0m\u001b[0;34m]\u001b[0m\u001b[0;34m,\u001b[0m \u001b[0;34m[\u001b[0m\u001b[0;36m5\u001b[0m\u001b[0;34m]\u001b[0m\u001b[0;34m,\u001b[0m \u001b[0;36m2\u001b[0m\u001b[0;34m)\u001b[0m\u001b[0;34m\u001b[0m\u001b[0;34m\u001b[0m\u001b[0m\n\u001b[0m",
      "\u001b[0;32m~/Documents/GitHub/AIDeFi/classes/listeners_v1_0_0_0.py\u001b[0m in \u001b[0;36mnewListener\u001b[0;34m(self, _ID, _listenerNameList, _sleepList, _sleepAfter)\u001b[0m\n\u001b[1;32m     50\u001b[0m                     \u001b[0mindex\u001b[0m \u001b[0;34m=\u001b[0m \u001b[0;36m0\u001b[0m\u001b[0;34m\u001b[0m\u001b[0;34m\u001b[0m\u001b[0m\n\u001b[1;32m     51\u001b[0m                     \u001b[0;32mfor\u001b[0m \u001b[0mlistener\u001b[0m \u001b[0;32min\u001b[0m \u001b[0m_listenerNameList\u001b[0m\u001b[0;34m:\u001b[0m\u001b[0;34m\u001b[0m\u001b[0;34m\u001b[0m\u001b[0m\n\u001b[0;32m---> 52\u001b[0;31m                         \u001b[0mglobals\u001b[0m\u001b[0;34m(\u001b[0m\u001b[0;34m)\u001b[0m\u001b[0;34m[\u001b[0m\u001b[0;34m'self.__{0}'\u001b[0m\u001b[0;34m.\u001b[0m\u001b[0mformat\u001b[0m\u001b[0;34m(\u001b[0m\u001b[0mlistener\u001b[0m\u001b[0;34m)\u001b[0m\u001b[0;34m]\u001b[0m\u001b[0;34m(\u001b[0m\u001b[0;34m)\u001b[0m\u001b[0;34m\u001b[0m\u001b[0;34m\u001b[0m\u001b[0m\n\u001b[0m\u001b[1;32m     53\u001b[0m                         \u001b[0;31m#self.__runListener(listener, _sleepAfter)\u001b[0m\u001b[0;34m\u001b[0m\u001b[0;34m\u001b[0m\u001b[0;34m\u001b[0m\u001b[0m\n\u001b[1;32m     54\u001b[0m                         \u001b[0mtime\u001b[0m\u001b[0;34m.\u001b[0m\u001b[0msleep\u001b[0m\u001b[0;34m(\u001b[0m\u001b[0m_sleepList\u001b[0m\u001b[0;34m[\u001b[0m\u001b[0mindex\u001b[0m\u001b[0;34m]\u001b[0m\u001b[0;34m)\u001b[0m \u001b[0;31m# seconds\u001b[0m\u001b[0;34m\u001b[0m\u001b[0;34m\u001b[0m\u001b[0m\n",
      "\u001b[0;31mKeyError\u001b[0m: 'self.__test'"
     ]
    }
   ],
   "source": [
    "from classes import listeners_v1_0_0_0 as listeners\n",
    "listeners = listeners.listeners()\n",
    "listeners.newListener('ID', ['test'], [5], 2)"
   ]
  },
  {
   "cell_type": "code",
   "execution_count": null,
   "metadata": {},
   "outputs": [
    {
     "data": {
      "application/vnd.jupyter.widget-view+json": {
       "model_id": "65c18ceaf1874a81b9349ad4b3625b3b",
       "version_major": 2,
       "version_minor": 0
      },
      "text/plain": [
       "HBox(children=(HTML(value=''), FloatProgress(value=0.0), HTML(value='')))"
      ]
     },
     "metadata": {},
     "output_type": "display_data"
    },
    {
     "name": "stderr",
     "output_type": "stream",
     "text": [
      "\n",
      "\n",
      "\n",
      "\n",
      "\n",
      "\n",
      "\n",
      "\n",
      "\u001b[A\u001b[A\u001b[A\u001b[A\u001b[A\u001b[A\u001b[A\u001b[A                        \n",
      "\n",
      "\n",
      "\n",
      "\n",
      "\n",
      "\n",
      "\n",
      " 90%|█████████ | 90/100 [03:46<00:25,  2.52s/it]\u001b[A\u001b[A\u001b[A\u001b[A\u001b[A\u001b[A\u001b[A\u001b[A"
     ]
    },
    {
     "name": "stdout",
     "output_type": "stream",
     "text": [
      "processed: 0\n"
     ]
    },
    {
     "name": "stderr",
     "output_type": "stream",
     "text": [
      "\n",
      "\n",
      "\n",
      "\n",
      "\n",
      "\n",
      "\n",
      "\n",
      "\u001b[A\u001b[A\u001b[A\u001b[A\u001b[A\u001b[A\u001b[A\u001b[A                        \n",
      "\n",
      "\n",
      "\n",
      "\n",
      "\n",
      "\n",
      "\n",
      " 90%|█████████ | 90/100 [03:47<00:25,  2.53s/it]\u001b[A\u001b[A\u001b[A\u001b[A\u001b[A\u001b[A\u001b[A\u001b[A"
     ]
    },
    {
     "name": "stdout",
     "output_type": "stream",
     "text": [
      "processed: 1\n"
     ]
    },
    {
     "name": "stderr",
     "output_type": "stream",
     "text": [
      "\n",
      "\n",
      "\n",
      "\n",
      "\n",
      "\n",
      "\n",
      "\n",
      "\u001b[A\u001b[A\u001b[A\u001b[A\u001b[A\u001b[A\u001b[A\u001b[A                        \n",
      "\n",
      "\n",
      "\n",
      "\n",
      "\n",
      "\n",
      "\n",
      " 90%|█████████ | 90/100 [03:48<00:25,  2.54s/it]\u001b[A\u001b[A\u001b[A\u001b[A\u001b[A\u001b[A\u001b[A\u001b[A"
     ]
    },
    {
     "name": "stdout",
     "output_type": "stream",
     "text": [
      "processed: 2\n"
     ]
    },
    {
     "name": "stderr",
     "output_type": "stream",
     "text": [
      "\n",
      "\n",
      "\n",
      "\n",
      "\n",
      "\n",
      "\n",
      "\n",
      "\u001b[A\u001b[A\u001b[A\u001b[A\u001b[A\u001b[A\u001b[A\u001b[A                        \n",
      "\n",
      "\n",
      "\n",
      "\n",
      "\n",
      "\n",
      "\n",
      " 90%|█████████ | 90/100 [03:49<00:25,  2.55s/it]\u001b[A\u001b[A\u001b[A\u001b[A\u001b[A\u001b[A\u001b[A\u001b[A"
     ]
    },
    {
     "name": "stdout",
     "output_type": "stream",
     "text": [
      "processed: 3\n"
     ]
    },
    {
     "name": "stderr",
     "output_type": "stream",
     "text": [
      "\n",
      "\n",
      "\n",
      "\n",
      "\n",
      "\n",
      "\n",
      "\n",
      "\u001b[A\u001b[A\u001b[A\u001b[A\u001b[A\u001b[A\u001b[A\u001b[A                        \n",
      "\n",
      "\n",
      "\n",
      "\n",
      "\n",
      "\n",
      "\n",
      " 90%|█████████ | 90/100 [03:50<00:25,  2.56s/it]\u001b[A\u001b[A\u001b[A\u001b[A\u001b[A\u001b[A\u001b[A\u001b[A"
     ]
    },
    {
     "name": "stdout",
     "output_type": "stream",
     "text": [
      "processed: 4\n"
     ]
    },
    {
     "name": "stderr",
     "output_type": "stream",
     "text": [
      "\n",
      "\n",
      "\n",
      "\n",
      "\n",
      "\n",
      "\n",
      "\n",
      "\u001b[A\u001b[A\u001b[A\u001b[A\u001b[A\u001b[A\u001b[A\u001b[A                        \n",
      "\n",
      "\n",
      "\n",
      "\n",
      "\n",
      "\n",
      "\n",
      " 90%|█████████ | 90/100 [03:51<00:25,  2.57s/it]\u001b[A\u001b[A\u001b[A\u001b[A\u001b[A\u001b[A\u001b[A\u001b[A"
     ]
    },
    {
     "name": "stdout",
     "output_type": "stream",
     "text": [
      "processed: 5\n"
     ]
    },
    {
     "name": "stderr",
     "output_type": "stream",
     "text": [
      "\n",
      "\n",
      "\n",
      "\n",
      "\n",
      "\n",
      "\n",
      "\n",
      "\u001b[A\u001b[A\u001b[A\u001b[A\u001b[A\u001b[A\u001b[A\u001b[A                        \n",
      "\n",
      "\n",
      "\n",
      "\n",
      "\n",
      "\n",
      "\n",
      " 90%|█████████ | 90/100 [03:52<00:25,  2.59s/it]\u001b[A\u001b[A\u001b[A\u001b[A\u001b[A\u001b[A\u001b[A\u001b[A"
     ]
    },
    {
     "name": "stdout",
     "output_type": "stream",
     "text": [
      "processed: 6\n"
     ]
    },
    {
     "name": "stderr",
     "output_type": "stream",
     "text": [
      "\n",
      "\n",
      "\n",
      "\n",
      "\n",
      "\n",
      "\n",
      "\n",
      "\u001b[A\u001b[A\u001b[A\u001b[A\u001b[A\u001b[A\u001b[A\u001b[A                        \n",
      "\n",
      "\n",
      "\n",
      "\n",
      "\n",
      "\n",
      "\n",
      " 90%|█████████ | 90/100 [03:53<00:25,  2.60s/it]\u001b[A\u001b[A\u001b[A\u001b[A\u001b[A\u001b[A\u001b[A\u001b[A"
     ]
    },
    {
     "name": "stdout",
     "output_type": "stream",
     "text": [
      "processed: 7\n"
     ]
    }
   ],
   "source": [
    "from tqdm.notebook import tqdm\n",
    "from time import sleep\n",
    "pbar = tqdm(range(100), leave=True)\n",
    "for i in range(100):\n",
    "    pbar.write('processed: {}'.format(i))\n",
    "    pbar.update(1)\n",
    "    sleep(1)"
   ]
  },
  {
   "cell_type": "code",
   "execution_count": null,
   "metadata": {},
   "outputs": [],
   "source": []
  },
  {
   "cell_type": "code",
   "execution_count": 1,
   "metadata": {},
   "outputs": [
    {
     "name": "stdout",
     "output_type": "stream",
     "text": [
      "{'node_info': {'protocol_version': {'p2p': '7', 'block': '10', 'app': '0'}, 'id': 'f472dfd594de250acce7ce65c85ec2936f291377', 'listen_addr': 'tcp://0.0.0.0:26656', 'network': 'columbus-4', 'version': '0.33.9', 'channels': '4020212223303800', 'moniker': 'rpc4', 'other': {'tx_index': 'on', 'rpc_address': 'tcp://10.0.30.45:26657'}}, 'application_version': {'name': 'terra', 'server_name': 'terrad', 'client_name': 'terracli', 'version': '0.4.2-rc0-25-gb53f1bc', 'commit': 'b53f1bc72f018806f62b8770256902721b8e499d', 'build_tags': 'netgo ledger muslc,', 'go': 'go version go1.14.4 linux/amd64', 'build_deps': ['github.com/99designs/keyring@v1.1.6', 'github.com/ChainSafe/go-schnorrkel@v0.0.0-20200405005733-88cbf1b4c40d', 'github.com/CosmWasm/go-cosmwasm@v0.10.0 => github.com/terra-project/go-cosmwasm@v0.10.4', 'github.com/Workiva/go-datastructures@v1.0.52', 'github.com/bartekn/go-bip39@v0.0.0-20171116152956-a05967ea095d', 'github.com/beorn7/perks@v1.0.1', 'github.com/bgentry/speakeasy@v0.1.0', 'github.com/btcsuite/btcd@v0.20.1-beta', 'github.com/btcsuite/btcutil@v1.0.2', 'github.com/cespare/xxhash/v2@v2.1.1', 'github.com/cosmos/cosmos-sdk@v0.39.2 => github.com/terra-project/cosmos-sdk@v0.39.2-public.4', 'github.com/cosmos/go-bip39@v0.0.0-20180819234021-555e2067c45d', 'github.com/cosmos/ledger-cosmos-go@v0.11.1 => github.com/terra-project/ledger-terra-go@v0.11.1-terra', 'github.com/cosmos/ledger-go@v0.9.2', 'github.com/davecgh/go-spew@v1.1.1', 'github.com/dvsekhvalnov/jose2go@v0.0.0-20200901110807-248326c1351b', 'github.com/fsnotify/fsnotify@v1.4.7', 'github.com/go-kit/kit@v0.10.0', 'github.com/go-logfmt/logfmt@v0.5.0', 'github.com/godbus/dbus@v0.0.0-20190726142602-4481cbc300e2', 'github.com/gogo/protobuf@v1.3.1', 'github.com/golang/protobuf@v1.4.1', 'github.com/golang/snappy@v0.0.2', 'github.com/google/btree@v1.0.0', 'github.com/gorilla/handlers@v1.4.2', 'github.com/gorilla/mux@v1.7.4', 'github.com/gorilla/websocket@v1.4.2', 'github.com/gsterjov/go-libsecret@v0.0.0-20161001094733-a6f4afe4910c', 'github.com/gtank/merlin@v0.1.1', 'github.com/gtank/ristretto255@v0.1.2', 'github.com/hashicorp/golang-lru@v0.5.4', 'github.com/hashicorp/hcl@v1.0.0', 'github.com/libp2p/go-buffer-pool@v0.0.2', 'github.com/magiconair/properties@v1.8.1', 'github.com/mattn/go-isatty@v0.0.12', 'github.com/matttproud/golang_protobuf_extensions@v1.0.1', 'github.com/mimoo/StrobeGo@v0.0.0-20181016162300-f8f6d4d2b643', 'github.com/minio/highwayhash@v1.0.0', 'github.com/mitchellh/go-homedir@v1.1.0', 'github.com/mitchellh/mapstructure@v1.1.2', 'github.com/mtibben/percent@v0.2.1', 'github.com/pelletier/go-toml@v1.6.0', 'github.com/pkg/errors@v0.9.1', 'github.com/pmezard/go-difflib@v1.0.0', 'github.com/prometheus/client_golang@v1.5.1', 'github.com/prometheus/client_model@v0.2.0', 'github.com/prometheus/common@v0.9.1', 'github.com/prometheus/procfs@v0.0.8', 'github.com/rakyll/statik@v0.1.6', 'github.com/rcrowley/go-metrics@v0.0.0-20200313005456-10cdbea86bc0', 'github.com/rs/cors@v1.7.0', 'github.com/spf13/afero@v1.2.1', 'github.com/spf13/cast@v1.3.0', 'github.com/spf13/cobra@v1.0.0', 'github.com/spf13/jwalterweatherman@v1.1.0', 'github.com/spf13/pflag@v1.0.5', 'github.com/spf13/viper@v1.6.3', 'github.com/stretchr/testify@v1.6.1', 'github.com/subosito/gotenv@v1.2.0', 'github.com/syndtr/goleveldb@v1.0.1-0.20190923125748-758128399b1d', 'github.com/tendermint/btcd@v0.1.1', 'github.com/tendermint/crypto@v0.0.0-20191022145703-50d29ede1e15', 'github.com/tendermint/go-amino@v0.15.1', 'github.com/tendermint/iavl@v0.14.1', 'github.com/tendermint/tendermint@v0.33.9', 'github.com/tendermint/tm-db@v0.5.1', 'github.com/zondax/hid@v0.9.0', 'golang.org/x/crypto@v0.0.0-20200622213623-75b288015ac9', 'golang.org/x/net@v0.0.0-20201010224723-4f7140c49acb', 'golang.org/x/sys@v0.0.0-20201013132646-2da7054afaeb', 'golang.org/x/text@v0.3.3', 'google.golang.org/genproto@v0.0.0-20200526211855-cb27e3aa2013', 'google.golang.org/grpc@v1.30.0', 'google.golang.org/protobuf@v1.25.0', 'gopkg.in/ini.v1@v1.51.0', 'gopkg.in/yaml.v2@v2.3.0', 'gopkg.in/yaml.v3@v3.0.0-20200313102051-9f266ea9e77c']}}\n"
     ]
    }
   ],
   "source": [
    "from classes import terraChain_v1_0_0_0 as terraChain\n",
    "terraChain = terraChain.terraChain()\n",
    "terra = terraChain.connect()\n",
    "print(terra.tendermint.node_info())"
   ]
  },
  {
   "cell_type": "code",
   "execution_count": 2,
   "metadata": {},
   "outputs": [
    {
     "data": {
      "text/plain": [
       "'3919016'"
      ]
     },
     "execution_count": 2,
     "metadata": {},
     "output_type": "execute_result"
    }
   ],
   "source": [
    "terra.tendermint.block_info()['block']['header']['height']"
   ]
  },
  {
   "cell_type": "code",
   "execution_count": 4,
   "metadata": {},
   "outputs": [
    {
     "ename": "LCDResponseError",
     "evalue": "Status 500 - contract query failed: parsing cw20_base::msg::QueryMsg: missing field `address`",
     "output_type": "error",
     "traceback": [
      "\u001b[0;31m---------------------------------------------------------------------------\u001b[0m",
      "\u001b[0;31mLCDResponseError\u001b[0m                          Traceback (most recent call last)",
      "\u001b[0;32m<ipython-input-4-56c3d769c3b2>\u001b[0m in \u001b[0;36m<module>\u001b[0;34m\u001b[0m\n\u001b[0;32m----> 1\u001b[0;31m \u001b[0mresult\u001b[0m \u001b[0;34m=\u001b[0m \u001b[0mterra\u001b[0m\u001b[0;34m.\u001b[0m\u001b[0mwasm\u001b[0m\u001b[0;34m.\u001b[0m\u001b[0mcontract_query\u001b[0m\u001b[0;34m(\u001b[0m\u001b[0;34m'terra14z56l0fp2lsf86zy3hty2z47ezkhnthtr9yq76'\u001b[0m\u001b[0;34m,\u001b[0m \u001b[0;34m{\u001b[0m\u001b[0;34m\"balance\"\u001b[0m\u001b[0;34m:\u001b[0m \u001b[0;34m{\u001b[0m\u001b[0;34m}\u001b[0m\u001b[0;34m}\u001b[0m\u001b[0;34m)\u001b[0m\u001b[0;34m\u001b[0m\u001b[0;34m\u001b[0m\u001b[0m\n\u001b[0m\u001b[1;32m      2\u001b[0m \u001b[0mprint\u001b[0m\u001b[0;34m(\u001b[0m\u001b[0mresult\u001b[0m\u001b[0;34m)\u001b[0m\u001b[0;34m\u001b[0m\u001b[0;34m\u001b[0m\u001b[0m\n",
      "\u001b[0;32m/opt/anaconda3/lib/python3.8/site-packages/terra_sdk/client/lcd/api/_base.py\u001b[0m in \u001b[0;36mdecorator\u001b[0;34m(wrapped, instance, args, kwargs)\u001b[0m\n\u001b[1;32m     27\u001b[0m     \u001b[0;34m@\u001b[0m\u001b[0mwrapt\u001b[0m\u001b[0;34m.\u001b[0m\u001b[0mdecorator\u001b[0m\u001b[0;34m\u001b[0m\u001b[0;34m\u001b[0m\u001b[0m\n\u001b[1;32m     28\u001b[0m     \u001b[0;32mdef\u001b[0m \u001b[0mdecorator\u001b[0m\u001b[0;34m(\u001b[0m\u001b[0mwrapped\u001b[0m\u001b[0;34m,\u001b[0m \u001b[0minstance\u001b[0m\u001b[0;34m,\u001b[0m \u001b[0margs\u001b[0m\u001b[0;34m,\u001b[0m \u001b[0mkwargs\u001b[0m\u001b[0;34m)\u001b[0m\u001b[0;34m:\u001b[0m\u001b[0;34m\u001b[0m\u001b[0;34m\u001b[0m\u001b[0m\n\u001b[0;32m---> 29\u001b[0;31m         \u001b[0;32mreturn\u001b[0m \u001b[0minstance\u001b[0m\u001b[0;34m.\u001b[0m\u001b[0m_run_sync\u001b[0m\u001b[0;34m(\u001b[0m\u001b[0masync_call\u001b[0m\u001b[0;34m(\u001b[0m\u001b[0minstance\u001b[0m\u001b[0;34m,\u001b[0m \u001b[0;34m*\u001b[0m\u001b[0margs\u001b[0m\u001b[0;34m,\u001b[0m \u001b[0;34m**\u001b[0m\u001b[0mkwargs\u001b[0m\u001b[0;34m)\u001b[0m\u001b[0;34m)\u001b[0m\u001b[0;34m\u001b[0m\u001b[0;34m\u001b[0m\u001b[0m\n\u001b[0m\u001b[1;32m     30\u001b[0m \u001b[0;34m\u001b[0m\u001b[0m\n\u001b[1;32m     31\u001b[0m     \u001b[0;32mreturn\u001b[0m \u001b[0mdecorator\u001b[0m\u001b[0;34m\u001b[0m\u001b[0;34m\u001b[0m\u001b[0m\n",
      "\u001b[0;32m/opt/anaconda3/lib/python3.8/site-packages/terra_sdk/client/lcd/api/_base.py\u001b[0m in \u001b[0;36m_run_sync\u001b[0;34m(self, coroutine)\u001b[0m\n\u001b[1;32m     11\u001b[0m     \u001b[0;32mdef\u001b[0m \u001b[0m_run_sync\u001b[0m\u001b[0;34m(\u001b[0m\u001b[0mself\u001b[0m\u001b[0;34m,\u001b[0m \u001b[0mcoroutine\u001b[0m\u001b[0;34m)\u001b[0m\u001b[0;34m:\u001b[0m\u001b[0;34m\u001b[0m\u001b[0;34m\u001b[0m\u001b[0m\n\u001b[1;32m     12\u001b[0m         \u001b[0;34m\"\"\"Runs an asynchronous coroutine synchronously.\"\"\"\u001b[0m\u001b[0;34m\u001b[0m\u001b[0;34m\u001b[0m\u001b[0m\n\u001b[0;32m---> 13\u001b[0;31m         \u001b[0;32mreturn\u001b[0m \u001b[0mself\u001b[0m\u001b[0;34m.\u001b[0m\u001b[0m_c\u001b[0m\u001b[0;34m.\u001b[0m\u001b[0mloop\u001b[0m\u001b[0;34m.\u001b[0m\u001b[0mrun_until_complete\u001b[0m\u001b[0;34m(\u001b[0m\u001b[0mcoroutine\u001b[0m\u001b[0;34m)\u001b[0m\u001b[0;34m\u001b[0m\u001b[0;34m\u001b[0m\u001b[0m\n\u001b[0m\u001b[1;32m     14\u001b[0m \u001b[0;34m\u001b[0m\u001b[0m\n\u001b[1;32m     15\u001b[0m     \u001b[0;34m@\u001b[0m\u001b[0mstaticmethod\u001b[0m\u001b[0;34m\u001b[0m\u001b[0;34m\u001b[0m\u001b[0m\n",
      "\u001b[0;32m/opt/anaconda3/lib/python3.8/site-packages/nest_asyncio.py\u001b[0m in \u001b[0;36mrun_until_complete\u001b[0;34m(self, future)\u001b[0m\n\u001b[1;32m     68\u001b[0m                 raise RuntimeError(\n\u001b[1;32m     69\u001b[0m                     'Event loop stopped before Future completed.')\n\u001b[0;32m---> 70\u001b[0;31m             \u001b[0;32mreturn\u001b[0m \u001b[0mf\u001b[0m\u001b[0;34m.\u001b[0m\u001b[0mresult\u001b[0m\u001b[0;34m(\u001b[0m\u001b[0;34m)\u001b[0m\u001b[0;34m\u001b[0m\u001b[0;34m\u001b[0m\u001b[0m\n\u001b[0m\u001b[1;32m     71\u001b[0m \u001b[0;34m\u001b[0m\u001b[0m\n\u001b[1;32m     72\u001b[0m     \u001b[0;32mdef\u001b[0m \u001b[0m_run_once\u001b[0m\u001b[0;34m(\u001b[0m\u001b[0mself\u001b[0m\u001b[0;34m)\u001b[0m\u001b[0;34m:\u001b[0m\u001b[0;34m\u001b[0m\u001b[0;34m\u001b[0m\u001b[0m\n",
      "\u001b[0;32m/opt/anaconda3/lib/python3.8/asyncio/futures.py\u001b[0m in \u001b[0;36mresult\u001b[0;34m(self)\u001b[0m\n\u001b[1;32m    176\u001b[0m         \u001b[0mself\u001b[0m\u001b[0;34m.\u001b[0m\u001b[0m__log_traceback\u001b[0m \u001b[0;34m=\u001b[0m \u001b[0;32mFalse\u001b[0m\u001b[0;34m\u001b[0m\u001b[0;34m\u001b[0m\u001b[0m\n\u001b[1;32m    177\u001b[0m         \u001b[0;32mif\u001b[0m \u001b[0mself\u001b[0m\u001b[0;34m.\u001b[0m\u001b[0m_exception\u001b[0m \u001b[0;32mis\u001b[0m \u001b[0;32mnot\u001b[0m \u001b[0;32mNone\u001b[0m\u001b[0;34m:\u001b[0m\u001b[0;34m\u001b[0m\u001b[0;34m\u001b[0m\u001b[0m\n\u001b[0;32m--> 178\u001b[0;31m             \u001b[0;32mraise\u001b[0m \u001b[0mself\u001b[0m\u001b[0;34m.\u001b[0m\u001b[0m_exception\u001b[0m\u001b[0;34m\u001b[0m\u001b[0;34m\u001b[0m\u001b[0m\n\u001b[0m\u001b[1;32m    179\u001b[0m         \u001b[0;32mreturn\u001b[0m \u001b[0mself\u001b[0m\u001b[0;34m.\u001b[0m\u001b[0m_result\u001b[0m\u001b[0;34m\u001b[0m\u001b[0;34m\u001b[0m\u001b[0m\n\u001b[1;32m    180\u001b[0m \u001b[0;34m\u001b[0m\u001b[0m\n",
      "\u001b[0;32m/opt/anaconda3/lib/python3.8/asyncio/tasks.py\u001b[0m in \u001b[0;36m__step\u001b[0;34m(***failed resolving arguments***)\u001b[0m\n\u001b[1;32m    278\u001b[0m                 \u001b[0;31m# We use the `send` method directly, because coroutines\u001b[0m\u001b[0;34m\u001b[0m\u001b[0;34m\u001b[0m\u001b[0;34m\u001b[0m\u001b[0m\n\u001b[1;32m    279\u001b[0m                 \u001b[0;31m# don't have `__iter__` and `__next__` methods.\u001b[0m\u001b[0;34m\u001b[0m\u001b[0;34m\u001b[0m\u001b[0;34m\u001b[0m\u001b[0m\n\u001b[0;32m--> 280\u001b[0;31m                 \u001b[0mresult\u001b[0m \u001b[0;34m=\u001b[0m \u001b[0mcoro\u001b[0m\u001b[0;34m.\u001b[0m\u001b[0msend\u001b[0m\u001b[0;34m(\u001b[0m\u001b[0;32mNone\u001b[0m\u001b[0;34m)\u001b[0m\u001b[0;34m\u001b[0m\u001b[0;34m\u001b[0m\u001b[0m\n\u001b[0m\u001b[1;32m    281\u001b[0m             \u001b[0;32melse\u001b[0m\u001b[0;34m:\u001b[0m\u001b[0;34m\u001b[0m\u001b[0;34m\u001b[0m\u001b[0m\n\u001b[1;32m    282\u001b[0m                 \u001b[0mresult\u001b[0m \u001b[0;34m=\u001b[0m \u001b[0mcoro\u001b[0m\u001b[0;34m.\u001b[0m\u001b[0mthrow\u001b[0m\u001b[0;34m(\u001b[0m\u001b[0mexc\u001b[0m\u001b[0;34m)\u001b[0m\u001b[0;34m\u001b[0m\u001b[0;34m\u001b[0m\u001b[0m\n",
      "\u001b[0;32m/opt/anaconda3/lib/python3.8/site-packages/terra_sdk/client/lcd/api/wasm.py\u001b[0m in \u001b[0;36mcontract_query\u001b[0;34m(self, contract_address, query)\u001b[0m\n\u001b[1;32m     42\u001b[0m         \"\"\"\n\u001b[1;32m     43\u001b[0m         \u001b[0mparams\u001b[0m \u001b[0;34m=\u001b[0m \u001b[0;34m{\u001b[0m\u001b[0;34m\"query_msg\"\u001b[0m\u001b[0;34m:\u001b[0m \u001b[0mjson\u001b[0m\u001b[0;34m.\u001b[0m\u001b[0mdumps\u001b[0m\u001b[0;34m(\u001b[0m\u001b[0mquery\u001b[0m\u001b[0;34m)\u001b[0m\u001b[0;34m}\u001b[0m\u001b[0;34m\u001b[0m\u001b[0;34m\u001b[0m\u001b[0m\n\u001b[0;32m---> 44\u001b[0;31m         \u001b[0;32mreturn\u001b[0m \u001b[0;32mawait\u001b[0m \u001b[0mself\u001b[0m\u001b[0;34m.\u001b[0m\u001b[0m_c\u001b[0m\u001b[0;34m.\u001b[0m\u001b[0m_get\u001b[0m\u001b[0;34m(\u001b[0m\u001b[0;34mf\"/wasm/contracts/{contract_address}/store\"\u001b[0m\u001b[0;34m,\u001b[0m \u001b[0mparams\u001b[0m\u001b[0;34m)\u001b[0m\u001b[0;34m\u001b[0m\u001b[0;34m\u001b[0m\u001b[0m\n\u001b[0m\u001b[1;32m     45\u001b[0m \u001b[0;34m\u001b[0m\u001b[0m\n\u001b[1;32m     46\u001b[0m     \u001b[0;32masync\u001b[0m \u001b[0;32mdef\u001b[0m \u001b[0mparameters\u001b[0m\u001b[0;34m(\u001b[0m\u001b[0mself\u001b[0m\u001b[0;34m)\u001b[0m \u001b[0;34m->\u001b[0m \u001b[0mdict\u001b[0m\u001b[0;34m:\u001b[0m\u001b[0;34m\u001b[0m\u001b[0;34m\u001b[0m\u001b[0m\n",
      "\u001b[0;32m/opt/anaconda3/lib/python3.8/site-packages/terra_sdk/client/lcd/lcdclient.py\u001b[0m in \u001b[0;36m_get\u001b[0;34m(self, *args, **kwargs)\u001b[0m\n\u001b[1;32m    241\u001b[0m         )\n\u001b[1;32m    242\u001b[0m         \u001b[0;32mtry\u001b[0m\u001b[0;34m:\u001b[0m\u001b[0;34m\u001b[0m\u001b[0;34m\u001b[0m\u001b[0m\n\u001b[0;32m--> 243\u001b[0;31m             \u001b[0mresult\u001b[0m \u001b[0;34m=\u001b[0m \u001b[0;32mawait\u001b[0m \u001b[0msuper\u001b[0m\u001b[0;34m(\u001b[0m\u001b[0;34m)\u001b[0m\u001b[0;34m.\u001b[0m\u001b[0m_get\u001b[0m\u001b[0;34m(\u001b[0m\u001b[0;34m*\u001b[0m\u001b[0margs\u001b[0m\u001b[0;34m,\u001b[0m \u001b[0;34m**\u001b[0m\u001b[0mkwargs\u001b[0m\u001b[0;34m)\u001b[0m\u001b[0;34m\u001b[0m\u001b[0;34m\u001b[0m\u001b[0m\n\u001b[0m\u001b[1;32m    244\u001b[0m         \u001b[0;32mfinally\u001b[0m\u001b[0;34m:\u001b[0m\u001b[0;34m\u001b[0m\u001b[0;34m\u001b[0m\u001b[0m\n\u001b[1;32m    245\u001b[0m             \u001b[0;32mawait\u001b[0m \u001b[0mself\u001b[0m\u001b[0;34m.\u001b[0m\u001b[0msession\u001b[0m\u001b[0;34m.\u001b[0m\u001b[0mclose\u001b[0m\u001b[0;34m(\u001b[0m\u001b[0;34m)\u001b[0m\u001b[0;34m\u001b[0m\u001b[0;34m\u001b[0m\u001b[0m\n",
      "\u001b[0;32m/opt/anaconda3/lib/python3.8/site-packages/terra_sdk/client/lcd/lcdclient.py\u001b[0m in \u001b[0;36m_get\u001b[0;34m(self, endpoint, params, raw)\u001b[0m\n\u001b[1;32m     93\u001b[0m                 \u001b[0;32mraise\u001b[0m \u001b[0mLCDResponseError\u001b[0m\u001b[0;34m(\u001b[0m\u001b[0mmessage\u001b[0m\u001b[0;34m=\u001b[0m\u001b[0mstr\u001b[0m\u001b[0;34m(\u001b[0m\u001b[0mresponse\u001b[0m\u001b[0;34m.\u001b[0m\u001b[0mreason\u001b[0m\u001b[0;34m)\u001b[0m\u001b[0;34m,\u001b[0m \u001b[0mresponse\u001b[0m\u001b[0;34m=\u001b[0m\u001b[0mresponse\u001b[0m\u001b[0;34m)\u001b[0m\u001b[0;34m\u001b[0m\u001b[0;34m\u001b[0m\u001b[0m\n\u001b[1;32m     94\u001b[0m             \u001b[0;32mif\u001b[0m \u001b[0;32mnot\u001b[0m \u001b[0;36m200\u001b[0m \u001b[0;34m<=\u001b[0m \u001b[0mresponse\u001b[0m\u001b[0;34m.\u001b[0m\u001b[0mstatus\u001b[0m \u001b[0;34m<\u001b[0m \u001b[0;36m299\u001b[0m\u001b[0;34m:\u001b[0m\u001b[0;34m\u001b[0m\u001b[0;34m\u001b[0m\u001b[0m\n\u001b[0;32m---> 95\u001b[0;31m                 \u001b[0;32mraise\u001b[0m \u001b[0mLCDResponseError\u001b[0m\u001b[0;34m(\u001b[0m\u001b[0mmessage\u001b[0m\u001b[0;34m=\u001b[0m\u001b[0mresult\u001b[0m\u001b[0;34m.\u001b[0m\u001b[0mget\u001b[0m\u001b[0;34m(\u001b[0m\u001b[0;34m\"error\"\u001b[0m\u001b[0;34m)\u001b[0m\u001b[0;34m,\u001b[0m \u001b[0mresponse\u001b[0m\u001b[0;34m=\u001b[0m\u001b[0mresponse\u001b[0m\u001b[0;34m)\u001b[0m\u001b[0;34m\u001b[0m\u001b[0;34m\u001b[0m\u001b[0m\n\u001b[0m\u001b[1;32m     96\u001b[0m         \u001b[0mself\u001b[0m\u001b[0;34m.\u001b[0m\u001b[0mlast_request_height\u001b[0m \u001b[0;34m=\u001b[0m \u001b[0mresult\u001b[0m\u001b[0;34m.\u001b[0m\u001b[0mget\u001b[0m\u001b[0;34m(\u001b[0m\u001b[0;34m\"height\"\u001b[0m\u001b[0;34m)\u001b[0m\u001b[0;34m\u001b[0m\u001b[0;34m\u001b[0m\u001b[0m\n\u001b[1;32m     97\u001b[0m         \u001b[0;32mreturn\u001b[0m \u001b[0mresult\u001b[0m \u001b[0;32mif\u001b[0m \u001b[0mraw\u001b[0m \u001b[0;32melse\u001b[0m \u001b[0mresult\u001b[0m\u001b[0;34m[\u001b[0m\u001b[0;34m\"result\"\u001b[0m\u001b[0;34m]\u001b[0m\u001b[0;34m\u001b[0m\u001b[0;34m\u001b[0m\u001b[0m\n",
      "\u001b[0;31mLCDResponseError\u001b[0m: Status 500 - contract query failed: parsing cw20_base::msg::QueryMsg: missing field `address`"
     ]
    }
   ],
   "source": [
    "result = terra.wasm.contract_query('terra14z56l0fp2lsf86zy3hty2z47ezkhnthtr9yq76', {\"balance\": {}})\n",
    "print(result)"
   ]
  },
  {
   "cell_type": "code",
   "execution_count": null,
   "metadata": {},
   "outputs": [],
   "source": []
  }
 ],
 "metadata": {
  "kernelspec": {
   "display_name": "Python 3",
   "language": "python",
   "name": "python3"
  },
  "language_info": {
   "codemirror_mode": {
    "name": "ipython",
    "version": 3
   },
   "file_extension": ".py",
   "mimetype": "text/x-python",
   "name": "python",
   "nbconvert_exporter": "python",
   "pygments_lexer": "ipython3",
   "version": "3.8.5"
  }
 },
 "nbformat": 4,
 "nbformat_minor": 4
}
