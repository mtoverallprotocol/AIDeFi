{
 "cells": [
  {
   "cell_type": "code",
   "execution_count": null,
   "metadata": {},
   "outputs": [],
   "source": [
    "# List of dependencies\n",
    "from web3 import Web3\n",
    "import pandas as pd\n",
    "import numpy as np\n",
    "import pandasql as ps\n",
    "import string\n",
    "import re"
   ]
  },
  {
   "cell_type": "code",
   "execution_count": 1,
   "metadata": {},
   "outputs": [],
   "source": [
    "class AIDeFiCore:\n",
    "    \n",
    "    def ___init__(self, name):\n",
    "        self.name = name\n",
    "    \n",
    "    def blockchainConnection(self, _connectionString):\n",
    "        if (re.search(\"(http(|s)\\:\\/\\/)\", _connectionString) != None):\n",
    "            # HTTP Provider\n",
    "            w3 = Web3(Web3.HTTPProvider(_connectionString))\n",
    "        elif (re.search(\"(\\.ipc)\", _connectionString) != None):\n",
    "            # IPC Provider\n",
    "            w3 = Web3(Web3.IPCProvider(connectionString))\n",
    "        elif (re.search(\"(ws\\:\\/\\/)\", _connectionString) != None):\n",
    "            # Web Socket Provider\n",
    "            w3 = Web3(Web3.WebsocketProvider(_connectionString))    \n",
    "        else:\n",
    "            w3 = None\n",
    "        return w3\n",
    "    \n",
    "    def getBlockArgs(self, _w3):\n",
    "        return list(w3.eth.get_block('latest').keys())\n",
    "    \n",
    "    def getEmptyBlockDataframe(self, _w3):\n",
    "        return pd.DataFrame(columns = getBlockArgs, _w3)\n",
    "    \n",
    "    def addBlockOnDataFrame(self, _block, _df, _columns):\n",
    "        _df.loc[_df.shape[0]+1] = None\n",
    "        for key in _columns:\n",
    "            if is_hex(_block[key]):\n",
    "                _df[key][_df.shape[0]] = str(_block[key].hex())\n",
    "            else:\n",
    "                _df[key][_df.shape[0]] = str(_block[key])\n",
    "                \n",
    "    def importBlockInterval(self, _w3, _df, _columns, _min, _max):\n",
    "        for indexBlock in range(_min, _max):\n",
    "            addBlockOnDataFrame(_w3.eth.get_block(indexBlock), _df, _columns)\n",
    "            \n",
    "    def is_hex(self, _arg):\n",
    "        try:\n",
    "            _arg.hex()\n",
    "            return True\n",
    "        except:\n",
    "            return False"
   ]
  },
  {
   "cell_type": "code",
   "execution_count": null,
   "metadata": {},
   "outputs": [],
   "source": []
  }
 ],
 "metadata": {
  "kernelspec": {
   "display_name": "Python 3",
   "language": "python",
   "name": "python3"
  },
  "language_info": {
   "codemirror_mode": {
    "name": "ipython",
    "version": 3
   },
   "file_extension": ".py",
   "mimetype": "text/x-python",
   "name": "python",
   "nbconvert_exporter": "python",
   "pygments_lexer": "ipython3",
   "version": "3.8.5"
  }
 },
 "nbformat": 4,
 "nbformat_minor": 4
}
