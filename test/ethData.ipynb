{
 "cells": [
  {
   "cell_type": "code",
   "execution_count": 34,
   "metadata": {},
   "outputs": [],
   "source": []
  },
  {
   "cell_type": "code",
   "execution_count": 2,
   "metadata": {},
   "outputs": [],
   "source": [
    "def importMain():\n",
    "    import os\n",
    "    import sys\n",
    "    import inspect\n",
    "    currentdir = os.path.dirname(os.path.abspath(inspect.getfile(inspect.currentframe())))\n",
    "    parentdir = os.path.dirname(currentdir)\n",
    "    sys.path.insert(0, parentdir)\n",
    "    \n",
    "importClass()\n"
   ]
  },
  {
   "cell_type": "code",
   "execution_count": null,
   "metadata": {},
   "outputs": [],
   "source": [
    "from classes import ethData\n",
    "ethData = ethData.ethData()"
   ]
  },
  {
   "cell_type": "code",
   "execution_count": 45,
   "metadata": {},
   "outputs": [],
   "source": [
    "def test_linearReSearch(showData = False):\n",
    "    ethData = importClass()\n",
    "    \n",
    "    TEST_LIST = ['TEXT LIST ONE', 'TEXT LIST TWO', 'TEXT LIST ONE TWO']\n",
    "    ELEMENT = 'TWO'\n",
    "    RESULT_EXPECTED = 1  #First valid index\n",
    "    assert ethData.linearReSearch(TEST_LIST, ELEMENT) == RESULT_EXPECTED\n",
    "    \n",
    "    if(showData):\n",
    "        print('Test List: {0}'.format(TEST_LIST))\n",
    "        print('Text to research: {0}'.format(ELEMENT))\n",
    "        print('Result Expected: {0}'.format(RESULT_EXPECTED))\n",
    "        print('Result from Function: {0}'.format(ethData.linearReSearch(TEST_LIST, ELEMENT)))\n",
    "    \n",
    "    return True"
   ]
  },
  {
   "cell_type": "code",
   "execution_count": 46,
   "metadata": {},
   "outputs": [
    {
     "data": {
      "text/plain": [
       "True"
      ]
     },
     "execution_count": 46,
     "metadata": {},
     "output_type": "execute_result"
    }
   ],
   "source": [
    "test_linearReSearch()"
   ]
  },
  {
   "cell_type": "code",
   "execution_count": 48,
   "metadata": {},
   "outputs": [],
   "source": [
    "def test_ethDataClass():\n",
    "    test_linearReSearch()"
   ]
  },
  {
   "cell_type": "code",
   "execution_count": null,
   "metadata": {},
   "outputs": [],
   "source": []
  }
 ],
 "metadata": {
  "kernelspec": {
   "display_name": "Python 3",
   "language": "python",
   "name": "python3"
  },
  "language_info": {
   "codemirror_mode": {
    "name": "ipython",
    "version": 3
   },
   "file_extension": ".py",
   "mimetype": "text/x-python",
   "name": "python",
   "nbconvert_exporter": "python",
   "pygments_lexer": "ipython3",
   "version": "3.8.5"
  }
 },
 "nbformat": 4,
 "nbformat_minor": 4
}
