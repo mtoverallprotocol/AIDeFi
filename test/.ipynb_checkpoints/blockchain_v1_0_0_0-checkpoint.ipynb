{
 "cells": [
  {
   "cell_type": "code",
   "execution_count": 34,
   "metadata": {},
   "outputs": [],
   "source": []
  },
  {
   "cell_type": "code",
   "execution_count": 36,
   "metadata": {},
   "outputs": [],
   "source": [
    "def importClass():\n",
    "    import os\n",
    "    import sys\n",
    "    import inspect\n",
    "    import unittest\n",
    "    currentdir = os.path.dirname(os.path.abspath(inspect.getfile(inspect.currentframe())))\n",
    "    parentdir = os.path.dirname(currentdir)\n",
    "    sys.path.insert(0, parentdir) \n",
    "    from classes import ethData\n",
    "    ethData = ethData.ethData()\n",
    "    return ethData"
   ]
  },
  {
   "cell_type": "code",
   "execution_count": 37,
   "metadata": {},
   "outputs": [],
   "source": [
    "def test_linearReSearch(showData):\n",
    "    ethData = importClass()\n",
    "    \n",
    "    TEST_LIST = ['TEXT LIST ONE', 'TEXT LIST TWO', 'TEXT LIST ONE TWO']\n",
    "    ELEMENT = 'TWO'\n",
    "    RESULT_EXPECTED = 1  #First valid index\n",
    "    assert ethData.linearReSearch(TEST_LIST, ELEMENT) == RESULT_EXPECTED\n",
    "    \n",
    "    if(showData):\n",
    "        print('Test List: {0}'.format(TEST_LIST))\n",
    "        print('Text to research: {0}'.format(ELEMENT))\n",
    "        print('Result Expected: {0}'.format(RESULT_EXPECTED))\n",
    "        print('Result from Function: {0}'.format(ethData.linearReSearch(TEST_LIST, ELEMENT)))"
   ]
  },
  {
   "cell_type": "code",
   "execution_count": 38,
   "metadata": {},
   "outputs": [
    {
     "ename": "NameError",
     "evalue": "name 'assertEqual' is not defined",
     "output_type": "error",
     "traceback": [
      "\u001b[0;31m---------------------------------------------------------------------------\u001b[0m",
      "\u001b[0;31mNameError\u001b[0m                                 Traceback (most recent call last)",
      "\u001b[0;32m<ipython-input-38-5dedb561afe5>\u001b[0m in \u001b[0;36m<module>\u001b[0;34m\u001b[0m\n\u001b[0;32m----> 1\u001b[0;31m \u001b[0mtest_linearReSearch\u001b[0m\u001b[0;34m(\u001b[0m\u001b[0;32mTrue\u001b[0m\u001b[0;34m)\u001b[0m\u001b[0;34m\u001b[0m\u001b[0;34m\u001b[0m\u001b[0m\n\u001b[0m",
      "\u001b[0;32m<ipython-input-37-07b3bdddf4b8>\u001b[0m in \u001b[0;36mtest_linearReSearch\u001b[0;34m(showData)\u001b[0m\n\u001b[1;32m      5\u001b[0m     \u001b[0mELEMENT\u001b[0m \u001b[0;34m=\u001b[0m \u001b[0;34m'TWO'\u001b[0m\u001b[0;34m\u001b[0m\u001b[0;34m\u001b[0m\u001b[0m\n\u001b[1;32m      6\u001b[0m     \u001b[0mRESULT_EXPECTED\u001b[0m \u001b[0;34m=\u001b[0m \u001b[0;36m1\u001b[0m  \u001b[0;31m#First valid index\u001b[0m\u001b[0;34m\u001b[0m\u001b[0;34m\u001b[0m\u001b[0m\n\u001b[0;32m----> 7\u001b[0;31m     \u001b[0massertEqual\u001b[0m\u001b[0;34m(\u001b[0m\u001b[0methData\u001b[0m\u001b[0;34m.\u001b[0m\u001b[0mlinearReSearch\u001b[0m\u001b[0;34m(\u001b[0m\u001b[0mTEST_LIST\u001b[0m\u001b[0;34m,\u001b[0m \u001b[0mELEMENT\u001b[0m\u001b[0;34m)\u001b[0m\u001b[0;34m,\u001b[0m \u001b[0mRESULT_EXPECTED\u001b[0m\u001b[0;34m)\u001b[0m\u001b[0;34m\u001b[0m\u001b[0;34m\u001b[0m\u001b[0m\n\u001b[0m\u001b[1;32m      8\u001b[0m \u001b[0;34m\u001b[0m\u001b[0m\n\u001b[1;32m      9\u001b[0m     \u001b[0;32mif\u001b[0m\u001b[0;34m(\u001b[0m\u001b[0mshowData\u001b[0m\u001b[0;34m)\u001b[0m\u001b[0;34m:\u001b[0m\u001b[0;34m\u001b[0m\u001b[0;34m\u001b[0m\u001b[0m\n",
      "\u001b[0;31mNameError\u001b[0m: name 'assertEqual' is not defined"
     ]
    }
   ],
   "source": [
    "test_linearReSearch(True)"
   ]
  },
  {
   "cell_type": "code",
   "execution_count": null,
   "metadata": {},
   "outputs": [],
   "source": [
    "def test_ethDataClass:\n",
    "    "
   ]
  }
 ],
 "metadata": {
  "kernelspec": {
   "display_name": "Python 3",
   "language": "python",
   "name": "python3"
  },
  "language_info": {
   "codemirror_mode": {
    "name": "ipython",
    "version": 3
   },
   "file_extension": ".py",
   "mimetype": "text/x-python",
   "name": "python",
   "nbconvert_exporter": "python",
   "pygments_lexer": "ipython3",
   "version": "3.8.5"
  }
 },
 "nbformat": 4,
 "nbformat_minor": 4
}
