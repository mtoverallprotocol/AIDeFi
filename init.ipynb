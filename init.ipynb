{
 "cells": [
  {
   "cell_type": "code",
   "execution_count": 1,
   "metadata": {},
   "outputs": [],
   "source": [
    "# Master file"
   ]
  },
  {
   "cell_type": "code",
   "execution_count": 21,
   "metadata": {},
   "outputs": [],
   "source": [
    "def init(installationPathFolder):\n",
    "    from os import path, listdir\n",
    "    import os\n",
    "    import configparser\n",
    "    import json\n",
    "    if(path.exists('config.ini') == True):\n",
    "        # Reading Configs\n",
    "        config = configparser.ConfigParser()\n",
    "        config.read(\"config.ini\")\n",
    "        if(path.exists('{0}'.format(installationPathFolder)) == False):\n",
    "            os.mkdir('{0}'.format(installationPathFolder))    \n",
    "        for folder in config['AIDeFi']:\n",
    "            if(path.exists('{0}/{1}'.format(installationPathFolder, folder)) == False):\n",
    "                os.mkdir('{0}/{1}'.format(installationPathFolder, folder))    "
   ]
  },
  {
   "cell_type": "code",
   "execution_count": 22,
   "metadata": {},
   "outputs": [
    {
     "name": "stdin",
     "output_type": "stream",
     "text": [
      "Select the installation path: cazzo\n"
     ]
    }
   ],
   "source": [
    "init(input(\"Select the installation path:\"))"
   ]
  },
  {
   "cell_type": "code",
   "execution_count": 23,
   "metadata": {},
   "outputs": [],
   "source": [
    "a = [1, 2, 3]"
   ]
  },
  {
   "cell_type": "code",
   "execution_count": 27,
   "metadata": {},
   "outputs": [
    {
     "data": {
      "text/plain": [
       "[1, 2, 3]"
      ]
     },
     "execution_count": 27,
     "metadata": {},
     "output_type": "execute_result"
    }
   ],
   "source": [
    "a[0:3]"
   ]
  },
  {
   "cell_type": "code",
   "execution_count": null,
   "metadata": {},
   "outputs": [],
   "source": []
  }
 ],
 "metadata": {
  "kernelspec": {
   "display_name": "Python 3",
   "language": "python",
   "name": "python3"
  },
  "language_info": {
   "codemirror_mode": {
    "name": "ipython",
    "version": 3
   },
   "file_extension": ".py",
   "mimetype": "text/x-python",
   "name": "python",
   "nbconvert_exporter": "python",
   "pygments_lexer": "ipython3",
   "version": "3.8.5"
  }
 },
 "nbformat": 4,
 "nbformat_minor": 4
}
