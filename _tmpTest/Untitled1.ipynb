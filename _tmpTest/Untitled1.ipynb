{
 "cells": [
  {
   "cell_type": "code",
   "execution_count": null,
   "metadata": {},
   "outputs": [],
   "source": [
    "from classes import ethData, models\n",
    "import pandas as pd\n",
    "import pandasql as psql\n",
    "import numpy as np\n",
    "ethData = ethData.ethData()\n",
    "ETHERSCAN_API_KEY = 'EWYSGQ5PEK84PRCNSCKHHZWJIWWKYYABCE'\n",
    "BSCSCAN_API_KEY = 'I6ZZ57GWAS39M85QC4AJFC43Y5DUA8IU8I'"
   ]
  },
  {
   "cell_type": "code",
   "execution_count": null,
   "metadata": {},
   "outputs": [],
   "source": [
    "ethData.downloadContractLogsContent()"
   ]
  },
  {
   "cell_type": "code",
   "execution_count": 2,
   "metadata": {},
   "outputs": [
    {
     "ename": "SyntaxError",
     "evalue": "invalid syntax (<ipython-input-2-3bea1d14c718>, line 1)",
     "output_type": "error",
     "traceback": [
      "\u001b[0;36m  File \u001b[0;32m\"<ipython-input-2-3bea1d14c718>\"\u001b[0;36m, line \u001b[0;32m1\u001b[0m\n\u001b[0;31m    from ../classes import libraries_v_1_0_0_0 as lib\u001b[0m\n\u001b[0m           ^\u001b[0m\n\u001b[0;31mSyntaxError\u001b[0m\u001b[0;31m:\u001b[0m invalid syntax\n"
     ]
    }
   ],
   "source": [
    "from classes import libraries_v_1_0_0_0 as lib\n",
    "CONNECTION_STRING = 'https://mainnet.infura.io/v3/40816bb42ce34f808b4afe219e9d41cb'\n",
    "blockchain = lib.blochchain()"
   ]
  },
  {
   "cell_type": "code",
   "execution_count": null,
   "metadata": {},
   "outputs": [],
   "source": [
    "blockchainConnection()"
   ]
  },
  {
   "cell_type": "code",
   "execution_count": 1,
   "metadata": {},
   "outputs": [],
   "source": [
    "from classes import ethData, models\n",
    "import pandas as pd\n",
    "import pandasql as psql\n",
    "import numpy as np\n",
    "import requests\n",
    "import json\n",
    "import re\n",
    "ethData = ethData.ethData()\n",
    "from datetime import datetime\n",
    "ETHERSCAN_API_KEY = 'EWYSGQ5PEK84PRCNSCKHHZWJIWWKYYABCE'\n",
    "BSCSCAN_API_KEY = 'I6ZZ57GWAS39M85QC4AJFC43Y5DUA8IU8I'\n",
    "#CONNECTION_STRING = 'https://mainnet.infura.io/v3/b8932e6edfa1498ab41ce07e5686c2b4'\n",
    "CONNECTION_STRING = 'https://mainnet.infura.io/v3/40816bb42ce34f808b4afe219e9d41cb'\n",
    "TESTADDRESS = '0x70e36f6bf80a52b3b46b3af8e106cc0ed743e8e4' \n",
    "_contractAddress = TESTADDRESS\n",
    "_apiKey = ETHERSCAN_API_KEY\n",
    "_connectionString = CONNECTION_STRING\n"
   ]
  },
  {
   "cell_type": "code",
   "execution_count": 2,
   "metadata": {},
   "outputs": [],
   "source": [
    "ethData.inizializeSmartContracts(_apiKey, _connectionString)\n",
    "    \n",
    "    #ethData.downloadContractLogsContent(address, _apiKey, _connectionString)"
   ]
  },
  {
   "cell_type": "code",
   "execution_count": null,
   "metadata": {},
   "outputs": [],
   "source": [
    "ethData.mergeAllLogsData()"
   ]
  },
  {
   "cell_type": "code",
   "execution_count": null,
   "metadata": {},
   "outputs": [],
   "source": [
    "ethData.mergeAllLogsData()"
   ]
  },
  {
   "cell_type": "code",
   "execution_count": null,
   "metadata": {},
   "outputs": [],
   "source": [
    "getEventsFromABI"
   ]
  },
  {
   "cell_type": "code",
   "execution_count": null,
   "metadata": {},
   "outputs": [],
   "source": [
    "ethData.API_String('BSCSCAN', 'TXLIST', ['0xc30f12cd65f61ded24db6c415c84f999c9704ebc', 0, 99999999999999, BSCSCAN_API_KEY])"
   ]
  },
  {
   "cell_type": "code",
   "execution_count": null,
   "metadata": {},
   "outputs": [],
   "source": [
    "df = pd.read_csv('data/dex.csv', delimiter='|')\n",
    "df"
   ]
  },
  {
   "cell_type": "code",
   "execution_count": null,
   "metadata": {},
   "outputs": [],
   "source": [
    "ethData.getMaps(1, 'TOKEN')"
   ]
  },
  {
   "cell_type": "code",
   "execution_count": null,
   "metadata": {},
   "outputs": [],
   "source": [
    "ethData.importAllDexTransactions(BSCSCAN_API_KEY, 'BSCSCAN', 'TXLIST', 'TOKEN', 'MAX', 0, 100)"
   ]
  },
  {
   "cell_type": "code",
   "execution_count": null,
   "metadata": {},
   "outputs": [],
   "source": [
    "ethData.analyzeTokenCustomers(BSCSCAN_API_KEY)"
   ]
  },
  {
   "cell_type": "code",
   "execution_count": null,
   "metadata": {},
   "outputs": [],
   "source": [
    "from classes import ethData\n",
    "ethData = ethData.ethData()\n",
    "\n",
    "#ETHERSCAN_API_KEY = 'your_api_key'\n",
    "ethData.analyzeDexCustomers(ETHERSCAN_API_KEY)\n"
   ]
  },
  {
   "cell_type": "code",
   "execution_count": null,
   "metadata": {},
   "outputs": [],
   "source": [
    "ethData.analyzeTokenCustomers(BSCSCAN_API_KEY)"
   ]
  },
  {
   "cell_type": "code",
   "execution_count": null,
   "metadata": {},
   "outputs": [],
   "source": [
    "ethData.importTransactionsFromDexCustomers(BSCSCAN_API_KEY, 'BSCSCAN', 'TXLIST', 'TOKEN')"
   ]
  },
  {
   "cell_type": "code",
   "execution_count": null,
   "metadata": {},
   "outputs": [],
   "source": [
    "ethData.importAllDexTransactions(ETHERSCAN_API_KEY, 'ETHERSCAN', 'TXLIST', 'DEX', 'MAX', 0, 10) # 24 hours\n"
   ]
  },
  {
   "cell_type": "code",
   "execution_count": null,
   "metadata": {},
   "outputs": [],
   "source": [
    "ethData.importTransactionsFromDexCustomers(ETHERSCAN_API_KEY, 'ETHERSCAN', 'TXLIST', 'DEX')\n"
   ]
  },
  {
   "cell_type": "code",
   "execution_count": null,
   "metadata": {},
   "outputs": [],
   "source": [
    "ethData.mergeFiles('DEX')"
   ]
  },
  {
   "cell_type": "code",
   "execution_count": null,
   "metadata": {},
   "outputs": [],
   "source": [
    "df = pd.DataFrame()"
   ]
  },
  {
   "cell_type": "code",
   "execution_count": null,
   "metadata": {},
   "outputs": [],
   "source": [
    "len(df)"
   ]
  },
  {
   "cell_type": "code",
   "execution_count": null,
   "metadata": {},
   "outputs": [],
   "source": [
    "ethData.getMaps(10, 'TOKEN')"
   ]
  },
  {
   "cell_type": "code",
   "execution_count": null,
   "metadata": {},
   "outputs": [],
   "source": [
    "ethData.API_String('BSCSCAN','TXLIST',[ethData.getMaps(0, 'TOKEN')[1], 0, 9999999999999, BSCSCAN_API_KEY])"
   ]
  },
  {
   "cell_type": "code",
   "execution_count": null,
   "metadata": {},
   "outputs": [],
   "source": [
    "ethData.analyzeDexCustomers(ETHERSCAN_API_KEY)"
   ]
  },
  {
   "cell_type": "code",
   "execution_count": null,
   "metadata": {},
   "outputs": [],
   "source": [
    "ethData.analyzeTokenCustomers(BSCSCAN_API_KEY)"
   ]
  },
  {
   "cell_type": "code",
   "execution_count": null,
   "metadata": {},
   "outputs": [],
   "source": [
    "tokens = pd.read_csv('data/tokens.csv')\n",
    "validTokens = tokens[tokens['holder count'].str.len() >= 5]"
   ]
  },
  {
   "cell_type": "code",
   "execution_count": null,
   "metadata": {},
   "outputs": [],
   "source": [
    "validTokens"
   ]
  },
  {
   "cell_type": "code",
   "execution_count": null,
   "metadata": {},
   "outputs": [],
   "source": [
    "validTokens['ContractAddress']"
   ]
  },
  {
   "cell_type": "code",
   "execution_count": null,
   "metadata": {},
   "outputs": [],
   "source": [
    "tokens['holder count'].str.len()"
   ]
  },
  {
   "cell_type": "code",
   "execution_count": null,
   "metadata": {},
   "outputs": [],
   "source": [
    "validTokens = tokens[tokens['holder count'].str.len() >= 5]"
   ]
  },
  {
   "cell_type": "code",
   "execution_count": null,
   "metadata": {},
   "outputs": [],
   "source": [
    "for indexAddress in range(0, len(validTokens)):\n",
    "    if(_index == indexAddress):     \n",
    "        address = validTokens['ContractAddress']\n",
    "        nameAddress = validTokens['ContractAddress'].replace(\".\",\"\").replace('$'.\"\")\n",
    "    indexAddress = indexAddress + 1"
   ]
  },
  {
   "cell_type": "code",
   "execution_count": null,
   "metadata": {},
   "outputs": [],
   "source": []
  },
  {
   "cell_type": "code",
   "execution_count": null,
   "metadata": {},
   "outputs": [],
   "source": [
    "from classes import ethData, models\n",
    "import pandas as pd\n",
    "import pandasql as psql\n",
    "import numpy as np\n",
    "import requests\n",
    "import json\n",
    "import re\n",
    "ethData = ethData.ethData()\n",
    "from datetime import datetime\n",
    "ETHERSCAN_API_KEY = 'EWYSGQ5PEK84PRCNSCKHHZWJIWWKYYABCE'\n",
    "BSCSCAN_API_KEY = 'I6ZZ57GWAS39M85QC4AJFC43Y5DUA8IU8I'\n",
    "#CONNECTION_STRING = 'https://mainnet.infura.io/v3/b8932e6edfa1498ab41ce07e5686c2b4'\n",
    "CONNECTION_STRING = 'https://mainnet.infura.io/v3/40816bb42ce34f808b4afe219e9d41cb'\n",
    "TESTADDRESS = '0x70e36f6bf80a52b3b46b3af8e106cc0ed743e8e4' "
   ]
  },
  {
   "cell_type": "code",
   "execution_count": null,
   "metadata": {},
   "outputs": [],
   "source": [
    "ABI = '[{\"constant\":true,\"inputs\":[],\"name\":\"SOLO_MARGIN\",\"outputs\":[{\"name\":\"\",\"type\":\"address\"}],\"payable\":false,\"stateMutability\":\"view\",\"type\":\"function\"},{\"constant\":true,\"inputs\":[],\"name\":\"WETH\",\"outputs\":[{\"name\":\"\",\"type\":\"address\"}],\"payable\":false,\"stateMutability\":\"view\",\"type\":\"function\"},{\"constant\":false,\"inputs\":[{\"components\":[{\"name\":\"owner\",\"type\":\"address\"},{\"name\":\"number\",\"type\":\"uint256\"}],\"name\":\"accounts\",\"type\":\"tuple[]\"},{\"components\":[{\"name\":\"actionType\",\"type\":\"uint8\"},{\"name\":\"accountId\",\"type\":\"uint256\"},{\"components\":[{\"name\":\"sign\",\"type\":\"bool\"},{\"name\":\"denomination\",\"type\":\"uint8\"},{\"name\":\"ref\",\"type\":\"uint8\"},{\"name\":\"value\",\"type\":\"uint256\"}],\"name\":\"amount\",\"type\":\"tuple\"},{\"name\":\"primaryMarketId\",\"type\":\"uint256\"},{\"name\":\"secondaryMarketId\",\"type\":\"uint256\"},{\"name\":\"otherAddress\",\"type\":\"address\"},{\"name\":\"otherAccountId\",\"type\":\"uint256\"},{\"name\":\"data\",\"type\":\"bytes\"}],\"name\":\"actions\",\"type\":\"tuple[]\"},{\"name\":\"sendEthTo\",\"type\":\"address\"}],\"name\":\"operate\",\"outputs\":[],\"payable\":true,\"stateMutability\":\"payable\",\"type\":\"function\"},{\"inputs\":[{\"name\":\"soloMargin\",\"type\":\"address\"},{\"name\":\"weth\",\"type\":\"address\"}],\"payable\":false,\"stateMutability\":\"nonpayable\",\"type\":\"constructor\"},{\"payable\":true,\"stateMutability\":\"payable\",\"type\":\"fallback\"}]'"
   ]
  },
  {
   "cell_type": "code",
   "execution_count": null,
   "metadata": {},
   "outputs": [],
   "source": [
    "ethData.getEventsFromABI(ABI)"
   ]
  },
  {
   "cell_type": "code",
   "execution_count": null,
   "metadata": {},
   "outputs": [],
   "source": [
    "contractListAddress = ['0x70e36f6bf80a52b3b46b3af8e106cc0ed743e8e4', '0x7Fc66500c84A76Ad7e9c93437bFc5Ac33E2DDaE9', '0xa8b39829cE2246f89B31C013b8Cde15506Fb9A76']"
   ]
  },
  {
   "cell_type": "code",
   "execution_count": null,
   "metadata": {},
   "outputs": [],
   "source": [
    "for contractAddress in contractListAddress:\n",
    "    ethData.downloadContractLogsContent(contractAddress, ETHERSCAN_API_KEY, CONNECTION_STRING)"
   ]
  },
  {
   "cell_type": "code",
   "execution_count": null,
   "metadata": {},
   "outputs": [],
   "source": [
    "#ethData.downloadContractContent(TESTADDRESS, ETHERSCAN_API_KEY, CONNECTION_STRING)"
   ]
  },
  {
   "cell_type": "code",
   "execution_count": null,
   "metadata": {},
   "outputs": [],
   "source": [
    "ethData.mergeAllLogsData()"
   ]
  },
  {
   "cell_type": "code",
   "execution_count": null,
   "metadata": {},
   "outputs": [],
   "source": [
    "_contractAddress = TESTADDRESS\n",
    "_apiKey = ETHERSCAN_API_KEY\n",
    "_connectionString = CONNECTION_STRING"
   ]
  },
  {
   "cell_type": "code",
   "execution_count": null,
   "metadata": {},
   "outputs": [],
   "source": [
    "\n",
    "filePath = \"data/contracts/{0}/{1}{2}.csv\"\n",
    "\n",
    "ABI = requests.get(ethData.API_String('ETHERSCAN', 'ABI', [_contractAddress, _apiKey])).json()['result']\n",
    "contract = ethData.getContract(_contractAddress, _apiKey, _connectionString)\n",
    "contractName = contract.functions.name().call()\n",
    "\n",
    "ethData.saveContractData(contract, ABI)\n",
    "\n",
    "df_txHashList = ethData.importTransactionListFromAddress(_apiKey, 'ETHERSCAN', 'TXLIST', _contractAddress, 'MAX', 0 , 10)['hash'][1:]\n",
    "\n"
   ]
  },
  {
   "cell_type": "code",
   "execution_count": null,
   "metadata": {},
   "outputs": [],
   "source": [
    "df_txHashList.iloc[0]"
   ]
  },
  {
   "cell_type": "code",
   "execution_count": null,
   "metadata": {},
   "outputs": [],
   "source": [
    "\n",
    "valueLogList = {}\n",
    "columns = {}\n"
   ]
  },
  {
   "cell_type": "code",
   "execution_count": null,
   "metadata": {},
   "outputs": [],
   "source": [
    "(keyLog, valueLog, txR) = ethData.decodeLogs(df_txHashList.iloc[0], contract, ABI, _connectionString)\n"
   ]
  },
  {
   "cell_type": "code",
   "execution_count": null,
   "metadata": {},
   "outputs": [],
   "source": [
    "txR_columns = []\n",
    "for key in txR.keys():\n",
    "    if(key != 'logs'):\n",
    "        txR_columns.extend([key])\n",
    "txR_values = []\n",
    "for key in txR.keys():\n",
    "    if(key != 'logs'):\n",
    "        txR_values.extend([txR[key]])"
   ]
  },
  {
   "cell_type": "code",
   "execution_count": null,
   "metadata": {},
   "outputs": [],
   "source": [
    "keyLog['AccrueInterest'].extend(txR_columns)"
   ]
  },
  {
   "cell_type": "code",
   "execution_count": null,
   "metadata": {},
   "outputs": [],
   "source": [
    "valueLog['AccrueInterest'].extend(txR_values)"
   ]
  },
  {
   "cell_type": "code",
   "execution_count": null,
   "metadata": {},
   "outputs": [],
   "source": [
    "txR_columns"
   ]
  },
  {
   "cell_type": "code",
   "execution_count": null,
   "metadata": {},
   "outputs": [],
   "source": [
    "valueLog['AccrueInterest']"
   ]
  },
  {
   "cell_type": "code",
   "execution_count": null,
   "metadata": {},
   "outputs": [],
   "source": [
    "keyLog['AccrueInterest']"
   ]
  },
  {
   "cell_type": "code",
   "execution_count": null,
   "metadata": {},
   "outputs": [],
   "source": [
    "txR_columns"
   ]
  },
  {
   "cell_type": "code",
   "execution_count": null,
   "metadata": {},
   "outputs": [],
   "source": [
    "pd.DataFrame(columns = txR_columns)"
   ]
  },
  {
   "cell_type": "code",
   "execution_count": null,
   "metadata": {},
   "outputs": [],
   "source": [
    "test = {}"
   ]
  },
  {
   "cell_type": "code",
   "execution_count": null,
   "metadata": {},
   "outputs": [],
   "source": [
    "test['test'] = False"
   ]
  },
  {
   "cell_type": "code",
   "execution_count": null,
   "metadata": {},
   "outputs": [],
   "source": [
    "len(test['test'])"
   ]
  },
  {
   "cell_type": "code",
   "execution_count": null,
   "metadata": {},
   "outputs": [],
   "source": [
    "a = [1, 2, 3]\n",
    "a.append(4)"
   ]
  },
  {
   "cell_type": "code",
   "execution_count": null,
   "metadata": {},
   "outputs": [],
   "source": [
    "t = 4 in a\n",
    "print(t)"
   ]
  },
  {
   "cell_type": "code",
   "execution_count": null,
   "metadata": {},
   "outputs": [],
   "source": [
    "import sys"
   ]
  },
  {
   "cell_type": "code",
   "execution_count": null,
   "metadata": {},
   "outputs": [],
   "source": [
    "import warnings\n",
    "warnings.filterwarnings('ignore') \n",
    "dfList = {}\n",
    "\n",
    "isFirst = True\n",
    "index = 1\n",
    "\n",
    "createdKeyList = []\n",
    "\n",
    "for tx in df_txHashList:\n",
    "    \n",
    "    print(\"Downloading logs from {0} - {1} of {2} at {3}\".format(tx, index, len(df_txHashList), datetime.now().strftime(\"%Y%m%d_%H%M%S\")))\n",
    "    \n",
    "    (keyLog, valueLog, txR) = ethData.decodeLogs(tx, contract, ABI, _connectionString)\n",
    "    \n",
    "    txR_columns = []\n",
    "    for key in txR.keys():\n",
    "        if(key != 'logs'):\n",
    "            txR_columns.extend([key])\n",
    "    txR_values = []\n",
    "    for key in txR.keys():\n",
    "        if(key != 'logs'):\n",
    "            txR_values.extend([txR[key]])\n",
    "    \n",
    "    for key in keyLog:\n",
    "        if(len(keyLog[key])>0): #if key has a value\n",
    "            \n",
    "            keyLog[key].extend(txR_columns)\n",
    "            valueLog[key].extend(txR_values)\n",
    "            \n",
    "            existKey = key in createdKeyList\n",
    "            \n",
    "            if(existKey):\n",
    "                dfList[key] = pd.concat([dfList[key], pd.DataFrame([valueLog[key]], columns = keyLog[key])])\n",
    "            else:\n",
    "                dfList[key] = pd.DataFrame([valueLog[key]], columns = keyLog[key]) #create empty dataframe\n",
    "                createdKeyList.append(key)\n",
    "                \n",
    "    index = index + 1\n",
    "print(\"-----------------------------------\")\n",
    "print(\"Log results for {0}:\".format(contractName))\n",
    "for key in keyLog:\n",
    "    try:\n",
    "        print(\"Found {0} on key {1}\".format(len(dfList[key]), key))\n",
    "    except:\n",
    "        print(\"Key {0} non found\".format(key))  "
   ]
  },
  {
   "cell_type": "code",
   "execution_count": null,
   "metadata": {},
   "outputs": [],
   "source": [
    "dfList['AccrueInterest']"
   ]
  },
  {
   "cell_type": "code",
   "execution_count": null,
   "metadata": {},
   "outputs": [],
   "source": [
    "filePath = \"data/contracts/{0}/{1}{2}.csv\"\n",
    "for dfKey in dfList.keys():\n",
    "    dfList[dfKey].to_csv(filePath.format(contractName, 'event_', dfKey))"
   ]
  },
  {
   "cell_type": "code",
   "execution_count": null,
   "metadata": {},
   "outputs": [],
   "source": [
    "dfList"
   ]
  },
  {
   "cell_type": "code",
   "execution_count": null,
   "metadata": {},
   "outputs": [],
   "source": [
    "for event in self.getEventsFromABI(ABI):\n",
    "    if(len(columns[event])>0): #at least 1 data for the event\n",
    "        pd.DataFrame(valueLogList[key], columns = columns[event])[index]"
   ]
  },
  {
   "cell_type": "code",
   "execution_count": null,
   "metadata": {},
   "outputs": [],
   "source": [
    "for event in ethData.getEventsFromABI(ABI):\n",
    "    if(len(columns[event])>0): #at least 1 data for the event\n",
    "        pd.DataFrame(valueLogList[key], columns = columns[event]).to_csv(filePath.format(contractName, 'event_', event))"
   ]
  },
  {
   "cell_type": "code",
   "execution_count": null,
   "metadata": {},
   "outputs": [],
   "source": []
  },
  {
   "cell_type": "code",
   "execution_count": null,
   "metadata": {},
   "outputs": [],
   "source": []
  },
  {
   "cell_type": "code",
   "execution_count": null,
   "metadata": {},
   "outputs": [],
   "source": []
  },
  {
   "cell_type": "code",
   "execution_count": null,
   "metadata": {},
   "outputs": [],
   "source": [
    "TESTADDRESS = '0x0bc529c00C6401aEF6D220BE8C6Ea1667F6Ad93e'"
   ]
  },
  {
   "cell_type": "code",
   "execution_count": null,
   "metadata": {},
   "outputs": [],
   "source": [
    "ABI = requests.get(ethData.API_String('ETHERSCAN', 'ABI', [TESTADDRESS, ETHERSCAN_API_KEY])).json()['result']"
   ]
  },
  {
   "cell_type": "code",
   "execution_count": null,
   "metadata": {},
   "outputs": [],
   "source": [
    "ABI"
   ]
  },
  {
   "cell_type": "code",
   "execution_count": null,
   "metadata": {},
   "outputs": [],
   "source": [
    "contract = ethData.getContract(TESTADDRESS, ETHERSCAN_API_KEY, CONNECTION_STRING)"
   ]
  },
  {
   "cell_type": "code",
   "execution_count": null,
   "metadata": {},
   "outputs": [],
   "source": [
    "ethData.saveContractData(TESTADDRESS, contract, ABI)"
   ]
  },
  {
   "cell_type": "code",
   "execution_count": null,
   "metadata": {},
   "outputs": [],
   "source": [
    "import pickle\n",
    "filename = 'testPickle'\n",
    "outfile = open(filename,'wb')\n",
    "pickle.dump(contract,outfile)\n",
    "outfile.close()"
   ]
  },
  {
   "cell_type": "code",
   "execution_count": null,
   "metadata": {},
   "outputs": [],
   "source": [
    "events = ethData.getEventsFromABI(ABI)"
   ]
  },
  {
   "cell_type": "code",
   "execution_count": null,
   "metadata": {},
   "outputs": [],
   "source": [
    "ethData.getFunctionsFromABI(ABI)"
   ]
  },
  {
   "cell_type": "code",
   "execution_count": null,
   "metadata": {},
   "outputs": [],
   "source": [
    "ethData.getEventsFromABI(ABI)"
   ]
  },
  {
   "cell_type": "code",
   "execution_count": null,
   "metadata": {},
   "outputs": [],
   "source": [
    "contract"
   ]
  },
  {
   "cell_type": "code",
   "execution_count": null,
   "metadata": {},
   "outputs": [],
   "source": [
    "df_txHashList = ethData.importTransactionListFromAddress(ETHERSCAN_API_KEY, 'ETHERSCAN', 'TXLIST', TESTADDRESS, 'MAX', 0 , 2)['hash']"
   ]
  },
  {
   "cell_type": "code",
   "execution_count": null,
   "metadata": {},
   "outputs": [],
   "source": [
    "tx = df_txHashList[0]"
   ]
  },
  {
   "cell_type": "code",
   "execution_count": null,
   "metadata": {},
   "outputs": [],
   "source": [
    "(keyLogList, valueLogList) = ethData.decodeLogs(tx, contract, ABI, CONNECTION_STRING)"
   ]
  },
  {
   "cell_type": "code",
   "execution_count": null,
   "metadata": {},
   "outputs": [],
   "source": [
    "valueLogList"
   ]
  },
  {
   "cell_type": "code",
   "execution_count": null,
   "metadata": {},
   "outputs": [],
   "source": [
    "keyLogList"
   ]
  },
  {
   "cell_type": "code",
   "execution_count": null,
   "metadata": {},
   "outputs": [],
   "source": [
    "columns = {}\n",
    "for key in keyLogList:\n",
    "    if(len(keyLogList[key])>0):\n",
    "        columns[key] = keyLogList[key]"
   ]
  },
  {
   "cell_type": "code",
   "execution_count": null,
   "metadata": {},
   "outputs": [],
   "source": [
    "columns['AccrueInterest']"
   ]
  },
  {
   "cell_type": "code",
   "execution_count": null,
   "metadata": {},
   "outputs": [],
   "source": [
    "valueLogList[events[0]]"
   ]
  },
  {
   "cell_type": "code",
   "execution_count": null,
   "metadata": {},
   "outputs": [],
   "source": [
    "w3 = ethData.blockchainConnection(CONNECTION_STRING)\n"
   ]
  },
  {
   "cell_type": "code",
   "execution_count": null,
   "metadata": {},
   "outputs": [],
   "source": [
    "(keyLog, valueLog) = ethData.getLogFromTransactionHash(tx, contract.events.Transfer(), CONNECTION_STRING)"
   ]
  },
  {
   "cell_type": "code",
   "execution_count": null,
   "metadata": {},
   "outputs": [],
   "source": [
    "(keyLog, valueLog) = ethData.getLogFromTransactionHash(tx, contract.events.AccrueInterest(), CONNECTION_STRING)"
   ]
  },
  {
   "cell_type": "code",
   "execution_count": null,
   "metadata": {},
   "outputs": [],
   "source": [
    "keyLog"
   ]
  },
  {
   "cell_type": "code",
   "execution_count": null,
   "metadata": {},
   "outputs": [],
   "source": [
    "valueLog"
   ]
  },
  {
   "cell_type": "code",
   "execution_count": null,
   "metadata": {},
   "outputs": [],
   "source": [
    "txR = w3.eth.getTransactionReceipt(tx)"
   ]
  },
  {
   "cell_type": "code",
   "execution_count": null,
   "metadata": {},
   "outputs": [],
   "source": [
    "txR"
   ]
  },
  {
   "cell_type": "code",
   "execution_count": null,
   "metadata": {},
   "outputs": [],
   "source": [
    "log = contract.events.Transfer().processReceipt(txR)[0]['args']"
   ]
  },
  {
   "cell_type": "code",
   "execution_count": null,
   "metadata": {},
   "outputs": [],
   "source": [
    "for key in log.keys():\n",
    "    print(key, log[key])"
   ]
  },
  {
   "cell_type": "code",
   "execution_count": null,
   "metadata": {},
   "outputs": [],
   "source": [
    "df = pd.DataFrame.from_dict(contract.events.Transfer().processReceipt(txR)[0]['args'])"
   ]
  },
  {
   "cell_type": "code",
   "execution_count": null,
   "metadata": {},
   "outputs": [],
   "source": [
    "df"
   ]
  },
  {
   "cell_type": "code",
   "execution_count": null,
   "metadata": {},
   "outputs": [],
   "source": [
    "df['args']"
   ]
  },
  {
   "cell_type": "code",
   "execution_count": null,
   "metadata": {},
   "outputs": [],
   "source": [
    "contract.functions.name().call()"
   ]
  },
  {
   "cell_type": "code",
   "execution_count": null,
   "metadata": {},
   "outputs": [],
   "source": [
    "w3.eth.contract.ContractEvents.getLogs("
   ]
  },
  {
   "cell_type": "code",
   "execution_count": null,
   "metadata": {},
   "outputs": [],
   "source": [
    "event_filter.get_new_entries()"
   ]
  },
  {
   "cell_type": "code",
   "execution_count": null,
   "metadata": {},
   "outputs": [],
   "source": [
    "events = [x for x in ABI if x['type'] == 'events']"
   ]
  },
  {
   "cell_type": "code",
   "execution_count": null,
   "metadata": {},
   "outputs": [],
   "source": [
    "df_txHashList = df_txHashList.to_numpy()"
   ]
  },
  {
   "cell_type": "code",
   "execution_count": null,
   "metadata": {},
   "outputs": [],
   "source": [
    "tx"
   ]
  },
  {
   "cell_type": "code",
   "execution_count": null,
   "metadata": {},
   "outputs": [],
   "source": [
    "txR"
   ]
  },
  {
   "cell_type": "code",
   "execution_count": null,
   "metadata": {},
   "outputs": [],
   "source": [
    "contract.events"
   ]
  },
  {
   "cell_type": "code",
   "execution_count": null,
   "metadata": {},
   "outputs": [],
   "source": []
  },
  {
   "cell_type": "code",
   "execution_count": null,
   "metadata": {},
   "outputs": [],
   "source": []
  },
  {
   "cell_type": "code",
   "execution_count": null,
   "metadata": {},
   "outputs": [],
   "source": [
    "receipt = w3.eth.getTransactionReceipt(tx_hash)\n"
   ]
  },
  {
   "cell_type": "code",
   "execution_count": null,
   "metadata": {},
   "outputs": [],
   "source": [
    "logs = myContract.events.myEvent().processReceipt(receipt)"
   ]
  },
  {
   "cell_type": "code",
   "execution_count": null,
   "metadata": {},
   "outputs": [],
   "source": []
  },
  {
   "cell_type": "code",
   "execution_count": null,
   "metadata": {},
   "outputs": [],
   "source": [
    "tx_hash = contract.functions.Transfer().transact()\n"
   ]
  },
  {
   "cell_type": "code",
   "execution_count": null,
   "metadata": {},
   "outputs": [],
   "source": [
    "df_txHashList[0]"
   ]
  },
  {
   "cell_type": "code",
   "execution_count": null,
   "metadata": {},
   "outputs": [],
   "source": [
    "tx"
   ]
  },
  {
   "cell_type": "code",
   "execution_count": null,
   "metadata": {},
   "outputs": [],
   "source": []
  },
  {
   "cell_type": "code",
   "execution_count": null,
   "metadata": {},
   "outputs": [],
   "source": [
    "contract.events.Transfer()"
   ]
  },
  {
   "cell_type": "code",
   "execution_count": null,
   "metadata": {},
   "outputs": [],
   "source": []
  },
  {
   "cell_type": "code",
   "execution_count": null,
   "metadata": {},
   "outputs": [],
   "source": []
  },
  {
   "cell_type": "code",
   "execution_count": null,
   "metadata": {},
   "outputs": [],
   "source": []
  },
  {
   "cell_type": "code",
   "execution_count": null,
   "metadata": {},
   "outputs": [],
   "source": []
  },
  {
   "cell_type": "code",
   "execution_count": null,
   "metadata": {},
   "outputs": [],
   "source": []
  },
  {
   "cell_type": "code",
   "execution_count": null,
   "metadata": {},
   "outputs": [],
   "source": [
    "tx_hash = contract.functions.Transfer().transact(txR)"
   ]
  },
  {
   "cell_type": "code",
   "execution_count": null,
   "metadata": {},
   "outputs": [],
   "source": [
    "mergeAllLogsData"
   ]
  },
  {
   "cell_type": "code",
   "execution_count": null,
   "metadata": {},
   "outputs": [],
   "source": []
  },
  {
   "cell_type": "code",
   "execution_count": null,
   "metadata": {},
   "outputs": [],
   "source": []
  },
  {
   "cell_type": "code",
   "execution_count": null,
   "metadata": {},
   "outputs": [],
   "source": [
    "from os import listdir\n",
    "from os.path import isfile, join, isdir\n",
    "import pandasql as psql"
   ]
  },
  {
   "cell_type": "code",
   "execution_count": null,
   "metadata": {},
   "outputs": [],
   "source": [
    "CONTRACT_FOLDER = 'data/contracts'\n",
    "contractList = [f for f in listdir(CONTRACT_FOLDER) if isdir(join(CONTRACT_FOLDER, f))]"
   ]
  },
  {
   "cell_type": "code",
   "execution_count": null,
   "metadata": {},
   "outputs": [],
   "source": [
    "eventPrefix = 'event_'\n",
    "blockNumberDf = pd.DataFrame()\n",
    "dfList = {}\n",
    "for contractFolder in contractList:\n",
    "    if(contractFolder != '.ipynb_checkpoints'):\n",
    "        cFolder = CONTRACT_FOLDER+'/'+contractFolder\n",
    "        eventsDataList = [f for f in listdir(cFolder) if isfile(join(cFolder, f))]\n",
    "        for eventsData in eventsDataList:\n",
    "            if(eventsData[0:len(eventPrefix)] == eventPrefix):\n",
    "                tmpDf = pd.read_csv(cFolder+'/'+eventsData)\n",
    "                indexKey = 0\n",
    "                foundKey = 0\n",
    "                for key in tmpDf.keys():\n",
    "                    if(key == 'blockHash'):\n",
    "                        foundKey = indexKey\n",
    "                    indexKey = indexKey + 1\n",
    "                keyName = contractFolder.replace(\" \", \"_\")+\"_\"+eventsData[0:len(eventsData)-4]\n",
    "                dfList[keyName] = tmpDf.iloc[:, 1:foundKey]\n",
    "                dfList[keyName]['blockNumber'] = tmpDf['blockNumber']\n",
    "                blockNumberDf = pd.concat([blockNumberDf, tmpDf['blockNumber']])\n",
    "                "
   ]
  },
  {
   "cell_type": "code",
   "execution_count": null,
   "metadata": {},
   "outputs": [],
   "source": [
    "blockNumberList = pd.DataFrame(blockNumberDf[0].unique(), columns = ['blockNumber'])"
   ]
  },
  {
   "cell_type": "code",
   "execution_count": null,
   "metadata": {},
   "outputs": [],
   "source": [
    "dfList.keys()"
   ]
  },
  {
   "cell_type": "code",
   "execution_count": null,
   "metadata": {},
   "outputs": [],
   "source": [
    "12574963 in blockNumberList.to_numpy()"
   ]
  },
  {
   "cell_type": "code",
   "execution_count": null,
   "metadata": {},
   "outputs": [],
   "source": [
    "blockNumberList"
   ]
  },
  {
   "cell_type": "code",
   "execution_count": null,
   "metadata": {},
   "outputs": [],
   "source": [
    "df"
   ]
  },
  {
   "cell_type": "code",
   "execution_count": null,
   "metadata": {},
   "outputs": [],
   "source": [
    "sql = \"SELECT {0} FROM blockNumberList A \"\n",
    "colsBase = 'A.blockNumber, '\n",
    "cols = colsBase\n",
    "for key in dfList.keys():\n",
    "    groupCols = []\n",
    "    afterCols = []\n",
    "    for keyColumn in dfList[key].keys():\n",
    "        if(keyColumn == 'from'): #special word\n",
    "            dfList[key].rename(columns={'from':'fromAddress'}, inplace=True)\n",
    "            keyColumn = 'fromAddress'\n",
    "        if(keyColumn == 'to'): #special word\n",
    "            dfList[key].rename(columns={'to':'toAddress'}, inplace=True)\n",
    "            keyColumn = 'toAddress'\n",
    "        if(keyColumn != 'blockNumber'):\n",
    "            groupCols.append('MAX('+keyColumn+') AS '+key+'_'+keyColumn+',')\n",
    "            afterCols.append(key+'_'+keyColumn+', ')\n",
    "    selectGroup = ' '.join(groupCols)\n",
    "    selectGroupBase = ' '.join(afterCols)\n",
    "    cols = cols + selectGroup\n",
    "    print(cols)\n",
    "    \n",
    "    df = dfList[key]\n",
    "    join = \"LEFT JOIN df B on A.blockNumber = B.blockNumber \"\n",
    "    groupByStatement = \"GROUP BY A.blockNumber\"\n",
    "    finalSql = sql.format(cols[0:len(cols)-1])+join+groupByStatement\n",
    "    colsBase = colsBase + selectGroupBase\n",
    "    cols = colsBase\n",
    "    print(finalSql)\n",
    "    blockNumberList = psql.sqldf(finalSql)"
   ]
  },
  {
   "cell_type": "raw",
   "metadata": {},
   "source": [
    "blockNumberDf"
   ]
  },
  {
   "cell_type": "code",
   "execution_count": null,
   "metadata": {},
   "outputs": [],
   "source": [
    "blockNumberList.to_csv('test.csv')"
   ]
  },
  {
   "cell_type": "code",
   "execution_count": null,
   "metadata": {},
   "outputs": [],
   "source": [
    "blockNumberList"
   ]
  },
  {
   "cell_type": "code",
   "execution_count": null,
   "metadata": {},
   "outputs": [],
   "source": [
    "dfList.keys()"
   ]
  },
  {
   "cell_type": "code",
   "execution_count": null,
   "metadata": {},
   "outputs": [],
   "source": [
    "df = dfList['event_Transfer']\n",
    "df"
   ]
  },
  {
   "cell_type": "code",
   "execution_count": null,
   "metadata": {},
   "outputs": [],
   "source": [
    "sql = \"SELECT A.*, B.* FROM blockNumberList A LEFT JOIN df B on A.blockNumber = B.blockNumber GROUP BY A.blockNumber\"\n",
    "psql.sqldf(sql)"
   ]
  },
  {
   "cell_type": "code",
   "execution_count": null,
   "metadata": {},
   "outputs": [],
   "source": [
    "dft"
   ]
  },
  {
   "cell_type": "code",
   "execution_count": null,
   "metadata": {},
   "outputs": [],
   "source": [
    "df = dfList['event_Borrow']\n",
    "sql = \"SELECT A.*, B.* FROM dft A LEFT JOIN df B on A.blockNumber = B.blockNumber\"\n",
    "psql.sqldf(sql)"
   ]
  },
  {
   "cell_type": "code",
   "execution_count": null,
   "metadata": {},
   "outputs": [],
   "source": []
  }
 ],
 "metadata": {
  "kernelspec": {
   "display_name": "Python 3",
   "language": "python",
   "name": "python3"
  },
  "language_info": {
   "codemirror_mode": {
    "name": "ipython",
    "version": 3
   },
   "file_extension": ".py",
   "mimetype": "text/x-python",
   "name": "python",
   "nbconvert_exporter": "python",
   "pygments_lexer": "ipython3",
   "version": "3.8.5"
  }
 },
 "nbformat": 4,
 "nbformat_minor": 4
}
