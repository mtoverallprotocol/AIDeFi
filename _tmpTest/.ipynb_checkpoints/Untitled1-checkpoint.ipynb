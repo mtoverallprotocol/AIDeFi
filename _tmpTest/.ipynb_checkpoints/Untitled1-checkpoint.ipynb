{
 "cells": [
  {
   "cell_type": "code",
   "execution_count": null,
   "metadata": {},
   "outputs": [],
   "source": [
    "from classes import ethData, models\n",
    "import pandas as pd\n",
    "import pandasql as psql\n",
    "import numpy as np\n",
    "ethData = ethData.ethData()\n",
    "ETHERSCAN_API_KEY = 'EWYSGQ5PEK84PRCNSCKHHZWJIWWKYYABCE'\n",
    "BSCSCAN_API_KEY = 'I6ZZ57GWAS39M85QC4AJFC43Y5DUA8IU8I'"
   ]
  },
  {
   "cell_type": "code",
   "execution_count": null,
   "metadata": {},
   "outputs": [],
   "source": [
    "ethData.API_String('BSCSCAN', 'TXLIST', ['0xc30f12cd65f61ded24db6c415c84f999c9704ebc', 0, 99999999999999, BSCSCAN_API_KEY])"
   ]
  },
  {
   "cell_type": "code",
   "execution_count": null,
   "metadata": {},
   "outputs": [],
   "source": [
    "df = pd.read_csv('data/dex.csv', delimiter='|')\n",
    "df"
   ]
  },
  {
   "cell_type": "code",
   "execution_count": null,
   "metadata": {},
   "outputs": [],
   "source": [
    "ethData.getMaps(1, 'TOKEN')"
   ]
  },
  {
   "cell_type": "code",
   "execution_count": null,
   "metadata": {},
   "outputs": [],
   "source": [
    "ethData.importAllDexTransactions(BSCSCAN_API_KEY, 'BSCSCAN', 'TXLIST', 'TOKEN', 'MAX', 0, 100)"
   ]
  },
  {
   "cell_type": "code",
   "execution_count": null,
   "metadata": {},
   "outputs": [],
   "source": [
    "ethData.analyzeTokenCustomers(BSCSCAN_API_KEY)"
   ]
  },
  {
   "cell_type": "code",
   "execution_count": null,
   "metadata": {},
   "outputs": [],
   "source": [
    "from classes import ethData\n",
    "ethData = ethData.ethData()\n",
    "\n",
    "#ETHERSCAN_API_KEY = 'your_api_key'\n",
    "ethData.analyzeDexCustomers(ETHERSCAN_API_KEY)\n"
   ]
  },
  {
   "cell_type": "code",
   "execution_count": null,
   "metadata": {},
   "outputs": [],
   "source": [
    "ethData.analyzeTokenCustomers(BSCSCAN_API_KEY)"
   ]
  },
  {
   "cell_type": "code",
   "execution_count": null,
   "metadata": {},
   "outputs": [],
   "source": [
    "ethData.importTransactionsFromDexCustomers(BSCSCAN_API_KEY, 'BSCSCAN', 'TXLIST', 'TOKEN')"
   ]
  },
  {
   "cell_type": "code",
   "execution_count": null,
   "metadata": {},
   "outputs": [],
   "source": [
    "ethData.importAllDexTransactions(ETHERSCAN_API_KEY, 'ETHERSCAN', 'TXLIST', 'DEX', 'MAX', 0, 10) # 24 hours\n"
   ]
  },
  {
   "cell_type": "code",
   "execution_count": null,
   "metadata": {},
   "outputs": [],
   "source": [
    "ethData.importTransactionsFromDexCustomers(ETHERSCAN_API_KEY, 'ETHERSCAN', 'TXLIST', 'DEX')\n"
   ]
  },
  {
   "cell_type": "code",
   "execution_count": null,
   "metadata": {},
   "outputs": [],
   "source": [
    "ethData.mergeFiles('DEX')"
   ]
  },
  {
   "cell_type": "code",
   "execution_count": null,
   "metadata": {},
   "outputs": [],
   "source": [
    "df = pd.DataFrame()"
   ]
  },
  {
   "cell_type": "code",
   "execution_count": null,
   "metadata": {},
   "outputs": [],
   "source": [
    "len(df)"
   ]
  },
  {
   "cell_type": "code",
   "execution_count": null,
   "metadata": {},
   "outputs": [],
   "source": [
    "ethData.getMaps(10, 'TOKEN')"
   ]
  },
  {
   "cell_type": "code",
   "execution_count": null,
   "metadata": {},
   "outputs": [],
   "source": [
    "ethData.API_String('BSCSCAN','TXLIST',[ethData.getMaps(0, 'TOKEN')[1], 0, 9999999999999, BSCSCAN_API_KEY])"
   ]
  },
  {
   "cell_type": "code",
   "execution_count": null,
   "metadata": {},
   "outputs": [],
   "source": [
    "ethData.analyzeDexCustomers(ETHERSCAN_API_KEY)"
   ]
  },
  {
   "cell_type": "code",
   "execution_count": null,
   "metadata": {},
   "outputs": [],
   "source": [
    "ethData.analyzeTokenCustomers(BSCSCAN_API_KEY)"
   ]
  },
  {
   "cell_type": "code",
   "execution_count": null,
   "metadata": {},
   "outputs": [],
   "source": [
    "tokens = pd.read_csv('data/tokens.csv')\n",
    "validTokens = tokens[tokens['holder count'].str.len() >= 5]"
   ]
  },
  {
   "cell_type": "code",
   "execution_count": null,
   "metadata": {},
   "outputs": [],
   "source": [
    "validTokens"
   ]
  },
  {
   "cell_type": "code",
   "execution_count": null,
   "metadata": {},
   "outputs": [],
   "source": [
    "validTokens['ContractAddress']"
   ]
  },
  {
   "cell_type": "code",
   "execution_count": null,
   "metadata": {},
   "outputs": [],
   "source": [
    "tokens['holder count'].str.len()"
   ]
  },
  {
   "cell_type": "code",
   "execution_count": null,
   "metadata": {},
   "outputs": [],
   "source": [
    "validTokens = tokens[tokens['holder count'].str.len() >= 5]"
   ]
  },
  {
   "cell_type": "code",
   "execution_count": null,
   "metadata": {},
   "outputs": [],
   "source": [
    "for indexAddress in range(0, len(validTokens)):\n",
    "    if(_index == indexAddress):     \n",
    "        address = validTokens['ContractAddress']\n",
    "        nameAddress = validTokens['ContractAddress'].replace(\".\",\"\").replace('$'.\"\")\n",
    "    indexAddress = indexAddress + 1"
   ]
  },
  {
   "cell_type": "code",
   "execution_count": null,
   "metadata": {},
   "outputs": [],
   "source": []
  },
  {
   "cell_type": "code",
   "execution_count": null,
   "metadata": {},
   "outputs": [],
   "source": [
    "from classes import ethData, models\n",
    "import pandas as pd\n",
    "import pandasql as psql\n",
    "import numpy as np\n",
    "import requests\n",
    "import json\n",
    "import re\n",
    "ethData = ethData.ethData()\n",
    "from datetime import datetime\n",
    "ETHERSCAN_API_KEY = 'EWYSGQ5PEK84PRCNSCKHHZWJIWWKYYABCE'\n",
    "BSCSCAN_API_KEY = 'I6ZZ57GWAS39M85QC4AJFC43Y5DUA8IU8I'\n",
    "CONNECTION_STRING = 'https://mainnet.infura.io/v3/9a82d6f712b6474eb712fa507d110055'\n",
    "TESTADDRESS = '0x70e36f6bf80a52b3b46b3af8e106cc0ed743e8e4' "
   ]
  },
  {
   "cell_type": "code",
   "execution_count": null,
   "metadata": {},
   "outputs": [],
   "source": [
    "#ethData.downloadContractContent(TESTADDRESS, ETHERSCAN_API_KEY, CONNECTION_STRING)"
   ]
  },
  {
   "cell_type": "code",
   "execution_count": null,
   "metadata": {},
   "outputs": [],
   "source": [
    "_contractAddress = TESTADDRESS\n",
    "_apiKey = ETHERSCAN_API_KEY\n",
    "_connectionString = CONNECTION_STRING"
   ]
  },
  {
   "cell_type": "code",
   "execution_count": null,
   "metadata": {},
   "outputs": [],
   "source": [
    "\n",
    "filePath = \"data/contracts/{0}/{1}{2}.csv\"\n",
    "\n",
    "ABI = requests.get(ethData.API_String('ETHERSCAN', 'ABI', [_contractAddress, _apiKey])).json()['result']\n",
    "contract = ethData.getContract(_contractAddress, _apiKey, _connectionString)\n",
    "contractName = contract.functions.name().call()\n",
    "\n",
    "ethData.saveContractData(contract, ABI)\n",
    "\n",
    "df_txHashList = ethData.importTransactionListFromAddress(_apiKey, 'ETHERSCAN', 'TXLIST', _contractAddress, 1000, 0 , 3)['hash']\n",
    "\n"
   ]
  },
  {
   "cell_type": "code",
   "execution_count": null,
   "metadata": {},
   "outputs": [],
   "source": [
    "\n",
    "valueLogList = {}\n",
    "columns = {}\n"
   ]
  },
  {
   "cell_type": "code",
   "execution_count": null,
   "metadata": {},
   "outputs": [],
   "source": [
    "(keyLog, valueLog, txR) = ethData.decodeLogs('0xc24a36c9bb972af38fa962f76229c4ce9185bfb3be32be9b44ef399671e6451d', contract, ABI, _connectionString)\n"
   ]
  },
  {
   "cell_type": "code",
   "execution_count": null,
   "metadata": {},
   "outputs": [],
   "source": [
    "txR_columns = []\n",
    "for key in txR.keys():\n",
    "    if(key != 'logs'):\n",
    "        txR_columns.extend([key])\n",
    "txR_values = []\n",
    "for key in txR.keys():\n",
    "    if(key != 'logs'):\n",
    "        txR_values.extend([txR[key]])"
   ]
  },
  {
   "cell_type": "code",
   "execution_count": null,
   "metadata": {},
   "outputs": [],
   "source": [
    "keyLog['AccrueInterest'].extend(txR_columns)"
   ]
  },
  {
   "cell_type": "code",
   "execution_count": null,
   "metadata": {},
   "outputs": [],
   "source": [
    "valueLog['AccrueInterest'].extend(txR_values)"
   ]
  },
  {
   "cell_type": "code",
   "execution_count": null,
   "metadata": {},
   "outputs": [],
   "source": [
    "txR_columns"
   ]
  },
  {
   "cell_type": "code",
   "execution_count": null,
   "metadata": {},
   "outputs": [],
   "source": [
    "valueLog['AccrueInterest']"
   ]
  },
  {
   "cell_type": "code",
   "execution_count": null,
   "metadata": {},
   "outputs": [],
   "source": [
    "keyLog['AccrueInterest']"
   ]
  },
  {
   "cell_type": "code",
   "execution_count": null,
   "metadata": {},
   "outputs": [],
   "source": [
    "txR_columns"
   ]
  },
  {
   "cell_type": "code",
   "execution_count": null,
   "metadata": {},
   "outputs": [],
   "source": [
    "pd.DataFrame(columns = txR_columns)"
   ]
  },
  {
   "cell_type": "code",
   "execution_count": 25,
   "metadata": {},
   "outputs": [],
   "source": [
    "test = {}"
   ]
  },
  {
   "cell_type": "code",
   "execution_count": null,
   "metadata": {},
   "outputs": [],
   "source": [
    "test['test'] = False"
   ]
  },
  {
   "cell_type": "code",
   "execution_count": 26,
   "metadata": {},
   "outputs": [
    {
     "ename": "KeyError",
     "evalue": "'test'",
     "output_type": "error",
     "traceback": [
      "\u001b[0;31m---------------------------------------------------------------------------\u001b[0m",
      "\u001b[0;31mKeyError\u001b[0m                                  Traceback (most recent call last)",
      "\u001b[0;32m<ipython-input-26-80be5c1cd75d>\u001b[0m in \u001b[0;36m<module>\u001b[0;34m\u001b[0m\n\u001b[0;32m----> 1\u001b[0;31m \u001b[0mlen\u001b[0m\u001b[0;34m(\u001b[0m\u001b[0mtest\u001b[0m\u001b[0;34m[\u001b[0m\u001b[0;34m'test'\u001b[0m\u001b[0;34m]\u001b[0m\u001b[0;34m)\u001b[0m\u001b[0;34m\u001b[0m\u001b[0;34m\u001b[0m\u001b[0m\n\u001b[0m",
      "\u001b[0;31mKeyError\u001b[0m: 'test'"
     ]
    }
   ],
   "source": [
    "len(test['test'])"
   ]
  },
  {
   "cell_type": "code",
   "execution_count": 31,
   "metadata": {},
   "outputs": [
    {
     "name": "stdout",
     "output_type": "stream",
     "text": [
      "Downloading logs from 0xf565b3bd4ac7d6b8c4937d0202c647177af31d47a08984346bc51cccee2724ef - 1 of 27 at 20210607_171932\n",
      "created\n",
      "created\n",
      "created\n",
      "Found 1 on key AccrueInterest\n",
      "Key Approval non found\n",
      "Key Borrow non found\n",
      "Key Failure non found\n",
      "Key LiquidateBorrow non found\n",
      "Found 1 on key Mint\n",
      "Key NewAdmin non found\n",
      "Key NewComptroller non found\n",
      "Key NewImplementation non found\n",
      "Key NewMarketInterestRateModel non found\n",
      "Key NewPendingAdmin non found\n",
      "Key NewReserveFactor non found\n",
      "Key Redeem non found\n",
      "Key RepayBorrow non found\n",
      "Key ReservesAdded non found\n",
      "Key ReservesReduced non found\n",
      "Found 1 on key Transfer\n",
      "Downloading logs from 0xf565b3bd4ac7d6b8c4937d0202c647177af31d47a08984346bc51cccee2724ef - 2 of 27 at 20210607_171936\n",
      "created\n",
      "created\n",
      "created\n",
      "Found 1 on key AccrueInterest\n",
      "Key Approval non found\n",
      "Key Borrow non found\n",
      "Key Failure non found\n",
      "Key LiquidateBorrow non found\n",
      "Found 1 on key Mint\n",
      "Key NewAdmin non found\n",
      "Key NewComptroller non found\n",
      "Key NewImplementation non found\n",
      "Key NewMarketInterestRateModel non found\n",
      "Key NewPendingAdmin non found\n",
      "Key NewReserveFactor non found\n",
      "Key Redeem non found\n",
      "Key RepayBorrow non found\n",
      "Key ReservesAdded non found\n",
      "Key ReservesReduced non found\n",
      "Found 1 on key Transfer\n",
      "Downloading logs from 0x95356b111386cb654cc33be7559587dd1672754da982423daf2d7aa9ed1e28d2 - 3 of 27 at 20210607_171940\n",
      "created\n",
      "created\n",
      "created\n",
      "Found 1 on key AccrueInterest\n",
      "Key Approval non found\n",
      "Key Borrow non found\n",
      "Key Failure non found\n",
      "Key LiquidateBorrow non found\n",
      "Found 1 on key Mint\n",
      "Key NewAdmin non found\n",
      "Key NewComptroller non found\n",
      "Key NewImplementation non found\n",
      "Key NewMarketInterestRateModel non found\n",
      "Key NewPendingAdmin non found\n",
      "Key NewReserveFactor non found\n",
      "Key Redeem non found\n",
      "Key RepayBorrow non found\n",
      "Key ReservesAdded non found\n",
      "Key ReservesReduced non found\n",
      "Found 1 on key Transfer\n",
      "Downloading logs from 0xc4a85047da7a53b2879fbf9d3b5964bd567d71d3323c5d023051588f73d635e6 - 4 of 27 at 20210607_171944\n",
      "created\n",
      "created\n",
      "created\n",
      "Found 1 on key AccrueInterest\n",
      "Key Approval non found\n",
      "Key Borrow non found\n",
      "Key Failure non found\n",
      "Key LiquidateBorrow non found\n",
      "Found 1 on key Mint\n",
      "Key NewAdmin non found\n",
      "Key NewComptroller non found\n",
      "Key NewImplementation non found\n",
      "Key NewMarketInterestRateModel non found\n",
      "Key NewPendingAdmin non found\n",
      "Key NewReserveFactor non found\n",
      "Key Redeem non found\n",
      "Key RepayBorrow non found\n",
      "Key ReservesAdded non found\n",
      "Key ReservesReduced non found\n",
      "Found 1 on key Transfer\n",
      "Downloading logs from 0x4632cb75ef9569f0856a2dc3535e1d613bc4d5a923c3ef6289100e0dd7857962 - 5 of 27 at 20210607_171949\n",
      "Found 1 on key AccrueInterest\n",
      "Key Approval non found\n",
      "Key Borrow non found\n",
      "Key Failure non found\n",
      "Key LiquidateBorrow non found\n",
      "Found 1 on key Mint\n",
      "Key NewAdmin non found\n",
      "Key NewComptroller non found\n",
      "Key NewImplementation non found\n",
      "Key NewMarketInterestRateModel non found\n",
      "Key NewPendingAdmin non found\n",
      "Key NewReserveFactor non found\n",
      "Key Redeem non found\n",
      "Key RepayBorrow non found\n",
      "Key ReservesAdded non found\n",
      "Key ReservesReduced non found\n",
      "Found 1 on key Transfer\n",
      "Downloading logs from 0x9408f8209168e5dcea66c2b730163c6a5d80e88e5cbf83fa902cdae013681246 - 6 of 27 at 20210607_171954\n",
      "created\n",
      "created\n",
      "created\n",
      "Found 1 on key AccrueInterest\n",
      "Key Approval non found\n",
      "Key Borrow non found\n",
      "Key Failure non found\n",
      "Key LiquidateBorrow non found\n",
      "Found 1 on key Mint\n",
      "Key NewAdmin non found\n",
      "Key NewComptroller non found\n",
      "Key NewImplementation non found\n",
      "Key NewMarketInterestRateModel non found\n",
      "Key NewPendingAdmin non found\n",
      "Key NewReserveFactor non found\n",
      "Key Redeem non found\n",
      "Key RepayBorrow non found\n",
      "Key ReservesAdded non found\n",
      "Key ReservesReduced non found\n",
      "Found 1 on key Transfer\n",
      "Downloading logs from 0x3799fc811ac41e5e582036867423db3ce606f564100a39e33ace87315f7e8a9d - 7 of 27 at 20210607_171958\n",
      "created\n",
      "created\n",
      "created\n",
      "Found 1 on key AccrueInterest\n",
      "Key Approval non found\n",
      "Key Borrow non found\n",
      "Key Failure non found\n",
      "Key LiquidateBorrow non found\n",
      "Found 1 on key Mint\n",
      "Key NewAdmin non found\n",
      "Key NewComptroller non found\n",
      "Key NewImplementation non found\n",
      "Key NewMarketInterestRateModel non found\n",
      "Key NewPendingAdmin non found\n",
      "Key NewReserveFactor non found\n",
      "Key Redeem non found\n",
      "Key RepayBorrow non found\n",
      "Key ReservesAdded non found\n",
      "Key ReservesReduced non found\n",
      "Found 1 on key Transfer\n",
      "Downloading logs from 0xa91b21923c9f0c7878db77d2a281d18b38453889d4916654091f2738364a52a8 - 8 of 27 at 20210607_172002\n",
      "created\n",
      "created\n",
      "created\n",
      "Found 1 on key AccrueInterest\n",
      "Key Approval non found\n",
      "Key Borrow non found\n",
      "Key Failure non found\n",
      "Key LiquidateBorrow non found\n",
      "Found 1 on key Mint\n",
      "Key NewAdmin non found\n",
      "Key NewComptroller non found\n",
      "Key NewImplementation non found\n",
      "Key NewMarketInterestRateModel non found\n",
      "Key NewPendingAdmin non found\n",
      "Key NewReserveFactor non found\n",
      "Key Redeem non found\n",
      "Key RepayBorrow non found\n",
      "Key ReservesAdded non found\n",
      "Key ReservesReduced non found\n",
      "Found 1 on key Transfer\n",
      "Downloading logs from 0x47e0d83c3702d8678b1e2ffd41f4cd19bc568b96140a4d6a2278f8e4a44f0940 - 9 of 27 at 20210607_172006\n",
      "created\n",
      "created\n",
      "created\n",
      "Found 1 on key AccrueInterest\n",
      "Key Approval non found\n",
      "Key Borrow non found\n",
      "Key Failure non found\n",
      "Key LiquidateBorrow non found\n",
      "Found 1 on key Mint\n",
      "Key NewAdmin non found\n",
      "Key NewComptroller non found\n",
      "Key NewImplementation non found\n",
      "Key NewMarketInterestRateModel non found\n",
      "Key NewPendingAdmin non found\n",
      "Key NewReserveFactor non found\n",
      "Key Redeem non found\n",
      "Key RepayBorrow non found\n",
      "Key ReservesAdded non found\n",
      "Key ReservesReduced non found\n",
      "Found 1 on key Transfer\n",
      "Downloading logs from 0x4f173db752486b2d294b6654f3897e8560f34434371394542945d989bdd09a66 - 10 of 27 at 20210607_172011\n",
      "created\n",
      "created\n",
      "Found 1 on key AccrueInterest\n",
      "Key Approval non found\n",
      "Key Borrow non found\n",
      "Found 1 on key Failure\n",
      "Key LiquidateBorrow non found\n",
      "Found 1 on key Mint\n",
      "Key NewAdmin non found\n",
      "Key NewComptroller non found\n",
      "Key NewImplementation non found\n",
      "Key NewMarketInterestRateModel non found\n",
      "Key NewPendingAdmin non found\n",
      "Key NewReserveFactor non found\n",
      "Key Redeem non found\n",
      "Key RepayBorrow non found\n",
      "Key ReservesAdded non found\n",
      "Key ReservesReduced non found\n",
      "Found 1 on key Transfer\n",
      "Downloading logs from 0xbae5a0428990e17bc469cdefdf5326c31cada5ad5f74211d0a5e0cad00b22f57 - 11 of 27 at 20210607_172015\n",
      "created\n",
      "created\n",
      "created\n",
      "Found 1 on key AccrueInterest\n",
      "Key Approval non found\n",
      "Key Borrow non found\n",
      "Found 1 on key Failure\n",
      "Key LiquidateBorrow non found\n",
      "Found 1 on key Mint\n",
      "Key NewAdmin non found\n",
      "Key NewComptroller non found\n",
      "Key NewImplementation non found\n",
      "Key NewMarketInterestRateModel non found\n",
      "Key NewPendingAdmin non found\n",
      "Key NewReserveFactor non found\n",
      "Found 1 on key Redeem\n",
      "Key RepayBorrow non found\n",
      "Key ReservesAdded non found\n",
      "Key ReservesReduced non found\n",
      "Found 1 on key Transfer\n",
      "Downloading logs from 0x86e30d88603a5d6784b87005bbfefc7371f11563b7ff52e8a9bf2c8ac10cdb56 - 12 of 27 at 20210607_172018\n",
      "created\n",
      "created\n",
      "created\n",
      "Found 1 on key AccrueInterest\n",
      "Key Approval non found\n",
      "Key Borrow non found\n",
      "Found 1 on key Failure\n",
      "Key LiquidateBorrow non found\n",
      "Found 1 on key Mint\n",
      "Key NewAdmin non found\n",
      "Key NewComptroller non found\n",
      "Key NewImplementation non found\n",
      "Key NewMarketInterestRateModel non found\n",
      "Key NewPendingAdmin non found\n",
      "Key NewReserveFactor non found\n",
      "Found 1 on key Redeem\n",
      "Key RepayBorrow non found\n",
      "Key ReservesAdded non found\n",
      "Key ReservesReduced non found\n",
      "Found 1 on key Transfer\n",
      "Downloading logs from 0x8a42e76f00297ad12a71d0a99a3d118e8916d82fa379e6b69184398a47772ad1 - 13 of 27 at 20210607_172023\n",
      "created\n",
      "created\n",
      "created\n",
      "Found 1 on key AccrueInterest\n",
      "Key Approval non found\n",
      "Key Borrow non found\n",
      "Found 1 on key Failure\n",
      "Key LiquidateBorrow non found\n",
      "Found 1 on key Mint\n",
      "Key NewAdmin non found\n",
      "Key NewComptroller non found\n",
      "Key NewImplementation non found\n",
      "Key NewMarketInterestRateModel non found\n",
      "Key NewPendingAdmin non found\n",
      "Key NewReserveFactor non found\n",
      "Found 1 on key Redeem\n",
      "Key RepayBorrow non found\n",
      "Key ReservesAdded non found\n",
      "Key ReservesReduced non found\n",
      "Found 1 on key Transfer\n",
      "Downloading logs from 0xe686d65543b24c2b9f88ea30e6b8534d61e54be97e90d9c8215b5d5ee223695a - 14 of 27 at 20210607_172027\n",
      "created\n",
      "created\n",
      "created\n",
      "Found 1 on key AccrueInterest\n",
      "Key Approval non found\n",
      "Key Borrow non found\n",
      "Found 1 on key Failure\n",
      "Key LiquidateBorrow non found\n",
      "Found 1 on key Mint\n",
      "Key NewAdmin non found\n",
      "Key NewComptroller non found\n",
      "Key NewImplementation non found\n",
      "Key NewMarketInterestRateModel non found\n",
      "Key NewPendingAdmin non found\n",
      "Key NewReserveFactor non found\n",
      "Found 1 on key Redeem\n",
      "Key RepayBorrow non found\n",
      "Key ReservesAdded non found\n",
      "Key ReservesReduced non found\n",
      "Found 1 on key Transfer\n",
      "Downloading logs from 0xe5cd3b5aa907c21ffc493460555ba96d41f7dbcb5319f3d61c83210941b1ebd8 - 15 of 27 at 20210607_172031\n",
      "created\n",
      "created\n",
      "created\n",
      "Found 1 on key AccrueInterest\n",
      "Key Approval non found\n",
      "Key Borrow non found\n",
      "Found 1 on key Failure\n",
      "Key LiquidateBorrow non found\n",
      "Found 1 on key Mint\n",
      "Key NewAdmin non found\n",
      "Key NewComptroller non found\n",
      "Key NewImplementation non found\n",
      "Key NewMarketInterestRateModel non found\n",
      "Key NewPendingAdmin non found\n",
      "Key NewReserveFactor non found\n",
      "Found 1 on key Redeem\n",
      "Key RepayBorrow non found\n",
      "Key ReservesAdded non found\n",
      "Key ReservesReduced non found\n",
      "Found 1 on key Transfer\n",
      "Downloading logs from 0x4bfa127d2383ec74c6c2d0b22a77f316cd9d26778ced9ea411a0029833e3e1f7 - 16 of 27 at 20210607_172034\n",
      "created\n",
      "created\n",
      "Found 1 on key AccrueInterest\n",
      "Key Approval non found\n",
      "Key Borrow non found\n",
      "Found 1 on key Failure\n",
      "Key LiquidateBorrow non found\n",
      "Found 1 on key Mint\n",
      "Key NewAdmin non found\n",
      "Key NewComptroller non found\n",
      "Key NewImplementation non found\n",
      "Key NewMarketInterestRateModel non found\n",
      "Key NewPendingAdmin non found\n",
      "Key NewReserveFactor non found\n",
      "Found 1 on key Redeem\n",
      "Key RepayBorrow non found\n",
      "Key ReservesAdded non found\n",
      "Key ReservesReduced non found\n",
      "Found 1 on key Transfer\n",
      "Downloading logs from 0x5f9561a711727462fe5e5f0fd499010ea091eb42276cc250fd751f583c4dd5c2 - 17 of 27 at 20210607_172041\n",
      "created\n",
      "created\n",
      "created\n",
      "Found 1 on key AccrueInterest\n",
      "Key Approval non found\n",
      "Key Borrow non found\n",
      "Found 1 on key Failure\n",
      "Key LiquidateBorrow non found\n",
      "Found 1 on key Mint\n",
      "Key NewAdmin non found\n",
      "Key NewComptroller non found\n",
      "Key NewImplementation non found\n",
      "Key NewMarketInterestRateModel non found\n",
      "Key NewPendingAdmin non found\n",
      "Key NewReserveFactor non found\n",
      "Found 1 on key Redeem\n",
      "Found 1 on key RepayBorrow\n",
      "Key ReservesAdded non found\n",
      "Key ReservesReduced non found\n",
      "Found 1 on key Transfer\n",
      "Downloading logs from 0x8eb22c62fd01f85ac124ee12378192dbdceec320dfdc796e5f7c6a040470c46d - 18 of 27 at 20210607_172045\n",
      "created\n",
      "created\n",
      "created\n",
      "Found 1 on key AccrueInterest\n",
      "Key Approval non found\n",
      "Key Borrow non found\n",
      "Found 1 on key Failure\n",
      "Key LiquidateBorrow non found\n",
      "Found 1 on key Mint\n",
      "Key NewAdmin non found\n",
      "Key NewComptroller non found\n",
      "Key NewImplementation non found\n",
      "Key NewMarketInterestRateModel non found\n",
      "Key NewPendingAdmin non found\n",
      "Key NewReserveFactor non found\n",
      "Found 1 on key Redeem\n",
      "Found 1 on key RepayBorrow\n",
      "Key ReservesAdded non found\n",
      "Key ReservesReduced non found\n",
      "Found 1 on key Transfer\n",
      "Downloading logs from 0x6332cdf57b10223bbb7934bf546e075c9f7ed1c29ff84e10b2ea365f66c7a04d - 19 of 27 at 20210607_172049\n",
      "created\n",
      "created\n",
      "created\n",
      "Found 1 on key AccrueInterest\n",
      "Key Approval non found\n",
      "Key Borrow non found\n",
      "Found 1 on key Failure\n",
      "Key LiquidateBorrow non found\n",
      "Found 1 on key Mint\n",
      "Key NewAdmin non found\n",
      "Key NewComptroller non found\n",
      "Key NewImplementation non found\n",
      "Key NewMarketInterestRateModel non found\n",
      "Key NewPendingAdmin non found\n",
      "Key NewReserveFactor non found\n",
      "Found 1 on key Redeem\n",
      "Found 1 on key RepayBorrow\n",
      "Key ReservesAdded non found\n",
      "Key ReservesReduced non found\n",
      "Found 1 on key Transfer\n",
      "Downloading logs from 0xa921be433b933369fa5a1121ad4355b0c1cdf94b19fb85fc241e5ceefa268a2a - 20 of 27 at 20210607_172053\n",
      "created\n",
      "created\n",
      "created\n",
      "Found 1 on key AccrueInterest\n",
      "Key Approval non found\n",
      "Key Borrow non found\n",
      "Found 1 on key Failure\n",
      "Key LiquidateBorrow non found\n",
      "Found 1 on key Mint\n",
      "Key NewAdmin non found\n",
      "Key NewComptroller non found\n",
      "Key NewImplementation non found\n",
      "Key NewMarketInterestRateModel non found\n",
      "Key NewPendingAdmin non found\n",
      "Key NewReserveFactor non found\n",
      "Found 1 on key Redeem\n",
      "Found 1 on key RepayBorrow\n",
      "Key ReservesAdded non found\n",
      "Key ReservesReduced non found\n",
      "Found 1 on key Transfer\n",
      "Downloading logs from 0x54d7f35c4a08e2a9fed415d9bc583e72a14ea438b56ae435369d0c9376751178 - 21 of 27 at 20210607_172057\n",
      "created\n",
      "created\n",
      "created\n",
      "Found 1 on key AccrueInterest\n",
      "Key Approval non found\n",
      "Key Borrow non found\n",
      "Found 1 on key Failure\n",
      "Key LiquidateBorrow non found\n",
      "Found 1 on key Mint\n",
      "Key NewAdmin non found\n",
      "Key NewComptroller non found\n",
      "Key NewImplementation non found\n",
      "Key NewMarketInterestRateModel non found\n",
      "Key NewPendingAdmin non found\n",
      "Key NewReserveFactor non found\n",
      "Found 1 on key Redeem\n",
      "Found 1 on key RepayBorrow\n",
      "Key ReservesAdded non found\n",
      "Key ReservesReduced non found\n",
      "Found 1 on key Transfer\n",
      "Downloading logs from 0x369dd7684568733ebd056ae61f9f952a98d11e524140574bf8602bffd055fdf1 - 22 of 27 at 20210607_172101\n",
      "created\n",
      "created\n",
      "created\n",
      "Found 1 on key AccrueInterest\n",
      "Key Approval non found\n",
      "Key Borrow non found\n",
      "Found 1 on key Failure\n",
      "Key LiquidateBorrow non found\n",
      "Found 1 on key Mint\n",
      "Key NewAdmin non found\n",
      "Key NewComptroller non found\n",
      "Key NewImplementation non found\n",
      "Key NewMarketInterestRateModel non found\n",
      "Key NewPendingAdmin non found\n",
      "Key NewReserveFactor non found\n",
      "Found 1 on key Redeem\n",
      "Found 1 on key RepayBorrow\n",
      "Key ReservesAdded non found\n",
      "Key ReservesReduced non found\n",
      "Found 1 on key Transfer\n",
      "Downloading logs from 0x3e7afc06365171d9c063bd26729a4e84ac1321f5c899c8844f836588d01b83aa - 23 of 27 at 20210607_172105\n",
      "created\n",
      "created\n",
      "created\n",
      "Found 1 on key AccrueInterest\n",
      "Key Approval non found\n",
      "Key Borrow non found\n",
      "Found 1 on key Failure\n",
      "Key LiquidateBorrow non found\n",
      "Found 1 on key Mint\n",
      "Key NewAdmin non found\n",
      "Key NewComptroller non found\n",
      "Key NewImplementation non found\n",
      "Key NewMarketInterestRateModel non found\n",
      "Key NewPendingAdmin non found\n",
      "Key NewReserveFactor non found\n",
      "Found 1 on key Redeem\n",
      "Found 1 on key RepayBorrow\n",
      "Key ReservesAdded non found\n",
      "Key ReservesReduced non found\n",
      "Found 1 on key Transfer\n",
      "Downloading logs from 0xf4618925c6e4f6d6df89a575e967d2af5f55fff3426a98994f67f6bb72a8eb26 - 24 of 27 at 20210607_172109\n",
      "created\n",
      "created\n",
      "Found 1 on key AccrueInterest\n",
      "Key Approval non found\n",
      "Key Borrow non found\n",
      "Found 1 on key Failure\n",
      "Key LiquidateBorrow non found\n",
      "Found 1 on key Mint\n",
      "Key NewAdmin non found\n",
      "Key NewComptroller non found\n",
      "Key NewImplementation non found\n",
      "Key NewMarketInterestRateModel non found\n",
      "Key NewPendingAdmin non found\n",
      "Key NewReserveFactor non found\n",
      "Found 1 on key Redeem\n",
      "Found 1 on key RepayBorrow\n",
      "Key ReservesAdded non found\n",
      "Key ReservesReduced non found\n",
      "Found 1 on key Transfer\n",
      "Downloading logs from 0xae5a26543101e8283153709edff2a3cb1407567c803321f1225d367b2c457fca - 25 of 27 at 20210607_172113\n",
      "created\n",
      "created\n",
      "created\n",
      "Found 1 on key AccrueInterest\n",
      "Key Approval non found\n",
      "Key Borrow non found\n",
      "Found 1 on key Failure\n",
      "Key LiquidateBorrow non found\n",
      "Found 1 on key Mint\n",
      "Key NewAdmin non found\n",
      "Key NewComptroller non found\n",
      "Key NewImplementation non found\n",
      "Key NewMarketInterestRateModel non found\n",
      "Key NewPendingAdmin non found\n",
      "Key NewReserveFactor non found\n",
      "Found 1 on key Redeem\n",
      "Found 1 on key RepayBorrow\n",
      "Key ReservesAdded non found\n",
      "Key ReservesReduced non found\n",
      "Found 1 on key Transfer\n",
      "Downloading logs from 0x2414375b036573fd097ab562157baf8197f06a3d398ce61b8f2008c2b08d7210 - 26 of 27 at 20210607_172116\n",
      "created\n",
      "created\n",
      "created\n",
      "Found 1 on key AccrueInterest\n",
      "Key Approval non found\n",
      "Key Borrow non found\n",
      "Found 1 on key Failure\n",
      "Key LiquidateBorrow non found\n",
      "Found 1 on key Mint\n",
      "Key NewAdmin non found\n",
      "Key NewComptroller non found\n",
      "Key NewImplementation non found\n",
      "Key NewMarketInterestRateModel non found\n",
      "Key NewPendingAdmin non found\n",
      "Key NewReserveFactor non found\n",
      "Found 1 on key Redeem\n",
      "Found 1 on key RepayBorrow\n",
      "Key ReservesAdded non found\n",
      "Key ReservesReduced non found\n",
      "Found 1 on key Transfer\n",
      "Downloading logs from 0x291315ce5c84c1cad42f078167caf505aae66c473f834e07708bf307e196e2ea - 27 of 27 at 20210607_172120\n",
      "created\n",
      "created\n",
      "created\n",
      "Found 1 on key AccrueInterest\n",
      "Key Approval non found\n",
      "Key Borrow non found\n",
      "Found 1 on key Failure\n",
      "Key LiquidateBorrow non found\n",
      "Found 1 on key Mint\n",
      "Key NewAdmin non found\n",
      "Key NewComptroller non found\n",
      "Key NewImplementation non found\n",
      "Key NewMarketInterestRateModel non found\n",
      "Key NewPendingAdmin non found\n",
      "Key NewReserveFactor non found\n",
      "Found 1 on key Redeem\n",
      "Found 1 on key RepayBorrow\n",
      "Key ReservesAdded non found\n",
      "Key ReservesReduced non found\n",
      "Found 1 on key Transfer\n"
     ]
    }
   ],
   "source": [
    "import warnings\n",
    "warnings.filterwarnings('ignore') \n",
    "dfList = {}\n",
    "\n",
    "isFirst = True\n",
    "index = 1\n",
    "for tx in df_txHashList:\n",
    "    \n",
    "    print(\"Downloading logs from {0} - {1} of {2} at {3}\".format(tx, index, len(df_txHashList), datetime.now().strftime(\"%Y%m%d_%H%M%S\")))\n",
    "    \n",
    "    (keyLog, valueLog, txR) = ethData.decodeLogs(tx, contract, ABI, _connectionString)\n",
    "    \n",
    "    txR_columns = []\n",
    "    for key in txR.keys():\n",
    "        if(key != 'logs'):\n",
    "            txR_columns.extend([key])\n",
    "    txR_values = []\n",
    "    for key in txR.keys():\n",
    "        if(key != 'logs'):\n",
    "            txR_values.extend([txR[key]])\n",
    "    \n",
    "    for key in keyLog:\n",
    "        if(len(keyLog[key])>0): #if key exists\n",
    "            keyLog[key].extend(txR_columns)\n",
    "            valueLog[key].extend(txR_values)\n",
    "            try:\n",
    "                print(\"try to append..\")\n",
    "                dfList[key] = pd.concat([dfList[key], pd.DataFrame(values, columns = columns[key])])\n",
    "                print(\"append\")\n",
    "            except:\n",
    "                dfList[key] = pd.DataFrame([valueLog[key]], columns = keyLog[key]) #create empty dataframe\n",
    "                print(\"created\")\n",
    "            \n",
    "    index = index + 1\n",
    "    \n",
    "    for key in keyLog:\n",
    "        try:\n",
    "            print(\"Found {0} on key {1}\".format(len(dfList[key]), key))\n",
    "        except:\n",
    "            print(\"Key {0} non found\".format(key))  "
   ]
  },
  {
   "cell_type": "code",
   "execution_count": 24,
   "metadata": {},
   "outputs": [
    {
     "data": {
      "text/html": [
       "<div>\n",
       "<style scoped>\n",
       "    .dataframe tbody tr th:only-of-type {\n",
       "        vertical-align: middle;\n",
       "    }\n",
       "\n",
       "    .dataframe tbody tr th {\n",
       "        vertical-align: top;\n",
       "    }\n",
       "\n",
       "    .dataframe thead th {\n",
       "        text-align: right;\n",
       "    }\n",
       "</style>\n",
       "<table border=\"1\" class=\"dataframe\">\n",
       "  <thead>\n",
       "    <tr style=\"text-align: right;\">\n",
       "      <th></th>\n",
       "      <th>cashPrior</th>\n",
       "      <th>interestAccumulated</th>\n",
       "      <th>borrowIndex</th>\n",
       "      <th>totalBorrows</th>\n",
       "      <th>blockHash</th>\n",
       "      <th>blockNumber</th>\n",
       "      <th>contractAddress</th>\n",
       "      <th>cumulativeGasUsed</th>\n",
       "      <th>from</th>\n",
       "      <th>gasUsed</th>\n",
       "      <th>logsBloom</th>\n",
       "      <th>status</th>\n",
       "      <th>to</th>\n",
       "      <th>transactionHash</th>\n",
       "      <th>transactionIndex</th>\n",
       "      <th>type</th>\n",
       "    </tr>\n",
       "  </thead>\n",
       "  <tbody>\n",
       "    <tr>\n",
       "      <th>0</th>\n",
       "      <td>456059974772262571317923</td>\n",
       "      <td>309910742737989463</td>\n",
       "      <td>1061991284669367675</td>\n",
       "      <td>90777465165950000894352</td>\n",
       "      <td>b\"\\xef#\\xcd\\xa8\\xe8\\xff\\x9e-\\xd7\\xda5\\xb3.lQ\\x...</td>\n",
       "      <td>12586066</td>\n",
       "      <td>None</td>\n",
       "      <td>14419693</td>\n",
       "      <td>0x02F11531980bcD7e03ea1a3c2dd026F47D664129</td>\n",
       "      <td>164507</td>\n",
       "      <td>b'\\x00\\x00\\x08\\x00\\x00\\x00\\x00\\x00\\x00\\x00\\x00...</td>\n",
       "      <td>1</td>\n",
       "      <td>0x70e36f6BF80a52b3B46b3aF8e106CC0ed743E8e4</td>\n",
       "      <td>b')\\x13\\x15\\xce\\\\\\x84\\xc1\\xca\\xd4/\\x07\\x81g\\xc...</td>\n",
       "      <td>207</td>\n",
       "      <td>0x0</td>\n",
       "    </tr>\n",
       "  </tbody>\n",
       "</table>\n",
       "</div>"
      ],
      "text/plain": [
       "                  cashPrior  interestAccumulated          borrowIndex  \\\n",
       "0  456059974772262571317923   309910742737989463  1061991284669367675   \n",
       "\n",
       "              totalBorrows                                          blockHash  \\\n",
       "0  90777465165950000894352  b\"\\xef#\\xcd\\xa8\\xe8\\xff\\x9e-\\xd7\\xda5\\xb3.lQ\\x...   \n",
       "\n",
       "   blockNumber contractAddress  cumulativeGasUsed  \\\n",
       "0     12586066            None           14419693   \n",
       "\n",
       "                                         from  gasUsed  \\\n",
       "0  0x02F11531980bcD7e03ea1a3c2dd026F47D664129   164507   \n",
       "\n",
       "                                           logsBloom  status  \\\n",
       "0  b'\\x00\\x00\\x08\\x00\\x00\\x00\\x00\\x00\\x00\\x00\\x00...       1   \n",
       "\n",
       "                                           to  \\\n",
       "0  0x70e36f6BF80a52b3B46b3aF8e106CC0ed743E8e4   \n",
       "\n",
       "                                     transactionHash  transactionIndex type  \n",
       "0  b')\\x13\\x15\\xce\\\\\\x84\\xc1\\xca\\xd4/\\x07\\x81g\\xc...               207  0x0  "
      ]
     },
     "execution_count": 24,
     "metadata": {},
     "output_type": "execute_result"
    }
   ],
   "source": [
    "dfList['AccrueInterest']"
   ]
  },
  {
   "cell_type": "code",
   "execution_count": null,
   "metadata": {},
   "outputs": [],
   "source": [
    "filePath = \"data/contracts/{0}/{1}{2}.csv\"\n",
    "for dfKey in dfList.keys():\n",
    "    dfList[dfKey].to_csv(filePath.format(contractName, 'event_', dfKey))"
   ]
  },
  {
   "cell_type": "code",
   "execution_count": null,
   "metadata": {},
   "outputs": [],
   "source": [
    "dfList"
   ]
  },
  {
   "cell_type": "code",
   "execution_count": null,
   "metadata": {},
   "outputs": [],
   "source": [
    "for event in self.getEventsFromABI(ABI):\n",
    "    if(len(columns[event])>0): #at least 1 data for the event\n",
    "        pd.DataFrame(valueLogList[key], columns = columns[event])[index]"
   ]
  },
  {
   "cell_type": "code",
   "execution_count": null,
   "metadata": {},
   "outputs": [],
   "source": [
    "for event in ethData.getEventsFromABI(ABI):\n",
    "    if(len(columns[event])>0): #at least 1 data for the event\n",
    "        pd.DataFrame(valueLogList[key], columns = columns[event]).to_csv(filePath.format(contractName, 'event_', event))"
   ]
  },
  {
   "cell_type": "code",
   "execution_count": null,
   "metadata": {},
   "outputs": [],
   "source": []
  },
  {
   "cell_type": "code",
   "execution_count": null,
   "metadata": {},
   "outputs": [],
   "source": []
  },
  {
   "cell_type": "code",
   "execution_count": null,
   "metadata": {},
   "outputs": [],
   "source": []
  },
  {
   "cell_type": "code",
   "execution_count": null,
   "metadata": {},
   "outputs": [],
   "source": []
  },
  {
   "cell_type": "code",
   "execution_count": null,
   "metadata": {},
   "outputs": [],
   "source": [
    "ABI = requests.get(ethData.API_String('ETHERSCAN', 'ABI', [TESTADDRESS, ETHERSCAN_API_KEY])).json()['result']"
   ]
  },
  {
   "cell_type": "code",
   "execution_count": null,
   "metadata": {},
   "outputs": [],
   "source": [
    "contract = ethData.getContract(TESTADDRESS, ETHERSCAN_API_KEY, CONNECTION_STRING)"
   ]
  },
  {
   "cell_type": "code",
   "execution_count": null,
   "metadata": {},
   "outputs": [],
   "source": [
    "ethData.saveContractData(contract, ABI)"
   ]
  },
  {
   "cell_type": "code",
   "execution_count": null,
   "metadata": {},
   "outputs": [],
   "source": [
    "events = ethData.getEventsFromABI(ABI)"
   ]
  },
  {
   "cell_type": "code",
   "execution_count": null,
   "metadata": {},
   "outputs": [],
   "source": [
    "ethData.getFunctionsFromABI(ABI)"
   ]
  },
  {
   "cell_type": "code",
   "execution_count": null,
   "metadata": {},
   "outputs": [],
   "source": [
    "ethData.getEventsFromABI(ABI)"
   ]
  },
  {
   "cell_type": "code",
   "execution_count": null,
   "metadata": {},
   "outputs": [],
   "source": [
    "contract"
   ]
  },
  {
   "cell_type": "code",
   "execution_count": null,
   "metadata": {},
   "outputs": [],
   "source": [
    "df_txHashList = ethData.importTransactionListFromAddress(ETHERSCAN_API_KEY, 'ETHERSCAN', 'TXLIST', TESTADDRESS, 'MAX', 0 , 2)['hash']"
   ]
  },
  {
   "cell_type": "code",
   "execution_count": null,
   "metadata": {},
   "outputs": [],
   "source": [
    "tx = df_txHashList[0]"
   ]
  },
  {
   "cell_type": "code",
   "execution_count": null,
   "metadata": {},
   "outputs": [],
   "source": [
    "(keyLogList, valueLogList) = ethData.decodeLogs(tx, contract, ABI, CONNECTION_STRING)"
   ]
  },
  {
   "cell_type": "code",
   "execution_count": null,
   "metadata": {},
   "outputs": [],
   "source": [
    "valueLogList"
   ]
  },
  {
   "cell_type": "code",
   "execution_count": null,
   "metadata": {},
   "outputs": [],
   "source": [
    "keyLogList"
   ]
  },
  {
   "cell_type": "code",
   "execution_count": null,
   "metadata": {},
   "outputs": [],
   "source": [
    "columns = {}\n",
    "for key in keyLogList:\n",
    "    if(len(keyLogList[key])>0):\n",
    "        columns[key] = keyLogList[key]"
   ]
  },
  {
   "cell_type": "code",
   "execution_count": null,
   "metadata": {},
   "outputs": [],
   "source": [
    "columns['AccrueInterest']"
   ]
  },
  {
   "cell_type": "code",
   "execution_count": null,
   "metadata": {},
   "outputs": [],
   "source": [
    "valueLogList[events[0]]"
   ]
  },
  {
   "cell_type": "code",
   "execution_count": null,
   "metadata": {},
   "outputs": [],
   "source": [
    "w3 = ethData.blockchainConnection(CONNECTION_STRING)\n"
   ]
  },
  {
   "cell_type": "code",
   "execution_count": null,
   "metadata": {},
   "outputs": [],
   "source": [
    "(keyLog, valueLog) = ethData.getLogFromTransactionHash(tx, contract.events.Transfer(), CONNECTION_STRING)"
   ]
  },
  {
   "cell_type": "code",
   "execution_count": null,
   "metadata": {},
   "outputs": [],
   "source": [
    "(keyLog, valueLog) = ethData.getLogFromTransactionHash(tx, contract.events.AccrueInterest(), CONNECTION_STRING)"
   ]
  },
  {
   "cell_type": "code",
   "execution_count": null,
   "metadata": {},
   "outputs": [],
   "source": [
    "keyLog"
   ]
  },
  {
   "cell_type": "code",
   "execution_count": null,
   "metadata": {},
   "outputs": [],
   "source": [
    "valueLog"
   ]
  },
  {
   "cell_type": "code",
   "execution_count": null,
   "metadata": {},
   "outputs": [],
   "source": [
    "txR = w3.eth.getTransactionReceipt(tx)"
   ]
  },
  {
   "cell_type": "code",
   "execution_count": null,
   "metadata": {},
   "outputs": [],
   "source": [
    "txR"
   ]
  },
  {
   "cell_type": "code",
   "execution_count": null,
   "metadata": {},
   "outputs": [],
   "source": [
    "log = contract.events.Transfer().processReceipt(txR)[0]['args']"
   ]
  },
  {
   "cell_type": "code",
   "execution_count": null,
   "metadata": {},
   "outputs": [],
   "source": [
    "for key in log.keys():\n",
    "    print(key, log[key])"
   ]
  },
  {
   "cell_type": "code",
   "execution_count": null,
   "metadata": {},
   "outputs": [],
   "source": [
    "df = pd.DataFrame.from_dict(contract.events.Transfer().processReceipt(txR)[0]['args'])"
   ]
  },
  {
   "cell_type": "code",
   "execution_count": null,
   "metadata": {},
   "outputs": [],
   "source": [
    "df"
   ]
  },
  {
   "cell_type": "code",
   "execution_count": null,
   "metadata": {},
   "outputs": [],
   "source": [
    "df['args']"
   ]
  },
  {
   "cell_type": "code",
   "execution_count": null,
   "metadata": {},
   "outputs": [],
   "source": [
    "contract.functions.name().call()"
   ]
  },
  {
   "cell_type": "code",
   "execution_count": null,
   "metadata": {},
   "outputs": [],
   "source": [
    "w3.eth.contract.ContractEvents.getLogs("
   ]
  },
  {
   "cell_type": "code",
   "execution_count": null,
   "metadata": {},
   "outputs": [],
   "source": [
    "event_filter.get_new_entries()"
   ]
  },
  {
   "cell_type": "code",
   "execution_count": null,
   "metadata": {},
   "outputs": [],
   "source": [
    "events = [x for x in ABI if x['type'] == 'events']"
   ]
  },
  {
   "cell_type": "code",
   "execution_count": null,
   "metadata": {},
   "outputs": [],
   "source": [
    "df_txHashList = df_txHashList.to_numpy()"
   ]
  },
  {
   "cell_type": "code",
   "execution_count": null,
   "metadata": {},
   "outputs": [],
   "source": [
    "tx"
   ]
  },
  {
   "cell_type": "code",
   "execution_count": null,
   "metadata": {},
   "outputs": [],
   "source": [
    "txR"
   ]
  },
  {
   "cell_type": "code",
   "execution_count": null,
   "metadata": {},
   "outputs": [],
   "source": [
    "contract.events"
   ]
  },
  {
   "cell_type": "code",
   "execution_count": null,
   "metadata": {},
   "outputs": [],
   "source": []
  },
  {
   "cell_type": "code",
   "execution_count": null,
   "metadata": {},
   "outputs": [],
   "source": []
  },
  {
   "cell_type": "code",
   "execution_count": null,
   "metadata": {},
   "outputs": [],
   "source": [
    "receipt = w3.eth.getTransactionReceipt(tx_hash)\n"
   ]
  },
  {
   "cell_type": "code",
   "execution_count": null,
   "metadata": {},
   "outputs": [],
   "source": [
    "logs = myContract.events.myEvent().processReceipt(receipt)"
   ]
  },
  {
   "cell_type": "code",
   "execution_count": null,
   "metadata": {},
   "outputs": [],
   "source": []
  },
  {
   "cell_type": "code",
   "execution_count": null,
   "metadata": {},
   "outputs": [],
   "source": [
    "tx_hash = contract.functions.Transfer().transact()\n"
   ]
  },
  {
   "cell_type": "code",
   "execution_count": null,
   "metadata": {},
   "outputs": [],
   "source": [
    "df_txHashList[0]"
   ]
  },
  {
   "cell_type": "code",
   "execution_count": null,
   "metadata": {},
   "outputs": [],
   "source": [
    "tx"
   ]
  },
  {
   "cell_type": "code",
   "execution_count": null,
   "metadata": {},
   "outputs": [],
   "source": []
  },
  {
   "cell_type": "code",
   "execution_count": null,
   "metadata": {},
   "outputs": [],
   "source": [
    "contract.events.Transfer()"
   ]
  },
  {
   "cell_type": "code",
   "execution_count": null,
   "metadata": {},
   "outputs": [],
   "source": []
  },
  {
   "cell_type": "code",
   "execution_count": null,
   "metadata": {},
   "outputs": [],
   "source": []
  },
  {
   "cell_type": "code",
   "execution_count": null,
   "metadata": {},
   "outputs": [],
   "source": []
  },
  {
   "cell_type": "code",
   "execution_count": null,
   "metadata": {},
   "outputs": [],
   "source": []
  },
  {
   "cell_type": "code",
   "execution_count": null,
   "metadata": {},
   "outputs": [],
   "source": []
  },
  {
   "cell_type": "code",
   "execution_count": null,
   "metadata": {},
   "outputs": [],
   "source": [
    "tx_hash = contract.functions.Transfer().transact(txR)"
   ]
  },
  {
   "cell_type": "code",
   "execution_count": null,
   "metadata": {},
   "outputs": [],
   "source": []
  }
 ],
 "metadata": {
  "kernelspec": {
   "display_name": "Python 3",
   "language": "python",
   "name": "python3"
  },
  "language_info": {
   "codemirror_mode": {
    "name": "ipython",
    "version": 3
   },
   "file_extension": ".py",
   "mimetype": "text/x-python",
   "name": "python",
   "nbconvert_exporter": "python",
   "pygments_lexer": "ipython3",
   "version": "3.8.5"
  }
 },
 "nbformat": 4,
 "nbformat_minor": 4
}
