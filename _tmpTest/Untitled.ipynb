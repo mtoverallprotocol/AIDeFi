{
 "cells": [
  {
   "cell_type": "code",
   "execution_count": null,
   "metadata": {},
   "outputs": [],
   "source": [
    "from core import AIDeFiCore\n",
    "from query import sqlQueries\n",
    "import pandasql as ps\n",
    "import statistics as stat"
   ]
  },
  {
   "cell_type": "code",
   "execution_count": null,
   "metadata": {},
   "outputs": [],
   "source": [
    "from classes import ethData\n",
    "ethData = ethData.ethData()\n",
    "BSCSCAN_API_KEY = 'I6ZZ57GWAS39M85QC4AJFC43Y5DUA8IU8I'\n",
    "#ethData.API_String('BSCSCAN', 'TXLIST', ['0xB0B924C4a31b7d4581a7F78F57ceE1E65736Be1D', 0, 9999999999999, BSCSCAN_API_KEY])\n",
    "ethData.analyzeTokenCustomers(BSCSCAN_API_KEY)"
   ]
  },
  {
   "cell_type": "code",
   "execution_count": null,
   "metadata": {},
   "outputs": [],
   "source": [
    "ethData.getMaps(0, 'TOKEN')"
   ]
  },
  {
   "cell_type": "code",
   "execution_count": null,
   "metadata": {},
   "outputs": [],
   "source": [
    "from classes import ethData\n",
    "ethData = ethData.ethData()\n",
    "ETHERSCAN_API_KEY = 'EWYSGQ5PEK84PRCNSCKHHZWJIWWKYYABCE'\n",
    "ethData.analyzeDexCustomers(ETHERSCAN_API_KEY)"
   ]
  },
  {
   "cell_type": "code",
   "execution_count": null,
   "metadata": {},
   "outputs": [],
   "source": [
    "ethData.importAllDexTransactions(ETHERSCAN_API_KEY, 'ETHERSCAN', 'TXLIST', 'DEX', 'MAX', 0, 2) # 24 hours\n",
    "ethData.importTransactionsFromDexCustomers(ETHERSCAN_API_KEY, 'ETHERSCAN', 'TXLIST', 'DEX')\n",
    "ethData.mergeFiles('DEX')\n",
    "ethData.reportDexCustomers('DEX')"
   ]
  },
  {
   "cell_type": "code",
   "execution_count": null,
   "metadata": {},
   "outputs": [],
   "source": [
    "transactionsFromUsersDex = pd.read_csv('export/CUSTOMERS_TRANSACTIONS_FROM_DEX.csv')\n",
    "transactionsFromUsersDex.set_index(transactionsFromUsersDex['from'])\n",
    "customerList = pd.read_csv('export/CUSTOMERS_LIST_FROM_DEX.csv')\n",
    "customerList.rename(columns={'from':'fromAddress'}, inplace=True)\n",
    "transactionsFromUsersDex.rename(columns={'to':'toAddress'}, inplace=True)\n",
    "transactionsFromUsersDex.rename(columns={'from':'fromAddress_'}, inplace=True)\n",
    "transactionsFromUsersDex['fromAddress'] = transactionsFromUsersDex['fromAddress'].str.upper()\n",
    "transactionsFromUsersDex['fromAddress_'] = transactionsFromUsersDex['fromAddress_'].str.upper()\n",
    "transactionsFromUsersDex['toAddress'] = transactionsFromUsersDex['toAddress'].str.upper()\n",
    "\n",
    "address = []\n",
    "name = []\n",
    "for index in range(0, ethData.getNumberContractAddressMap()):\n",
    "    dex = ethData.getContractAddressMap(index)\n",
    "    address.append(dex[1].upper())\n",
    "    name.append(dex[0].upper())\n",
    "dfDex = pd.DataFrame({'DEX_Address' : address, 'DEX_Name' : name})\n",
    "dfDex.to_csv(r'DEX.csv')\n",
    "\n",
    "base = '{0}'.format(10 ** 18) # = 10 ^ 18\n",
    "sql = 'Select a.*, CASE WHEN fromAddress = fromAddress_ then \"OUT\" else \"IN\" END AS IN_OUT from transactionsFromUsersDex a'\n",
    "df = psql.sqldf(sql)\n",
    "dexList = []\n",
    "caseWhenStatement_IN = []\n",
    "caseWhenStatement_OUT = []\n",
    "sumCaseWhenStatement = []\n",
    "for dexIndex in range(0, ethData.getNumberContractAddressMap()):\n",
    "    name = ethData.getContractAddressMap(dexIndex)[0]\n",
    "    address = ethData.getContractAddressMap(dexIndex)[1]\n",
    "    df[name + '_IN'] = np.where(df['fromAddress'] == address.upper(), True, False)\n",
    "    dexList.append(name + '_IN')\n",
    "    df[name + '_OUT'] = np.where(df['toAddress'] == address.upper(), True, False)\n",
    "    dexList.append(name + '_OUT')\n",
    "    caseWhenStatement_IN.append(\"WHEN {0} = True THEN 'SUM_{0}'\".format(name + '_IN'))\n",
    "    caseWhenStatement_OUT.append(\"WHEN {0} = True THEN 'SUM_{0}'\".format(name + '_OUT'))\n",
    "    sumCaseWhenStatement.append(\"SUM(CASE WHEN {0} = True THEN 1 ELSE 0 END) AS CNT_{0}, SUM(CASE WHEN {0} = True THEN value / {1} ELSE 0 END) AS SUM_{0}_ETH\".format(name + '_OUT', base))\n",
    "dexList = \", \".join(dexList)\n",
    "caseWhenStatement_IN = \" \".join(caseWhenStatement_IN)\n",
    "caseWhenStatement_OUT = \" \".join(caseWhenStatement_OUT)\n",
    "sumCaseWhenStatement = \", \".join(sumCaseWhenStatement)\n",
    "\n",
    "sql = 'With toDexTransactions As ' \\\n",
    "      '(Select a.* ' \\\n",
    "      'From df a inner join dfDex b ' \\\n",
    "      'on (a.toAddress = b.DEX_Address or a.fromAddress = b.DEX_Address)) ' \\\n",
    "      'Select fromAddress, count(*) as CNT_DEX_TX, ' \\\n",
    "      'SUM(CASE WHEN IN_OUT = \"OUT\" THEN value / {1} END) as TOTAL_DEX_OUT_ETH, ' \\\n",
    "      'MIN(blockNumber) as MIN_BLOCK_ANALYZED, ' \\\n",
    "      'MAX(blockNumber) as MAX_BLOCK_ANALYZED, ' \\\n",
    "      '(MAX(blockNumber)-MIN(blockNumber)) / count(*) as FREQ_CNT_DEX_TX, ' \\\n",
    "      'MAX(CASE WHEN IN_OUT = \"OUT\" THEN value / {1} END) as MAX_DEX_OUT_ETH, ' \\\n",
    "      '{0} ' \\\n",
    "      'From toDexTransactions ' \\\n",
    "      'Group by fromAddress ' \\\n",
    "      'Order By TOTAL_DEX_OUT_ETH desc'.format(sumCaseWhenStatement, base)\n",
    "\n",
    "result = psql.sqldf(sql)\n",
    "\n",
    "q = [.5, .65, .8, .9, .95, .995]\n",
    "totalDex_OUT_ETH_q = np.quantile(result['TOTAL_DEX_OUT_ETH'] , q, axis = 0)\n",
    "plot_df = pd.DataFrame(totalDex_OUT_ETH_q, columns = ['TOTAL_DEX_OUT_ETH_Q'])\n",
    "plot_df['QUANTILE'] = pd.Series(q)\n",
    "sql = \"Select *, \" \\\n",
    "      \"CASE \" \\\n",
    "      \"WHEN TOTAL_DEX_OUT_ETH >= 0 AND TOTAL_DEX_OUT_ETH <= {0} THEN 'MINIMAL' \" \\\n",
    "      \"WHEN TOTAL_DEX_OUT_ETH > {0} AND TOTAL_DEX_OUT_ETH <= {1} THEN 'LOW' \" \\\n",
    "      \"WHEN TOTAL_DEX_OUT_ETH > {1} AND TOTAL_DEX_OUT_ETH <= {2} THEN 'BRONZE' \" \\\n",
    "      \"WHEN TOTAL_DEX_OUT_ETH > {2} AND TOTAL_DEX_OUT_ETH <= {3} THEN 'SILVER' \" \\\n",
    "      \"WHEN TOTAL_DEX_OUT_ETH > {3} AND TOTAL_DEX_OUT_ETH <= {4} THEN 'GOLD' \" \\\n",
    "      \"WHEN TOTAL_DEX_OUT_ETH > {4} AND TOTAL_DEX_OUT_ETH <= {5} THEN 'PLATINUM' \" \\\n",
    "      \"WHEN TOTAL_DEX_OUT_ETH > {5} THEN 'PRIVILEGE' \" \\\n",
    "      \"END AS ADDRESS_CATEGORY \" \\\n",
    "      \"FROM result\".format(totalDex_OUT_ETH_q[0], totalDex_OUT_ETH_q[1], totalDex_OUT_ETH_q[2], totalDex_OUT_ETH_q[3], totalDex_OUT_ETH_q[4], totalDex_OUT_ETH_q[5])\n",
    "result = psql.sqldf(sql)\n",
    "result.to_csv(r\"export/CUSTOMER_DEX_ANALYSIS_{0}.csv\".format(datetime.now().strftime(\"%Y%m%d_%H%M%S\")))"
   ]
  },
  {
   "cell_type": "code",
   "execution_count": null,
   "metadata": {},
   "outputs": [],
   "source": [
    "#connectionString = \"http://127.0.0.1:7545\"\n",
    "connectionString = 'https://mainnet.infura.io/v3/9a82d6f712b6474eb712fa507d110055'"
   ]
  },
  {
   "cell_type": "code",
   "execution_count": null,
   "metadata": {},
   "outputs": [],
   "source": [
    "core = AIDeFiCore.ethData()"
   ]
  },
  {
   "cell_type": "code",
   "execution_count": null,
   "metadata": {},
   "outputs": [],
   "source": [
    "w3 = core.blockchainConnection(connectionString)"
   ]
  },
  {
   "cell_type": "code",
   "execution_count": null,
   "metadata": {},
   "outputs": [],
   "source": [
    "w3.isConnected()"
   ]
  },
  {
   "cell_type": "code",
   "execution_count": null,
   "metadata": {},
   "outputs": [],
   "source": [
    "lastBlockNumber = core.getLastBlockNumber(w3)\n",
    "(df_block, df_transaction, df_transactionReceipt) = core.importBlockInterval(w3, lastBlockNumber-1, lastBlockNumber)"
   ]
  },
  {
   "cell_type": "code",
   "execution_count": null,
   "metadata": {},
   "outputs": [],
   "source": [
    "df_block.to_csv(\"export/df_block.csv\")\n",
    "df_transaction.to_csv(\"export/df_transaction.csv\")\n",
    "df_transactionReceipt.to_csv(\"export/df_transactionReceipt.csv\")"
   ]
  },
  {
   "cell_type": "code",
   "execution_count": null,
   "metadata": {},
   "outputs": [],
   "source": [
    "ai = AIDeFiCore.AI()"
   ]
  },
  {
   "cell_type": "code",
   "execution_count": null,
   "metadata": {},
   "outputs": [],
   "source": [
    "transactionsFromUsersDex = pd.from_csv('export/CUSTOMERS_TRANSACTIONS_FROM_DEX/filename.csv')\n",
    "transactionsFromUsersDex.set_index(transactionsFromUsersDex['from'])\n",
    "customerList = pd.from_csv('export/CUSTOMERS_LIST_FROM_DEX.csv')\n",
    "customerList.set_index(customerList['from'])\n",
    "transactionsFromUsersDex.join(customerListl, suffix = '_caller', rsuffix = '_other')\n",
    "transactionsFromUsersDex['IN_OUT'] = np.where(transactionsFromUsersDex['from_caller'].isnan(), 'OUT', 'IN')\n",
    "transactionsFromUsersDex"
   ]
  },
  {
   "cell_type": "code",
   "execution_count": null,
   "metadata": {},
   "outputs": [],
   "source": []
  }
 ],
 "metadata": {
  "kernelspec": {
   "display_name": "Python 3",
   "language": "python",
   "name": "python3"
  },
  "language_info": {
   "codemirror_mode": {
    "name": "ipython",
    "version": 3
   },
   "file_extension": ".py",
   "mimetype": "text/x-python",
   "name": "python",
   "nbconvert_exporter": "python",
   "pygments_lexer": "ipython3",
   "version": "3.8.5"
  }
 },
 "nbformat": 4,
 "nbformat_minor": 4
}
