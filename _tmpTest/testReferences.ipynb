{
 "cells": [
  {
   "cell_type": "code",
   "execution_count": 1,
   "metadata": {},
   "outputs": [],
   "source": [
    "from classes import ethData, models\n",
    "import pandas as pd\n",
    "import pandasql as psql\n",
    "import numpy as np\n",
    "import requests\n",
    "import json\n",
    "import re\n",
    "ethData = ethData.ethData()\n",
    "from datetime import datetime\n",
    "ETHERSCAN_API_KEY = 'EWYSGQ5PEK84PRCNSCKHHZWJIWWKYYABCE'\n",
    "BSCSCAN_API_KEY = 'I6ZZ57GWAS39M85QC4AJFC43Y5DUA8IU8I'\n",
    "CONNECTION_STRING = 'https://mainnet.infura.io/v3/9a82d6f712b6474eb712fa507d110055'\n",
    "TESTADDRESS = '0x70e36f6bf80a52b3b46b3af8e106cc0ed743e8e4' "
   ]
  },
  {
   "cell_type": "code",
   "execution_count": 2,
   "metadata": {},
   "outputs": [
    {
     "name": "stderr",
     "output_type": "stream",
     "text": [
      "/opt/anaconda3/lib/python3.8/site-packages/web3/contract.py:1162: UserWarning: The log with transaction hash: b\"\\xf2\\xc6\\xcf\\x00\\xa3\\x8d\\x82\\xb6\\xf4\\x0b\\x9d9\\x00\\xe0\\xa2\\x92\\xe4'\\x90-\\xb9\\x97>L\\x82B\\\\?>\\x1f\\xe8\\xf3\" and logIndex: 373 encountered the following error during processing: MismatchedABI(The event signature did not match the provided ABI). It has been discarded.\n",
      "  warnings.warn(\n",
      "/opt/anaconda3/lib/python3.8/site-packages/web3/contract.py:1162: UserWarning: The log with transaction hash: b\"\\xf2\\xc6\\xcf\\x00\\xa3\\x8d\\x82\\xb6\\xf4\\x0b\\x9d9\\x00\\xe0\\xa2\\x92\\xe4'\\x90-\\xb9\\x97>L\\x82B\\\\?>\\x1f\\xe8\\xf3\" and logIndex: 374 encountered the following error during processing: MismatchedABI(The event signature did not match the provided ABI). It has been discarded.\n",
      "  warnings.warn(\n",
      "/opt/anaconda3/lib/python3.8/site-packages/web3/contract.py:1162: UserWarning: The log with transaction hash: b\"\\xf2\\xc6\\xcf\\x00\\xa3\\x8d\\x82\\xb6\\xf4\\x0b\\x9d9\\x00\\xe0\\xa2\\x92\\xe4'\\x90-\\xb9\\x97>L\\x82B\\\\?>\\x1f\\xe8\\xf3\" and logIndex: 375 encountered the following error during processing: MismatchedABI(The event signature did not match the provided ABI). It has been discarded.\n",
      "  warnings.warn(\n",
      "/opt/anaconda3/lib/python3.8/site-packages/web3/contract.py:1162: UserWarning: The log with transaction hash: b\"\\xf2\\xc6\\xcf\\x00\\xa3\\x8d\\x82\\xb6\\xf4\\x0b\\x9d9\\x00\\xe0\\xa2\\x92\\xe4'\\x90-\\xb9\\x97>L\\x82B\\\\?>\\x1f\\xe8\\xf3\" and logIndex: 376 encountered the following error during processing: MismatchedABI(The event signature did not match the provided ABI). It has been discarded.\n",
      "  warnings.warn(\n",
      "/opt/anaconda3/lib/python3.8/site-packages/web3/contract.py:1162: UserWarning: The log with transaction hash: b\"\\xf2\\xc6\\xcf\\x00\\xa3\\x8d\\x82\\xb6\\xf4\\x0b\\x9d9\\x00\\xe0\\xa2\\x92\\xe4'\\x90-\\xb9\\x97>L\\x82B\\\\?>\\x1f\\xe8\\xf3\" and logIndex: 377 encountered the following error during processing: MismatchedABI(The event signature did not match the provided ABI). It has been discarded.\n",
      "  warnings.warn(\n",
      "/opt/anaconda3/lib/python3.8/site-packages/web3/contract.py:1162: UserWarning: The log with transaction hash: b\"\\xf2\\xc6\\xcf\\x00\\xa3\\x8d\\x82\\xb6\\xf4\\x0b\\x9d9\\x00\\xe0\\xa2\\x92\\xe4'\\x90-\\xb9\\x97>L\\x82B\\\\?>\\x1f\\xe8\\xf3\" and logIndex: 372 encountered the following error during processing: MismatchedABI(The event signature did not match the provided ABI). It has been discarded.\n",
      "  warnings.warn(\n"
     ]
    }
   ],
   "source": [
    "(contract,ABI) = ethData.getContract(TESTADDRESS, ETHERSCAN_API_KEY, CONNECTION_STRING)\n",
    "TX = '0xf2c6cf00a38d82b6f40b9d3900e0a292e427902db9973e4c82425c3f3e1fe8f3'\n",
    "(k, v, tr) = ethData.decodeLogs(TX, contract, ABI, CONNECTION_STRING)"
   ]
  },
  {
   "cell_type": "code",
   "execution_count": 4,
   "metadata": {},
   "outputs": [
    {
     "name": "stdout",
     "output_type": "stream",
     "text": [
      "{'AccrueInterest': ['cashPrior', 'interestAccumulated', 'borrowIndex', 'totalBorrows'], 'Approval': [], 'Borrow': [], 'Failure': [], 'LiquidateBorrow': [], 'Mint': ['minter', 'mintAmount', 'mintTokens'], 'NewAdmin': [], 'NewComptroller': [], 'NewImplementation': [], 'NewMarketInterestRateModel': [], 'NewPendingAdmin': [], 'NewReserveFactor': [], 'Redeem': [], 'RepayBorrow': [], 'ReservesAdded': [], 'ReservesReduced': [], 'Transfer': ['from', 'to', 'amount']}\n"
     ]
    }
   ],
   "source": [
    "print(k)\n"
   ]
  },
  {
   "cell_type": "code",
   "execution_count": 5,
   "metadata": {},
   "outputs": [
    {
     "name": "stdout",
     "output_type": "stream",
     "text": [
      "{'AccrueInterest': [354993066283509166616345, 73968488389388445, 1057930682389632916, 90754293059583333347064], 'Approval': [], 'Borrow': [], 'Failure': [], 'LiquidateBorrow': [], 'Mint': ['0x83f004f00E2Bb1d17bE6EeF36194fCfF75f4c0A5', 7679510029498435088, 37868278249], 'NewAdmin': [], 'NewComptroller': [], 'NewImplementation': [], 'NewMarketInterestRateModel': [], 'NewPendingAdmin': [], 'NewReserveFactor': [], 'Redeem': [], 'RepayBorrow': [], 'ReservesAdded': [], 'ReservesReduced': [], 'Transfer': ['0x83f004f00E2Bb1d17bE6EeF36194fCfF75f4c0A5', '0x70e36f6BF80a52b3B46b3aF8e106CC0ed743E8e4', 7679510029498435088]}\n"
     ]
    }
   ],
   "source": [
    "print(v)\n"
   ]
  },
  {
   "cell_type": "code",
   "execution_count": 6,
   "metadata": {},
   "outputs": [
    {
     "name": "stdout",
     "output_type": "stream",
     "text": [
      "AttributeDict({'blockHash': HexBytes('0x14a54c9ae953d4a2d37d5d25496f6c3ae1bd4958ec53876072a07b5cf3b9bcea'), 'blockNumber': 12449467, 'contractAddress': None, 'cumulativeGasUsed': 12497002, 'from': '0x83f004f00E2Bb1d17bE6EeF36194fCfF75f4c0A5', 'gasUsed': 184408, 'logs': [AttributeDict({'address': '0x70e36f6BF80a52b3B46b3aF8e106CC0ed743E8e4', 'blockHash': HexBytes('0x14a54c9ae953d4a2d37d5d25496f6c3ae1bd4958ec53876072a07b5cf3b9bcea'), 'blockNumber': 12449467, 'data': '0x000000000000000000000000000000000000000000004b2c367276fa3e7baf190000000000000000000000000000000000000000000000000106c9f2c305a89d0000000000000000000000000000000000000000000000000eae8659b8d21794000000000000000000000000000000000000000000001337ccd25cd6b363aef8', 'logIndex': 372, 'removed': False, 'topics': [HexBytes('0x4dec04e750ca11537cabcd8a9eab06494de08da3735bc8871cd41250e190bc04')], 'transactionHash': HexBytes('0xf2c6cf00a38d82b6f40b9d3900e0a292e427902db9973e4c82425c3f3e1fe8f3'), 'transactionIndex': 155}), AttributeDict({'address': '0x3d9819210A31b4961b30EF54bE2aeD79B9c9Cd3B', 'blockHash': HexBytes('0x14a54c9ae953d4a2d37d5d25496f6c3ae1bd4958ec53876072a07b5cf3b9bcea'), 'blockNumber': 12449467, 'data': '0x0000000000000000000000000000000000000000000000000015371b0cfa24ef00000000000000000000000000001e9b962cfac62785e202b4080158411c9646', 'logIndex': 373, 'removed': False, 'topics': [HexBytes('0x2caecd17d02f56fa897705dcc740da2d237c373f70686f4e0d9bd3bf0400ea7a'), HexBytes('0x00000000000000000000000070e36f6bf80a52b3b46b3af8e106cc0ed743e8e4'), HexBytes('0x00000000000000000000000083f004f00e2bb1d17be6eef36194fcff75f4c0a5')], 'transactionHash': HexBytes('0xf2c6cf00a38d82b6f40b9d3900e0a292e427902db9973e4c82425c3f3e1fe8f3'), 'transactionIndex': 155}), AttributeDict({'address': '0xc00e94Cb662C3520282E6f5717214004A7f26888', 'blockHash': HexBytes('0x14a54c9ae953d4a2d37d5d25496f6c3ae1bd4958ec53876072a07b5cf3b9bcea'), 'blockNumber': 12449467, 'data': '0x0000000000000000000000000000000000000000000000006a9319af1d4dc610', 'logIndex': 374, 'removed': False, 'topics': [HexBytes('0xddf252ad1be2c89b69c2b068fc378daa952ba7f163c4a11628f55a4df523b3ef'), HexBytes('0x00000000000000000000000083f004f00e2bb1d17be6eef36194fcff75f4c0a5'), HexBytes('0x00000000000000000000000070e36f6bf80a52b3b46b3af8e106cc0ed743e8e4')], 'transactionHash': HexBytes('0xf2c6cf00a38d82b6f40b9d3900e0a292e427902db9973e4c82425c3f3e1fe8f3'), 'transactionIndex': 155}), AttributeDict({'address': '0xc00e94Cb662C3520282E6f5717214004A7f26888', 'blockHash': HexBytes('0x14a54c9ae953d4a2d37d5d25496f6c3ae1bd4958ec53876072a07b5cf3b9bcea'), 'blockNumber': 12449467, 'data': '0x000000000000000000000000000000000000000000000a96ebf76e5ff77aa610000000000000000000000000000000000000000000000a96816454b0da2ce000', 'logIndex': 375, 'removed': False, 'topics': [HexBytes('0xdec2bacdd2f05b59de34da9b523dff8be42e5e38e818c82fdb0bae774387a724'), HexBytes('0x000000000000000000000000eff506a32b55d5c19847c1a4f8510c00280c27e5')], 'transactionHash': HexBytes('0xf2c6cf00a38d82b6f40b9d3900e0a292e427902db9973e4c82425c3f3e1fe8f3'), 'transactionIndex': 155}), AttributeDict({'address': '0x70e36f6BF80a52b3B46b3aF8e106CC0ed743E8e4', 'blockHash': HexBytes('0x14a54c9ae953d4a2d37d5d25496f6c3ae1bd4958ec53876072a07b5cf3b9bcea'), 'blockNumber': 12449467, 'data': '0x00000000000000000000000083f004f00e2bb1d17be6eef36194fcff75f4c0a50000000000000000000000000000000000000000000000006a9319af1d4dc61000000000000000000000000000000000000000000000000000000008d12011e9', 'logIndex': 376, 'removed': False, 'topics': [HexBytes('0x4c209b5fc8ad50758f13e2e1088ba56a560dff690a1c6fef26394f4c03821c4f')], 'transactionHash': HexBytes('0xf2c6cf00a38d82b6f40b9d3900e0a292e427902db9973e4c82425c3f3e1fe8f3'), 'transactionIndex': 155}), AttributeDict({'address': '0x70e36f6BF80a52b3B46b3aF8e106CC0ed743E8e4', 'blockHash': HexBytes('0x14a54c9ae953d4a2d37d5d25496f6c3ae1bd4958ec53876072a07b5cf3b9bcea'), 'blockNumber': 12449467, 'data': '0x00000000000000000000000000000000000000000000000000000008d12011e9', 'logIndex': 377, 'removed': False, 'topics': [HexBytes('0xddf252ad1be2c89b69c2b068fc378daa952ba7f163c4a11628f55a4df523b3ef'), HexBytes('0x00000000000000000000000070e36f6bf80a52b3b46b3af8e106cc0ed743e8e4'), HexBytes('0x00000000000000000000000083f004f00e2bb1d17be6eef36194fcff75f4c0a5')], 'transactionHash': HexBytes('0xf2c6cf00a38d82b6f40b9d3900e0a292e427902db9973e4c82425c3f3e1fe8f3'), 'transactionIndex': 155})], 'logsBloom': HexBytes('0x00000000000000000000000000000020000000000000400000000000001001000000000000000200000000000000080000000000000000000000000000040000000000000000000200000008000000000000000000000000000000000000000000000000000000000040000000000000000000000008000000000010000000000000000080000000000000000020000000002000202000200000000000000080040200000000000040000000000200000000000000000000000000000000000000000002000000000000000000020010000000000000000000000000100021400000000001000000000000000080000000200000000000000000000000000000'), 'status': 1, 'to': '0x70e36f6BF80a52b3B46b3aF8e106CC0ed743E8e4', 'transactionHash': HexBytes('0xf2c6cf00a38d82b6f40b9d3900e0a292e427902db9973e4c82425c3f3e1fe8f3'), 'transactionIndex': 155, 'type': '0x0'})\n"
     ]
    }
   ],
   "source": [
    "print(tr)"
   ]
  },
  {
   "cell_type": "code",
   "execution_count": null,
   "metadata": {},
   "outputs": [],
   "source": []
  }
 ],
 "metadata": {
  "kernelspec": {
   "display_name": "Python 3",
   "language": "python",
   "name": "python3"
  },
  "language_info": {
   "codemirror_mode": {
    "name": "ipython",
    "version": 3
   },
   "file_extension": ".py",
   "mimetype": "text/x-python",
   "name": "python",
   "nbconvert_exporter": "python",
   "pygments_lexer": "ipython3",
   "version": "3.8.5"
  }
 },
 "nbformat": 4,
 "nbformat_minor": 4
}
