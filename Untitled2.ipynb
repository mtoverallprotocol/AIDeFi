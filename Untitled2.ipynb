{
 "cells": [
  {
   "cell_type": "code",
   "execution_count": 1,
   "metadata": {},
   "outputs": [],
   "source": [
    "from classes import ethData, models"
   ]
  },
  {
   "cell_type": "code",
   "execution_count": 2,
   "metadata": {},
   "outputs": [],
   "source": [
    "ethData = ethData.ethData()"
   ]
  },
  {
   "cell_type": "code",
   "execution_count": 3,
   "metadata": {},
   "outputs": [],
   "source": [
    "ETHERSCAN_API_KEY = 'EWYSGQ5PEK84PRCNSCKHHZWJIWWKYYABCE'"
   ]
  },
  {
   "cell_type": "code",
   "execution_count": null,
   "metadata": {},
   "outputs": [
    {
     "name": "stdout",
     "output_type": "stream",
     "text": [
      "Index Block Interval n. 0 - Imported 183 transactions - DateTime: 09/05/2021_23:55:46\n",
      "Index Block Interval n. 1 - Imported 3600 transactions - DateTime: 09/05/2021_23:55:52\n",
      "Index Block Interval n. 2 - Imported 3553 transactions - DateTime: 09/05/2021_23:55:57\n",
      "Index Block Interval n. 3 - Imported 3543 transactions - DateTime: 09/05/2021_23:56:02\n",
      "Index Block Interval n. 4 - Imported 3607 transactions - DateTime: 09/05/2021_23:56:09\n",
      "Index Block Interval n. 5 - Imported 3358 transactions - DateTime: 09/05/2021_23:56:14\n",
      "Index Block Interval n. 6 - Imported 3441 transactions - DateTime: 09/05/2021_23:56:20\n",
      "Index Block Interval n. 7 - Imported 3187 transactions - DateTime: 09/05/2021_23:56:24\n",
      "Index Block Interval n. 8 - Imported 3064 transactions - DateTime: 09/05/2021_23:56:36\n",
      "Index Block Interval n. 9 - Imported 3473 transactions - DateTime: 09/05/2021_23:56:39\n",
      "Dataset of UNISWAP's lenght is: 31009\n",
      "Index Block Interval n. 0 - Imported 1 transactions - DateTime: 09/05/2021_23:56:51\n",
      "Index Block Interval n. 1 - Imported 34 transactions - DateTime: 09/05/2021_23:56:52\n",
      "Index Block Interval n. 2 - Imported 29 transactions - DateTime: 09/05/2021_23:56:53\n",
      "Index Block Interval n. 3 - Imported 25 transactions - DateTime: 09/05/2021_23:56:54\n",
      "Index Block Interval n. 4 - Imported 31 transactions - DateTime: 09/05/2021_23:56:55\n",
      "Index Block Interval n. 5 - Imported 39 transactions - DateTime: 09/05/2021_23:56:56\n",
      "Index Block Interval n. 6 - Imported 25 transactions - DateTime: 09/05/2021_23:56:57\n",
      "Index Block Interval n. 7 - Imported 32 transactions - DateTime: 09/05/2021_23:56:58\n",
      "Index Block Interval n. 8 - Imported 29 transactions - DateTime: 09/05/2021_23:56:59\n",
      "Index Block Interval n. 9 - Imported 36 transactions - DateTime: 09/05/2021_23:57:00\n",
      "Dataset of ONE_INCH's lenght is: 281\n",
      "Index Block Interval n. 0 - Imported 1 transactions - DateTime: 09/05/2021_23:57:16\n",
      "Index Block Interval n. 1 - Imported 3 transactions - DateTime: 09/05/2021_23:57:17\n",
      "Index Block Interval n. 2 - Imported 10 transactions - DateTime: 09/05/2021_23:57:18\n",
      "Index Block Interval n. 3 - Imported 6 transactions - DateTime: 09/05/2021_23:57:18\n",
      "Index Block Interval n. 4 - Imported 3 transactions - DateTime: 09/05/2021_23:57:20\n",
      "Index Block Interval n. 5 - Imported 10 transactions - DateTime: 09/05/2021_23:57:21\n",
      "Index Block Interval n. 6 - Imported 8 transactions - DateTime: 09/05/2021_23:57:22\n",
      "Index Block Interval n. 7 - Imported 145 transactions - DateTime: 09/05/2021_23:57:23\n",
      "Index Block Interval n. 9 - Imported 10 transactions - DateTime: 09/05/2021_23:57:25\n",
      "Dataset of BALANCER's lenght is: 196\n",
      "Index Block Interval n. 0 - Imported 1 transactions - DateTime: 09/05/2021_23:57:47\n",
      "Index Block Interval n. 1 - Imported 4 transactions - DateTime: 09/05/2021_23:57:48\n",
      "Index Block Interval n. 2 - Imported 1 transactions - DateTime: 09/05/2021_23:57:49\n",
      "Index Block Interval n. 3 - Imported 2 transactions - DateTime: 09/05/2021_23:57:50\n",
      "Index Block Interval n. 4 - Imported 2 transactions - DateTime: 09/05/2021_23:57:51\n",
      "Index Block Interval n. 5 - Imported 1 transactions - DateTime: 09/05/2021_23:57:52\n",
      "Index Block Interval n. 6 - Imported 2 transactions - DateTime: 09/05/2021_23:57:53\n",
      "Index Block Interval n. 7 - Imported 5 transactions - DateTime: 09/05/2021_23:57:53\n",
      "Index Block Interval n. 8 - Imported 1 transactions - DateTime: 09/05/2021_23:57:54\n",
      "Index Block Interval n. 9 - Imported 4 transactions - DateTime: 09/05/2021_23:57:55\n",
      "Dataset of AIRSWAP's lenght is: 23\n",
      "Index Block Interval n. 0 - Imported 26 transactions - DateTime: 09/05/2021_23:58:10\n",
      "Index Block Interval n. 1 - Imported 172 transactions - DateTime: 09/05/2021_23:58:11\n",
      "Index Block Interval n. 2 - Imported 462 transactions - DateTime: 09/05/2021_23:58:13\n",
      "Index Block Interval n. 3 - Imported 370 transactions - DateTime: 09/05/2021_23:58:14\n"
     ]
    }
   ],
   "source": [
    "ethData.importAllDEX(ETHERSCAN_API_KEY, 100, 0, 10) #2-4 HOURS"
   ]
  },
  {
   "cell_type": "code",
   "execution_count": null,
   "metadata": {
    "scrolled": true
   },
   "outputs": [],
   "source": [
    "ethData.importTransactionsFromUsersDex(ETHERSCAN_API_KEY) #24-48 HOURS"
   ]
  },
  {
   "cell_type": "code",
   "execution_count": null,
   "metadata": {},
   "outputs": [],
   "source": [
    "import pandas as pd"
   ]
  },
  {
   "cell_type": "code",
   "execution_count": null,
   "metadata": {},
   "outputs": [],
   "source": [
    "transactionsFromUsersDex = pd.read_csv('export/CUSTOMERS_TRANSACTIONS_FROM_DEX.csv')"
   ]
  },
  {
   "cell_type": "code",
   "execution_count": null,
   "metadata": {},
   "outputs": [],
   "source": [
    "transactionsFromUsersDex.set_index(transactionsFromUsersDex['from'])\n",
    "transactionsFromUsersDex.rename(columns={'from':'fromAddress'}, inplace=True)\n",
    "transactionsFromUsersDex.rename(columns={'to':'toAddress'}, inplace=True)"
   ]
  },
  {
   "cell_type": "code",
   "execution_count": null,
   "metadata": {},
   "outputs": [],
   "source": [
    "customerList = pd.read_csv('export/CUSTOMERS_LIST_FROM_DEX.csv')\n",
    "customerList.rename(columns={'from':'fromAddress'}, inplace=True)"
   ]
  },
  {
   "cell_type": "code",
   "execution_count": null,
   "metadata": {},
   "outputs": [],
   "source": [
    "sql = \"Select a.*, b.fromAddress as r_fromAddress From transactionsFromUsersDex a Left Join customerList b on a.fromAddress = b.fromAddress\""
   ]
  },
  {
   "cell_type": "code",
   "execution_count": null,
   "metadata": {},
   "outputs": [],
   "source": [
    "import pandasql as psql\n",
    "import numpy as np"
   ]
  },
  {
   "cell_type": "code",
   "execution_count": null,
   "metadata": {},
   "outputs": [],
   "source": [
    "print(\"Defining In/Out Data...\")\n",
    "df = psql.sqldf(sql)\n",
    "#print(\"Defined In/Out Data\")"
   ]
  },
  {
   "cell_type": "code",
   "execution_count": null,
   "metadata": {},
   "outputs": [],
   "source": [
    "sql = 'Select *, case when r_fromAddress IS NULL then \"IN\" else \"OUT\" end as IN_OUT from df'\n",
    "#sql = 'Select * from df where LENGTH(r_fromAddress) > 0'\n",
    "df = psql.sqldf(sql)"
   ]
  },
  {
   "cell_type": "code",
   "execution_count": null,
   "metadata": {},
   "outputs": [],
   "source": [
    "df"
   ]
  },
  {
   "cell_type": "code",
   "execution_count": null,
   "metadata": {},
   "outputs": [],
   "source": []
  },
  {
   "cell_type": "code",
   "execution_count": null,
   "metadata": {},
   "outputs": [],
   "source": [
    "df['fromAddress'] = df['fromAddress'].str.upper()\n",
    "df['toAddress'] = df['toAddress'].str.upper()"
   ]
  },
  {
   "cell_type": "code",
   "execution_count": null,
   "metadata": {},
   "outputs": [],
   "source": [
    "for dex in range(0, ethData.getNumberContractAddressMap() + 1):\n",
    "    print(ethData.getContractAddressMap(dex)[0])"
   ]
  },
  {
   "cell_type": "code",
   "execution_count": null,
   "metadata": {},
   "outputs": [],
   "source": [
    "dexList = []\n",
    "caseWhenStatement_IN = []\n",
    "caseWhenStatement_OUT = []\n",
    "for dexIndex in range(0, ethData.getNumberContractAddressMap() + 1):\n",
    "    name = ethData.getContractAddressMap(dexIndex)[0]\n",
    "    address = ethData.getContractAddressMap(dexIndex)[1]\n",
    "    df[name + '_IN'] = np.where(df['fromAddress'] == address.upper(), True, False)\n",
    "    dexList.append(name + '_IN')\n",
    "    df[name + '_OUT'] = np.where(df['toAddress'] == address.upper(), True, False)\n",
    "    dexList.append(name + '_OUT')\n",
    "    caseWhenStatement_IN.append(\"WHEN {0} = 1 THEN '{0}'\".format(name + '_IN'))\n",
    "    caseWhenStatement_OUT.append(\"WHEN {0} = 1 THEN '{0}'\".format(name + '_OUT'))\n",
    "dexList = \", \".join(dexList)\n",
    "caseWhenStatement_IN = \" \".join(caseWhenStatement_IN)\n",
    "caseWhenStatement_OUT = \" \".join(caseWhenStatement_OUT)"
   ]
  },
  {
   "cell_type": "code",
   "execution_count": null,
   "metadata": {},
   "outputs": [],
   "source": [
    "sql = \"Select {0},SUM(value / 1000000000000000000)  AS SUM_ETH, count(*) as cnt from df GROUP BY {0}\".format(dexList)\n",
    "report_df = psql.sqldf(sql)"
   ]
  },
  {
   "cell_type": "code",
   "execution_count": null,
   "metadata": {},
   "outputs": [],
   "source": [
    "sql = \"Select {0},SUM(value / 1000000000000000000)  AS SUM_ETH, count(*) as cnt from df GROUP BY {0}\".format(dexList)\n",
    "report_df = psql.sqldf(sql)\n",
    "report_df['cnt_perc'] = round(report_df['cnt'] / len(df) * 100, 6)\n",
    "sql = 'WITH TMP AS (SELECT  \\\n",
    "       CASE {0} ELSE \"\" END AS DEX_IN, \\\n",
    "       CASE {1} ELSE \"\" END AS DEX_OUT, \\\n",
    "       SUM_ETH, CNT, CNT_PERC, SUM_ETH / CNT AS AVG_VOL_DEX \\\n",
    "       FROM report_df \\\n",
    "       ORDER BY CNT DESC) \\\n",
    "       SELECT \\\n",
    "       CASE WHEN DEX_IN = \"\" AND DEX_OUT = \"\" THEN \"NO_DEX\" ELSE DEX_IN || \" \" || DEX_OUT END AS IS_TX_DEX \\\n",
    "       , * FROM TMP'.format(caseWhenStatement_IN, caseWhenStatement_OUT)\n",
    "report_df_tmp = psql.sqldf(sql)\n",
    "import matplotlib.pyplot as plt\n",
    "report_df_tmp.plot(kind='bar',x='IS_TX_DEX',y='CNT_PERC', figsize = (16,8))\n",
    "report_df_tmp.plot(kind='bar',x='IS_TX_DEX',y='SUM_ETH', figsize = (16,8))"
   ]
  },
  {
   "cell_type": "code",
   "execution_count": null,
   "metadata": {},
   "outputs": [],
   "source": [
    "sql = 'WITH TMP AS (SELECT  \\\n",
    "       CASE {0} ELSE \"\" END AS DEX_IN, \\\n",
    "       CASE {1} ELSE \"\" END AS DEX_OUT, \\\n",
    "       SUM_ETH, CNT, CNT_PERC, SUM_ETH / CNT AS AVG_VOL_DEX \\\n",
    "       FROM report_df \\\n",
    "       ORDER BY CNT DESC) \\\n",
    "       SELECT \\\n",
    "       CASE WHEN DEX_IN = \"\" AND DEX_OUT = \"\" THEN \"NO_DEX\" ELSE DEX_IN || \" \" || DEX_OUT END AS IS_TX_DEX \\\n",
    "       , * FROM TMP'.format(caseWhenStatement_IN, caseWhenStatement_OUT)\n",
    "print(sql)\n"
   ]
  },
  {
   "cell_type": "code",
   "execution_count": null,
   "metadata": {},
   "outputs": [],
   "source": [
    "report_df_tmp = psql.sqldf(sql)\n"
   ]
  },
  {
   "cell_type": "code",
   "execution_count": null,
   "metadata": {},
   "outputs": [],
   "source": [
    "report_df_tmp"
   ]
  },
  {
   "cell_type": "code",
   "execution_count": null,
   "metadata": {},
   "outputs": [],
   "source": [
    "import matplotlib.pyplot as plt\n",
    "report_df_tmp.plot(kind='bar',x='IS_TX_DEX',y='CNT_PERC', figsize = (16,8))\n",
    "report_df_tmp.plot(kind='bar',x='IS_TX_DEX',y='SUM_ETH', figsize = (16,8))"
   ]
  },
  {
   "cell_type": "code",
   "execution_count": null,
   "metadata": {},
   "outputs": [],
   "source": [
    "#CAN BE USEFUL TO WRITE THE MIN-MAX BLOCK OF EACH DEX\n",
    "#TO KNOW HOW MANY DEX AN ADDRESS IS USING SHOWING CNT SUMETH AND SO ON\n"
   ]
  }
 ],
 "metadata": {
  "kernelspec": {
   "display_name": "Python 3",
   "language": "python",
   "name": "python3"
  },
  "language_info": {
   "codemirror_mode": {
    "name": "ipython",
    "version": 3
   },
   "file_extension": ".py",
   "mimetype": "text/x-python",
   "name": "python",
   "nbconvert_exporter": "python",
   "pygments_lexer": "ipython3",
   "version": "3.8.5"
  }
 },
 "nbformat": 4,
 "nbformat_minor": 4
}
