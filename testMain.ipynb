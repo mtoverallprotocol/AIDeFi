{
 "cells": [
  {
   "cell_type": "code",
   "execution_count": null,
   "metadata": {},
   "outputs": [],
   "source": [
    "from classes import unitTest_v1_0_0_0 as unitTest\n",
    "unitTest = unitTest.unitTest()"
   ]
  },
  {
   "cell_type": "code",
   "execution_count": null,
   "metadata": {},
   "outputs": [],
   "source": [
    "# Test Input Data\n",
    "# For customers\n",
    "ETHERSCAN_API_KEY = 'YOUR_OWN_KEY' \n",
    "BSCSCAN_API_KEY = 'YOUR_OWN_KEY'\n",
    "CONNECTION_STRING = 'https://mainnet.infura.io/v3/YOUR_OWN_KEY'"
   ]
  },
  {
   "cell_type": "code",
   "execution_count": 1,
   "metadata": {},
   "outputs": [],
   "source": [
    "# Only for develop\n",
    "ETHERSCAN_API_KEY = 'EWYSGQ5PEK84PRCNSCKHHZWJIWWKYYABCE' \n",
    "BSCSCAN_API_KEY = 'I6ZZ57GWAS39M85QC4AJFC43Y5DUA8IU8I'\n",
    "CONNECTION_STRING = 'https://mainnet.infura.io/v3/40816bb42ce34f808b4afe219e9d41cb'\n",
    "TESTADDRESS = '0x70e36f6bf80a52b3b46b3af8e106cc0ed743e8e4' #COMPOUND\n",
    "TXHASHTEST = '0x7a4e0d863a1c8da97bf94bc8880d61b3f716bb10c3961f46b1290840097cb175' # ON BINANCE"
   ]
  },
  {
   "cell_type": "code",
   "execution_count": null,
   "metadata": {},
   "outputs": [],
   "source": [
    "# Run unitTest\n",
    "unitTest.runAllTests() #NOT OVER YET"
   ]
  },
  {
   "cell_type": "code",
   "execution_count": null,
   "metadata": {},
   "outputs": [],
   "source": [
    "\n",
    "from classes import blockchain_v1_0_0_0 as blockchain # import class file\n",
    "blockchain = blockchain.blockchain() # inizialize class in blockchain variable\n",
    "CONNECTION_STRING = 'https://mainnet.infura.io/v3/YOUR_OWN_KEY'\n",
    "web3 = blockchain.blockchainConnection(CONNECTION_STRING) # connecting to blockchain\n",
    "print('web3.isConnected(): {0}'.format(web3.isConnected())) # show web3 connection result\n"
   ]
  },
  {
   "cell_type": "code",
   "execution_count": null,
   "metadata": {},
   "outputs": [],
   "source": [
    "################################################ BLOCKCHAIN USERS ANALYSIS"
   ]
  },
  {
   "cell_type": "code",
   "execution_count": 3,
   "metadata": {},
   "outputs": [],
   "source": [
    "from classes import blockchain_v1_0_0_0 as blockchain # import class file"
   ]
  },
  {
   "cell_type": "code",
   "execution_count": 4,
   "metadata": {},
   "outputs": [
    {
     "name": "stdout",
     "output_type": "stream",
     "text": [
      "web3.isConnected(): True\n"
     ]
    }
   ],
   "source": [
    "blockchain = blockchain.blockchain() # inizialize class in blockchain variable\n",
    "web3 = blockchain.blockchainConnection() # connecting to blockchain\n",
    "print('web3.isConnected(): {0}'.format(web3.isConnected())) # show web3 connection result"
   ]
  },
  {
   "cell_type": "code",
   "execution_count": 7,
   "metadata": {},
   "outputs": [
    {
     "name": "stdout",
     "output_type": "stream",
     "text": [
      "https://api.etherscan.io/api?module=account&action=txlist&address=0xBD723fc4f1d737dCFc48a07FE7336766d34CAD5f&startblock=0&endblock=9999999999999999&sort=desc&apikey=6RUYYGHQ7FDIVFXTM6R828QWNDDKJYC5RH\n",
      "Undefined error for address 0xBD723fc4f1d737dCFc48a07FE7336766d34CAD5f\n"
     ]
    }
   ],
   "source": [
    "TESTADDRESS = '0xBD723fc4f1d737dCFc48a07FE7336766d34CAD5f'\n",
    "# Download into dataframe a transaction list\n",
    "df = blockchain.importTransactionListFromAddress('ETHERSCAN', 'TXLIST', TESTADDRESS, 'MAX', 0, 3) "
   ]
  },
  {
   "cell_type": "code",
   "execution_count": null,
   "metadata": {},
   "outputs": [],
   "source": [
    "\n",
    "print('Lenght of dataframe: {0}'.format(len(df)))\n",
    "df = blockchain.importTransactionListFromAddress('ETHERSCAN', 'TXLIST', TESTADDRESS, 'MAX', 0, 3)\n",
    "print('Lenght of dataframe: {0}'.format(len(df)))\n",
    "\n",
    "#df = blockchain.importTransactionListFromAddress(ETHERSCAN_API_KEY, 'ETHERSCAN', 'TXLIST', TESTADDRESS, 'MAX', 0, 10) # Download into dataframe a transaction list\n",
    "#print('Lenght of dataframe: {0}'.format(len(df)))"
   ]
  },
  {
   "cell_type": "code",
   "execution_count": null,
   "metadata": {},
   "outputs": [],
   "source": [
    "from past.builtins import execfile\n",
    "execfile('classes/dynamicEvents.py')"
   ]
  },
  {
   "cell_type": "code",
   "execution_count": null,
   "metadata": {},
   "outputs": [],
   "source": [
    "blockchain.importAllDexTransactions(ETHERSCAN_API_KEY, 'ETHERSCAN', 'TXLIST', 'DEX', 100, 0, 10) # Download and save transaction from source (DEX)"
   ]
  },
  {
   "cell_type": "code",
   "execution_count": null,
   "metadata": {},
   "outputs": [],
   "source": [
    "from classes import analysis_v1_0_0_0 as analysis\n",
    "analysis = analysis.analysis()\n",
    "depth = 2 # it means how many transaction with MAX (lenght - 1) we will take for our analysis (etherscan max limit is set to 10k)\n",
    "# use depth = 1 for test purpose, 2+ for production purpose"
   ]
  },
  {
   "cell_type": "code",
   "execution_count": null,
   "metadata": {},
   "outputs": [],
   "source": [
    "analysis.analyzeDexCustomers(ETHERSCAN_API_KEY, depth) # Download transactions and tx data from DEX addresses on DEX file, save and merge data, create report"
   ]
  },
  {
   "cell_type": "code",
   "execution_count": null,
   "metadata": {},
   "outputs": [],
   "source": [
    "analysis.reportDexCustomers('DEX')\n",
    "# see reasult on export/CUSTOMER_DEX_ANALYSIS_YYYMMDD_HHIISS.csv"
   ]
  },
  {
   "cell_type": "code",
   "execution_count": null,
   "metadata": {},
   "outputs": [],
   "source": [
    "################################################ BLOCKCHAIN SMART CONTRACT ANALYSIS"
   ]
  },
  {
   "cell_type": "code",
   "execution_count": null,
   "metadata": {},
   "outputs": [],
   "source": [
    "ABI # Show ABI"
   ]
  },
  {
   "cell_type": "code",
   "execution_count": null,
   "metadata": {},
   "outputs": [],
   "source": [
    "smartContract.abi"
   ]
  },
  {
   "cell_type": "code",
   "execution_count": null,
   "metadata": {},
   "outputs": [],
   "source": [
    "# Generate dynamic python code based on events and functions of each contract taken from csv file\n",
    "from classes import dynamics_v1_0_0_0 as dynamics\n",
    "dynamics = dynamics.dynamics()\n",
    "dynamics.generateDynamicSmartContractEventsAndFunctions(ETHERSCAN_API_KEY, CONNECTION_STRING)"
   ]
  },
  {
   "cell_type": "code",
   "execution_count": null,
   "metadata": {},
   "outputs": [],
   "source": [
    "# Get smartContract datatype (with all events, functions, classes, ...) and ABI\n",
    "(smartContract, ABI) = blockchain.getContract(TESTADDRESS, ETHERSCAN_API_KEY, CONNECTION_STRING)"
   ]
  },
  {
   "cell_type": "code",
   "execution_count": null,
   "metadata": {},
   "outputs": [],
   "source": [
    "# Get list of events from ABI\n",
    "from classes import contractEvents_v1_0_0_0 as contractEvents\n",
    "contractEvents = contractEvents.contractEvents()\n",
    "contractEvents.getEventsFromABI(str(ABI))"
   ]
  },
  {
   "cell_type": "code",
   "execution_count": null,
   "metadata": {},
   "outputs": [],
   "source": [
    "# Get list of functions from ABI\n",
    "from classes import contractFunctions_v1_0_0_0 as contractFunctions\n",
    "contractFunctions = contractFunctions.contractFunctions()\n",
    "contractFunctions.getFunctionsFromABI(str(ABI))"
   ]
  },
  {
   "cell_type": "code",
   "execution_count": null,
   "metadata": {},
   "outputs": [],
   "source": [
    "# Class description of smartContract\n",
    "dir(smartContract)"
   ]
  },
  {
   "cell_type": "code",
   "execution_count": null,
   "metadata": {},
   "outputs": [],
   "source": [
    "blockchain.saveContractData(TESTADDRESS, smartContract, ABI) #save events and functions names on data/contracts/{address}"
   ]
  },
  {
   "cell_type": "code",
   "execution_count": null,
   "metadata": {},
   "outputs": [],
   "source": [
    "# Import all logs from all smart contract addresses\n",
    "from multiprocessing import Pool\n",
    "     \n",
    "def logs(_apiKey, _connectionString, _depth, _limit):\n",
    "        blockchain.downloadContractLogsContent(dfSmartContract['Address'][index], _apiKey, _connectionString, _depth, _limit)\n",
    "\n",
    "dfSmartContract = pd.read_csv('data/smartContract.csv')\n",
    "for index in range(0,len(dfSmartContract)):\n",
    "    \n",
    "import pandas as pd\n",
    "_depth = 2\n"
   ]
  },
  {
   "cell_type": "code",
   "execution_count": null,
   "metadata": {},
   "outputs": [],
   "source": [
    "from past.builtins import execfile\n",
    "execfile('classes/test.py')"
   ]
  },
  {
   "cell_type": "code",
   "execution_count": null,
   "metadata": {},
   "outputs": [],
   "source": [
    "# Users function to catch useful data:\n",
    "# Import classes:\n",
    "from classes import blockchain_v1_0_0_0 as blockchain # import class file\n",
    "blockchain = blockchain.blockchain() # inizialize class in blockchain variable\n",
    "from classes import dynamics_v1_0_0_0 as dynamics\n",
    "dynamics = dynamics.dynamics()\n",
    "from classes import analysis_v1_0_0_0 as analysis\n",
    "analysis = analysis.analysis()\n",
    "\n",
    "#analysis.analyzeDexCustomers(ETHERSCAN_API_KEY, depth) # Download transactions and tx data from DEX addresses on DEX file, save and merge data, create report\n",
    "#analysis.reportDexCustomers('DEX')\n",
    "dynamics.generateDynamicSmartContractEventsAndFunctions(ETHERSCAN_API_KEY, CONNECTION_STRING)\n"
   ]
  },
  {
   "cell_type": "code",
   "execution_count": null,
   "metadata": {},
   "outputs": [],
   "source": [
    "from past.builtins import execfile\n",
    "from classes import loadVersioning as loadVersioning\n",
    "loadVersioning = loadVersioning.loadVersioning()\n",
    "filePath = loadVersioning.loader('dynamics')\n",
    "print(filePath)\n",
    "#execfile(filePath)\n"
   ]
  },
  {
   "cell_type": "code",
   "execution_count": null,
   "metadata": {},
   "outputs": [],
   "source": [
    "execfile(filePath)"
   ]
  },
  {
   "cell_type": "code",
   "execution_count": null,
   "metadata": {},
   "outputs": [],
   "source": [
    "dir(utilities)"
   ]
  },
  {
   "cell_type": "code",
   "execution_count": 1,
   "metadata": {},
   "outputs": [],
   "source": [
    "from classes import blockchain_v1_0_0_0 as blockchain # import class file\n",
    "blockchain = blockchain.blockchain() # inizialize class in blockchain variable\n",
    "from classes import contractEvents_v1_0_0_0 as contractEvents # import class file\n",
    "contractEvents = contractEvents.contractEvents() \n",
    "from classes import contractFunctions_v1_0_0_0 as contractFunctions\n",
    "contractFunctions = contractFunctions.contractFunctions()\n",
    "from classes import dynamics_v1_0_0_0 as dynamics\n",
    "dynamics = dynamics.dynamics()\n",
    "import pandas as pd\n",
    "addressList = pd.read_csv('data/smartContract.csv')['Address']"
   ]
  },
  {
   "cell_type": "code",
   "execution_count": 3,
   "metadata": {},
   "outputs": [
    {
     "name": "stdout",
     "output_type": "stream",
     "text": [
      "0xB8c77482e45F1F44dE1745F52C74426C631bDD52 - Burn downloading events log...\n",
      "0xB8c77482e45F1F44dE1745F52C74426C631bDD52 - Burn correctly saved\n",
      "0xB8c77482e45F1F44dE1745F52C74426C631bDD52 - Freeze downloading events log...\n",
      "0xB8c77482e45F1F44dE1745F52C74426C631bDD52 - Freeze correctly saved\n",
      "0xB8c77482e45F1F44dE1745F52C74426C631bDD52 - Transfer downloading events log...\n",
      "0xB8c77482e45F1F44dE1745F52C74426C631bDD52 - Transfer correctly saved\n",
      "0xB8c77482e45F1F44dE1745F52C74426C631bDD52 - Unfreeze downloading events log...\n",
      "0xB8c77482e45F1F44dE1745F52C74426C631bDD52 - Unfreeze correctly saved\n",
      "0x70e36f6bf80a52b3b46b3af8e106cc0ed743e8e4 - AccrueInterest downloading events log...\n",
      "0x70e36f6bf80a52b3b46b3af8e106cc0ed743e8e4 - AccrueInterest correctly saved\n",
      "0x70e36f6bf80a52b3b46b3af8e106cc0ed743e8e4 - Approval downloading events log...\n",
      "0x70e36f6bf80a52b3b46b3af8e106cc0ed743e8e4 - Approval correctly saved\n",
      "0x70e36f6bf80a52b3b46b3af8e106cc0ed743e8e4 - Borrow downloading events log...\n",
      "0x70e36f6bf80a52b3b46b3af8e106cc0ed743e8e4 - Borrow correctly saved\n",
      "0x70e36f6bf80a52b3b46b3af8e106cc0ed743e8e4 - Failure downloading events log...\n",
      "0x70e36f6bf80a52b3b46b3af8e106cc0ed743e8e4 - Failure correctly saved\n",
      "0x70e36f6bf80a52b3b46b3af8e106cc0ed743e8e4 - LiquidateBorrow downloading events log...\n",
      "0x70e36f6bf80a52b3b46b3af8e106cc0ed743e8e4 - LiquidateBorrow correctly saved\n",
      "0x70e36f6bf80a52b3b46b3af8e106cc0ed743e8e4 - Mint downloading events log...\n",
      "0x70e36f6bf80a52b3b46b3af8e106cc0ed743e8e4 - Mint correctly saved\n",
      "0x70e36f6bf80a52b3b46b3af8e106cc0ed743e8e4 - NewAdmin downloading events log...\n",
      "0x70e36f6bf80a52b3b46b3af8e106cc0ed743e8e4 - NewAdmin no logs found\n",
      "0x70e36f6bf80a52b3b46b3af8e106cc0ed743e8e4 - NewComptroller downloading events log...\n",
      "0x70e36f6bf80a52b3b46b3af8e106cc0ed743e8e4 - NewComptroller correctly saved\n",
      "0x70e36f6bf80a52b3b46b3af8e106cc0ed743e8e4 - NewImplementation downloading events log...\n",
      "0x70e36f6bf80a52b3b46b3af8e106cc0ed743e8e4 - NewImplementation correctly saved\n",
      "0x70e36f6bf80a52b3b46b3af8e106cc0ed743e8e4 - NewMarketInterestRateModel downloading events log...\n",
      "0x70e36f6bf80a52b3b46b3af8e106cc0ed743e8e4 - NewMarketInterestRateModel correctly saved\n",
      "0x70e36f6bf80a52b3b46b3af8e106cc0ed743e8e4 - NewPendingAdmin downloading events log...\n",
      "0x70e36f6bf80a52b3b46b3af8e106cc0ed743e8e4 - NewPendingAdmin no logs found\n",
      "0x70e36f6bf80a52b3b46b3af8e106cc0ed743e8e4 - NewReserveFactor downloading events log...\n",
      "0x70e36f6bf80a52b3b46b3af8e106cc0ed743e8e4 - NewReserveFactor correctly saved\n",
      "0x70e36f6bf80a52b3b46b3af8e106cc0ed743e8e4 - Redeem downloading events log...\n",
      "0x70e36f6bf80a52b3b46b3af8e106cc0ed743e8e4 - Redeem correctly saved\n",
      "0x70e36f6bf80a52b3b46b3af8e106cc0ed743e8e4 - RepayBorrow downloading events log...\n",
      "0x70e36f6bf80a52b3b46b3af8e106cc0ed743e8e4 - RepayBorrow correctly saved\n",
      "0x70e36f6bf80a52b3b46b3af8e106cc0ed743e8e4 - ReservesAdded downloading events log...\n",
      "0x70e36f6bf80a52b3b46b3af8e106cc0ed743e8e4 - ReservesAdded correctly saved\n",
      "0x70e36f6bf80a52b3b46b3af8e106cc0ed743e8e4 - ReservesReduced downloading events log...\n",
      "0x70e36f6bf80a52b3b46b3af8e106cc0ed743e8e4 - ReservesReduced no logs found\n",
      "0x70e36f6bf80a52b3b46b3af8e106cc0ed743e8e4 - Transfer downloading events log...\n",
      "0x70e36f6bf80a52b3b46b3af8e106cc0ed743e8e4 - Transfer correctly saved\n",
      "0x1cF4592ebfFd730c7dc92c1bdFFDfc3B9EfCf29a - Approval downloading events log...\n",
      "0x1cF4592ebfFd730c7dc92c1bdFFDfc3B9EfCf29a - Approval correctly saved\n",
      "0x1cF4592ebfFd730c7dc92c1bdFFDfc3B9EfCf29a - Deprecate downloading events log...\n",
      "0x1cF4592ebfFd730c7dc92c1bdFFDfc3B9EfCf29a - Deprecate no logs found\n",
      "0x1cF4592ebfFd730c7dc92c1bdFFDfc3B9EfCf29a - Reward downloading events log...\n",
      "0x1cF4592ebfFd730c7dc92c1bdFFDfc3B9EfCf29a - Reward correctly saved\n",
      "0x1cF4592ebfFd730c7dc92c1bdFFDfc3B9EfCf29a - Transfer downloading events log...\n",
      "0x1cF4592ebfFd730c7dc92c1bdFFDfc3B9EfCf29a - Transfer correctly saved\n"
     ]
    }
   ],
   "source": [
    "contractEvents.getLogsEventsBitQuery(addressList, 100)"
   ]
  },
  {
   "cell_type": "code",
   "execution_count": 2,
   "metadata": {},
   "outputs": [
    {
     "name": "stdout",
     "output_type": "stream",
     "text": [
      "A3E8E4_FAILURE event was imported\n",
      "A3E8E4_ACCRUEINTEREST event was imported\n",
      "A3E8E4_NEWRESERVEFACTOR event was imported\n",
      "A3E8E4_BORROW event was imported\n",
      "A3E8E4_APPROVAL event was imported\n",
      "A3E8E4_NEWMARKETINTERESTRATEMODEL event was imported\n",
      "A3E8E4_NEWIMPLEMENTATION event was imported\n",
      "A3E8E4_REDEEM event was imported\n",
      "A3E8E4_MINT event was imported\n",
      "A3E8E4_LIQUIDATEBORROW event was imported\n",
      "A3E8E4_NEWCOMPTROLLER event was imported\n",
      "A3E8E4_TRANSFER event was imported\n",
      "A3E8E4_REPAYBORROW event was imported\n",
      "A3E8E4_RESERVESADDED event was imported\n",
      "ABDD52_BURN event was imported\n",
      "ABDD52_UNFREEZE event was imported\n",
      "ABDD52_FREEZE event was imported\n",
      "ABDD52_TRANSFER event was imported\n",
      "ACF29A_APPROVAL event was imported\n",
      "ACF29A_REWARD event was imported\n",
      "ACF29A_TRANSFER event was imported\n",
      "File saved on data/contracts/smartContractsLogsGrouped_20210718_205649.csv\n"
     ]
    }
   ],
   "source": [
    "contractEvents.mergeAllLogsData()"
   ]
  },
  {
   "cell_type": "code",
   "execution_count": null,
   "metadata": {},
   "outputs": [],
   "source": []
  },
  {
   "cell_type": "code",
   "execution_count": null,
   "metadata": {},
   "outputs": [],
   "source": [
    "addressList"
   ]
  },
  {
   "cell_type": "code",
   "execution_count": null,
   "metadata": {},
   "outputs": [],
   "source": [
    "from classes import bitQuery_v1_0_0_0 as bitQuery\n",
    "query = bitQuery.query()\n",
    "bq = bitQuery.bitQuery()\n",
    "bitQuery_apiKey = 'BQYvYOBEZWH2ymkvKTC3tbDRgprmFeOY'"
   ]
  },
  {
   "cell_type": "code",
   "execution_count": null,
   "metadata": {},
   "outputs": [],
   "source": [
    "limit = 200"
   ]
  },
  {
   "cell_type": "code",
   "execution_count": null,
   "metadata": {},
   "outputs": [],
   "source": [
    "q = query.getTransactionsFromAddress('ethereum', '0x7fc66500c84a76ad7e9c93437bfc5ac33e2ddae9', 1000)\n",
    "print(q)"
   ]
  },
  {
   "cell_type": "code",
   "execution_count": null,
   "metadata": {},
   "outputs": [],
   "source": [
    "result = bq.directQuery(q, bitQuery_apiKey, True)"
   ]
  },
  {
   "cell_type": "code",
   "execution_count": null,
   "metadata": {},
   "outputs": [],
   "source": [
    "result['data']['ethereum']['smartContractCalls'][0]"
   ]
  },
  {
   "cell_type": "code",
   "execution_count": null,
   "metadata": {},
   "outputs": [],
   "source": [
    "from datetime import datetime\n",
    "import pandas as pd\n",
    "\n",
    "logsFound = 0\n",
    "dt = datetime.now().strftime(\"%Y%m%d_%H%M%S\")\n",
    "\n",
    "for address in addressList:\n",
    "    (smartContract, ABI) = blockchain.getContract(address, ETHERSCAN_API_KEY, CONNECTION_STRING)\n",
    "    if(smartContract != None): \n",
    "        blockchain.saveContractData(smartContract)\n",
    "        for event in contractEvents.getEventsFromSmartContract(smartContract):\n",
    "            if event != 'abi':\n",
    "                q = query.getEvents(address, event, limit)\n",
    "                print('{} - {} downloading events log...'.format(address, event))\n",
    "                result = bq.runQuery(q, bitQuery_apiKey)\n",
    "                # Data transformation\n",
    "                listResult = result['data']['ethereum']['smartContractEvents']\n",
    "                isFirst = True\n",
    "                df = []\n",
    "                for indexList in range(0, len(listResult)):\n",
    "                    blockNumber = listResult[indexList]['block']['height']\n",
    "                    timestamp_iso8601 = listResult[indexList]['block']['timestamp']['iso8601']\n",
    "                    timestamp_unixtime = listResult[indexList]['block']['timestamp']['unixtime']\n",
    "                    arguments = listResult[indexList]['arguments']\n",
    "                    tmp_df = pd.DataFrame()\n",
    "                    tmp_df['blockNumber'] = [blockNumber]\n",
    "                    tmp_df['timestamp_iso8601'] = [timestamp_iso8601]\n",
    "                    tmp_df['timestamp_unixtime'] = [timestamp_unixtime]\n",
    "\n",
    "                    for indexArgs in range(0, len(arguments)):\n",
    "                        tmp_df[arguments[indexArgs]['argument']] = [arguments[indexArgs]['value']]\n",
    "\n",
    "                    if(isFirst):\n",
    "                        df = tmp_df\n",
    "                        isFirst = False\n",
    "                    else:\n",
    "                        df = pd.concat([df, tmp_df])\n",
    "                        \n",
    "                if len(df) > 0:\n",
    "                    print('{} - {} correctly saved'.format(address, event))\n",
    "                    df.to_csv('data/contracts/{}/event_{}_{}.csv'.format(address.lower(),event, dt))\n",
    "                    logsFound = logsFound + len(df)\n",
    "                else:\n",
    "                    print('{} - {} no logs found'.format(address, event))"
   ]
  },
  {
   "cell_type": "code",
   "execution_count": null,
   "metadata": {},
   "outputs": [],
   "source": [
    "df"
   ]
  },
  {
   "cell_type": "code",
   "execution_count": null,
   "metadata": {},
   "outputs": [],
   "source": [
    "blockchain.mergeAllLogsData()"
   ]
  },
  {
   "cell_type": "code",
   "execution_count": null,
   "metadata": {},
   "outputs": [],
   "source": [
    "file = 'data/contracts/smartContractsLogsGrouped_20210716_102718.csv'\n",
    "df = pd.read_csv(file)\n",
    "timestamp_iso8601_key = 'timestamp_iso8601'\n",
    "timestamp_unixtime_key = 'timestamp_unixtime'\n",
    "timestamp_iso8601_index = []\n",
    "timestamp_unixtime_index = []\n",
    "indexColumn = 0\n",
    "for key in df.keys():\n",
    "    if timestamp_iso8601_key in key:\n",
    "        timestamp_iso8601_index.append(indexColumn)\n",
    "    if timestamp_unixtime_key in key:\n",
    "        timestamp_unixtime_index.append(indexColumn)\n",
    "    indexColumn = indexColumn + 1\n",
    "\n",
    "for index in range(0, len(timestamp_iso8601_index)):\n",
    "    print(df.keys()[timestamp_iso8601_index[index]])"
   ]
  },
  {
   "cell_type": "code",
   "execution_count": null,
   "metadata": {},
   "outputs": [],
   "source": [
    "contractFunctions.listenFunction(smartContract, 'admin', 5)"
   ]
  },
  {
   "cell_type": "code",
   "execution_count": null,
   "metadata": {},
   "outputs": [],
   "source": [
    "blockchain.mergeAllLogsData()"
   ]
  },
  {
   "cell_type": "code",
   "execution_count": null,
   "metadata": {},
   "outputs": [],
   "source": [
    "eventList = contractEvents.getEventsFromSmartContract(smartContract)"
   ]
  },
  {
   "cell_type": "code",
   "execution_count": null,
   "metadata": {},
   "outputs": [],
   "source": [
    "from classes import bitQuery_v1_0_0_0 as bitQuery\n",
    "query = bitQuery.query()\n",
    "bq = bitQuery.bitQuery()\n",
    "bitQuery_apiKey = 'BQYvYOBEZWH2ymkvKTC3tbDRgprmFeOY'"
   ]
  },
  {
   "cell_type": "code",
   "execution_count": null,
   "metadata": {},
   "outputs": [],
   "source": [
    "q = query.getEvents('0x70e36f6bf80a52b3b46b3af8e106cc0ed743e8e4', 'AccrueInterest', 100)"
   ]
  },
  {
   "cell_type": "code",
   "execution_count": null,
   "metadata": {},
   "outputs": [],
   "source": [
    "result = bq.directQuery(q, bitQuery_apiKey)"
   ]
  },
  {
   "cell_type": "raw",
   "metadata": {},
   "source": [
    "result = bq.directQuery(q, bitQuery_apiKey)"
   ]
  },
  {
   "cell_type": "code",
   "execution_count": null,
   "metadata": {},
   "outputs": [],
   "source": [
    "result.to_csv('event_{}_{}.csv'.format(event, dt))"
   ]
  },
  {
   "cell_type": "code",
   "execution_count": null,
   "metadata": {},
   "outputs": [],
   "source": [
    "len(result)"
   ]
  },
  {
   "cell_type": "code",
   "execution_count": null,
   "metadata": {},
   "outputs": [],
   "source": [
    "listResult = result['data']['ethereum']['smartContractEvents']\n"
   ]
  },
  {
   "cell_type": "code",
   "execution_count": null,
   "metadata": {},
   "outputs": [],
   "source": [
    "# Plot data for the interval 72-100 of the total of log dataframe in this example\n",
    "logFile = 'data/contracts/smartContractsLogsGrouped_20210712_170625.csv'\n",
    "indexColumns = [1, 13, 29, 30, 32, 47, 69, 90]\n",
    "import pandas as pd\n",
    "logFileDf = pd.read_csv(logFile)\n",
    "logFileDf = logFileDf[int(len(logFileDf) * (72 / 100)):]\n",
    "index = 0\n",
    "for indexKey in logFileDf.keys():\n",
    "    print('{} - {}'.format(index, indexKey))\n",
    "    index = index + 1\n",
    "blockchain.plotLogs(indexColumns, logFileDf, True)"
   ]
  },
  {
   "cell_type": "code",
   "execution_count": null,
   "metadata": {},
   "outputs": [],
   "source": [
    "import time\n",
    "\n",
    "_functionName = 'test2'\n",
    "import os.path\n",
    "listenerID = _functionName\n",
    "openListener = 'classes/listeners/open_{}.listener'.format(listenerID) # only for the first call of the function\n",
    "openState = 0\n",
    "\n",
    "f = open(openListener,'w')\n",
    "f.close()\n",
    "isLoop = True\n",
    "\n",
    "while isLoop:\n",
    "    try:\n",
    "        f = open(openListener,'r')\n",
    "        f.close()\n",
    "        openState = 1\n",
    "    except:\n",
    "        isLoop = False\n",
    "        print('Listener Stopped')\n",
    "        openState = 2\n",
    "    finally:\n",
    "        if openState == 1: #the file was removed\n",
    "            print('A') #do something\n",
    "            time.sleep(3) #3 seconds"
   ]
  },
  {
   "cell_type": "code",
   "execution_count": null,
   "metadata": {},
   "outputs": [],
   "source": [
    "smartContract.functions['admin']().call()"
   ]
  },
  {
   "cell_type": "code",
   "execution_count": null,
   "metadata": {},
   "outputs": [],
   "source": [
    "smartContract.functions['balanceOf']('0xBC82221e131c082336cf698F0cA3EBd18aFd4ce7').call()"
   ]
  },
  {
   "cell_type": "code",
   "execution_count": 9,
   "metadata": {},
   "outputs": [],
   "source": [
    "from classes import settings as settings"
   ]
  },
  {
   "cell_type": "code",
   "execution_count": 10,
   "metadata": {},
   "outputs": [],
   "source": [
    "settings = settings.settings()"
   ]
  },
  {
   "cell_type": "code",
   "execution_count": 16,
   "metadata": {},
   "outputs": [
    {
     "data": {
      "text/plain": [
       "'1_0_0_0'"
      ]
     },
     "execution_count": 16,
     "metadata": {},
     "output_type": "execute_result"
    }
   ],
   "source": [
    "settings.getFrameworkInfo()['Metadata']['version']"
   ]
  },
  {
   "cell_type": "code",
   "execution_count": null,
   "metadata": {},
   "outputs": [
    {
     "name": "stdout",
     "output_type": "stream",
     "text": [
      "test2\n",
      "Waiting waiter1\n",
      "Waiter waiter1 available\n",
      "test3\n",
      "test2\n",
      "Waiting waiter1\n",
      "Waiter waiter1 available\n",
      "test3\n",
      "test2\n",
      "Waiting waiter1\n",
      "Waiter waiter1 available\n",
      "test3\n",
      "test2\n",
      "Waiting waiter1\n",
      "Waiter waiter1 available\n",
      "test3\n"
     ]
    }
   ],
   "source": [
    "from classes import listeners_v1_0_0_0 as listeners\n",
    "listeners = listeners.listeners()\n",
    "listeners.newListener('ID', ['test2', 'test3'], [2], 5)"
   ]
  },
  {
   "cell_type": "code",
   "execution_count": 2,
   "metadata": {},
   "outputs": [
    {
     "data": {
      "text/plain": [
       "True"
      ]
     },
     "execution_count": 2,
     "metadata": {},
     "output_type": "execute_result"
    }
   ],
   "source": [
    "import os\n",
    "os.path.isfile('classes/settings.py')"
   ]
  },
  {
   "cell_type": "code",
   "execution_count": null,
   "metadata": {},
   "outputs": [],
   "source": []
  }
 ],
 "metadata": {
  "kernelspec": {
   "display_name": "Python 3",
   "language": "python",
   "name": "python3"
  },
  "language_info": {
   "codemirror_mode": {
    "name": "ipython",
    "version": 3
   },
   "file_extension": ".py",
   "mimetype": "text/x-python",
   "name": "python",
   "nbconvert_exporter": "python",
   "pygments_lexer": "ipython3",
   "version": "3.8.5"
  }
 },
 "nbformat": 4,
 "nbformat_minor": 4
}
