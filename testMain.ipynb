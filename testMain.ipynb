{
 "cells": [
  {
   "cell_type": "code",
   "execution_count": null,
   "metadata": {},
   "outputs": [],
   "source": [
    "from classes import unitTest_v1_0_0_0 as unitTest\n",
    "unitTest = unitTest.unitTest()"
   ]
  },
  {
   "cell_type": "code",
   "execution_count": null,
   "metadata": {},
   "outputs": [],
   "source": [
    "# Test Input Data\n",
    "# For customers\n",
    "ETHERSCAN_API_KEY = 'YOUR_OWN_KEY' \n",
    "BSCSCAN_API_KEY = 'YOUR_OWN_KEY'\n",
    "CONNECTION_STRING = 'https://mainnet.infura.io/v3/YOUR_OWN_KEY'"
   ]
  },
  {
   "cell_type": "code",
   "execution_count": 4,
   "metadata": {},
   "outputs": [],
   "source": [
    "# Only for develop\n",
    "ETHERSCAN_API_KEY = 'EWYSGQ5PEK84PRCNSCKHHZWJIWWKYYABCE' \n",
    "BSCSCAN_API_KEY = 'I6ZZ57GWAS39M85QC4AJFC43Y5DUA8IU8I'\n",
    "CONNECTION_STRING = 'https://mainnet.infura.io/v3/40816bb42ce34f808b4afe219e9d41cb'\n",
    "TESTADDRESS = '0x70e36f6bf80a52b3b46b3af8e106cc0ed743e8e4' #COMPOUND\n",
    "TXHASHTEST = '0x7a4e0d863a1c8da97bf94bc8880d61b3f716bb10c3961f46b1290840097cb175' # ON BINANCE"
   ]
  },
  {
   "cell_type": "code",
   "execution_count": null,
   "metadata": {},
   "outputs": [],
   "source": [
    "# Run unitTest\n",
    "unitTest.runAllTests() #NOT OVER YET"
   ]
  },
  {
   "cell_type": "code",
   "execution_count": null,
   "metadata": {},
   "outputs": [],
   "source": [
    "# Run User Functions\n",
    "#\n",
    "# Import classes:\n",
    "from classes import blockchain_v1_0_0_0 as blockchain # import class file\n",
    "blockchain = blockchain.blockchain() # inizialize class in blockchain variable"
   ]
  },
  {
   "cell_type": "code",
   "execution_count": null,
   "metadata": {},
   "outputs": [],
   "source": [
    "################################################ BLOCKCHAIN USERS ANALYSIS"
   ]
  },
  {
   "cell_type": "code",
   "execution_count": null,
   "metadata": {},
   "outputs": [],
   "source": [
    "web3 = blockchain.blockchainConnection(CONNECTION_STRING) # connecting to blockchain\n",
    "print('web3.isConnected(): {0}'.format(web3.isConnected())) # show web3 connection result"
   ]
  },
  {
   "cell_type": "code",
   "execution_count": null,
   "metadata": {},
   "outputs": [],
   "source": [
    "TESTADDRESS = '0xB53C1a33016B2DC2fF3653530bfF1848a515c8c5'\n",
    "df = blockchain.importTransactionListFromAddress(ETHERSCAN_API_KEY, 'ETHERSCAN', 'TXLIST', TESTADDRESS, 10000, 0, 10) # Download into dataframe a transaction list\n",
    "print('Lenght of dataframe: {0}'.format(len(df)))\n",
    "df = blockchain.importTransactionListFromAddress(ETHERSCAN_API_KEY, 'ETHERSCAN', 'TXLIST', TESTADDRESS, 'MAX', 0, 3) # Download into dataframe a transaction list\n",
    "print('Lenght of dataframe: {0}'.format(len(df)))\n",
    "#df = blockchain.importTransactionListFromAddress(ETHERSCAN_API_KEY, 'ETHERSCAN', 'TXLIST', TESTADDRESS, 'MAX', 0, 10) # Download into dataframe a transaction list\n",
    "#print('Lenght of dataframe: {0}'.format(len(df)))"
   ]
  },
  {
   "cell_type": "code",
   "execution_count": null,
   "metadata": {},
   "outputs": [],
   "source": [
    "from past.builtins import execfile\n",
    "execfile('classes/dynamicEvents.py')"
   ]
  },
  {
   "cell_type": "code",
   "execution_count": null,
   "metadata": {},
   "outputs": [],
   "source": [
    "blockchain.importAllDexTransactions(ETHERSCAN_API_KEY, 'ETHERSCAN', 'TXLIST', 'DEX', 100, 0, 10) # Download and save transaction from source (DEX)"
   ]
  },
  {
   "cell_type": "code",
   "execution_count": null,
   "metadata": {},
   "outputs": [],
   "source": [
    "from classes import analysis_v1_0_0_0 as analysis\n",
    "analysis = analysis.analysis()\n",
    "depth = 2 # it means how many transaction with MAX (lenght - 1) we will take for our analysis (etherscan max limit is set to 10k)\n",
    "# use depth = 1 for test purpose, 2+ for production purpose"
   ]
  },
  {
   "cell_type": "code",
   "execution_count": null,
   "metadata": {},
   "outputs": [],
   "source": [
    "analysis.analyzeDexCustomers(ETHERSCAN_API_KEY, depth) # Download transactions and tx data from DEX addresses on DEX file, save and merge data, create report"
   ]
  },
  {
   "cell_type": "code",
   "execution_count": null,
   "metadata": {},
   "outputs": [],
   "source": [
    "analysis.reportDexCustomers('DEX')\n",
    "# see reasult on export/CUSTOMER_DEX_ANALYSIS_YYYMMDD_HHIISS.csv"
   ]
  },
  {
   "cell_type": "code",
   "execution_count": null,
   "metadata": {},
   "outputs": [],
   "source": [
    "################################################ BLOCKCHAIN SMART CONTRACT ANALYSIS"
   ]
  },
  {
   "cell_type": "code",
   "execution_count": null,
   "metadata": {},
   "outputs": [],
   "source": [
    "ABI # Show ABI"
   ]
  },
  {
   "cell_type": "code",
   "execution_count": null,
   "metadata": {},
   "outputs": [],
   "source": [
    "smartContract.abi"
   ]
  },
  {
   "cell_type": "code",
   "execution_count": null,
   "metadata": {},
   "outputs": [],
   "source": [
    "# Generate dynamic python code based on events and functions of each contract taken from csv file\n",
    "from classes import dynamics_v1_0_0_0 as dynamics\n",
    "dynamics = dynamics.dynamics()\n",
    "dynamics.generateDynamicSmartContractEventsAndFunctions(ETHERSCAN_API_KEY, CONNECTION_STRING)"
   ]
  },
  {
   "cell_type": "code",
   "execution_count": 5,
   "metadata": {},
   "outputs": [],
   "source": [
    "# Get smartContract datatype (with all events, functions, classes, ...) and ABI\n",
    "(smartContract, ABI) = blockchain.getContract(TESTADDRESS, ETHERSCAN_API_KEY, CONNECTION_STRING)"
   ]
  },
  {
   "cell_type": "code",
   "execution_count": null,
   "metadata": {},
   "outputs": [],
   "source": [
    "# Get list of events from ABI\n",
    "from classes import contractEvents_v1_0_0_0 as contractEvents\n",
    "contractEvents = contractEvents.contractEvents()\n",
    "contractEvents.getEventsFromABI(str(ABI))"
   ]
  },
  {
   "cell_type": "code",
   "execution_count": null,
   "metadata": {},
   "outputs": [],
   "source": [
    "# Get list of functions from ABI\n",
    "from classes import contractFunctions_v1_0_0_0 as contractFunctions\n",
    "contractFunctions = contractFunctions.contractFunctions()\n",
    "contractFunctions.getFunctionsFromABI(str(ABI))"
   ]
  },
  {
   "cell_type": "code",
   "execution_count": null,
   "metadata": {},
   "outputs": [],
   "source": [
    "# Class description of smartContract\n",
    "dir(smartContract)"
   ]
  },
  {
   "cell_type": "code",
   "execution_count": null,
   "metadata": {},
   "outputs": [],
   "source": [
    "blockchain.saveContractData(TESTADDRESS, smartContract, ABI) #save events and functions names on data/contracts/{address}"
   ]
  },
  {
   "cell_type": "code",
   "execution_count": null,
   "metadata": {},
   "outputs": [],
   "source": [
    "# Import all logs from all smart contract addresses\n",
    "from multiprocessing import Pool\n",
    "     \n",
    "def logs(_apiKey, _connectionString, _depth, _limit):\n",
    "        blockchain.downloadContractLogsContent(dfSmartContract['Address'][index], _apiKey, _connectionString, _depth, _limit)\n",
    "\n",
    "dfSmartContract = pd.read_csv('data/smartContract.csv')\n",
    "for index in range(0,len(dfSmartContract)):\n",
    "    \n",
    "import pandas as pd\n",
    "_depth = 2\n"
   ]
  },
  {
   "cell_type": "code",
   "execution_count": null,
   "metadata": {},
   "outputs": [],
   "source": [
    "from past.builtins import execfile\n",
    "execfile('classes/test.py')"
   ]
  },
  {
   "cell_type": "code",
   "execution_count": null,
   "metadata": {},
   "outputs": [],
   "source": [
    "# Users function to catch useful data:\n",
    "# Import classes:\n",
    "from classes import blockchain_v1_0_0_0 as blockchain # import class file\n",
    "blockchain = blockchain.blockchain() # inizialize class in blockchain variable\n",
    "from classes import dynamics_v1_0_0_0 as dynamics\n",
    "dynamics = dynamics.dynamics()\n",
    "from classes import analysis_v1_0_0_0 as analysis\n",
    "analysis = analysis.analysis()\n",
    "\n",
    "#analysis.analyzeDexCustomers(ETHERSCAN_API_KEY, depth) # Download transactions and tx data from DEX addresses on DEX file, save and merge data, create report\n",
    "#analysis.reportDexCustomers('DEX')\n",
    "dynamics.generateDynamicSmartContractEventsAndFunctions(ETHERSCAN_API_KEY, CONNECTION_STRING)\n"
   ]
  },
  {
   "cell_type": "code",
   "execution_count": null,
   "metadata": {},
   "outputs": [],
   "source": [
    "from past.builtins import execfile\n",
    "from classes import loadVersioning as loadVersioning\n",
    "loadVersioning = loadVersioning.loadVersioning()\n",
    "filePath = loadVersioning.loader('dynamics')\n",
    "print(filePath)\n",
    "#execfile(filePath)\n"
   ]
  },
  {
   "cell_type": "code",
   "execution_count": null,
   "metadata": {},
   "outputs": [],
   "source": [
    "execfile(filePath)"
   ]
  },
  {
   "cell_type": "code",
   "execution_count": null,
   "metadata": {},
   "outputs": [],
   "source": [
    "dir(utilities)"
   ]
  },
  {
   "cell_type": "code",
   "execution_count": 1,
   "metadata": {},
   "outputs": [],
   "source": [
    "# Only for develop\n",
    "#ETHERSCAN_API_KEY = 'EWYSGQ5PEK84PRCNSCKHHZWJIWWKYYABCE' #apikey1\n",
    "ETHERSCAN_API_KEY = '6RUYYGHQ7FDIVFXTM6R828QWNDDKJYC5RH' #apikey2\n",
    "BSCSCAN_API_KEY = 'I6ZZ57GWAS39M85QC4AJFC43Y5DUA8IU8I'\n",
    "#CONNECTION_STRING = 'https://mainnet.infura.io/v3/40816bb42ce34f808b4afe219e9d41cb' #apikey1\n",
    "CONNECTION_STRING = 'https://mainnet.infura.io/v3/b8932e6edfa1498ab41ce07e5686c2b4' #apikey2\n",
    "TESTADDRESS = '0x70e36f6bf80a52b3b46b3af8e106cc0ed743e8e4' #COMPOUND\n",
    "TXHASHTEST = '0x7a4e0d863a1c8da97bf94bc8880d61b3f716bb10c3961f46b1290840097cb175' # ON BINANCE\n",
    "bitQuery_apiKey = 'BQYvYOBEZWH2ymkvKTC3tbDRgprmFeOY'\n",
    "from classes import blockchain_v1_0_0_0 as blockchain # import class file\n",
    "blockchain = blockchain.blockchain() # inizialize class in blockchain variable\n",
    "from classes import contractEvents_v1_0_0_0 as contractEvents # import class file\n",
    "contractEvents = contractEvents.contractEvents() \n",
    "from classes import contractFunctions_v1_0_0_0 as contractFunctions\n",
    "contractFunctions = contractFunctions.contractFunctions()\n",
    "from classes import dynamics_v1_0_0_0 as dynamics\n",
    "dynamics = dynamics.dynamics()\n",
    "import pandas as pd\n",
    "addressList = pd.read_csv('data/smartContract.csv')['Address']\n",
    "(smartContract, ABI) = blockchain.getContract(TESTADDRESS, ETHERSCAN_API_KEY, CONNECTION_STRING)"
   ]
  },
  {
   "cell_type": "code",
   "execution_count": 2,
   "metadata": {},
   "outputs": [
    {
     "name": "stdout",
     "output_type": "stream",
     "text": [
      "0x6d903f6003cca6255D85CcA4D3B5E5146dC33925\n",
      "0x6d903f6003cca6255D85CcA4D3B5E5146dC33925\n",
      "0x6d903f6003cca6255D85CcA4D3B5E5146dC33925\n",
      "0x6d903f6003cca6255D85CcA4D3B5E5146dC33925\n",
      "0x6d903f6003cca6255D85CcA4D3B5E5146dC33925\n",
      "0x6d903f6003cca6255D85CcA4D3B5E5146dC33925\n",
      "0x6d903f6003cca6255D85CcA4D3B5E5146dC33925\n",
      "0x6d903f6003cca6255D85CcA4D3B5E5146dC33925\n",
      "0x6d903f6003cca6255D85CcA4D3B5E5146dC33925\n",
      "0x6d903f6003cca6255D85CcA4D3B5E5146dC33925\n",
      "0x6d903f6003cca6255D85CcA4D3B5E5146dC33925\n",
      "0x6d903f6003cca6255D85CcA4D3B5E5146dC33925\n",
      "Listener Stopped\n"
     ]
    }
   ],
   "source": [
    "contractFunctions.listenFunction(smartContract, 'admin', 5)"
   ]
  },
  {
   "cell_type": "code",
   "execution_count": 2,
   "metadata": {},
   "outputs": [
    {
     "name": "stdout",
     "output_type": "stream",
     "text": [
      "##### A3E8E4_RESERVESADDED\n",
      "Total logs 3. Keys: blockNumber timestamp_iso8601 timestamp_unixtime benefactor addAmount newTotalReserves\n",
      "##### A3E8E4_REPAYBORROW\n",
      "Total logs 591. Keys: blockNumber timestamp_iso8601 timestamp_unixtime payer borrower repayAmount accountBorrows totalBorrows\n",
      "##### A3E8E4_NEWIMPLEMENTATION\n",
      "Total logs 2. Keys: blockNumber timestamp_iso8601 timestamp_unixtime oldImplementation newImplementation\n",
      "##### A3E8E4_NEWRESERVEFACTOR\n",
      "Total logs 2. Keys: blockNumber timestamp_iso8601 timestamp_unixtime oldReserveFactorMantissa newReserveFactorMantissa\n",
      "##### A3E8E4_FAILURE\n",
      "Total logs 273. Keys: blockNumber timestamp_iso8601 timestamp_unixtime error info detail\n",
      "##### A3E8E4_ACCRUEINTEREST\n",
      "Total logs 19903. Keys: blockNumber timestamp_iso8601 timestamp_unixtime cashPrior interestAccumulated borrowIndex totalBorrows\n",
      "##### A3E8E4_BORROW\n",
      "Total logs 559. Keys: blockNumber timestamp_iso8601 timestamp_unixtime borrower borrowAmount accountBorrows totalBorrows\n",
      "##### A3E8E4_NEWMARKETINTERESTRATEMODEL\n",
      "Total logs 1. Keys: blockNumber timestamp_iso8601 timestamp_unixtime oldInterestRateModel newInterestRateModel\n",
      "##### A3E8E4_APPROVAL\n",
      "Total logs 779. Keys: blockNumber timestamp_iso8601 timestamp_unixtime owner spender amount\n",
      "##### A3E8E4_REDEEM\n",
      "Total logs 5090. Keys: blockNumber timestamp_iso8601 timestamp_unixtime redeemer redeemAmount redeemTokens\n",
      "##### A3E8E4_MINT\n",
      "Total logs 13222. Keys: blockNumber timestamp_iso8601 timestamp_unixtime minter mintAmount mintTokens\n",
      "##### A3E8E4_LIQUIDATEBORROW\n",
      "Total logs 46. Keys: blockNumber timestamp_iso8601 timestamp_unixtime liquidator borrower repayAmount cTokenCollateral seizeTokens\n",
      "##### A3E8E4_TRANSFER\n",
      "Total logs 18915. Keys: blockNumber timestamp_iso8601 timestamp_unixtime from to amount\n",
      "##### A3E8E4_NEWCOMPTROLLER\n",
      "Total logs 1. Keys: blockNumber timestamp_iso8601 timestamp_unixtime oldComptroller newComptroller\n",
      "##### ABDD52_FREEZE\n",
      "Total logs 1. Keys: blockNumber timestamp_iso8601 timestamp_unixtime from value\n",
      "##### ABDD52_BURN\n",
      "Total logs 34. Keys: blockNumber timestamp_iso8601 timestamp_unixtime from value\n",
      "##### ABDD52_UNFREEZE\n",
      "Total logs 2. Keys: blockNumber timestamp_iso8601 timestamp_unixtime from value\n",
      "##### ABDD52_TRANSFER\n",
      "Total logs 100000. Keys: blockNumber timestamp_iso8601 timestamp_unixtime from to value\n",
      "A3E8E4_RESERVESADDED event was imported\n",
      "A3E8E4_REPAYBORROW event was imported\n",
      "A3E8E4_NEWIMPLEMENTATION event was imported\n",
      "A3E8E4_NEWRESERVEFACTOR event was imported\n",
      "A3E8E4_FAILURE event was imported\n",
      "A3E8E4_ACCRUEINTEREST event was imported\n",
      "A3E8E4_BORROW event was imported\n",
      "A3E8E4_NEWMARKETINTERESTRATEMODEL event was imported\n",
      "A3E8E4_APPROVAL event was imported\n",
      "A3E8E4_REDEEM event was imported\n",
      "A3E8E4_MINT event was imported\n",
      "A3E8E4_LIQUIDATEBORROW event was imported\n",
      "A3E8E4_TRANSFER event was imported\n",
      "A3E8E4_NEWCOMPTROLLER event was imported\n",
      "ABDD52_FREEZE event was imported\n",
      "ABDD52_BURN event was imported\n",
      "ABDD52_UNFREEZE event was imported\n",
      "ABDD52_TRANSFER event was imported\n",
      "File saved on data/contracts/smartContractsLogsGrouped_20210712_170625.csv\n"
     ]
    }
   ],
   "source": [
    "blockchain.mergeAllLogsData()"
   ]
  },
  {
   "cell_type": "code",
   "execution_count": null,
   "metadata": {},
   "outputs": [],
   "source": [
    "eventList = contractEvents.getEventsFromSmartContract(smartContract)"
   ]
  },
  {
   "cell_type": "code",
   "execution_count": null,
   "metadata": {},
   "outputs": [],
   "source": [
    "from classes import bitQuery_v1_0_0_0 as bitQuery\n",
    "query = bitQuery.query()\n",
    "bq = bitQuery.bitQuery()\n",
    "bitQuery_apiKey = 'BQYvYOBEZWH2ymkvKTC3tbDRgprmFeOY'"
   ]
  },
  {
   "cell_type": "code",
   "execution_count": null,
   "metadata": {},
   "outputs": [],
   "source": [
    "q = query.getEvents('0x70e36f6bf80a52b3b46b3af8e106cc0ed743e8e4', 'AccrueInterest', 100000)"
   ]
  },
  {
   "cell_type": "code",
   "execution_count": null,
   "metadata": {},
   "outputs": [],
   "source": []
  },
  {
   "cell_type": "raw",
   "metadata": {},
   "source": [
    "result = bq.directQuery(q, bitQuery_apiKey)"
   ]
  },
  {
   "cell_type": "code",
   "execution_count": null,
   "metadata": {},
   "outputs": [],
   "source": [
    "result.save_csv('smartContract')"
   ]
  },
  {
   "cell_type": "code",
   "execution_count": null,
   "metadata": {},
   "outputs": [],
   "source": [
    "len(result)"
   ]
  },
  {
   "cell_type": "code",
   "execution_count": null,
   "metadata": {},
   "outputs": [],
   "source": [
    "listResult = result['data']['ethereum']['smartContractEvents']\n"
   ]
  },
  {
   "cell_type": "code",
   "execution_count": null,
   "metadata": {},
   "outputs": [],
   "source": [
    "# Plot data for the interval 72-100 of the total of log dataframe in this example\n",
    "logFile = 'data/contracts/smartContractsLogsGrouped_20210712_170625.csv'\n",
    "indexColumns = [1, 13, 29, 30, 32, 47, 69, 90]\n",
    "import pandas as pd\n",
    "logFileDf = pd.read_csv(logFile)\n",
    "logFileDf = logFileDf[int(len(logFileDf) * (72 / 100)):]\n",
    "index = 0\n",
    "for indexKey in logFileDf.keys():\n",
    "    print('{} - {}'.format(index, indexKey))\n",
    "    index = index + 1\n",
    "blockchain.plotLogs(indexColumns, logFileDf, True)"
   ]
  },
  {
   "cell_type": "code",
   "execution_count": 3,
   "metadata": {},
   "outputs": [
    {
     "name": "stdout",
     "output_type": "stream",
     "text": [
      "A\n",
      "A\n",
      "A\n",
      "A\n",
      "A\n",
      "A\n",
      "A\n",
      "A\n",
      "Listener Stopped\n"
     ]
    }
   ],
   "source": [
    "import time\n",
    "\n",
    "_functionName = 'test2'\n",
    "import os.path\n",
    "listenerID = _functionName\n",
    "openListener = 'classes/listeners/open_{}.listener'.format(listenerID) # only for the first call of the function\n",
    "openState = 0\n",
    "\n",
    "f = open(openListener,'w')\n",
    "f.close()\n",
    "isLoop = True\n",
    "\n",
    "while isLoop:\n",
    "    try:\n",
    "        f = open(openListener,'r')\n",
    "        f.close()\n",
    "        openState = 1\n",
    "    except:\n",
    "        isLoop = False\n",
    "        print('Listener Stopped')\n",
    "        openState = 2\n",
    "    finally:\n",
    "        if openState == 1: #the file was removed\n",
    "            print('A') #do something\n",
    "            time.sleep(3) #3 seconds"
   ]
  },
  {
   "cell_type": "code",
   "execution_count": 10,
   "metadata": {},
   "outputs": [
    {
     "data": {
      "text/plain": [
       "'0x6d903f6003cca6255D85CcA4D3B5E5146dC33925'"
      ]
     },
     "execution_count": 10,
     "metadata": {},
     "output_type": "execute_result"
    }
   ],
   "source": [
    "smartContract.functions['admin']().call()"
   ]
  },
  {
   "cell_type": "code",
   "execution_count": 14,
   "metadata": {},
   "outputs": [
    {
     "data": {
      "text/plain": [
       "130761424039933"
      ]
     },
     "execution_count": 14,
     "metadata": {},
     "output_type": "execute_result"
    }
   ],
   "source": [
    "smartContract.functions['balanceOf']('0xBC82221e131c082336cf698F0cA3EBd18aFd4ce7').call()"
   ]
  },
  {
   "cell_type": "code",
   "execution_count": null,
   "metadata": {},
   "outputs": [],
   "source": []
  }
 ],
 "metadata": {
  "kernelspec": {
   "display_name": "Python 3",
   "language": "python",
   "name": "python3"
  },
  "language_info": {
   "codemirror_mode": {
    "name": "ipython",
    "version": 3
   },
   "file_extension": ".py",
   "mimetype": "text/x-python",
   "name": "python",
   "nbconvert_exporter": "python",
   "pygments_lexer": "ipython3",
   "version": "3.8.5"
  }
 },
 "nbformat": 4,
 "nbformat_minor": 4
}
